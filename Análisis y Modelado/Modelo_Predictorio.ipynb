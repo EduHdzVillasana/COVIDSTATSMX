{
  "nbformat": 4,
  "nbformat_minor": 0,
  "metadata": {
    "colab": {
      "name": "Untitled3.ipynb",
      "provenance": [],
      "toc_visible": true,
      "mount_file_id": "https://github.com/EduHdzVillasana/COVIDSTATSMX/blob/master/An%C3%A1lisis%20y%20Modelado/Modelo_Predictorio.ipynb",
      "authorship_tag": "ABX9TyMgmSEivjN/7s4c/IPpEGY6",
      "include_colab_link": true
    },
    "kernelspec": {
      "name": "python3",
      "display_name": "Python 3"
    },
    "language_info": {
      "name": "python"
    },
    "accelerator": "GPU"
  },
  "cells": [
    {
      "cell_type": "markdown",
      "metadata": {
        "id": "view-in-github",
        "colab_type": "text"
      },
      "source": [
        "<a href=\"https://colab.research.google.com/github/EduHdzVillasana/COVIDSTATSMX/blob/master/An%C3%A1lisis%20y%20Modelado/Modelo_Predictorio.ipynb\" target=\"_parent\"><img src=\"https://colab.research.google.com/assets/colab-badge.svg\" alt=\"Open In Colab\"/></a>"
      ]
    },
    {
      "cell_type": "markdown",
      "metadata": {
        "id": "DtqgREQCIXMy"
      },
      "source": [
        "# Creación de modelo para predecir probabilidad de muerte por COVID-19\n",
        "En este notebook se creará un modelo de regresión logística para predecir la probabilidad de muerte de un paciente positivo a sars-cov-2 dadas sus condiciones.\n",
        "\n",
        "También se creará un modelo para predecir la probabilidad de contraer enfermedad grave dadas sus condiciones y así identificar personas vulnerables."
      ]
    },
    {
      "cell_type": "markdown",
      "metadata": {
        "id": "fTahWfDvImrf"
      },
      "source": [
        "## Librerías a utilizar\n"
      ]
    },
    {
      "cell_type": "code",
      "metadata": {
        "id": "r-mxaaOgIsQ-",
        "colab": {
          "base_uri": "https://localhost:8080/"
        },
        "outputId": "f977ee6f-fa34-4b1a-8136-4107cd78f99a"
      },
      "source": [
        "import pandas as pd\n",
        "import numpy as np\n",
        "import matplotlib.pyplot as plt\n",
        "import datetime\n",
        "import os\n",
        "\n",
        "# Librerias para la regresión logística\n",
        "import statsmodels.api as sm\n",
        "from sklearn import datasets\n",
        "from sklearn.feature_selection import RFE\n",
        "from tabulate import tabulate\n",
        "from sklearn import linear_model\n",
        "from sklearn import preprocessing\n",
        "\n",
        "# Librerias para la validación del modelo\n",
        "from sklearn.model_selection import train_test_split\n",
        "from sklearn import metrics\n",
        "from sklearn.model_selection import cross_val_score"
      ],
      "execution_count": 1,
      "outputs": [
        {
          "output_type": "stream",
          "text": [
            "/usr/local/lib/python3.7/dist-packages/statsmodels/tools/_testing.py:19: FutureWarning: pandas.util.testing is deprecated. Use the functions in the public API at pandas.testing instead.\n",
            "  import pandas.util.testing as tm\n"
          ],
          "name": "stderr"
        }
      ]
    },
    {
      "cell_type": "code",
      "metadata": {
        "id": "dO-nJZ8_ItA7",
        "colab": {
          "base_uri": "https://localhost:8080/",
          "height": 277
        },
        "outputId": "d421c4fa-0476-40ed-f5c9-86cda7648521"
      },
      "source": [
        "mainpath = \"/content/drive/MyDrive/Datos Abiertos\"\n",
        "filepath = \"210401COVID19MEXICO_filtered.csv\"\n",
        "\n",
        "data = pd.read_csv(os.path.join(mainpath, filepath), index_col=0)\n",
        "data.sample(3)"
      ],
      "execution_count": 2,
      "outputs": [
        {
          "output_type": "stream",
          "text": [
            "/usr/local/lib/python3.7/dist-packages/IPython/core/interactiveshell.py:2718: DtypeWarning: Columns (39) have mixed types.Specify dtype option on import or set low_memory=False.\n",
            "  interactivity=interactivity, compiler=compiler, result=result)\n",
            "/usr/local/lib/python3.7/dist-packages/numpy/lib/arraysetops.py:580: FutureWarning: elementwise comparison failed; returning scalar instead, but in the future will perform elementwise comparison\n",
            "  mask |= (ar1 == a)\n"
          ],
          "name": "stderr"
        },
        {
          "output_type": "execute_result",
          "data": {
            "text/html": [
              "<div>\n",
              "<style scoped>\n",
              "    .dataframe tbody tr th:only-of-type {\n",
              "        vertical-align: middle;\n",
              "    }\n",
              "\n",
              "    .dataframe tbody tr th {\n",
              "        vertical-align: top;\n",
              "    }\n",
              "\n",
              "    .dataframe thead th {\n",
              "        text-align: right;\n",
              "    }\n",
              "</style>\n",
              "<table border=\"1\" class=\"dataframe\">\n",
              "  <thead>\n",
              "    <tr style=\"text-align: right;\">\n",
              "      <th></th>\n",
              "      <th>FECHA_ACTUALIZACION</th>\n",
              "      <th>ID_REGISTRO</th>\n",
              "      <th>ORIGEN</th>\n",
              "      <th>SECTOR</th>\n",
              "      <th>ENTIDAD_UM</th>\n",
              "      <th>SEXO</th>\n",
              "      <th>ENTIDAD_NAC</th>\n",
              "      <th>ENTIDAD_RES</th>\n",
              "      <th>MUNICIPIO_RES</th>\n",
              "      <th>TIPO_PACIENTE</th>\n",
              "      <th>FECHA_INGRESO</th>\n",
              "      <th>FECHA_SINTOMAS</th>\n",
              "      <th>FECHA_DEF</th>\n",
              "      <th>INTUBADO</th>\n",
              "      <th>NEUMONIA</th>\n",
              "      <th>EDAD</th>\n",
              "      <th>NACIONALIDAD</th>\n",
              "      <th>EMBARAZO</th>\n",
              "      <th>HABLA_LENGUA_INDIG</th>\n",
              "      <th>INDIGENA</th>\n",
              "      <th>DIABETES</th>\n",
              "      <th>EPOC</th>\n",
              "      <th>ASMA</th>\n",
              "      <th>INMUSUPR</th>\n",
              "      <th>HIPERTENSION</th>\n",
              "      <th>OTRA_COM</th>\n",
              "      <th>CARDIOVASCULAR</th>\n",
              "      <th>OBESIDAD</th>\n",
              "      <th>RENAL_CRONICA</th>\n",
              "      <th>TABAQUISMO</th>\n",
              "      <th>OTRO_CASO</th>\n",
              "      <th>TOMA_MUESTRA_LAB</th>\n",
              "      <th>RESULTADO_LAB</th>\n",
              "      <th>TOMA_MUESTRA_ANTIGENO</th>\n",
              "      <th>RESULTADO_ANTIGENO</th>\n",
              "      <th>CLASIFICACION_FINAL</th>\n",
              "      <th>MIGRANTE</th>\n",
              "      <th>PAIS_NACIONALIDAD</th>\n",
              "      <th>PAIS_ORIGEN</th>\n",
              "      <th>UCI</th>\n",
              "      <th>RESULTADO</th>\n",
              "      <th>TIEMPO_ESPERA</th>\n",
              "      <th>FALLECIDO</th>\n",
              "      <th>ENFERMEDAD_GRAVE</th>\n",
              "      <th>HOSPITALIZADO</th>\n",
              "      <th>SEXO_</th>\n",
              "      <th>SECTOR_ATENDIDO</th>\n",
              "      <th>ESTADO</th>\n",
              "    </tr>\n",
              "  </thead>\n",
              "  <tbody>\n",
              "    <tr>\n",
              "      <th>1129655</th>\n",
              "      <td>2021-04-01</td>\n",
              "      <td>8be140</td>\n",
              "      <td>2</td>\n",
              "      <td>4</td>\n",
              "      <td>19</td>\n",
              "      <td>2</td>\n",
              "      <td>19</td>\n",
              "      <td>19</td>\n",
              "      <td>26</td>\n",
              "      <td>1</td>\n",
              "      <td>2021-03-05</td>\n",
              "      <td>2021-03-02</td>\n",
              "      <td>9999-99-99</td>\n",
              "      <td>0</td>\n",
              "      <td>0</td>\n",
              "      <td>32</td>\n",
              "      <td>1</td>\n",
              "      <td>0</td>\n",
              "      <td>2</td>\n",
              "      <td>2</td>\n",
              "      <td>0</td>\n",
              "      <td>0</td>\n",
              "      <td>0</td>\n",
              "      <td>0</td>\n",
              "      <td>1</td>\n",
              "      <td>0</td>\n",
              "      <td>0</td>\n",
              "      <td>1</td>\n",
              "      <td>0</td>\n",
              "      <td>0</td>\n",
              "      <td>2</td>\n",
              "      <td>1</td>\n",
              "      <td>1</td>\n",
              "      <td>2</td>\n",
              "      <td>97</td>\n",
              "      <td>3</td>\n",
              "      <td>99</td>\n",
              "      <td>México</td>\n",
              "      <td>97</td>\n",
              "      <td>0</td>\n",
              "      <td>1</td>\n",
              "      <td>3</td>\n",
              "      <td>0</td>\n",
              "      <td>0</td>\n",
              "      <td>0</td>\n",
              "      <td>HOMBRE</td>\n",
              "      <td>IMSS</td>\n",
              "      <td>NL</td>\n",
              "    </tr>\n",
              "    <tr>\n",
              "      <th>1440471</th>\n",
              "      <td>2021-04-01</td>\n",
              "      <td>1ce01c</td>\n",
              "      <td>1</td>\n",
              "      <td>4</td>\n",
              "      <td>18</td>\n",
              "      <td>2</td>\n",
              "      <td>18</td>\n",
              "      <td>18</td>\n",
              "      <td>8</td>\n",
              "      <td>1</td>\n",
              "      <td>2020-08-11</td>\n",
              "      <td>2020-08-08</td>\n",
              "      <td>9999-99-99</td>\n",
              "      <td>0</td>\n",
              "      <td>0</td>\n",
              "      <td>44</td>\n",
              "      <td>1</td>\n",
              "      <td>0</td>\n",
              "      <td>2</td>\n",
              "      <td>2</td>\n",
              "      <td>0</td>\n",
              "      <td>0</td>\n",
              "      <td>0</td>\n",
              "      <td>0</td>\n",
              "      <td>0</td>\n",
              "      <td>0</td>\n",
              "      <td>0</td>\n",
              "      <td>0</td>\n",
              "      <td>0</td>\n",
              "      <td>0</td>\n",
              "      <td>1</td>\n",
              "      <td>1</td>\n",
              "      <td>1</td>\n",
              "      <td>2</td>\n",
              "      <td>97</td>\n",
              "      <td>3</td>\n",
              "      <td>99</td>\n",
              "      <td>México</td>\n",
              "      <td>97</td>\n",
              "      <td>0</td>\n",
              "      <td>1</td>\n",
              "      <td>3</td>\n",
              "      <td>0</td>\n",
              "      <td>0</td>\n",
              "      <td>0</td>\n",
              "      <td>HOMBRE</td>\n",
              "      <td>IMSS</td>\n",
              "      <td>NT</td>\n",
              "    </tr>\n",
              "    <tr>\n",
              "      <th>111557</th>\n",
              "      <td>2021-04-01</td>\n",
              "      <td>2560f9</td>\n",
              "      <td>2</td>\n",
              "      <td>12</td>\n",
              "      <td>9</td>\n",
              "      <td>2</td>\n",
              "      <td>8</td>\n",
              "      <td>9</td>\n",
              "      <td>7</td>\n",
              "      <td>2</td>\n",
              "      <td>2020-12-08</td>\n",
              "      <td>2020-11-30</td>\n",
              "      <td>2020-12-10</td>\n",
              "      <td>0</td>\n",
              "      <td>1</td>\n",
              "      <td>55</td>\n",
              "      <td>1</td>\n",
              "      <td>0</td>\n",
              "      <td>2</td>\n",
              "      <td>2</td>\n",
              "      <td>1</td>\n",
              "      <td>0</td>\n",
              "      <td>0</td>\n",
              "      <td>0</td>\n",
              "      <td>0</td>\n",
              "      <td>0</td>\n",
              "      <td>0</td>\n",
              "      <td>0</td>\n",
              "      <td>0</td>\n",
              "      <td>0</td>\n",
              "      <td>99</td>\n",
              "      <td>2</td>\n",
              "      <td>97</td>\n",
              "      <td>1</td>\n",
              "      <td>1</td>\n",
              "      <td>3</td>\n",
              "      <td>99</td>\n",
              "      <td>México</td>\n",
              "      <td>97</td>\n",
              "      <td>0</td>\n",
              "      <td>1</td>\n",
              "      <td>8</td>\n",
              "      <td>1</td>\n",
              "      <td>1</td>\n",
              "      <td>1</td>\n",
              "      <td>HOMBRE</td>\n",
              "      <td>SSA</td>\n",
              "      <td>DF</td>\n",
              "    </tr>\n",
              "  </tbody>\n",
              "</table>\n",
              "</div>"
            ],
            "text/plain": [
              "        FECHA_ACTUALIZACION ID_REGISTRO  ORIGEN  ...   SEXO_  SECTOR_ATENDIDO  ESTADO\n",
              "1129655          2021-04-01      8be140       2  ...  HOMBRE             IMSS      NL\n",
              "1440471          2021-04-01      1ce01c       1  ...  HOMBRE             IMSS      NT\n",
              "111557           2021-04-01      2560f9       2  ...  HOMBRE              SSA      DF\n",
              "\n",
              "[3 rows x 48 columns]"
            ]
          },
          "metadata": {
            "tags": []
          },
          "execution_count": 2
        }
      ]
    },
    {
      "cell_type": "code",
      "metadata": {
        "id": "uMeapIettEae"
      },
      "source": [
        "columns = ['EDAD', 'EMBARAZO','DIABETES', 'EPOC', 'ASMA', 'INMUSUPR', 'HIPERTENSION', 'OTRA_COM',\n",
        "       'CARDIOVASCULAR', 'OBESIDAD', 'RENAL_CRONICA', 'TABAQUISMO',\n",
        "       'TIEMPO_ESPERA', 'HOSPITALIZADO','SEXO_','SECTOR_ATENDIDO','ESTADO','ENFERMEDAD_GRAVE','FALLECIDO']\n",
        "data = data[columns]"
      ],
      "execution_count": 3,
      "outputs": []
    },
    {
      "cell_type": "markdown",
      "metadata": {
        "id": "1ciHyE3XOyR1"
      },
      "source": [
        "## Preparación de datos"
      ]
    },
    {
      "cell_type": "code",
      "metadata": {
        "id": "u84QYkUaPvYB"
      },
      "source": [
        "data = data.rename({\"SEXO_\":\"SEXO\"}, axis = 1)"
      ],
      "execution_count": 4,
      "outputs": []
    },
    {
      "cell_type": "code",
      "metadata": {
        "id": "045quDLyLF88",
        "colab": {
          "base_uri": "https://localhost:8080/"
        },
        "outputId": "fea47857-e2f0-4d74-b2c4-1f74f5cab3a3"
      },
      "source": [
        "data.columns"
      ],
      "execution_count": 5,
      "outputs": [
        {
          "output_type": "execute_result",
          "data": {
            "text/plain": [
              "Index(['EDAD', 'EMBARAZO', 'DIABETES', 'EPOC', 'ASMA', 'INMUSUPR',\n",
              "       'HIPERTENSION', 'OTRA_COM', 'CARDIOVASCULAR', 'OBESIDAD',\n",
              "       'RENAL_CRONICA', 'TABAQUISMO', 'TIEMPO_ESPERA', 'HOSPITALIZADO', 'SEXO',\n",
              "       'SECTOR_ATENDIDO', 'ESTADO', 'ENFERMEDAD_GRAVE', 'FALLECIDO'],\n",
              "      dtype='object')"
            ]
          },
          "metadata": {
            "tags": []
          },
          "execution_count": 5
        }
      ]
    },
    {
      "cell_type": "markdown",
      "metadata": {
        "id": "hQX0oK9vOvId"
      },
      "source": [
        "### Creación de variables dummies (catagóricas)"
      ]
    },
    {
      "cell_type": "code",
      "metadata": {
        "id": "yHZIrXvbO4kw"
      },
      "source": [
        "categories = [\"SEXO\",\"SECTOR_ATENDIDO\",\"ESTADO\"]\n",
        "for cat in categories:\n",
        "  cat_dummies = pd.get_dummies(data[cat], prefix = cat)\n",
        "  data = data.join(cat_dummies)"
      ],
      "execution_count": 6,
      "outputs": []
    },
    {
      "cell_type": "code",
      "metadata": {
        "id": "cfArVpDeQcZB",
        "colab": {
          "base_uri": "https://localhost:8080/"
        },
        "outputId": "e31d6ef1-fc87-485d-9111-7ac7ebf4dc28"
      },
      "source": [
        "data.columns"
      ],
      "execution_count": 7,
      "outputs": [
        {
          "output_type": "execute_result",
          "data": {
            "text/plain": [
              "Index(['EDAD', 'EMBARAZO', 'DIABETES', 'EPOC', 'ASMA', 'INMUSUPR',\n",
              "       'HIPERTENSION', 'OTRA_COM', 'CARDIOVASCULAR', 'OBESIDAD',\n",
              "       'RENAL_CRONICA', 'TABAQUISMO', 'TIEMPO_ESPERA', 'HOSPITALIZADO', 'SEXO',\n",
              "       'SECTOR_ATENDIDO', 'ESTADO', 'ENFERMEDAD_GRAVE', 'FALLECIDO',\n",
              "       'SEXO_HOMBRE', 'SEXO_MUJER', 'SECTOR_ATENDIDO_CRUZ ROJA',\n",
              "       'SECTOR_ATENDIDO_DIF', 'SECTOR_ATENDIDO_ESTATAL',\n",
              "       'SECTOR_ATENDIDO_IMSS', 'SECTOR_ATENDIDO_IMSS-BIENESTAR',\n",
              "       'SECTOR_ATENDIDO_ISSSTE', 'SECTOR_ATENDIDO_MUNICIPAL',\n",
              "       'SECTOR_ATENDIDO_PEMEX', 'SECTOR_ATENDIDO_PRIVADA',\n",
              "       'SECTOR_ATENDIDO_SEDENA', 'SECTOR_ATENDIDO_SEMAR',\n",
              "       'SECTOR_ATENDIDO_SSA', 'SECTOR_ATENDIDO_UNIVERSITARIO', 'ESTADO_AS',\n",
              "       'ESTADO_BC', 'ESTADO_BS', 'ESTADO_CC', 'ESTADO_CH', 'ESTADO_CL',\n",
              "       'ESTADO_CM', 'ESTADO_CS', 'ESTADO_DF', 'ESTADO_DG', 'ESTADO_GR',\n",
              "       'ESTADO_GT', 'ESTADO_HG', 'ESTADO_JC', 'ESTADO_MC', 'ESTADO_MN',\n",
              "       'ESTADO_MS', 'ESTADO_NL', 'ESTADO_NT', 'ESTADO_OC', 'ESTADO_PL',\n",
              "       'ESTADO_QR', 'ESTADO_QT', 'ESTADO_SL', 'ESTADO_SP', 'ESTADO_SR',\n",
              "       'ESTADO_TC', 'ESTADO_TL', 'ESTADO_TS', 'ESTADO_VZ', 'ESTADO_YN',\n",
              "       'ESTADO_ZS'],\n",
              "      dtype='object')"
            ]
          },
          "metadata": {
            "tags": []
          },
          "execution_count": 7
        }
      ]
    },
    {
      "cell_type": "code",
      "metadata": {
        "id": "c4JTG3lCLxyF"
      },
      "source": [
        "# Columnas de las condiciones del paciente ántes de ser atendido por una institución de salud\n",
        "before_columns = ['EDAD', 'EMBARAZO','DIABETES', 'EPOC', 'ASMA', 'INMUSUPR', 'HIPERTENSION', 'OTRA_COM',\n",
        "       'CARDIOVASCULAR', 'OBESIDAD', 'RENAL_CRONICA', 'TABAQUISMO', 'ESTADO_AS','SEXO_HOMBRE', 'SEXO_MUJER',\n",
        "       'ESTADO_BC', 'ESTADO_BS', 'ESTADO_CC', 'ESTADO_CH', 'ESTADO_CL',\n",
        "       'ESTADO_CM', 'ESTADO_CS', 'ESTADO_DF', 'ESTADO_DG', 'ESTADO_GR',\n",
        "       'ESTADO_GT', 'ESTADO_HG', 'ESTADO_JC', 'ESTADO_MC', 'ESTADO_MN',\n",
        "       'ESTADO_MS', 'ESTADO_NL', 'ESTADO_NT', 'ESTADO_OC', 'ESTADO_PL',\n",
        "       'ESTADO_QR', 'ESTADO_QT', 'ESTADO_SL', 'ESTADO_SP', 'ESTADO_SR',\n",
        "       'ESTADO_TC', 'ESTADO_TL', 'ESTADO_TS', 'ESTADO_VZ', 'ESTADO_YN',\n",
        "       'ESTADO_ZS']\n",
        "\n",
        "# Columnas de las condiciones del paciente después de ser atendido por una institución de salud\n",
        "after_columns = ['EDAD', 'EMBARAZO','DIABETES', 'EPOC', 'ASMA', 'INMUSUPR', 'HIPERTENSION', 'OTRA_COM',\n",
        "       'CARDIOVASCULAR', 'OBESIDAD', 'RENAL_CRONICA', 'TABAQUISMO',\n",
        "       'TIEMPO_ESPERA', 'HOSPITALIZADO','SEXO_HOMBRE', 'SEXO_MUJER', 'SECTOR_ATENDIDO_CRUZ ROJA',\n",
        "       'SECTOR_ATENDIDO_DIF', 'SECTOR_ATENDIDO_ESTATAL', 'SECTOR_ATENDIDO_IMSS', 'SECTOR_ATENDIDO_IMSS-BIENESTAR',\n",
        "       'SECTOR_ATENDIDO_ISSSTE', 'SECTOR_ATENDIDO_MUNICIPAL', 'SECTOR_ATENDIDO_PEMEX', 'SECTOR_ATENDIDO_PRIVADA',\n",
        "       'SECTOR_ATENDIDO_SEDENA', 'SECTOR_ATENDIDO_SEMAR', 'SECTOR_ATENDIDO_SSA', 'SECTOR_ATENDIDO_UNIVERSITARIO', 'ESTADO_AS',\n",
        "       'ESTADO_BC', 'ESTADO_BS', 'ESTADO_CC', 'ESTADO_CH', 'ESTADO_CL',\n",
        "       'ESTADO_CM', 'ESTADO_CS', 'ESTADO_DF', 'ESTADO_DG', 'ESTADO_GR',\n",
        "       'ESTADO_GT', 'ESTADO_HG', 'ESTADO_JC', 'ESTADO_MC', 'ESTADO_MN',\n",
        "       'ESTADO_MS', 'ESTADO_NL', 'ESTADO_NT', 'ESTADO_OC', 'ESTADO_PL',\n",
        "       'ESTADO_QR', 'ESTADO_QT', 'ESTADO_SL', 'ESTADO_SP', 'ESTADO_SR',\n",
        "       'ESTADO_TC', 'ESTADO_TL', 'ESTADO_TS', 'ESTADO_VZ', 'ESTADO_YN',\n",
        "       'ESTADO_ZS']\n",
        "\n"
      ],
      "execution_count": 8,
      "outputs": []
    },
    {
      "cell_type": "markdown",
      "metadata": {
        "id": "UvzFyZlpF_ps"
      },
      "source": [
        "### Eliminación de outlier\n",
        "Se identificó que una columna posiblemente tenga datos atípicos. La columna `TIEMPO_ESPERA`"
      ]
    },
    {
      "cell_type": "code",
      "metadata": {
        "id": "wzziVoLjGR42"
      },
      "source": [
        "def summary(data):\n",
        "  minimo = data.min()\n",
        "  Q1 = data.quantile(0.25)\n",
        "  median = data.median()\n",
        "  mean = data.mean()\n",
        "  Q2 = data.quantile(0.5)\n",
        "  Q3 = data.quantile(0.75)\n",
        "  maximo = data.max()\n",
        "  IQR = Q3 - Q1\n",
        "  resumen = {'minimo': minimo, 'Q1': Q1, 'mediana':median,'Q2':Q2,'Q3':Q3,'max':maximo,'IQR':IQR, 'media':mean}\n",
        "  return resumen"
      ],
      "execution_count": 9,
      "outputs": []
    },
    {
      "cell_type": "code",
      "metadata": {
        "id": "ElbTIyiOGbhy",
        "colab": {
          "base_uri": "https://localhost:8080/"
        },
        "outputId": "89a366c7-0dd9-4f34-f3ba-9924e2196253"
      },
      "source": [
        "print (\"Resumen TIEMPO_ESPERA\")\n",
        "time_summary = summary(data[\"TIEMPO_ESPERA\"])\n",
        "time_summary"
      ],
      "execution_count": 10,
      "outputs": [
        {
          "output_type": "stream",
          "text": [
            "Resumen TIEMPO_ESPERA\n"
          ],
          "name": "stdout"
        },
        {
          "output_type": "execute_result",
          "data": {
            "text/plain": [
              "{'IQR': 4.0,\n",
              " 'Q1': 2.0,\n",
              " 'Q2': 3.0,\n",
              " 'Q3': 6.0,\n",
              " 'max': 174,\n",
              " 'media': 4.076062198742845,\n",
              " 'mediana': 3.0,\n",
              " 'minimo': 0}"
            ]
          },
          "metadata": {
            "tags": []
          },
          "execution_count": 10
        }
      ]
    },
    {
      "cell_type": "code",
      "metadata": {
        "id": "wx1ebHGbGw-k",
        "colab": {
          "base_uri": "https://localhost:8080/",
          "height": 407
        },
        "outputId": "4e2da85b-7c9f-4396-8785-0e0da6e77747"
      },
      "source": [
        "plt.boxplot(data[\"TIEMPO_ESPERA\"])"
      ],
      "execution_count": 11,
      "outputs": [
        {
          "output_type": "execute_result",
          "data": {
            "text/plain": [
              "{'boxes': [<matplotlib.lines.Line2D at 0x7f7d56e9e150>],\n",
              " 'caps': [<matplotlib.lines.Line2D at 0x7f7d51a5a950>,\n",
              "  <matplotlib.lines.Line2D at 0x7f7d51a5a910>],\n",
              " 'fliers': [<matplotlib.lines.Line2D at 0x7f7d56e9e650>],\n",
              " 'means': [],\n",
              " 'medians': [<matplotlib.lines.Line2D at 0x7f7d51a5a750>],\n",
              " 'whiskers': [<matplotlib.lines.Line2D at 0x7f7d51a57890>,\n",
              "  <matplotlib.lines.Line2D at 0x7f7d51a57710>]}"
            ]
          },
          "metadata": {
            "tags": []
          },
          "execution_count": 11
        },
        {
          "output_type": "display_data",
          "data": {
            "image/png": "[encoded data removed]",
            "text/plain": [
              "<Figure size 432x288 with 1 Axes>"
            ]
          },
          "metadata": {
            "tags": [],
            "needs_background": "light"
          }
        }
      ]
    },
    {
      "cell_type": "code",
      "metadata": {
        "id": "TReM01lWHmkF"
      },
      "source": [
        "data = data[data[\"TIEMPO_ESPERA\"] <= time_summary[\"Q3\"] + 1.5*time_summary[\"IQR\"]]"
      ],
      "execution_count": 12,
      "outputs": []
    },
    {
      "cell_type": "markdown",
      "metadata": {
        "id": "NiILeV3VDmDj"
      },
      "source": [
        "### Normalización de datos numéroicos\n",
        "Se normalizarán las variables de `EDAD` y `TIEMPO_ESPERA`"
      ]
    },
    {
      "cell_type": "code",
      "metadata": {
        "id": "1p5_d-4fEeN9",
        "colab": {
          "base_uri": "https://localhost:8080/"
        },
        "outputId": "0f7d2698-de23-428e-9d46-26df484c028f"
      },
      "source": [
        "data[\"EDAD\"].describe()"
      ],
      "execution_count": 13,
      "outputs": [
        {
          "output_type": "execute_result",
          "data": {
            "text/plain": [
              "count    2.163626e+06\n",
              "mean     4.355414e+01\n",
              "std      1.700503e+01\n",
              "min      0.000000e+00\n",
              "25%      3.000000e+01\n",
              "50%      4.200000e+01\n",
              "75%      5.500000e+01\n",
              "max      1.210000e+02\n",
              "Name: EDAD, dtype: float64"
            ]
          },
          "metadata": {
            "tags": []
          },
          "execution_count": 13
        }
      ]
    },
    {
      "cell_type": "code",
      "metadata": {
        "id": "kbwHGfLeDpG5"
      },
      "source": [
        "scaled = preprocessing.MinMaxScaler()\n",
        "scaled_edad = scaled.fit_transform(data[\"EDAD\"].values.reshape(-1,1))\n",
        "data[\"EDAD\"] = scaled_edad"
      ],
      "execution_count": 14,
      "outputs": []
    },
    {
      "cell_type": "code",
      "metadata": {
        "id": "IUyjGPUMFFQY",
        "colab": {
          "base_uri": "https://localhost:8080/"
        },
        "outputId": "e3635105-0c8c-4dab-cd39-9e0ccc752cc2"
      },
      "source": [
        "data[\"EDAD\"].describe()"
      ],
      "execution_count": 15,
      "outputs": [
        {
          "output_type": "execute_result",
          "data": {
            "text/plain": [
              "count    2.163626e+06\n",
              "mean     3.599515e-01\n",
              "std      1.405374e-01\n",
              "min      0.000000e+00\n",
              "25%      2.479339e-01\n",
              "50%      3.471074e-01\n",
              "75%      4.545455e-01\n",
              "max      1.000000e+00\n",
              "Name: EDAD, dtype: float64"
            ]
          },
          "metadata": {
            "tags": []
          },
          "execution_count": 15
        }
      ]
    },
    {
      "cell_type": "code",
      "metadata": {
        "id": "6yDI-JJRFV2V",
        "colab": {
          "base_uri": "https://localhost:8080/"
        },
        "outputId": "87cad7b1-d898-4579-dcab-6daddce35291"
      },
      "source": [
        "data[\"TIEMPO_ESPERA\"].describe()"
      ],
      "execution_count": 16,
      "outputs": [
        {
          "output_type": "execute_result",
          "data": {
            "text/plain": [
              "count    2.163626e+06\n",
              "mean     3.780447e+00\n",
              "std      2.834329e+00\n",
              "min      0.000000e+00\n",
              "25%      2.000000e+00\n",
              "50%      3.000000e+00\n",
              "75%      6.000000e+00\n",
              "max      1.200000e+01\n",
              "Name: TIEMPO_ESPERA, dtype: float64"
            ]
          },
          "metadata": {
            "tags": []
          },
          "execution_count": 16
        }
      ]
    },
    {
      "cell_type": "code",
      "metadata": {
        "id": "0pTyFNgmFSyi"
      },
      "source": [
        "scaled = preprocessing.MinMaxScaler()\n",
        "scaled_time = scaled.fit_transform(data[\"TIEMPO_ESPERA\"].values.reshape(-1,1))\n",
        "data[\"TIEMPO_ESPERA\"] = scaled_time"
      ],
      "execution_count": 17,
      "outputs": []
    },
    {
      "cell_type": "code",
      "metadata": {
        "id": "GDXFQorQFrc_",
        "colab": {
          "base_uri": "https://localhost:8080/"
        },
        "outputId": "8d6837de-6542-4239-dced-a59f103fd71f"
      },
      "source": [
        "data[\"TIEMPO_ESPERA\"].describe()"
      ],
      "execution_count": 18,
      "outputs": [
        {
          "output_type": "execute_result",
          "data": {
            "text/plain": [
              "count    2.163626e+06\n",
              "mean     3.150373e-01\n",
              "std      2.361941e-01\n",
              "min      0.000000e+00\n",
              "25%      1.666667e-01\n",
              "50%      2.500000e-01\n",
              "75%      5.000000e-01\n",
              "max      1.000000e+00\n",
              "Name: TIEMPO_ESPERA, dtype: float64"
            ]
          },
          "metadata": {
            "tags": []
          },
          "execution_count": 18
        }
      ]
    },
    {
      "cell_type": "markdown",
      "metadata": {
        "id": "Ownhr2fUj7NU"
      },
      "source": [
        "**Formula Edad Normalizada:**\n",
        "\n",
        "$\\large{E_N=\\frac{E}{121}}$\n",
        "******\n",
        "**Formula Tiempo de espera Normalizado:**\n",
        "\n",
        "$\\large{T_N=\\frac{T}{12}}$"
      ]
    },
    {
      "cell_type": "markdown",
      "metadata": {
        "id": "8iIf_wKDQi2-"
      },
      "source": [
        "## Modelo para condiciones iniciales del paciente\n"
      ]
    },
    {
      "cell_type": "markdown",
      "metadata": {
        "id": "1rnD9p4PQtBO"
      },
      "source": [
        "### Selección de las varianbles"
      ]
    },
    {
      "cell_type": "code",
      "metadata": {
        "id": "_WVDFOKtQwT8",
        "colab": {
          "base_uri": "https://localhost:8080/"
        },
        "outputId": "205ffedb-1675-4e1f-b080-e7eb9ca80e74"
      },
      "source": [
        "X_before = data[before_columns].copy()\n",
        "Y_deceased = data[\"FALLECIDO\"].copy()\n",
        "len(before_columns)"
      ],
      "execution_count": 19,
      "outputs": [
        {
          "output_type": "execute_result",
          "data": {
            "text/plain": [
              "46"
            ]
          },
          "metadata": {
            "tags": []
          },
          "execution_count": 19
        }
      ]
    },
    {
      "cell_type": "code",
      "metadata": {
        "id": "EyKGPJaBtuwU",
        "colab": {
          "base_uri": "https://localhost:8080/"
        },
        "outputId": "1c1adf0b-0fbf-4113-b650-57102fb908b8"
      },
      "source": [
        "data.columns"
      ],
      "execution_count": 20,
      "outputs": [
        {
          "output_type": "execute_result",
          "data": {
            "text/plain": [
              "Index(['EDAD', 'EMBARAZO', 'DIABETES', 'EPOC', 'ASMA', 'INMUSUPR',\n",
              "       'HIPERTENSION', 'OTRA_COM', 'CARDIOVASCULAR', 'OBESIDAD',\n",
              "       'RENAL_CRONICA', 'TABAQUISMO', 'TIEMPO_ESPERA', 'HOSPITALIZADO', 'SEXO',\n",
              "       'SECTOR_ATENDIDO', 'ESTADO', 'ENFERMEDAD_GRAVE', 'FALLECIDO',\n",
              "       'SEXO_HOMBRE', 'SEXO_MUJER', 'SECTOR_ATENDIDO_CRUZ ROJA',\n",
              "       'SECTOR_ATENDIDO_DIF', 'SECTOR_ATENDIDO_ESTATAL',\n",
              "       'SECTOR_ATENDIDO_IMSS', 'SECTOR_ATENDIDO_IMSS-BIENESTAR',\n",
              "       'SECTOR_ATENDIDO_ISSSTE', 'SECTOR_ATENDIDO_MUNICIPAL',\n",
              "       'SECTOR_ATENDIDO_PEMEX', 'SECTOR_ATENDIDO_PRIVADA',\n",
              "       'SECTOR_ATENDIDO_SEDENA', 'SECTOR_ATENDIDO_SEMAR',\n",
              "       'SECTOR_ATENDIDO_SSA', 'SECTOR_ATENDIDO_UNIVERSITARIO', 'ESTADO_AS',\n",
              "       'ESTADO_BC', 'ESTADO_BS', 'ESTADO_CC', 'ESTADO_CH', 'ESTADO_CL',\n",
              "       'ESTADO_CM', 'ESTADO_CS', 'ESTADO_DF', 'ESTADO_DG', 'ESTADO_GR',\n",
              "       'ESTADO_GT', 'ESTADO_HG', 'ESTADO_JC', 'ESTADO_MC', 'ESTADO_MN',\n",
              "       'ESTADO_MS', 'ESTADO_NL', 'ESTADO_NT', 'ESTADO_OC', 'ESTADO_PL',\n",
              "       'ESTADO_QR', 'ESTADO_QT', 'ESTADO_SL', 'ESTADO_SP', 'ESTADO_SR',\n",
              "       'ESTADO_TC', 'ESTADO_TL', 'ESTADO_TS', 'ESTADO_VZ', 'ESTADO_YN',\n",
              "       'ESTADO_ZS'],\n",
              "      dtype='object')"
            ]
          },
          "metadata": {
            "tags": []
          },
          "execution_count": 20
        }
      ]
    },
    {
      "cell_type": "markdown",
      "metadata": {
        "id": "H8hzzn69biqF"
      },
      "source": [
        "Nos quedaremos con la mitad de las variables "
      ]
    },
    {
      "cell_type": "markdown",
      "metadata": {
        "id": "GmauXjYKx8nt"
      },
      "source": [
        "Se utiliza el solver sag porque es más rápido para datasets grandes (en variables y tamaño de la muestra)\n",
        "\n",
        "* [Referencia 1](https://stackoverflow.com/questions/38640109/logistic-regression-python-solvers-defintions)\n",
        "* [Referencia 2](https://rubialesalberto.medium.com/regresi%C3%B3n-log%C3%ADstica-con-sklearn-4384c707075d)"
      ]
    },
    {
      "cell_type": "code",
      "metadata": {
        "id": "M6pE7WAudumb"
      },
      "source": [
        "n = 23\n",
        "lr = linear_model.LogisticRegression(solver=\"saga\")\n",
        "rfe = RFE(lr,n)\n",
        "rfe = rfe.fit(X_before,Y_deceased)"
      ],
      "execution_count": 21,
      "outputs": []
    },
    {
      "cell_type": "code",
      "metadata": {
        "id": "T1mEuuYSeBys",
        "colab": {
          "base_uri": "https://localhost:8080/"
        },
        "outputId": "1e04fe53-a2ba-45d9-870e-c9f55bbd1946"
      },
      "source": [
        "var_included = list(zip(before_columns, rfe.support_, rfe.ranking_))\n",
        "var_included.sort(key = lambda x: x[2])\n",
        "print (tabulate(var_included))"
      ],
      "execution_count": 23,
      "outputs": [
        {
          "output_type": "stream",
          "text": [
            "--------------  -  --\n",
            "EDAD            1   1\n",
            "DIABETES        1   1\n",
            "INMUSUPR        1   1\n",
            "HIPERTENSION    1   1\n",
            "OTRA_COM        1   1\n",
            "OBESIDAD        1   1\n",
            "RENAL_CRONICA   1   1\n",
            "SEXO_HOMBRE     1   1\n",
            "SEXO_MUJER      1   1\n",
            "ESTADO_BC       1   1\n",
            "ESTADO_BS       1   1\n",
            "ESTADO_CH       1   1\n",
            "ESTADO_CS       1   1\n",
            "ESTADO_DF       1   1\n",
            "ESTADO_HG       1   1\n",
            "ESTADO_MC       1   1\n",
            "ESTADO_NT       1   1\n",
            "ESTADO_PL       1   1\n",
            "ESTADO_QR       1   1\n",
            "ESTADO_SL       1   1\n",
            "ESTADO_TC       1   1\n",
            "ESTADO_TL       1   1\n",
            "ESTADO_VZ       1   1\n",
            "ESTADO_OC       0   2\n",
            "ESTADO_QT       0   3\n",
            "ESTADO_NL       0   4\n",
            "ESTADO_DG       0   5\n",
            "ESTADO_SP       0   6\n",
            "ESTADO_GT       0   7\n",
            "ESTADO_SR       0   8\n",
            "ESTADO_MS       0   9\n",
            "EPOC            0  10\n",
            "ESTADO_CC       0  11\n",
            "ASMA            0  12\n",
            "ESTADO_TS       0  13\n",
            "ESTADO_ZS       0  14\n",
            "ESTADO_AS       0  15\n",
            "ESTADO_GR       0  16\n",
            "TABAQUISMO      0  17\n",
            "ESTADO_JC       0  18\n",
            "EMBARAZO        0  19\n",
            "ESTADO_CL       0  20\n",
            "ESTADO_MN       0  21\n",
            "ESTADO_CM       0  22\n",
            "ESTADO_YN       0  23\n",
            "CARDIOVASCULAR  0  24\n",
            "--------------  -  --\n"
          ],
          "name": "stdout"
        }
      ]
    },
    {
      "cell_type": "markdown",
      "metadata": {
        "id": "7NFuCeqs2twL"
      },
      "source": [
        "#### Variables escogidas"
      ]
    },
    {
      "cell_type": "code",
      "metadata": {
        "id": "88xogyN01ueO",
        "outputId": "8872c9d3-d491-46da-ddc7-1e1d8b74a1c4",
        "colab": {
          "base_uri": "https://localhost:8080/"
        }
      },
      "source": [
        "before_columns = [v[0] for v in var_included if v[1] == True]\n",
        "before_columns"
      ],
      "execution_count": 32,
      "outputs": [
        {
          "output_type": "execute_result",
          "data": {
            "text/plain": [
              "['EDAD',\n",
              " 'DIABETES',\n",
              " 'INMUSUPR',\n",
              " 'HIPERTENSION',\n",
              " 'OTRA_COM',\n",
              " 'OBESIDAD',\n",
              " 'RENAL_CRONICA',\n",
              " 'SEXO_HOMBRE',\n",
              " 'SEXO_MUJER',\n",
              " 'ESTADO_BC',\n",
              " 'ESTADO_BS',\n",
              " 'ESTADO_CH',\n",
              " 'ESTADO_CS',\n",
              " 'ESTADO_DF',\n",
              " 'ESTADO_HG',\n",
              " 'ESTADO_MC',\n",
              " 'ESTADO_NT',\n",
              " 'ESTADO_PL',\n",
              " 'ESTADO_QR',\n",
              " 'ESTADO_SL',\n",
              " 'ESTADO_TC',\n",
              " 'ESTADO_TL',\n",
              " 'ESTADO_VZ']"
            ]
          },
          "metadata": {
            "tags": []
          },
          "execution_count": 32
        }
      ]
    },
    {
      "cell_type": "markdown",
      "metadata": {
        "id": "ToDvQYCX2mJl"
      },
      "source": [
        "### Separación de datasets para entrenamiento y prueba"
      ]
    },
    {
      "cell_type": "code",
      "metadata": {
        "id": "1L6nsuNr3AbC"
      },
      "source": [
        "X_before = data[before_columns].copy()"
      ],
      "execution_count": 41,
      "outputs": []
    },
    {
      "cell_type": "code",
      "metadata": {
        "id": "SZxrtRRE3Hig"
      },
      "source": [
        "X_train, X_test, Y_train, Y_test = train_test_split(X_before, Y_deceased, test_size = 0.3, random_state = 442021)"
      ],
      "execution_count": 42,
      "outputs": []
    },
    {
      "cell_type": "markdown",
      "metadata": {
        "id": "9PYwDn83334a"
      },
      "source": [
        "### Creación de modelo de regresión logística"
      ]
    },
    {
      "cell_type": "code",
      "metadata": {
        "id": "AII5AAOM4EnG",
        "outputId": "08a440dd-4ec2-425e-d4b2-71ebeb93d47c",
        "colab": {
          "base_uri": "https://localhost:8080/"
        }
      },
      "source": [
        "lm_before = linear_model.LogisticRegression(solver=\"saga\")\n",
        "lm_before.fit(X_train,Y_train)"
      ],
      "execution_count": 43,
      "outputs": [
        {
          "output_type": "execute_result",
          "data": {
            "text/plain": [
              "LogisticRegression(C=1.0, class_weight=None, dual=False, fit_intercept=True,\n",
              "                   intercept_scaling=1, l1_ratio=None, max_iter=100,\n",
              "                   multi_class='auto', n_jobs=None, penalty='l2',\n",
              "                   random_state=None, solver='saga', tol=0.0001, verbose=0,\n",
              "                   warm_start=False)"
            ]
          },
          "metadata": {
            "tags": []
          },
          "execution_count": 43
        }
      ]
    },
    {
      "cell_type": "code",
      "metadata": {
        "id": "uGYOVkRG75rt",
        "outputId": "d5e52de4-0c0a-45dc-d5c5-4d60e36ff737",
        "colab": {
          "base_uri": "https://localhost:8080/"
        }
      },
      "source": [
        "lm_before.score(X_test, Y_test)"
      ],
      "execution_count": 44,
      "outputs": [
        {
          "output_type": "execute_result",
          "data": {
            "text/plain": [
              "0.9143613808913429"
            ]
          },
          "metadata": {
            "tags": []
          },
          "execution_count": 44
        }
      ]
    },
    {
      "cell_type": "code",
      "metadata": {
        "id": "mRs547Gb82tv",
        "outputId": "c5f23ab5-8db1-4d39-c2d3-7eb18a9ec4d6",
        "colab": {
          "base_uri": "https://localhost:8080/"
        }
      },
      "source": [
        "lm_before.score(X_before,Y_deceased)"
      ],
      "execution_count": 45,
      "outputs": [
        {
          "output_type": "execute_result",
          "data": {
            "text/plain": [
              "0.9141598409336918"
            ]
          },
          "metadata": {
            "tags": []
          },
          "execution_count": 45
        }
      ]
    },
    {
      "cell_type": "code",
      "metadata": {
        "id": "M7l92hdD_XOA",
        "outputId": "f08705a6-881f-4287-fac0-81842387ce17",
        "colab": {
          "base_uri": "https://localhost:8080/"
        }
      },
      "source": [
        "lm_before.intercept_"
      ],
      "execution_count": 49,
      "outputs": [
        {
          "output_type": "execute_result",
          "data": {
            "text/plain": [
              "array([-6.83220907])"
            ]
          },
          "metadata": {
            "tags": []
          },
          "execution_count": 49
        }
      ]
    },
    {
      "cell_type": "code",
      "metadata": {
        "id": "-7V7rOrC7-ql",
        "outputId": "c3fcca35-7f4f-477d-910f-01877a1bbef4",
        "colab": {
          "base_uri": "https://localhost:8080/"
        }
      },
      "source": [
        "params = list(zip(X_before.columns, np.transpose(lm_before.coef_)))\n",
        "params.append((\"INTERCEPCION\", lm_before.intercept_))\n",
        "print(tabulate(params))"
      ],
      "execution_count": 56,
      "outputs": [
        {
          "output_type": "stream",
          "text": [
            "-------------  ---------\n",
            "EDAD            9.22962\n",
            "DIABETES        0.553748\n",
            "INMUSUPR        0.468485\n",
            "HIPERTENSION    0.271243\n",
            "OTRA_COM        0.708996\n",
            "OBESIDAD        0.492743\n",
            "RENAL_CRONICA   1.15805\n",
            "SEXO_HOMBRE     0.301037\n",
            "SEXO_MUJER     -0.31738\n",
            "ESTADO_BC       0.636111\n",
            "ESTADO_BS      -0.479857\n",
            "ESTADO_CH       0.39717\n",
            "ESTADO_CS       0.421029\n",
            "ESTADO_DF      -0.395616\n",
            "ESTADO_HG       0.706101\n",
            "ESTADO_MC       0.879911\n",
            "ESTADO_NT       0.39637\n",
            "ESTADO_PL       0.401868\n",
            "ESTADO_QR       0.498683\n",
            "ESTADO_SL       0.459068\n",
            "ESTADO_TC      -0.349068\n",
            "ESTADO_TL       0.54112\n",
            "ESTADO_VZ       0.512763\n",
            "INTERCEPCION   -6.83221\n",
            "-------------  ---------\n"
          ],
          "name": "stdout"
        }
      ]
    },
    {
      "cell_type": "code",
      "metadata": {
        "id": "E9RycG4RAEZe"
      },
      "source": [
        "probs = lm_before.predict_proba(X_test)"
      ],
      "execution_count": 58,
      "outputs": []
    },
    {
      "cell_type": "code",
      "metadata": {
        "id": "ySjSflIrAPoF",
        "outputId": "418ee81a-52e3-4ac3-cb7d-f1f8017cc519",
        "colab": {
          "base_uri": "https://localhost:8080/"
        }
      },
      "source": [
        "ps = []\n",
        "for p in probs:\n",
        "  ps.append(p[1]) # La columna 0 del array contiene la prob de que el evento 0 ocurra, lo mismo para la 1\n",
        "ps[0:5]"
      ],
      "execution_count": 59,
      "outputs": [
        {
          "output_type": "execute_result",
          "data": {
            "text/plain": [
              "[0.019490890611856427,\n",
              " 0.0019296566508045204,\n",
              " 0.041382834747748884,\n",
              " 0.003881073893091962,\n",
              " 0.004874160960615001]"
            ]
          },
          "metadata": {
            "tags": []
          },
          "execution_count": 59
        }
      ]
    },
    {
      "cell_type": "markdown",
      "metadata": {
        "id": "Ff5r1Q5WCX4n"
      },
      "source": [
        "### Validación del modelo\n",
        "No se usarán Matrices de Confusión ni curvas ROC por que el objetivo no es clasificar, si no obtener un modelo para predecir la probabilidad de muerte."
      ]
    },
    {
      "cell_type": "code",
      "metadata": {
        "id": "FidwUWpTCCoB"
      },
      "source": [
        "prediction = lm_before.predict(X_test)"
      ],
      "execution_count": 61,
      "outputs": []
    },
    {
      "cell_type": "code",
      "metadata": {
        "id": "QAfeHqlKCgWK",
        "outputId": "788b1d54-ca14-4c41-9965-e662dc13836a",
        "colab": {
          "base_uri": "https://localhost:8080/"
        }
      },
      "source": [
        "metrics.accuracy_score(Y_test,prediction)"
      ],
      "execution_count": 62,
      "outputs": [
        {
          "output_type": "execute_result",
          "data": {
            "text/plain": [
              "0.9143613808913429"
            ]
          },
          "metadata": {
            "tags": []
          },
          "execution_count": 62
        }
      ]
    },
    {
      "cell_type": "markdown",
      "metadata": {
        "id": "VjBBwLmUCnYR"
      },
      "source": [
        "#### Validación Cruzada"
      ]
    },
    {
      "cell_type": "code",
      "metadata": {
        "id": "ToT-BEppC_99"
      },
      "source": [
        "scores = cross_val_score(linear_model.LogisticRegression(solver=\"saga\"), X_before, Y_deceased, scoring = \"accuracy\", cv = 10)"
      ],
      "execution_count": 64,
      "outputs": []
    },
    {
      "cell_type": "code",
      "metadata": {
        "id": "DNf-LBj8DRah",
        "outputId": "9853dd5f-2f91-439f-a7cc-69dad1b503f5",
        "colab": {
          "base_uri": "https://localhost:8080/"
        }
      },
      "source": [
        "scores "
      ],
      "execution_count": 65,
      "outputs": [
        {
          "output_type": "execute_result",
          "data": {
            "text/plain": [
              "array([0.9142321 , 0.91483294, 0.91163461, 0.84640165, 0.48261949,\n",
              "       0.77533589, 0.69945739, 0.90708165, 0.79067951, 0.91382036])"
            ]
          },
          "metadata": {
            "tags": []
          },
          "execution_count": 65
        }
      ]
    },
    {
      "cell_type": "code",
      "metadata": {
        "id": "kyVTFkntDS74",
        "outputId": "b87eff6b-9ecf-43db-c127-2f8474455132",
        "colab": {
          "base_uri": "https://localhost:8080/"
        }
      },
      "source": [
        "scores.mean()"
      ],
      "execution_count": 66,
      "outputs": [
        {
          "output_type": "execute_result",
          "data": {
            "text/plain": [
              "0.815609559415846"
            ]
          },
          "metadata": {
            "tags": []
          },
          "execution_count": 66
        }
      ]
    }
  ]
}