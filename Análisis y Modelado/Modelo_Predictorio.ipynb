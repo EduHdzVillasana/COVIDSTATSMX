{
  "nbformat": 4,
  "nbformat_minor": 0,
  "metadata": {
    "colab": {
      "name": "Untitled3.ipynb",
      "provenance": [],
      "mount_file_id": "https://github.com/EduHdzVillasana/COVIDSTATSMX/blob/master/An%C3%A1lisis%20y%20Modelado/Modelo_Predictorio.ipynb",
      "authorship_tag": "ABX9TyMvnNXoKZK3xXPGZowbEims",
      "include_colab_link": true
    },
    "kernelspec": {
      "name": "python3",
      "display_name": "Python 3"
    },
    "language_info": {
      "name": "python"
    },
    "accelerator": "GPU"
  },
  "cells": [
    {
      "cell_type": "markdown",
      "metadata": {
        "id": "view-in-github",
        "colab_type": "text"
      },
      "source": [
        "<a href=\"https://colab.research.google.com/github/EduHdzVillasana/COVIDSTATSMX/blob/master/An%C3%A1lisis%20y%20Modelado/Modelo_Predictorio.ipynb\" target=\"_parent\"><img src=\"https://colab.research.google.com/assets/colab-badge.svg\" alt=\"Open In Colab\"/></a>"
      ]
    },
    {
      "cell_type": "markdown",
      "metadata": {
        "id": "DtqgREQCIXMy"
      },
      "source": [
        "# Creación de modelo para predecir probabilidad de muerte por COVID-19\n",
        "En este notebook se creará un modelo de regresión logística para predecir la probabilidad de muerte de un paciente positivo a sars-cov-2 dadas sus condiciones.\n",
        "\n",
        "También se creará un modelo para predecir la probabilidad de contraer enfermedad grave dadas sus condiciones y así identificar personas vulnerables."
      ]
    },
    {
      "cell_type": "markdown",
      "metadata": {
        "id": "fTahWfDvImrf"
      },
      "source": [
        "## Librerías a utilizar\n"
      ]
    },
    {
      "cell_type": "code",
      "metadata": {
        "id": "r-mxaaOgIsQ-",
        "outputId": "b67fdec3-91e3-4a8b-dd8e-02ab0cec60fb",
        "colab": {
          "base_uri": "https://localhost:8080/"
        }
      },
      "source": [
        "import pandas as pd\n",
        "import numpy as np\n",
        "import matplotlib.pyplot as plt\n",
        "import datetime\n",
        "import os\n",
        "\n",
        "# Librerias para la regresión logística\n",
        "import statsmodels.api as sm\n",
        "from sklearn import datasets\n",
        "from sklearn.feature_selection import RFE\n",
        "from tabulate import tabulate\n",
        "from sklearn import linear_model\n",
        "\n",
        "# Librerias para la validación del modelo\n",
        "from sklearn.model_selection import train_test_split\n",
        "from sklearn import metrics\n",
        "from sklearn.model_selection import cross_val_score"
      ],
      "execution_count": 1,
      "outputs": [
        {
          "output_type": "stream",
          "text": [
            "/usr/local/lib/python3.7/dist-packages/statsmodels/tools/_testing.py:19: FutureWarning: pandas.util.testing is deprecated. Use the functions in the public API at pandas.testing instead.\n",
            "  import pandas.util.testing as tm\n"
          ],
          "name": "stderr"
        }
      ]
    },
    {
      "cell_type": "code",
      "metadata": {
        "id": "dO-nJZ8_ItA7",
        "outputId": "174ba571-e7b6-4de7-84db-29d40a4314a0",
        "colab": {
          "base_uri": "https://localhost:8080/",
          "height": 277
        }
      },
      "source": [
        "mainpath = \"/content/drive/MyDrive/Datos Abiertos\"\n",
        "filepath = \"210401COVID19MEXICO_filtered.csv\"\n",
        "\n",
        "data = pd.read_csv(os.path.join(mainpath, filepath), index_col=0)\n",
        "data.sample(3)"
      ],
      "execution_count": 2,
      "outputs": [
        {
          "output_type": "stream",
          "text": [
            "/usr/local/lib/python3.7/dist-packages/IPython/core/interactiveshell.py:2718: DtypeWarning: Columns (39) have mixed types.Specify dtype option on import or set low_memory=False.\n",
            "  interactivity=interactivity, compiler=compiler, result=result)\n",
            "/usr/local/lib/python3.7/dist-packages/numpy/lib/arraysetops.py:580: FutureWarning: elementwise comparison failed; returning scalar instead, but in the future will perform elementwise comparison\n",
            "  mask |= (ar1 == a)\n"
          ],
          "name": "stderr"
        },
        {
          "output_type": "execute_result",
          "data": {
            "text/html": [
              "<div>\n",
              "<style scoped>\n",
              "    .dataframe tbody tr th:only-of-type {\n",
              "        vertical-align: middle;\n",
              "    }\n",
              "\n",
              "    .dataframe tbody tr th {\n",
              "        vertical-align: top;\n",
              "    }\n",
              "\n",
              "    .dataframe thead th {\n",
              "        text-align: right;\n",
              "    }\n",
              "</style>\n",
              "<table border=\"1\" class=\"dataframe\">\n",
              "  <thead>\n",
              "    <tr style=\"text-align: right;\">\n",
              "      <th></th>\n",
              "      <th>FECHA_ACTUALIZACION</th>\n",
              "      <th>ID_REGISTRO</th>\n",
              "      <th>ORIGEN</th>\n",
              "      <th>SECTOR</th>\n",
              "      <th>ENTIDAD_UM</th>\n",
              "      <th>SEXO</th>\n",
              "      <th>ENTIDAD_NAC</th>\n",
              "      <th>ENTIDAD_RES</th>\n",
              "      <th>MUNICIPIO_RES</th>\n",
              "      <th>TIPO_PACIENTE</th>\n",
              "      <th>FECHA_INGRESO</th>\n",
              "      <th>FECHA_SINTOMAS</th>\n",
              "      <th>FECHA_DEF</th>\n",
              "      <th>INTUBADO</th>\n",
              "      <th>NEUMONIA</th>\n",
              "      <th>EDAD</th>\n",
              "      <th>NACIONALIDAD</th>\n",
              "      <th>EMBARAZO</th>\n",
              "      <th>HABLA_LENGUA_INDIG</th>\n",
              "      <th>INDIGENA</th>\n",
              "      <th>DIABETES</th>\n",
              "      <th>EPOC</th>\n",
              "      <th>ASMA</th>\n",
              "      <th>INMUSUPR</th>\n",
              "      <th>HIPERTENSION</th>\n",
              "      <th>OTRA_COM</th>\n",
              "      <th>CARDIOVASCULAR</th>\n",
              "      <th>OBESIDAD</th>\n",
              "      <th>RENAL_CRONICA</th>\n",
              "      <th>TABAQUISMO</th>\n",
              "      <th>OTRO_CASO</th>\n",
              "      <th>TOMA_MUESTRA_LAB</th>\n",
              "      <th>RESULTADO_LAB</th>\n",
              "      <th>TOMA_MUESTRA_ANTIGENO</th>\n",
              "      <th>RESULTADO_ANTIGENO</th>\n",
              "      <th>CLASIFICACION_FINAL</th>\n",
              "      <th>MIGRANTE</th>\n",
              "      <th>PAIS_NACIONALIDAD</th>\n",
              "      <th>PAIS_ORIGEN</th>\n",
              "      <th>UCI</th>\n",
              "      <th>RESULTADO</th>\n",
              "      <th>TIEMPO_ESPERA</th>\n",
              "      <th>FALLECIDO</th>\n",
              "      <th>ENFERMEDAD_GRAVE</th>\n",
              "      <th>HOSPITALIZADO</th>\n",
              "      <th>SEXO_</th>\n",
              "      <th>SECTOR_ATENDIDO</th>\n",
              "      <th>ESTADO</th>\n",
              "    </tr>\n",
              "  </thead>\n",
              "  <tbody>\n",
              "    <tr>\n",
              "      <th>648809</th>\n",
              "      <td>2021-04-01</td>\n",
              "      <td>3f1a0f</td>\n",
              "      <td>2</td>\n",
              "      <td>4</td>\n",
              "      <td>9</td>\n",
              "      <td>1</td>\n",
              "      <td>9</td>\n",
              "      <td>9</td>\n",
              "      <td>15</td>\n",
              "      <td>2</td>\n",
              "      <td>2020-12-10</td>\n",
              "      <td>2020-12-09</td>\n",
              "      <td>9999-99-99</td>\n",
              "      <td>0</td>\n",
              "      <td>0</td>\n",
              "      <td>62</td>\n",
              "      <td>1</td>\n",
              "      <td>0</td>\n",
              "      <td>2</td>\n",
              "      <td>2</td>\n",
              "      <td>0</td>\n",
              "      <td>0</td>\n",
              "      <td>0</td>\n",
              "      <td>0</td>\n",
              "      <td>0</td>\n",
              "      <td>0</td>\n",
              "      <td>0</td>\n",
              "      <td>0</td>\n",
              "      <td>0</td>\n",
              "      <td>0</td>\n",
              "      <td>2</td>\n",
              "      <td>1</td>\n",
              "      <td>1</td>\n",
              "      <td>2</td>\n",
              "      <td>97</td>\n",
              "      <td>3</td>\n",
              "      <td>99</td>\n",
              "      <td>México</td>\n",
              "      <td>97</td>\n",
              "      <td>0</td>\n",
              "      <td>1</td>\n",
              "      <td>1</td>\n",
              "      <td>0</td>\n",
              "      <td>0</td>\n",
              "      <td>1</td>\n",
              "      <td>MUJER</td>\n",
              "      <td>IMSS</td>\n",
              "      <td>DF</td>\n",
              "    </tr>\n",
              "    <tr>\n",
              "      <th>1563328</th>\n",
              "      <td>2021-04-01</td>\n",
              "      <td>d3eecd</td>\n",
              "      <td>1</td>\n",
              "      <td>6</td>\n",
              "      <td>20</td>\n",
              "      <td>1</td>\n",
              "      <td>20</td>\n",
              "      <td>20</td>\n",
              "      <td>83</td>\n",
              "      <td>1</td>\n",
              "      <td>2021-03-02</td>\n",
              "      <td>2021-02-27</td>\n",
              "      <td>9999-99-99</td>\n",
              "      <td>0</td>\n",
              "      <td>0</td>\n",
              "      <td>38</td>\n",
              "      <td>1</td>\n",
              "      <td>0</td>\n",
              "      <td>2</td>\n",
              "      <td>2</td>\n",
              "      <td>0</td>\n",
              "      <td>0</td>\n",
              "      <td>1</td>\n",
              "      <td>0</td>\n",
              "      <td>0</td>\n",
              "      <td>0</td>\n",
              "      <td>0</td>\n",
              "      <td>0</td>\n",
              "      <td>0</td>\n",
              "      <td>0</td>\n",
              "      <td>2</td>\n",
              "      <td>1</td>\n",
              "      <td>1</td>\n",
              "      <td>2</td>\n",
              "      <td>97</td>\n",
              "      <td>3</td>\n",
              "      <td>99</td>\n",
              "      <td>México</td>\n",
              "      <td>97</td>\n",
              "      <td>0</td>\n",
              "      <td>1</td>\n",
              "      <td>3</td>\n",
              "      <td>0</td>\n",
              "      <td>0</td>\n",
              "      <td>0</td>\n",
              "      <td>MUJER</td>\n",
              "      <td>ISSSTE</td>\n",
              "      <td>OC</td>\n",
              "    </tr>\n",
              "    <tr>\n",
              "      <th>1173023</th>\n",
              "      <td>2021-04-01</td>\n",
              "      <td>1bc868</td>\n",
              "      <td>1</td>\n",
              "      <td>12</td>\n",
              "      <td>13</td>\n",
              "      <td>1</td>\n",
              "      <td>13</td>\n",
              "      <td>13</td>\n",
              "      <td>48</td>\n",
              "      <td>1</td>\n",
              "      <td>2020-08-06</td>\n",
              "      <td>2020-08-03</td>\n",
              "      <td>9999-99-99</td>\n",
              "      <td>0</td>\n",
              "      <td>0</td>\n",
              "      <td>29</td>\n",
              "      <td>1</td>\n",
              "      <td>0</td>\n",
              "      <td>2</td>\n",
              "      <td>2</td>\n",
              "      <td>0</td>\n",
              "      <td>0</td>\n",
              "      <td>0</td>\n",
              "      <td>0</td>\n",
              "      <td>0</td>\n",
              "      <td>0</td>\n",
              "      <td>0</td>\n",
              "      <td>0</td>\n",
              "      <td>0</td>\n",
              "      <td>0</td>\n",
              "      <td>1</td>\n",
              "      <td>1</td>\n",
              "      <td>1</td>\n",
              "      <td>2</td>\n",
              "      <td>97</td>\n",
              "      <td>3</td>\n",
              "      <td>99</td>\n",
              "      <td>México</td>\n",
              "      <td>97</td>\n",
              "      <td>0</td>\n",
              "      <td>1</td>\n",
              "      <td>3</td>\n",
              "      <td>0</td>\n",
              "      <td>0</td>\n",
              "      <td>0</td>\n",
              "      <td>MUJER</td>\n",
              "      <td>SSA</td>\n",
              "      <td>HG</td>\n",
              "    </tr>\n",
              "  </tbody>\n",
              "</table>\n",
              "</div>"
            ],
            "text/plain": [
              "        FECHA_ACTUALIZACION ID_REGISTRO  ORIGEN  ...  SEXO_  SECTOR_ATENDIDO  ESTADO\n",
              "648809           2021-04-01      3f1a0f       2  ...  MUJER             IMSS      DF\n",
              "1563328          2021-04-01      d3eecd       1  ...  MUJER           ISSSTE      OC\n",
              "1173023          2021-04-01      1bc868       1  ...  MUJER              SSA      HG\n",
              "\n",
              "[3 rows x 48 columns]"
            ]
          },
          "metadata": {
            "tags": []
          },
          "execution_count": 2
        }
      ]
    },
    {
      "cell_type": "code",
      "metadata": {
        "id": "uMeapIettEae"
      },
      "source": [
        "columns = ['EDAD', 'EMBARAZO','DIABETES', 'EPOC', 'ASMA', 'INMUSUPR', 'HIPERTENSION', 'OTRA_COM',\n",
        "       'CARDIOVASCULAR', 'OBESIDAD', 'RENAL_CRONICA', 'TABAQUISMO',\n",
        "       'TIEMPO_ESPERA', 'HOSPITALIZADO','SEXO_','SECTOR_ATENDIDO','ESTADO','ENFERMEDAD_GRAVE','FALLECIDO']\n",
        "data = data[columns]"
      ],
      "execution_count": 3,
      "outputs": []
    },
    {
      "cell_type": "markdown",
      "metadata": {
        "id": "1ciHyE3XOyR1"
      },
      "source": [
        "## Preparación de datos"
      ]
    },
    {
      "cell_type": "code",
      "metadata": {
        "id": "u84QYkUaPvYB"
      },
      "source": [
        "data = data.rename({\"SEXO_\":\"SEXO\"}, axis = 1)"
      ],
      "execution_count": 4,
      "outputs": []
    },
    {
      "cell_type": "code",
      "metadata": {
        "id": "045quDLyLF88",
        "outputId": "d84860e2-02c2-4cbc-d29c-3793b8d12127",
        "colab": {
          "base_uri": "https://localhost:8080/"
        }
      },
      "source": [
        "data.columns"
      ],
      "execution_count": 5,
      "outputs": [
        {
          "output_type": "execute_result",
          "data": {
            "text/plain": [
              "Index(['EDAD', 'EMBARAZO', 'DIABETES', 'EPOC', 'ASMA', 'INMUSUPR',\n",
              "       'HIPERTENSION', 'OTRA_COM', 'CARDIOVASCULAR', 'OBESIDAD',\n",
              "       'RENAL_CRONICA', 'TABAQUISMO', 'TIEMPO_ESPERA', 'HOSPITALIZADO', 'SEXO',\n",
              "       'SECTOR_ATENDIDO', 'ESTADO', 'ENFERMEDAD_GRAVE', 'FALLECIDO'],\n",
              "      dtype='object')"
            ]
          },
          "metadata": {
            "tags": []
          },
          "execution_count": 5
        }
      ]
    },
    {
      "cell_type": "markdown",
      "metadata": {
        "id": "hQX0oK9vOvId"
      },
      "source": [
        "### Creación de variables dummies (catagóricas)"
      ]
    },
    {
      "cell_type": "code",
      "metadata": {
        "id": "yHZIrXvbO4kw"
      },
      "source": [
        "categories = [\"SEXO\",\"SECTOR_ATENDIDO\",\"ESTADO\"]\n",
        "for cat in categories:\n",
        "  cat_dummies = pd.get_dummies(data[cat], prefix = cat)\n",
        "  data = data.join(cat_dummies)"
      ],
      "execution_count": 6,
      "outputs": []
    },
    {
      "cell_type": "code",
      "metadata": {
        "id": "cfArVpDeQcZB",
        "outputId": "7794a4a0-6a78-445d-c06d-357b8035ed6a",
        "colab": {
          "base_uri": "https://localhost:8080/"
        }
      },
      "source": [
        "data.columns"
      ],
      "execution_count": 7,
      "outputs": [
        {
          "output_type": "execute_result",
          "data": {
            "text/plain": [
              "Index(['EDAD', 'EMBARAZO', 'DIABETES', 'EPOC', 'ASMA', 'INMUSUPR',\n",
              "       'HIPERTENSION', 'OTRA_COM', 'CARDIOVASCULAR', 'OBESIDAD',\n",
              "       'RENAL_CRONICA', 'TABAQUISMO', 'TIEMPO_ESPERA', 'HOSPITALIZADO', 'SEXO',\n",
              "       'SECTOR_ATENDIDO', 'ESTADO', 'ENFERMEDAD_GRAVE', 'FALLECIDO',\n",
              "       'SEXO_HOMBRE', 'SEXO_MUJER', 'SECTOR_ATENDIDO_CRUZ ROJA',\n",
              "       'SECTOR_ATENDIDO_DIF', 'SECTOR_ATENDIDO_ESTATAL',\n",
              "       'SECTOR_ATENDIDO_IMSS', 'SECTOR_ATENDIDO_IMSS-BIENESTAR',\n",
              "       'SECTOR_ATENDIDO_ISSSTE', 'SECTOR_ATENDIDO_MUNICIPAL',\n",
              "       'SECTOR_ATENDIDO_PEMEX', 'SECTOR_ATENDIDO_PRIVADA',\n",
              "       'SECTOR_ATENDIDO_SEDENA', 'SECTOR_ATENDIDO_SEMAR',\n",
              "       'SECTOR_ATENDIDO_SSA', 'SECTOR_ATENDIDO_UNIVERSITARIO', 'ESTADO_AS',\n",
              "       'ESTADO_BC', 'ESTADO_BS', 'ESTADO_CC', 'ESTADO_CH', 'ESTADO_CL',\n",
              "       'ESTADO_CM', 'ESTADO_CS', 'ESTADO_DF', 'ESTADO_DG', 'ESTADO_GR',\n",
              "       'ESTADO_GT', 'ESTADO_HG', 'ESTADO_JC', 'ESTADO_MC', 'ESTADO_MN',\n",
              "       'ESTADO_MS', 'ESTADO_NL', 'ESTADO_NT', 'ESTADO_OC', 'ESTADO_PL',\n",
              "       'ESTADO_QR', 'ESTADO_QT', 'ESTADO_SL', 'ESTADO_SP', 'ESTADO_SR',\n",
              "       'ESTADO_TC', 'ESTADO_TL', 'ESTADO_TS', 'ESTADO_VZ', 'ESTADO_YN',\n",
              "       'ESTADO_ZS'],\n",
              "      dtype='object')"
            ]
          },
          "metadata": {
            "tags": []
          },
          "execution_count": 7
        }
      ]
    },
    {
      "cell_type": "code",
      "metadata": {
        "id": "c4JTG3lCLxyF"
      },
      "source": [
        "# Columnas de las condiciones del paciente ántes de ser atendido por una institución de salud\n",
        "before_columns = ['EDAD', 'EMBARAZO','DIABETES', 'EPOC', 'ASMA', 'INMUSUPR', 'HIPERTENSION', 'OTRA_COM',\n",
        "       'CARDIOVASCULAR', 'OBESIDAD', 'RENAL_CRONICA', 'TABAQUISMO', 'ESTADO_AS','SEXO_HOMBRE', 'SEXO_MUJER',\n",
        "       'ESTADO_BC', 'ESTADO_BS', 'ESTADO_CC', 'ESTADO_CH', 'ESTADO_CL',\n",
        "       'ESTADO_CM', 'ESTADO_CS', 'ESTADO_DF', 'ESTADO_DG', 'ESTADO_GR',\n",
        "       'ESTADO_GT', 'ESTADO_HG', 'ESTADO_JC', 'ESTADO_MC', 'ESTADO_MN',\n",
        "       'ESTADO_MS', 'ESTADO_NL', 'ESTADO_NT', 'ESTADO_OC', 'ESTADO_PL',\n",
        "       'ESTADO_QR', 'ESTADO_QT', 'ESTADO_SL', 'ESTADO_SP', 'ESTADO_SR',\n",
        "       'ESTADO_TC', 'ESTADO_TL', 'ESTADO_TS', 'ESTADO_VZ', 'ESTADO_YN',\n",
        "       'ESTADO_ZS']\n",
        "\n",
        "# Columnas de las condiciones del paciente después de ser atendido por una institución de salud\n",
        "after_columns = ['EDAD', 'EMBARAZO','DIABETES', 'EPOC', 'ASMA', 'INMUSUPR', 'HIPERTENSION', 'OTRA_COM',\n",
        "       'CARDIOVASCULAR', 'OBESIDAD', 'RENAL_CRONICA', 'TABAQUISMO',\n",
        "       'TIEMPO_ESPERA', 'HOSPITALIZADO','SEXO_HOMBRE', 'SEXO_MUJER', 'SECTOR_ATENDIDO_CRUZ ROJA',\n",
        "       'SECTOR_ATENDIDO_DIF', 'SECTOR_ATENDIDO_ESTATAL', 'SECTOR_ATENDIDO_IMSS', 'SECTOR_ATENDIDO_IMSS-BIENESTAR',\n",
        "       'SECTOR_ATENDIDO_ISSSTE', 'SECTOR_ATENDIDO_MUNICIPAL', 'SECTOR_ATENDIDO_PEMEX', 'SECTOR_ATENDIDO_PRIVADA',\n",
        "       'SECTOR_ATENDIDO_SEDENA', 'SECTOR_ATENDIDO_SEMAR', 'SECTOR_ATENDIDO_SSA', 'SECTOR_ATENDIDO_UNIVERSITARIO', 'ESTADO_AS',\n",
        "       'ESTADO_BC', 'ESTADO_BS', 'ESTADO_CC', 'ESTADO_CH', 'ESTADO_CL',\n",
        "       'ESTADO_CM', 'ESTADO_CS', 'ESTADO_DF', 'ESTADO_DG', 'ESTADO_GR',\n",
        "       'ESTADO_GT', 'ESTADO_HG', 'ESTADO_JC', 'ESTADO_MC', 'ESTADO_MN',\n",
        "       'ESTADO_MS', 'ESTADO_NL', 'ESTADO_NT', 'ESTADO_OC', 'ESTADO_PL',\n",
        "       'ESTADO_QR', 'ESTADO_QT', 'ESTADO_SL', 'ESTADO_SP', 'ESTADO_SR',\n",
        "       'ESTADO_TC', 'ESTADO_TL', 'ESTADO_TS', 'ESTADO_VZ', 'ESTADO_YN',\n",
        "       'ESTADO_ZS']\n",
        "\n"
      ],
      "execution_count": 8,
      "outputs": []
    },
    {
      "cell_type": "markdown",
      "metadata": {
        "id": "8iIf_wKDQi2-"
      },
      "source": [
        "## Modelo para condiciones iniciales del paciente\n"
      ]
    },
    {
      "cell_type": "markdown",
      "metadata": {
        "id": "1rnD9p4PQtBO"
      },
      "source": [
        "### Selección de las varianbles"
      ]
    },
    {
      "cell_type": "code",
      "metadata": {
        "id": "_WVDFOKtQwT8",
        "outputId": "b5116482-7265-48e9-9301-3d49db54075b",
        "colab": {
          "base_uri": "https://localhost:8080/"
        }
      },
      "source": [
        "X_before = data[before_columns].copy()\n",
        "Y_deceased = data[\"FALLECIDO\"].copy()\n",
        "len(before_columns)"
      ],
      "execution_count": 9,
      "outputs": [
        {
          "output_type": "execute_result",
          "data": {
            "text/plain": [
              "46"
            ]
          },
          "metadata": {
            "tags": []
          },
          "execution_count": 9
        }
      ]
    },
    {
      "cell_type": "code",
      "metadata": {
        "id": "EyKGPJaBtuwU",
        "outputId": "bc03499f-cda3-4712-fa78-04c039fa66ca",
        "colab": {
          "base_uri": "https://localhost:8080/"
        }
      },
      "source": [
        "data.columns"
      ],
      "execution_count": 10,
      "outputs": [
        {
          "output_type": "execute_result",
          "data": {
            "text/plain": [
              "Index(['EDAD', 'EMBARAZO', 'DIABETES', 'EPOC', 'ASMA', 'INMUSUPR',\n",
              "       'HIPERTENSION', 'OTRA_COM', 'CARDIOVASCULAR', 'OBESIDAD',\n",
              "       'RENAL_CRONICA', 'TABAQUISMO', 'TIEMPO_ESPERA', 'HOSPITALIZADO', 'SEXO',\n",
              "       'SECTOR_ATENDIDO', 'ESTADO', 'ENFERMEDAD_GRAVE', 'FALLECIDO',\n",
              "       'SEXO_HOMBRE', 'SEXO_MUJER', 'SECTOR_ATENDIDO_CRUZ ROJA',\n",
              "       'SECTOR_ATENDIDO_DIF', 'SECTOR_ATENDIDO_ESTATAL',\n",
              "       'SECTOR_ATENDIDO_IMSS', 'SECTOR_ATENDIDO_IMSS-BIENESTAR',\n",
              "       'SECTOR_ATENDIDO_ISSSTE', 'SECTOR_ATENDIDO_MUNICIPAL',\n",
              "       'SECTOR_ATENDIDO_PEMEX', 'SECTOR_ATENDIDO_PRIVADA',\n",
              "       'SECTOR_ATENDIDO_SEDENA', 'SECTOR_ATENDIDO_SEMAR',\n",
              "       'SECTOR_ATENDIDO_SSA', 'SECTOR_ATENDIDO_UNIVERSITARIO', 'ESTADO_AS',\n",
              "       'ESTADO_BC', 'ESTADO_BS', 'ESTADO_CC', 'ESTADO_CH', 'ESTADO_CL',\n",
              "       'ESTADO_CM', 'ESTADO_CS', 'ESTADO_DF', 'ESTADO_DG', 'ESTADO_GR',\n",
              "       'ESTADO_GT', 'ESTADO_HG', 'ESTADO_JC', 'ESTADO_MC', 'ESTADO_MN',\n",
              "       'ESTADO_MS', 'ESTADO_NL', 'ESTADO_NT', 'ESTADO_OC', 'ESTADO_PL',\n",
              "       'ESTADO_QR', 'ESTADO_QT', 'ESTADO_SL', 'ESTADO_SP', 'ESTADO_SR',\n",
              "       'ESTADO_TC', 'ESTADO_TL', 'ESTADO_TS', 'ESTADO_VZ', 'ESTADO_YN',\n",
              "       'ESTADO_ZS'],\n",
              "      dtype='object')"
            ]
          },
          "metadata": {
            "tags": []
          },
          "execution_count": 10
        }
      ]
    },
    {
      "cell_type": "markdown",
      "metadata": {
        "id": "H8hzzn69biqF"
      },
      "source": [
        "Nos quedaremos con la mitad de las variables "
      ]
    },
    {
      "cell_type": "markdown",
      "metadata": {
        "id": "GmauXjYKx8nt"
      },
      "source": [
        "Se utiliza el solver sag porque es más rápido para datasets grandes (en variables y tamaño de la muestra)\n",
        "\n",
        "* [Referencia 1](https://stackoverflow.com/questions/38640109/logistic-regression-python-solvers-defintions)\n",
        "* [Referencia 2](https://rubialesalberto.medium.com/regresi%C3%B3n-log%C3%ADstica-con-sklearn-4384c707075d)"
      ]
    },
    {
      "cell_type": "code",
      "metadata": {
        "id": "M6pE7WAudumb"
      },
      "source": [
        "n = 23\n",
        "lr = linear_model.LogisticRegression(max_iter=200, solver=\"sag\")\n",
        "rfe = RFE(lr,n)\n",
        "rfe = rfe.fit(X_before,Y_deceased)"
      ],
      "execution_count": null,
      "outputs": []
    },
    {
      "cell_type": "code",
      "metadata": {
        "id": "T1mEuuYSeBys"
      },
      "source": [
        "var_included = list(zip(before_columns, rfe.support_, rfe.ranking_))\n",
        "var_included.sort(key = lambda x: x[2])\n",
        "print (tabulate(var_included))"
      ],
      "execution_count": null,
      "outputs": []
    }
  ]
}