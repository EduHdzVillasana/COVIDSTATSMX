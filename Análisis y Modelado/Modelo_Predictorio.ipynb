{
  "nbformat": 4,
  "nbformat_minor": 0,
  "metadata": {
    "colab": {
      "name": "Untitled3.ipynb",
      "provenance": [],
      "mount_file_id": "https://github.com/EduHdzVillasana/COVIDSTATSMX/blob/master/An%C3%A1lisis%20y%20Modelado/Modelo_Predictorio.ipynb",
      "authorship_tag": "ABX9TyPM0nqKM1nHRg7xVZS6qCEH",
      "include_colab_link": true
    },
    "kernelspec": {
      "name": "python3",
      "display_name": "Python 3"
    },
    "language_info": {
      "name": "python"
    },
    "accelerator": "GPU"
  },
  "cells": [
    {
      "cell_type": "markdown",
      "metadata": {
        "id": "view-in-github",
        "colab_type": "text"
      },
      "source": [
        "<a href=\"https://colab.research.google.com/github/EduHdzVillasana/COVIDSTATSMX/blob/master/An%C3%A1lisis%20y%20Modelado/Modelo_Predictorio.ipynb\" target=\"_parent\"><img src=\"https://colab.research.google.com/assets/colab-badge.svg\" alt=\"Open In Colab\"/></a>"
      ]
    },
    {
      "cell_type": "markdown",
      "metadata": {
        "id": "DtqgREQCIXMy"
      },
      "source": [
        "# Creación de modelo para predecir probabilidad de muerte por COVID-19\n",
        "En este notebook se creará un modelo de regresión logística para predecir la probabilidad de muerte de un paciente positivo a sars-cov-2 dadas sus condiciones.\n",
        "\n",
        "También se creará un modelo para predecir la probabilidad de contraer enfermedad grave dadas sus condiciones y así identificar personas vulnerables."
      ]
    },
    {
      "cell_type": "markdown",
      "metadata": {
        "id": "fTahWfDvImrf"
      },
      "source": [
        "## Librerías a utilizar\n"
      ]
    },
    {
      "cell_type": "code",
      "metadata": {
        "id": "r-mxaaOgIsQ-",
        "colab": {
          "base_uri": "https://localhost:8080/"
        },
        "outputId": "68b6489a-f108-4d34-f76c-9ac756cf35b2"
      },
      "source": [
        "import pandas as pd\n",
        "import numpy as np\n",
        "import matplotlib.pyplot as plt\n",
        "import datetime\n",
        "import os\n",
        "\n",
        "# Librerias para la regresión logística\n",
        "import statsmodels.api as sm\n",
        "from sklearn import datasets\n",
        "from sklearn.feature_selection import RFE\n",
        "from tabulate import tabulate\n",
        "from sklearn import linear_model\n",
        "from sklearn import preprocessing\n",
        "\n",
        "# Librerias para la validación del modelo\n",
        "from sklearn.model_selection import train_test_split\n",
        "from sklearn import metrics\n",
        "from sklearn.model_selection import cross_val_score"
      ],
      "execution_count": 1,
      "outputs": [
        {
          "output_type": "stream",
          "text": [
            "/usr/local/lib/python3.7/dist-packages/statsmodels/tools/_testing.py:19: FutureWarning: pandas.util.testing is deprecated. Use the functions in the public API at pandas.testing instead.\n",
            "  import pandas.util.testing as tm\n"
          ],
          "name": "stderr"
        }
      ]
    },
    {
      "cell_type": "code",
      "metadata": {
        "id": "dO-nJZ8_ItA7",
        "colab": {
          "base_uri": "https://localhost:8080/"
        },
        "outputId": "11ee2c16-6c48-4447-9088-c9e014a932d4"
      },
      "source": [
        "mainpath = \"/content/drive/MyDrive/Datos Abiertos\"\n",
        "filepath = \"210401COVID19MEXICO_filtered.csv\"\n",
        "\n",
        "data = pd.read_csv(os.path.join(mainpath, filepath), index_col=0)\n",
        "data.sample(3);"
      ],
      "execution_count": 4,
      "outputs": [
        {
          "output_type": "stream",
          "text": [
            "/usr/local/lib/python3.7/dist-packages/IPython/core/interactiveshell.py:2718: DtypeWarning: Columns (39) have mixed types.Specify dtype option on import or set low_memory=False.\n",
            "  interactivity=interactivity, compiler=compiler, result=result)\n",
            "/usr/local/lib/python3.7/dist-packages/numpy/lib/arraysetops.py:580: FutureWarning: elementwise comparison failed; returning scalar instead, but in the future will perform elementwise comparison\n",
            "  mask |= (ar1 == a)\n"
          ],
          "name": "stderr"
        }
      ]
    },
    {
      "cell_type": "code",
      "metadata": {
        "id": "uMeapIettEae"
      },
      "source": [
        "columns = ['EDAD', 'EMBARAZO','DIABETES', 'EPOC', 'ASMA', 'INMUSUPR', 'HIPERTENSION', 'OTRA_COM',\n",
        "       'CARDIOVASCULAR', 'OBESIDAD', 'RENAL_CRONICA', 'TABAQUISMO',\n",
        "       'TIEMPO_ESPERA', 'HOSPITALIZADO','SEXO_','SECTOR_ATENDIDO','ESTADO','ENFERMEDAD_GRAVE','FALLECIDO']\n",
        "data = data[columns]"
      ],
      "execution_count": 5,
      "outputs": []
    },
    {
      "cell_type": "markdown",
      "metadata": {
        "id": "1ciHyE3XOyR1"
      },
      "source": [
        "## Preparación de datos"
      ]
    },
    {
      "cell_type": "code",
      "metadata": {
        "id": "u84QYkUaPvYB"
      },
      "source": [
        "data = data.rename({\"SEXO_\":\"SEXO\"}, axis = 1)"
      ],
      "execution_count": 6,
      "outputs": []
    },
    {
      "cell_type": "code",
      "metadata": {
        "id": "045quDLyLF88",
        "colab": {
          "base_uri": "https://localhost:8080/"
        },
        "outputId": "c1d8e283-3e57-4de1-d452-dc6bba3c02f0"
      },
      "source": [
        "data.columns"
      ],
      "execution_count": 7,
      "outputs": [
        {
          "output_type": "execute_result",
          "data": {
            "text/plain": [
              "Index(['EDAD', 'EMBARAZO', 'DIABETES', 'EPOC', 'ASMA', 'INMUSUPR',\n",
              "       'HIPERTENSION', 'OTRA_COM', 'CARDIOVASCULAR', 'OBESIDAD',\n",
              "       'RENAL_CRONICA', 'TABAQUISMO', 'TIEMPO_ESPERA', 'HOSPITALIZADO', 'SEXO',\n",
              "       'SECTOR_ATENDIDO', 'ESTADO', 'ENFERMEDAD_GRAVE', 'FALLECIDO'],\n",
              "      dtype='object')"
            ]
          },
          "metadata": {
            "tags": []
          },
          "execution_count": 7
        }
      ]
    },
    {
      "cell_type": "markdown",
      "metadata": {
        "id": "hQX0oK9vOvId"
      },
      "source": [
        "### Creación de variables dummies (catagóricas)"
      ]
    },
    {
      "cell_type": "code",
      "metadata": {
        "id": "yHZIrXvbO4kw"
      },
      "source": [
        "categories = [\"SEXO\",\"SECTOR_ATENDIDO\",\"ESTADO\"]\n",
        "for cat in categories:\n",
        "  cat_dummies = pd.get_dummies(data[cat], prefix = cat)\n",
        "  data = data.join(cat_dummies)"
      ],
      "execution_count": 8,
      "outputs": []
    },
    {
      "cell_type": "code",
      "metadata": {
        "id": "cfArVpDeQcZB",
        "colab": {
          "base_uri": "https://localhost:8080/"
        },
        "outputId": "abd03231-8463-4aea-c4a1-8b1d022065e5"
      },
      "source": [
        "data.columns"
      ],
      "execution_count": 9,
      "outputs": [
        {
          "output_type": "execute_result",
          "data": {
            "text/plain": [
              "Index(['EDAD', 'EMBARAZO', 'DIABETES', 'EPOC', 'ASMA', 'INMUSUPR',\n",
              "       'HIPERTENSION', 'OTRA_COM', 'CARDIOVASCULAR', 'OBESIDAD',\n",
              "       'RENAL_CRONICA', 'TABAQUISMO', 'TIEMPO_ESPERA', 'HOSPITALIZADO', 'SEXO',\n",
              "       'SECTOR_ATENDIDO', 'ESTADO', 'ENFERMEDAD_GRAVE', 'FALLECIDO',\n",
              "       'SEXO_HOMBRE', 'SEXO_MUJER', 'SECTOR_ATENDIDO_CRUZ ROJA',\n",
              "       'SECTOR_ATENDIDO_DIF', 'SECTOR_ATENDIDO_ESTATAL',\n",
              "       'SECTOR_ATENDIDO_IMSS', 'SECTOR_ATENDIDO_IMSS-BIENESTAR',\n",
              "       'SECTOR_ATENDIDO_ISSSTE', 'SECTOR_ATENDIDO_MUNICIPAL',\n",
              "       'SECTOR_ATENDIDO_PEMEX', 'SECTOR_ATENDIDO_PRIVADA',\n",
              "       'SECTOR_ATENDIDO_SEDENA', 'SECTOR_ATENDIDO_SEMAR',\n",
              "       'SECTOR_ATENDIDO_SSA', 'SECTOR_ATENDIDO_UNIVERSITARIO', 'ESTADO_AS',\n",
              "       'ESTADO_BC', 'ESTADO_BS', 'ESTADO_CC', 'ESTADO_CH', 'ESTADO_CL',\n",
              "       'ESTADO_CM', 'ESTADO_CS', 'ESTADO_DF', 'ESTADO_DG', 'ESTADO_GR',\n",
              "       'ESTADO_GT', 'ESTADO_HG', 'ESTADO_JC', 'ESTADO_MC', 'ESTADO_MN',\n",
              "       'ESTADO_MS', 'ESTADO_NL', 'ESTADO_NT', 'ESTADO_OC', 'ESTADO_PL',\n",
              "       'ESTADO_QR', 'ESTADO_QT', 'ESTADO_SL', 'ESTADO_SP', 'ESTADO_SR',\n",
              "       'ESTADO_TC', 'ESTADO_TL', 'ESTADO_TS', 'ESTADO_VZ', 'ESTADO_YN',\n",
              "       'ESTADO_ZS'],\n",
              "      dtype='object')"
            ]
          },
          "metadata": {
            "tags": []
          },
          "execution_count": 9
        }
      ]
    },
    {
      "cell_type": "code",
      "metadata": {
        "id": "c4JTG3lCLxyF"
      },
      "source": [
        "# Columnas de las condiciones del paciente ántes de ser atendido por una institución de salud\n",
        "before_columns = ['EDAD', 'EMBARAZO','DIABETES', 'EPOC', 'ASMA', 'INMUSUPR', 'HIPERTENSION', 'OTRA_COM',\n",
        "       'CARDIOVASCULAR', 'OBESIDAD', 'RENAL_CRONICA', 'TABAQUISMO', 'ESTADO_AS','SEXO_HOMBRE', 'SEXO_MUJER',\n",
        "       'ESTADO_BC', 'ESTADO_BS', 'ESTADO_CC', 'ESTADO_CH', 'ESTADO_CL',\n",
        "       'ESTADO_CM', 'ESTADO_CS', 'ESTADO_DF', 'ESTADO_DG', 'ESTADO_GR',\n",
        "       'ESTADO_GT', 'ESTADO_HG', 'ESTADO_JC', 'ESTADO_MC', 'ESTADO_MN',\n",
        "       'ESTADO_MS', 'ESTADO_NL', 'ESTADO_NT', 'ESTADO_OC', 'ESTADO_PL',\n",
        "       'ESTADO_QR', 'ESTADO_QT', 'ESTADO_SL', 'ESTADO_SP', 'ESTADO_SR',\n",
        "       'ESTADO_TC', 'ESTADO_TL', 'ESTADO_TS', 'ESTADO_VZ', 'ESTADO_YN',\n",
        "       'ESTADO_ZS']\n",
        "\n",
        "# Columnas de las condiciones del paciente después de ser atendido por una institución de salud\n",
        "after_columns = ['EDAD', 'EMBARAZO','DIABETES', 'EPOC', 'ASMA', 'INMUSUPR', 'HIPERTENSION', 'OTRA_COM',\n",
        "       'CARDIOVASCULAR', 'OBESIDAD', 'RENAL_CRONICA', 'TABAQUISMO',\n",
        "       'TIEMPO_ESPERA', 'HOSPITALIZADO','SEXO_HOMBRE', 'SEXO_MUJER', 'SECTOR_ATENDIDO_CRUZ ROJA',\n",
        "       'SECTOR_ATENDIDO_DIF', 'SECTOR_ATENDIDO_ESTATAL', 'SECTOR_ATENDIDO_IMSS', 'SECTOR_ATENDIDO_IMSS-BIENESTAR',\n",
        "       'SECTOR_ATENDIDO_ISSSTE', 'SECTOR_ATENDIDO_MUNICIPAL', 'SECTOR_ATENDIDO_PEMEX', 'SECTOR_ATENDIDO_PRIVADA',\n",
        "       'SECTOR_ATENDIDO_SEDENA', 'SECTOR_ATENDIDO_SEMAR', 'SECTOR_ATENDIDO_SSA', 'SECTOR_ATENDIDO_UNIVERSITARIO', 'ESTADO_AS',\n",
        "       'ESTADO_BC', 'ESTADO_BS', 'ESTADO_CC', 'ESTADO_CH', 'ESTADO_CL',\n",
        "       'ESTADO_CM', 'ESTADO_CS', 'ESTADO_DF', 'ESTADO_DG', 'ESTADO_GR',\n",
        "       'ESTADO_GT', 'ESTADO_HG', 'ESTADO_JC', 'ESTADO_MC', 'ESTADO_MN',\n",
        "       'ESTADO_MS', 'ESTADO_NL', 'ESTADO_NT', 'ESTADO_OC', 'ESTADO_PL',\n",
        "       'ESTADO_QR', 'ESTADO_QT', 'ESTADO_SL', 'ESTADO_SP', 'ESTADO_SR',\n",
        "       'ESTADO_TC', 'ESTADO_TL', 'ESTADO_TS', 'ESTADO_VZ', 'ESTADO_YN',\n",
        "       'ESTADO_ZS']\n",
        "\n"
      ],
      "execution_count": 10,
      "outputs": []
    },
    {
      "cell_type": "markdown",
      "metadata": {
        "id": "UvzFyZlpF_ps"
      },
      "source": [
        "### Eliminación de outlier\n",
        "Se identificó que una columna posiblemente tenga datos atípicos. La columna `TIEMPO_ESPERA`"
      ]
    },
    {
      "cell_type": "code",
      "metadata": {
        "id": "wzziVoLjGR42"
      },
      "source": [
        "def summary(data):\n",
        "  minimo = data.min()\n",
        "  Q1 = data.quantile(0.25)\n",
        "  median = data.median()\n",
        "  mean = data.mean()\n",
        "  Q2 = data.quantile(0.5)\n",
        "  Q3 = data.quantile(0.75)\n",
        "  maximo = data.max()\n",
        "  IQR = Q3 - Q1\n",
        "  resumen = {'minimo': minimo, 'Q1': Q1, 'mediana':median,'Q2':Q2,'Q3':Q3,'max':maximo,'IQR':IQR, 'media':mean}\n",
        "  return resumen"
      ],
      "execution_count": 11,
      "outputs": []
    },
    {
      "cell_type": "code",
      "metadata": {
        "id": "ElbTIyiOGbhy",
        "colab": {
          "base_uri": "https://localhost:8080/"
        },
        "outputId": "ab707134-92a4-47fa-92c2-edad992effc7"
      },
      "source": [
        "print (\"Resumen TIEMPO_ESPERA\")\n",
        "time_summary = summary(data[\"TIEMPO_ESPERA\"])\n",
        "time_summary"
      ],
      "execution_count": 12,
      "outputs": [
        {
          "output_type": "stream",
          "text": [
            "Resumen TIEMPO_ESPERA\n"
          ],
          "name": "stdout"
        },
        {
          "output_type": "execute_result",
          "data": {
            "text/plain": [
              "{'IQR': 4.0,\n",
              " 'Q1': 2.0,\n",
              " 'Q2': 3.0,\n",
              " 'Q3': 6.0,\n",
              " 'max': 174,\n",
              " 'media': 4.076062198742845,\n",
              " 'mediana': 3.0,\n",
              " 'minimo': 0}"
            ]
          },
          "metadata": {
            "tags": []
          },
          "execution_count": 12
        }
      ]
    },
    {
      "cell_type": "code",
      "metadata": {
        "id": "wx1ebHGbGw-k",
        "colab": {
          "base_uri": "https://localhost:8080/",
          "height": 407
        },
        "outputId": "0c0181af-47a8-49d2-e2b2-4a87cf0b5c9b"
      },
      "source": [
        "plt.boxplot(data[\"TIEMPO_ESPERA\"])"
      ],
      "execution_count": 13,
      "outputs": [
        {
          "output_type": "execute_result",
          "data": {
            "text/plain": [
              "{'boxes': [<matplotlib.lines.Line2D at 0x7f9cfa1bbbd0>],\n",
              " 'caps': [<matplotlib.lines.Line2D at 0x7f9cfb73ee10>,\n",
              "  <matplotlib.lines.Line2D at 0x7f9cfb73e8d0>],\n",
              " 'fliers': [<matplotlib.lines.Line2D at 0x7f9cfbca7e50>],\n",
              " 'means': [],\n",
              " 'medians': [<matplotlib.lines.Line2D at 0x7f9cfaaf85d0>],\n",
              " 'whiskers': [<matplotlib.lines.Line2D at 0x7f9cfa1bb550>,\n",
              "  <matplotlib.lines.Line2D at 0x7f9cfb73e450>]}"
            ]
          },
          "metadata": {
            "tags": []
          },
          "execution_count": 13
        },
        {
          "output_type": "display_data",
          "data": {
            "image/png": "[encoded data removed]",
            "text/plain": [
              "<Figure size 432x288 with 1 Axes>"
            ]
          },
          "metadata": {
            "tags": [],
            "needs_background": "light"
          }
        }
      ]
    },
    {
      "cell_type": "code",
      "metadata": {
        "id": "TReM01lWHmkF"
      },
      "source": [
        "data = data[data[\"TIEMPO_ESPERA\"] <= time_summary[\"Q3\"] + 1.5*time_summary[\"IQR\"]]"
      ],
      "execution_count": 14,
      "outputs": []
    },
    {
      "cell_type": "markdown",
      "metadata": {
        "id": "NiILeV3VDmDj"
      },
      "source": [
        "### Normalización de datos numéroicos\n",
        "Se normalizarán las variables de `EDAD` y `TIEMPO_ESPERA`"
      ]
    },
    {
      "cell_type": "code",
      "metadata": {
        "id": "1p5_d-4fEeN9",
        "colab": {
          "base_uri": "https://localhost:8080/"
        },
        "outputId": "99120410-4092-4c99-d76e-a9e99e2ad9a9"
      },
      "source": [
        "data[\"EDAD\"].describe()"
      ],
      "execution_count": 15,
      "outputs": [
        {
          "output_type": "execute_result",
          "data": {
            "text/plain": [
              "count    2.163626e+06\n",
              "mean     4.355414e+01\n",
              "std      1.700503e+01\n",
              "min      0.000000e+00\n",
              "25%      3.000000e+01\n",
              "50%      4.200000e+01\n",
              "75%      5.500000e+01\n",
              "max      1.210000e+02\n",
              "Name: EDAD, dtype: float64"
            ]
          },
          "metadata": {
            "tags": []
          },
          "execution_count": 15
        }
      ]
    },
    {
      "cell_type": "code",
      "metadata": {
        "id": "kbwHGfLeDpG5"
      },
      "source": [
        "scaled = preprocessing.MinMaxScaler()\n",
        "scaled_edad = scaled.fit_transform(data[\"EDAD\"].values.reshape(-1,1))\n",
        "data[\"EDAD\"] = scaled_edad"
      ],
      "execution_count": 16,
      "outputs": []
    },
    {
      "cell_type": "code",
      "metadata": {
        "id": "IUyjGPUMFFQY",
        "colab": {
          "base_uri": "https://localhost:8080/"
        },
        "outputId": "816fb030-11db-4b54-ae57-67b1f848257c"
      },
      "source": [
        "data[\"EDAD\"].describe()"
      ],
      "execution_count": 17,
      "outputs": [
        {
          "output_type": "execute_result",
          "data": {
            "text/plain": [
              "count    2.163626e+06\n",
              "mean     3.599515e-01\n",
              "std      1.405374e-01\n",
              "min      0.000000e+00\n",
              "25%      2.479339e-01\n",
              "50%      3.471074e-01\n",
              "75%      4.545455e-01\n",
              "max      1.000000e+00\n",
              "Name: EDAD, dtype: float64"
            ]
          },
          "metadata": {
            "tags": []
          },
          "execution_count": 17
        }
      ]
    },
    {
      "cell_type": "code",
      "metadata": {
        "id": "6yDI-JJRFV2V",
        "colab": {
          "base_uri": "https://localhost:8080/"
        },
        "outputId": "093c7c8d-0b3c-4327-894f-59b4951279ef"
      },
      "source": [
        "data[\"TIEMPO_ESPERA\"].describe()"
      ],
      "execution_count": 18,
      "outputs": [
        {
          "output_type": "execute_result",
          "data": {
            "text/plain": [
              "count    2.163626e+06\n",
              "mean     3.780447e+00\n",
              "std      2.834329e+00\n",
              "min      0.000000e+00\n",
              "25%      2.000000e+00\n",
              "50%      3.000000e+00\n",
              "75%      6.000000e+00\n",
              "max      1.200000e+01\n",
              "Name: TIEMPO_ESPERA, dtype: float64"
            ]
          },
          "metadata": {
            "tags": []
          },
          "execution_count": 18
        }
      ]
    },
    {
      "cell_type": "code",
      "metadata": {
        "id": "0pTyFNgmFSyi"
      },
      "source": [
        "scaled = preprocessing.MinMaxScaler()\n",
        "scaled_time = scaled.fit_transform(data[\"TIEMPO_ESPERA\"].values.reshape(-1,1))\n",
        "data[\"TIEMPO_ESPERA\"] = scaled_time"
      ],
      "execution_count": 19,
      "outputs": []
    },
    {
      "cell_type": "code",
      "metadata": {
        "id": "GDXFQorQFrc_",
        "colab": {
          "base_uri": "https://localhost:8080/"
        },
        "outputId": "252131c7-0660-4cce-f6f4-cb1f2e9665e5"
      },
      "source": [
        "data[\"TIEMPO_ESPERA\"].describe()"
      ],
      "execution_count": 20,
      "outputs": [
        {
          "output_type": "execute_result",
          "data": {
            "text/plain": [
              "count    2.163626e+06\n",
              "mean     3.150373e-01\n",
              "std      2.361941e-01\n",
              "min      0.000000e+00\n",
              "25%      1.666667e-01\n",
              "50%      2.500000e-01\n",
              "75%      5.000000e-01\n",
              "max      1.000000e+00\n",
              "Name: TIEMPO_ESPERA, dtype: float64"
            ]
          },
          "metadata": {
            "tags": []
          },
          "execution_count": 20
        }
      ]
    },
    {
      "cell_type": "markdown",
      "metadata": {
        "id": "Ownhr2fUj7NU"
      },
      "source": [
        "**Formula Edad Normalizada:**\n",
        "\n",
        "$\\large{E_N=\\frac{E}{121}}$\n",
        "******\n",
        "**Formula Tiempo de espera Normalizado:**\n",
        "\n",
        "$\\large{T_N=\\frac{T}{12}}$"
      ]
    },
    {
      "cell_type": "markdown",
      "metadata": {
        "id": "8iIf_wKDQi2-"
      },
      "source": [
        "## Modelo para condiciones iniciales del paciente\n"
      ]
    },
    {
      "cell_type": "markdown",
      "metadata": {
        "id": "1rnD9p4PQtBO"
      },
      "source": [
        "### Selección de las varianbles"
      ]
    },
    {
      "cell_type": "code",
      "metadata": {
        "id": "_WVDFOKtQwT8",
        "colab": {
          "base_uri": "https://localhost:8080/"
        },
        "outputId": "458de2b8-dfd7-4b7e-e299-1c4578af0bb0"
      },
      "source": [
        "X_before = data[before_columns].copy()\n",
        "Y_deceased = data[\"FALLECIDO\"].copy()\n",
        "len(before_columns)"
      ],
      "execution_count": 21,
      "outputs": [
        {
          "output_type": "execute_result",
          "data": {
            "text/plain": [
              "46"
            ]
          },
          "metadata": {
            "tags": []
          },
          "execution_count": 21
        }
      ]
    },
    {
      "cell_type": "code",
      "metadata": {
        "id": "EyKGPJaBtuwU",
        "colab": {
          "base_uri": "https://localhost:8080/"
        },
        "outputId": "f428a139-a81a-40a5-d102-0dd8302716ee"
      },
      "source": [
        "data.columns"
      ],
      "execution_count": 22,
      "outputs": [
        {
          "output_type": "execute_result",
          "data": {
            "text/plain": [
              "Index(['EDAD', 'EMBARAZO', 'DIABETES', 'EPOC', 'ASMA', 'INMUSUPR',\n",
              "       'HIPERTENSION', 'OTRA_COM', 'CARDIOVASCULAR', 'OBESIDAD',\n",
              "       'RENAL_CRONICA', 'TABAQUISMO', 'TIEMPO_ESPERA', 'HOSPITALIZADO', 'SEXO',\n",
              "       'SECTOR_ATENDIDO', 'ESTADO', 'ENFERMEDAD_GRAVE', 'FALLECIDO',\n",
              "       'SEXO_HOMBRE', 'SEXO_MUJER', 'SECTOR_ATENDIDO_CRUZ ROJA',\n",
              "       'SECTOR_ATENDIDO_DIF', 'SECTOR_ATENDIDO_ESTATAL',\n",
              "       'SECTOR_ATENDIDO_IMSS', 'SECTOR_ATENDIDO_IMSS-BIENESTAR',\n",
              "       'SECTOR_ATENDIDO_ISSSTE', 'SECTOR_ATENDIDO_MUNICIPAL',\n",
              "       'SECTOR_ATENDIDO_PEMEX', 'SECTOR_ATENDIDO_PRIVADA',\n",
              "       'SECTOR_ATENDIDO_SEDENA', 'SECTOR_ATENDIDO_SEMAR',\n",
              "       'SECTOR_ATENDIDO_SSA', 'SECTOR_ATENDIDO_UNIVERSITARIO', 'ESTADO_AS',\n",
              "       'ESTADO_BC', 'ESTADO_BS', 'ESTADO_CC', 'ESTADO_CH', 'ESTADO_CL',\n",
              "       'ESTADO_CM', 'ESTADO_CS', 'ESTADO_DF', 'ESTADO_DG', 'ESTADO_GR',\n",
              "       'ESTADO_GT', 'ESTADO_HG', 'ESTADO_JC', 'ESTADO_MC', 'ESTADO_MN',\n",
              "       'ESTADO_MS', 'ESTADO_NL', 'ESTADO_NT', 'ESTADO_OC', 'ESTADO_PL',\n",
              "       'ESTADO_QR', 'ESTADO_QT', 'ESTADO_SL', 'ESTADO_SP', 'ESTADO_SR',\n",
              "       'ESTADO_TC', 'ESTADO_TL', 'ESTADO_TS', 'ESTADO_VZ', 'ESTADO_YN',\n",
              "       'ESTADO_ZS'],\n",
              "      dtype='object')"
            ]
          },
          "metadata": {
            "tags": []
          },
          "execution_count": 22
        }
      ]
    },
    {
      "cell_type": "markdown",
      "metadata": {
        "id": "H8hzzn69biqF"
      },
      "source": [
        "Nos quedaremos con la mitad de las variables "
      ]
    },
    {
      "cell_type": "markdown",
      "metadata": {
        "id": "GmauXjYKx8nt"
      },
      "source": [
        "Se utiliza el solver sag porque es más rápido para datasets grandes (en variables y tamaño de la muestra)\n",
        "\n",
        "* [Referencia 1](https://stackoverflow.com/questions/38640109/logistic-regression-python-solvers-defintions)\n",
        "* [Referencia 2](https://rubialesalberto.medium.com/regresi%C3%B3n-log%C3%ADstica-con-sklearn-4384c707075d)"
      ]
    },
    {
      "cell_type": "code",
      "metadata": {
        "id": "M6pE7WAudumb"
      },
      "source": [
        "n = 23\n",
        "lr = linear_model.LogisticRegression(solver=\"saga\")\n",
        "rfe = RFE(lr,n)\n",
        "rfe = rfe.fit(X_before,Y_deceased)"
      ],
      "execution_count": null,
      "outputs": []
    },
    {
      "cell_type": "code",
      "metadata": {
        "id": "T1mEuuYSeBys",
        "colab": {
          "base_uri": "https://localhost:8080/"
        },
        "outputId": "1e04fe53-a2ba-45d9-870e-c9f55bbd1946"
      },
      "source": [
        "var_included = list(zip(before_columns, rfe.support_, rfe.ranking_))\n",
        "var_included.sort(key = lambda x: x[2])\n",
        "print (tabulate(var_included))"
      ],
      "execution_count": null,
      "outputs": [
        {
          "output_type": "stream",
          "text": [
            "--------------  -  --\n",
            "EDAD            1   1\n",
            "DIABETES        1   1\n",
            "INMUSUPR        1   1\n",
            "HIPERTENSION    1   1\n",
            "OTRA_COM        1   1\n",
            "OBESIDAD        1   1\n",
            "RENAL_CRONICA   1   1\n",
            "SEXO_HOMBRE     1   1\n",
            "SEXO_MUJER      1   1\n",
            "ESTADO_BC       1   1\n",
            "ESTADO_BS       1   1\n",
            "ESTADO_CH       1   1\n",
            "ESTADO_CS       1   1\n",
            "ESTADO_DF       1   1\n",
            "ESTADO_HG       1   1\n",
            "ESTADO_MC       1   1\n",
            "ESTADO_NT       1   1\n",
            "ESTADO_PL       1   1\n",
            "ESTADO_QR       1   1\n",
            "ESTADO_SL       1   1\n",
            "ESTADO_TC       1   1\n",
            "ESTADO_TL       1   1\n",
            "ESTADO_VZ       1   1\n",
            "ESTADO_OC       0   2\n",
            "ESTADO_QT       0   3\n",
            "ESTADO_NL       0   4\n",
            "ESTADO_DG       0   5\n",
            "ESTADO_SP       0   6\n",
            "ESTADO_GT       0   7\n",
            "ESTADO_SR       0   8\n",
            "ESTADO_MS       0   9\n",
            "EPOC            0  10\n",
            "ESTADO_CC       0  11\n",
            "ASMA            0  12\n",
            "ESTADO_TS       0  13\n",
            "ESTADO_ZS       0  14\n",
            "ESTADO_AS       0  15\n",
            "ESTADO_GR       0  16\n",
            "TABAQUISMO      0  17\n",
            "ESTADO_JC       0  18\n",
            "EMBARAZO        0  19\n",
            "ESTADO_CL       0  20\n",
            "ESTADO_MN       0  21\n",
            "ESTADO_CM       0  22\n",
            "ESTADO_YN       0  23\n",
            "CARDIOVASCULAR  0  24\n",
            "--------------  -  --\n"
          ],
          "name": "stdout"
        }
      ]
    },
    {
      "cell_type": "markdown",
      "metadata": {
        "id": "7NFuCeqs2twL"
      },
      "source": [
        "#### Variables escogidas"
      ]
    },
    {
      "cell_type": "code",
      "metadata": {
        "id": "q7c5MRECwwiT"
      },
      "source": [
        "before_columns = ['EDAD', 'DIABETES', 'INMUSUPR', 'HIPERTENSION', 'OTRA_COM', 'OBESIDAD', 'RENAL_CRONICA', 'SEXO_HOMBRE', 'SEXO_MUJER',\n",
        " 'ESTADO_BC', 'ESTADO_BS', 'ESTADO_CH', 'ESTADO_CS', 'ESTADO_DF', 'ESTADO_HG', 'ESTADO_MC', 'ESTADO_NT', 'ESTADO_PL', 'ESTADO_QR',\n",
        " 'ESTADO_SL', 'ESTADO_TC', 'ESTADO_TL', 'ESTADO_VZ']"
      ],
      "execution_count": 23,
      "outputs": []
    },
    {
      "cell_type": "code",
      "metadata": {
        "id": "88xogyN01ueO",
        "colab": {
          "base_uri": "https://localhost:8080/"
        },
        "outputId": "b97782b2-5e05-4748-cc9b-25b3768b23a6"
      },
      "source": [
        "#before_columns = [v[0] for v in var_included if v[1] == True]\n",
        "before_columns"
      ],
      "execution_count": 24,
      "outputs": [
        {
          "output_type": "execute_result",
          "data": {
            "text/plain": [
              "['EDAD',\n",
              " 'DIABETES',\n",
              " 'INMUSUPR',\n",
              " 'HIPERTENSION',\n",
              " 'OTRA_COM',\n",
              " 'OBESIDAD',\n",
              " 'RENAL_CRONICA',\n",
              " 'SEXO_HOMBRE',\n",
              " 'SEXO_MUJER',\n",
              " 'ESTADO_BC',\n",
              " 'ESTADO_BS',\n",
              " 'ESTADO_CH',\n",
              " 'ESTADO_CS',\n",
              " 'ESTADO_DF',\n",
              " 'ESTADO_HG',\n",
              " 'ESTADO_MC',\n",
              " 'ESTADO_NT',\n",
              " 'ESTADO_PL',\n",
              " 'ESTADO_QR',\n",
              " 'ESTADO_SL',\n",
              " 'ESTADO_TC',\n",
              " 'ESTADO_TL',\n",
              " 'ESTADO_VZ']"
            ]
          },
          "metadata": {
            "tags": []
          },
          "execution_count": 24
        }
      ]
    },
    {
      "cell_type": "markdown",
      "metadata": {
        "id": "ToDvQYCX2mJl"
      },
      "source": [
        "### Separación de datasets para entrenamiento y prueba"
      ]
    },
    {
      "cell_type": "code",
      "metadata": {
        "id": "1L6nsuNr3AbC"
      },
      "source": [
        "X_before = data[before_columns].copy()"
      ],
      "execution_count": 25,
      "outputs": []
    },
    {
      "cell_type": "code",
      "metadata": {
        "id": "SZxrtRRE3Hig"
      },
      "source": [
        "X_train, X_test, Y_train, Y_test = train_test_split(X_before, Y_deceased, test_size = 0.3, random_state = 442021)"
      ],
      "execution_count": 26,
      "outputs": []
    },
    {
      "cell_type": "markdown",
      "metadata": {
        "id": "9PYwDn83334a"
      },
      "source": [
        "### Creación de modelo de regresión logística"
      ]
    },
    {
      "cell_type": "code",
      "metadata": {
        "id": "AII5AAOM4EnG",
        "colab": {
          "base_uri": "https://localhost:8080/"
        },
        "outputId": "6e2832c2-909f-491d-91b3-9a7c0bff2dc0"
      },
      "source": [
        "lm_before = linear_model.LogisticRegression(solver=\"saga\")\n",
        "lm_before.fit(X_train,Y_train)"
      ],
      "execution_count": 27,
      "outputs": [
        {
          "output_type": "execute_result",
          "data": {
            "text/plain": [
              "LogisticRegression(C=1.0, class_weight=None, dual=False, fit_intercept=True,\n",
              "                   intercept_scaling=1, l1_ratio=None, max_iter=100,\n",
              "                   multi_class='auto', n_jobs=None, penalty='l2',\n",
              "                   random_state=None, solver='saga', tol=0.0001, verbose=0,\n",
              "                   warm_start=False)"
            ]
          },
          "metadata": {
            "tags": []
          },
          "execution_count": 27
        }
      ]
    },
    {
      "cell_type": "code",
      "metadata": {
        "id": "uGYOVkRG75rt",
        "colab": {
          "base_uri": "https://localhost:8080/"
        },
        "outputId": "24e4bad7-87f5-4922-90fc-924a82be5631"
      },
      "source": [
        "lm_before.score(X_test, Y_test)"
      ],
      "execution_count": 28,
      "outputs": [
        {
          "output_type": "execute_result",
          "data": {
            "text/plain": [
              "0.9143613808913429"
            ]
          },
          "metadata": {
            "tags": []
          },
          "execution_count": 28
        }
      ]
    },
    {
      "cell_type": "code",
      "metadata": {
        "id": "mRs547Gb82tv",
        "colab": {
          "base_uri": "https://localhost:8080/"
        },
        "outputId": "1ae35bf8-903d-498d-bb06-bbe5590a6132"
      },
      "source": [
        "lm_before.score(X_before,Y_deceased)"
      ],
      "execution_count": 29,
      "outputs": [
        {
          "output_type": "execute_result",
          "data": {
            "text/plain": [
              "0.9141598409336918"
            ]
          },
          "metadata": {
            "tags": []
          },
          "execution_count": 29
        }
      ]
    },
    {
      "cell_type": "code",
      "metadata": {
        "id": "M7l92hdD_XOA",
        "colab": {
          "base_uri": "https://localhost:8080/"
        },
        "outputId": "763da22c-7438-4420-d1d7-147cd4ae4e2f"
      },
      "source": [
        "lm_before.intercept_"
      ],
      "execution_count": 30,
      "outputs": [
        {
          "output_type": "execute_result",
          "data": {
            "text/plain": [
              "array([-6.83220873])"
            ]
          },
          "metadata": {
            "tags": []
          },
          "execution_count": 30
        }
      ]
    },
    {
      "cell_type": "code",
      "metadata": {
        "id": "-7V7rOrC7-ql",
        "colab": {
          "base_uri": "https://localhost:8080/"
        },
        "outputId": "3ca55c68-5663-4d52-a238-53f7b82de7cf"
      },
      "source": [
        "params = list(zip(X_before.columns, np.transpose(lm_before.coef_)))\n",
        "params.append((\"INTERCEPCION\", lm_before.intercept_))\n",
        "print(tabulate(params))"
      ],
      "execution_count": 31,
      "outputs": [
        {
          "output_type": "stream",
          "text": [
            "-------------  ---------\n",
            "EDAD            9.22962\n",
            "DIABETES        0.553748\n",
            "INMUSUPR        0.468485\n",
            "HIPERTENSION    0.271243\n",
            "OTRA_COM        0.708996\n",
            "OBESIDAD        0.492743\n",
            "RENAL_CRONICA   1.15805\n",
            "SEXO_HOMBRE     0.301037\n",
            "SEXO_MUJER     -0.317381\n",
            "ESTADO_BC       0.636111\n",
            "ESTADO_BS      -0.479857\n",
            "ESTADO_CH       0.39717\n",
            "ESTADO_CS       0.421029\n",
            "ESTADO_DF      -0.395616\n",
            "ESTADO_HG       0.706101\n",
            "ESTADO_MC       0.879911\n",
            "ESTADO_NT       0.39637\n",
            "ESTADO_PL       0.401868\n",
            "ESTADO_QR       0.498683\n",
            "ESTADO_SL       0.459068\n",
            "ESTADO_TC      -0.349068\n",
            "ESTADO_TL       0.54112\n",
            "ESTADO_VZ       0.512763\n",
            "INTERCEPCION   -6.83221\n",
            "-------------  ---------\n"
          ],
          "name": "stdout"
        }
      ]
    },
    {
      "cell_type": "code",
      "metadata": {
        "id": "E9RycG4RAEZe"
      },
      "source": [
        "probs = lm_before.predict_proba(X_test)"
      ],
      "execution_count": 32,
      "outputs": []
    },
    {
      "cell_type": "code",
      "metadata": {
        "id": "ySjSflIrAPoF",
        "colab": {
          "base_uri": "https://localhost:8080/"
        },
        "outputId": "18ce63a7-2d91-4924-8eac-183d9c369e97"
      },
      "source": [
        "ps = []\n",
        "for p in probs:\n",
        "  ps.append(p[1]) # La columna 0 del array contiene la prob de que el evento 0 ocurra, lo mismo para la 1\n",
        "ps[0:5]"
      ],
      "execution_count": 33,
      "outputs": [
        {
          "output_type": "execute_result",
          "data": {
            "text/plain": [
              "[0.019490890747932924,\n",
              " 0.0019296566588356944,\n",
              " 0.041382834956198426,\n",
              " 0.0038810739082932883,\n",
              " 0.004874160979220878]"
            ]
          },
          "metadata": {
            "tags": []
          },
          "execution_count": 33
        }
      ]
    },
    {
      "cell_type": "markdown",
      "metadata": {
        "id": "Ff5r1Q5WCX4n"
      },
      "source": [
        "### Validación del modelo\n",
        "No se usarán Matrices de Confusión ni curvas ROC por que el objetivo no es clasificar, si no obtener un modelo para predecir la probabilidad de muerte."
      ]
    },
    {
      "cell_type": "code",
      "metadata": {
        "id": "FidwUWpTCCoB"
      },
      "source": [
        "prediction = lm_before.predict(X_test)"
      ],
      "execution_count": 34,
      "outputs": []
    },
    {
      "cell_type": "code",
      "metadata": {
        "id": "QAfeHqlKCgWK",
        "colab": {
          "base_uri": "https://localhost:8080/"
        },
        "outputId": "fca4cff2-3cef-4e96-af3a-637723287978"
      },
      "source": [
        "metrics.accuracy_score(Y_test,prediction)"
      ],
      "execution_count": 35,
      "outputs": [
        {
          "output_type": "execute_result",
          "data": {
            "text/plain": [
              "0.9143613808913429"
            ]
          },
          "metadata": {
            "tags": []
          },
          "execution_count": 35
        }
      ]
    },
    {
      "cell_type": "markdown",
      "metadata": {
        "id": "VjBBwLmUCnYR"
      },
      "source": [
        "#### Validación Cruzada"
      ]
    },
    {
      "cell_type": "code",
      "metadata": {
        "id": "ToT-BEppC_99"
      },
      "source": [
        "scores = cross_val_score(linear_model.LogisticRegression(solver=\"saga\"), X_before, Y_deceased, scoring = \"accuracy\", cv = 10)\n",
        "# Toma 11 minutos"
      ],
      "execution_count": 36,
      "outputs": []
    },
    {
      "cell_type": "code",
      "metadata": {
        "id": "DNf-LBj8DRah",
        "colab": {
          "base_uri": "https://localhost:8080/"
        },
        "outputId": "a71209f2-33fa-4c44-aa2d-84f1090278fc"
      },
      "source": [
        "scores "
      ],
      "execution_count": 37,
      "outputs": [
        {
          "output_type": "execute_result",
          "data": {
            "text/plain": [
              "array([0.9142321 , 0.91483294, 0.91163461, 0.84640165, 0.48261949,\n",
              "       0.77533589, 0.69945739, 0.90708165, 0.79067951, 0.91382036])"
            ]
          },
          "metadata": {
            "tags": []
          },
          "execution_count": 37
        }
      ]
    },
    {
      "cell_type": "code",
      "metadata": {
        "id": "kyVTFkntDS74",
        "colab": {
          "base_uri": "https://localhost:8080/"
        },
        "outputId": "6601b7c4-8496-4431-c1b7-58fa830b66d4"
      },
      "source": [
        "scores.mean()"
      ],
      "execution_count": 38,
      "outputs": [
        {
          "output_type": "execute_result",
          "data": {
            "text/plain": [
              "0.815609559415846"
            ]
          },
          "metadata": {
            "tags": []
          },
          "execution_count": 38
        }
      ]
    },
    {
      "cell_type": "markdown",
      "metadata": {
        "id": "Y1jUTrRb23J2"
      },
      "source": [
        "### Exportación de modelo\n"
      ]
    },
    {
      "cell_type": "code",
      "metadata": {
        "id": "oQPFrTWq3Tkf"
      },
      "source": [
        "import pickle"
      ],
      "execution_count": 40,
      "outputs": []
    },
    {
      "cell_type": "code",
      "metadata": {
        "id": "bpc3pSZW3MQi"
      },
      "source": [
        "mainpath = \"/content/drive/MyDrive/Modelos\"\n",
        "filename = \"LR_before.sav\""
      ],
      "execution_count": 39,
      "outputs": []
    },
    {
      "cell_type": "code",
      "metadata": {
        "id": "T57YeqOj3SXC"
      },
      "source": [
        "pickle.dump(lm_before, open(os.path.join(mainpath,filename),'wb'))"
      ],
      "execution_count": 42,
      "outputs": []
    },
    {
      "cell_type": "code",
      "metadata": {
        "id": "HI9ZNaz73mg2"
      },
      "source": [
        "# Prueba de modelo guardad\n",
        "loaded_model = pickle.load( open(os.path.join(mainpath,filename),'rb'))"
      ],
      "execution_count": 43,
      "outputs": []
    },
    {
      "cell_type": "code",
      "metadata": {
        "id": "MTHfw5yD39IC",
        "outputId": "aa063454-a66f-4a85-b244-80f3ad0164f9",
        "colab": {
          "base_uri": "https://localhost:8080/"
        }
      },
      "source": [
        "loaded_model"
      ],
      "execution_count": 46,
      "outputs": [
        {
          "output_type": "execute_result",
          "data": {
            "text/plain": [
              "LogisticRegression(C=1.0, class_weight=None, dual=False, fit_intercept=True,\n",
              "                   intercept_scaling=1, l1_ratio=None, max_iter=100,\n",
              "                   multi_class='auto', n_jobs=None, penalty='l2',\n",
              "                   random_state=None, solver='saga', tol=0.0001, verbose=0,\n",
              "                   warm_start=False)"
            ]
          },
          "metadata": {
            "tags": []
          },
          "execution_count": 46
        }
      ]
    },
    {
      "cell_type": "code",
      "metadata": {
        "id": "AydmEcFL4L7E",
        "outputId": "653e3848-e409-4e59-8eaa-4545a3e803aa",
        "colab": {
          "base_uri": "https://localhost:8080/"
        }
      },
      "source": [
        "params = list(zip(X_before.columns, np.transpose(loaded_model.coef_)))\n",
        "params.append((\"INTERCEPCION\", loaded_model.intercept_))\n",
        "print(tabulate(params))"
      ],
      "execution_count": 47,
      "outputs": [
        {
          "output_type": "stream",
          "text": [
            "-------------  ---------\n",
            "EDAD            9.22962\n",
            "DIABETES        0.553748\n",
            "INMUSUPR        0.468485\n",
            "HIPERTENSION    0.271243\n",
            "OTRA_COM        0.708996\n",
            "OBESIDAD        0.492743\n",
            "RENAL_CRONICA   1.15805\n",
            "SEXO_HOMBRE     0.301037\n",
            "SEXO_MUJER     -0.317381\n",
            "ESTADO_BC       0.636111\n",
            "ESTADO_BS      -0.479857\n",
            "ESTADO_CH       0.39717\n",
            "ESTADO_CS       0.421029\n",
            "ESTADO_DF      -0.395616\n",
            "ESTADO_HG       0.706101\n",
            "ESTADO_MC       0.879911\n",
            "ESTADO_NT       0.39637\n",
            "ESTADO_PL       0.401868\n",
            "ESTADO_QR       0.498683\n",
            "ESTADO_SL       0.459068\n",
            "ESTADO_TC      -0.349068\n",
            "ESTADO_TL       0.54112\n",
            "ESTADO_VZ       0.512763\n",
            "INTERCEPCION   -6.83221\n",
            "-------------  ---------\n"
          ],
          "name": "stdout"
        }
      ]
    },
    {
      "cell_type": "markdown",
      "metadata": {
        "id": "mKXirf9A4V2e"
      },
      "source": [
        "## Modelo para condiciones post valoración médica.\n",
        "Se agregan tres variables.\n",
        "* `TIEMPO_ESPERA`: Mide el tiempo que pasó entre el inicio de los sintomas y el ingreso al sector médico\n",
        "* `HOSPITALIZADO`: Indica si el paciente fue hospitalizado o su atención fue ambulatoria.\n",
        "* `SEXTOR`: Variable categórica que indica el sector de salud que atendió al paciente."
      ]
    },
    {
      "cell_type": "markdown",
      "metadata": {
        "id": "b81mYuur5Ujc"
      },
      "source": [
        "### Selección de las variables"
      ]
    },
    {
      "cell_type": "code",
      "metadata": {
        "id": "ftJQNxVY5ZsS",
        "outputId": "11f32a40-b887-4a21-baa0-85e971da5477",
        "colab": {
          "base_uri": "https://localhost:8080/"
        }
      },
      "source": [
        "X_after = data[after_columns].copy()\n",
        "Y_deceased = data[\"FALLECIDO\"].copy()\n",
        "len(after_columns)"
      ],
      "execution_count": 48,
      "outputs": [
        {
          "output_type": "execute_result",
          "data": {
            "text/plain": [
              "61"
            ]
          },
          "metadata": {
            "tags": []
          },
          "execution_count": 48
        }
      ]
    },
    {
      "cell_type": "code",
      "metadata": {
        "id": "YxTxBsUO50ZP",
        "outputId": "ce4b70a3-afe3-40ed-e4ca-96a2b0b519ad",
        "colab": {
          "base_uri": "https://localhost:8080/"
        }
      },
      "source": [
        "X_after.columns"
      ],
      "execution_count": 50,
      "outputs": [
        {
          "output_type": "execute_result",
          "data": {
            "text/plain": [
              "Index(['EDAD', 'EMBARAZO', 'DIABETES', 'EPOC', 'ASMA', 'INMUSUPR',\n",
              "       'HIPERTENSION', 'OTRA_COM', 'CARDIOVASCULAR', 'OBESIDAD',\n",
              "       'RENAL_CRONICA', 'TABAQUISMO', 'TIEMPO_ESPERA', 'HOSPITALIZADO',\n",
              "       'SEXO_HOMBRE', 'SEXO_MUJER', 'SECTOR_ATENDIDO_CRUZ ROJA',\n",
              "       'SECTOR_ATENDIDO_DIF', 'SECTOR_ATENDIDO_ESTATAL',\n",
              "       'SECTOR_ATENDIDO_IMSS', 'SECTOR_ATENDIDO_IMSS-BIENESTAR',\n",
              "       'SECTOR_ATENDIDO_ISSSTE', 'SECTOR_ATENDIDO_MUNICIPAL',\n",
              "       'SECTOR_ATENDIDO_PEMEX', 'SECTOR_ATENDIDO_PRIVADA',\n",
              "       'SECTOR_ATENDIDO_SEDENA', 'SECTOR_ATENDIDO_SEMAR',\n",
              "       'SECTOR_ATENDIDO_SSA', 'SECTOR_ATENDIDO_UNIVERSITARIO', 'ESTADO_AS',\n",
              "       'ESTADO_BC', 'ESTADO_BS', 'ESTADO_CC', 'ESTADO_CH', 'ESTADO_CL',\n",
              "       'ESTADO_CM', 'ESTADO_CS', 'ESTADO_DF', 'ESTADO_DG', 'ESTADO_GR',\n",
              "       'ESTADO_GT', 'ESTADO_HG', 'ESTADO_JC', 'ESTADO_MC', 'ESTADO_MN',\n",
              "       'ESTADO_MS', 'ESTADO_NL', 'ESTADO_NT', 'ESTADO_OC', 'ESTADO_PL',\n",
              "       'ESTADO_QR', 'ESTADO_QT', 'ESTADO_SL', 'ESTADO_SP', 'ESTADO_SR',\n",
              "       'ESTADO_TC', 'ESTADO_TL', 'ESTADO_TS', 'ESTADO_VZ', 'ESTADO_YN',\n",
              "       'ESTADO_ZS'],\n",
              "      dtype='object')"
            ]
          },
          "metadata": {
            "tags": []
          },
          "execution_count": 50
        }
      ]
    }
  ]
}