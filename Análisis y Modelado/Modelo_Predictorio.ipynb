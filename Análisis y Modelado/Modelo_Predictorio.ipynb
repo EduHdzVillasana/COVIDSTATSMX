{
  "nbformat": 4,
  "nbformat_minor": 0,
  "metadata": {
    "colab": {
      "name": "Untitled3.ipynb",
      "provenance": [],
      "toc_visible": true,
      "mount_file_id": "https://github.com/EduHdzVillasana/COVIDSTATSMX/blob/master/An%C3%A1lisis%20y%20Modelado/Modelo_Predictorio.ipynb",
      "authorship_tag": "ABX9TyMFYnN5H0kUJe/PhWr9U0Vx",
      "include_colab_link": true
    },
    "kernelspec": {
      "name": "python3",
      "display_name": "Python 3"
    },
    "language_info": {
      "name": "python"
    }
  },
  "cells": [
    {
      "cell_type": "markdown",
      "metadata": {
        "id": "view-in-github",
        "colab_type": "text"
      },
      "source": [
        "<a href=\"https://colab.research.google.com/github/EduHdzVillasana/COVIDSTATSMX/blob/master/An%C3%A1lisis%20y%20Modelado/Modelo_Predictorio.ipynb\" target=\"_parent\"><img src=\"https://colab.research.google.com/assets/colab-badge.svg\" alt=\"Open In Colab\"/></a>"
      ]
    },
    {
      "cell_type": "markdown",
      "metadata": {
        "id": "DtqgREQCIXMy"
      },
      "source": [
        "# Creación de modelo para predecir probabilidad de muerte por COVID-19\n",
        "En este notebook se creará un modelo de regresión logística para predecir la probabilidad de muerte de un paciente positivo a sars-cov-2 dadas sus condiciones.\n",
        "\n",
        "También se creará un modelo para predecir la probabilidad de contraer enfermedad grave dadas sus condiciones y así identificar personas vulnerables."
      ]
    },
    {
      "cell_type": "markdown",
      "metadata": {
        "id": "fTahWfDvImrf"
      },
      "source": [
        "## Librerías a utilizar\n"
      ]
    },
    {
      "cell_type": "code",
      "metadata": {
        "id": "r-mxaaOgIsQ-",
        "colab": {
          "base_uri": "https://localhost:8080/"
        },
        "outputId": "f13e9e71-a18a-4647-d32f-d37f2a5f1f62"
      },
      "source": [
        "import pandas as pd\n",
        "import numpy as np\n",
        "import matplotlib.pyplot as plt\n",
        "import datetime\n",
        "import os\n",
        "\n",
        "# Librerias para la regresión logística\n",
        "import statsmodels.api as sm\n",
        "from sklearn import datasets\n",
        "from sklearn.feature_selection import RFE\n",
        "from tabulate import tabulate\n",
        "from sklearn import linear_model\n",
        "from sklearn import preprocessing\n",
        "\n",
        "# Librerias para la validación del modelo\n",
        "from sklearn.model_selection import train_test_split\n",
        "from sklearn import metrics\n",
        "from sklearn.model_selection import cross_val_score"
      ],
      "execution_count": 1,
      "outputs": [
        {
          "output_type": "stream",
          "text": [
            "/usr/local/lib/python3.7/dist-packages/statsmodels/tools/_testing.py:19: FutureWarning: pandas.util.testing is deprecated. Use the functions in the public API at pandas.testing instead.\n",
            "  import pandas.util.testing as tm\n"
          ],
          "name": "stderr"
        }
      ]
    },
    {
      "cell_type": "code",
      "metadata": {
        "id": "dO-nJZ8_ItA7",
        "colab": {
          "base_uri": "https://localhost:8080/"
        },
        "outputId": "591f10cf-cbc9-4a33-a21f-7df3f6c765e7"
      },
      "source": [
        "mainpath = \"/content/drive/MyDrive/Datos Abiertos\"\n",
        "filepath = \"210401COVID19MEXICO_filtered.csv\"\n",
        "\n",
        "data = pd.read_csv(os.path.join(mainpath, filepath), index_col=0)\n",
        "data.sample(3);"
      ],
      "execution_count": 2,
      "outputs": [
        {
          "output_type": "stream",
          "text": [
            "/usr/local/lib/python3.7/dist-packages/IPython/core/interactiveshell.py:2718: DtypeWarning: Columns (39) have mixed types.Specify dtype option on import or set low_memory=False.\n",
            "  interactivity=interactivity, compiler=compiler, result=result)\n",
            "/usr/local/lib/python3.7/dist-packages/numpy/lib/arraysetops.py:580: FutureWarning: elementwise comparison failed; returning scalar instead, but in the future will perform elementwise comparison\n",
            "  mask |= (ar1 == a)\n"
          ],
          "name": "stderr"
        }
      ]
    },
    {
      "cell_type": "code",
      "metadata": {
        "id": "uMeapIettEae"
      },
      "source": [
        "columns = ['EDAD', 'EMBARAZO','DIABETES', 'EPOC', 'ASMA', 'INMUSUPR', 'HIPERTENSION', 'OTRA_COM',\n",
        "       'CARDIOVASCULAR', 'OBESIDAD', 'RENAL_CRONICA', 'TABAQUISMO',\n",
        "       'TIEMPO_ESPERA', 'HOSPITALIZADO','SEXO_','SECTOR_ATENDIDO','ESTADO','ENFERMEDAD_GRAVE','FALLECIDO']\n",
        "data = data[columns]"
      ],
      "execution_count": 3,
      "outputs": []
    },
    {
      "cell_type": "markdown",
      "metadata": {
        "id": "1ciHyE3XOyR1"
      },
      "source": [
        "## Preparación de datos"
      ]
    },
    {
      "cell_type": "code",
      "metadata": {
        "id": "u84QYkUaPvYB"
      },
      "source": [
        "data = data.rename({\"SEXO_\":\"SEXO\"}, axis = 1)"
      ],
      "execution_count": 4,
      "outputs": []
    },
    {
      "cell_type": "code",
      "metadata": {
        "id": "045quDLyLF88",
        "colab": {
          "base_uri": "https://localhost:8080/"
        },
        "outputId": "97fd2dc3-f0ce-4f9a-fdaa-8a1ea3124680"
      },
      "source": [
        "data.columns"
      ],
      "execution_count": 5,
      "outputs": [
        {
          "output_type": "execute_result",
          "data": {
            "text/plain": [
              "Index(['EDAD', 'EMBARAZO', 'DIABETES', 'EPOC', 'ASMA', 'INMUSUPR',\n",
              "       'HIPERTENSION', 'OTRA_COM', 'CARDIOVASCULAR', 'OBESIDAD',\n",
              "       'RENAL_CRONICA', 'TABAQUISMO', 'TIEMPO_ESPERA', 'HOSPITALIZADO', 'SEXO',\n",
              "       'SECTOR_ATENDIDO', 'ESTADO', 'ENFERMEDAD_GRAVE', 'FALLECIDO'],\n",
              "      dtype='object')"
            ]
          },
          "metadata": {
            "tags": []
          },
          "execution_count": 5
        }
      ]
    },
    {
      "cell_type": "markdown",
      "metadata": {
        "id": "hQX0oK9vOvId"
      },
      "source": [
        "### Creación de variables dummies (catagóricas)"
      ]
    },
    {
      "cell_type": "code",
      "metadata": {
        "id": "yHZIrXvbO4kw"
      },
      "source": [
        "categories = [\"SEXO\",\"SECTOR_ATENDIDO\",\"ESTADO\"]\n",
        "for cat in categories:\n",
        "  cat_dummies = pd.get_dummies(data[cat], prefix = cat)\n",
        "  data = data.join(cat_dummies)"
      ],
      "execution_count": 6,
      "outputs": []
    },
    {
      "cell_type": "code",
      "metadata": {
        "id": "cfArVpDeQcZB",
        "colab": {
          "base_uri": "https://localhost:8080/"
        },
        "outputId": "6472934e-1a38-4385-84da-d239a668d454"
      },
      "source": [
        "data.columns"
      ],
      "execution_count": 7,
      "outputs": [
        {
          "output_type": "execute_result",
          "data": {
            "text/plain": [
              "Index(['EDAD', 'EMBARAZO', 'DIABETES', 'EPOC', 'ASMA', 'INMUSUPR',\n",
              "       'HIPERTENSION', 'OTRA_COM', 'CARDIOVASCULAR', 'OBESIDAD',\n",
              "       'RENAL_CRONICA', 'TABAQUISMO', 'TIEMPO_ESPERA', 'HOSPITALIZADO', 'SEXO',\n",
              "       'SECTOR_ATENDIDO', 'ESTADO', 'ENFERMEDAD_GRAVE', 'FALLECIDO',\n",
              "       'SEXO_HOMBRE', 'SEXO_MUJER', 'SECTOR_ATENDIDO_CRUZ ROJA',\n",
              "       'SECTOR_ATENDIDO_DIF', 'SECTOR_ATENDIDO_ESTATAL',\n",
              "       'SECTOR_ATENDIDO_IMSS', 'SECTOR_ATENDIDO_IMSS-BIENESTAR',\n",
              "       'SECTOR_ATENDIDO_ISSSTE', 'SECTOR_ATENDIDO_MUNICIPAL',\n",
              "       'SECTOR_ATENDIDO_PEMEX', 'SECTOR_ATENDIDO_PRIVADA',\n",
              "       'SECTOR_ATENDIDO_SEDENA', 'SECTOR_ATENDIDO_SEMAR',\n",
              "       'SECTOR_ATENDIDO_SSA', 'SECTOR_ATENDIDO_UNIVERSITARIO', 'ESTADO_AS',\n",
              "       'ESTADO_BC', 'ESTADO_BS', 'ESTADO_CC', 'ESTADO_CH', 'ESTADO_CL',\n",
              "       'ESTADO_CM', 'ESTADO_CS', 'ESTADO_DF', 'ESTADO_DG', 'ESTADO_GR',\n",
              "       'ESTADO_GT', 'ESTADO_HG', 'ESTADO_JC', 'ESTADO_MC', 'ESTADO_MN',\n",
              "       'ESTADO_MS', 'ESTADO_NL', 'ESTADO_NT', 'ESTADO_OC', 'ESTADO_PL',\n",
              "       'ESTADO_QR', 'ESTADO_QT', 'ESTADO_SL', 'ESTADO_SP', 'ESTADO_SR',\n",
              "       'ESTADO_TC', 'ESTADO_TL', 'ESTADO_TS', 'ESTADO_VZ', 'ESTADO_YN',\n",
              "       'ESTADO_ZS'],\n",
              "      dtype='object')"
            ]
          },
          "metadata": {
            "tags": []
          },
          "execution_count": 7
        }
      ]
    },
    {
      "cell_type": "code",
      "metadata": {
        "id": "c4JTG3lCLxyF"
      },
      "source": [
        "# Columnas de las condiciones del paciente ántes de ser atendido por una institución de salud\n",
        "before_columns = ['EDAD', 'EMBARAZO','DIABETES', 'EPOC', 'ASMA', 'INMUSUPR', 'HIPERTENSION', 'OTRA_COM',\n",
        "       'CARDIOVASCULAR', 'OBESIDAD', 'RENAL_CRONICA', 'TABAQUISMO', 'ESTADO_AS','SEXO_HOMBRE', 'SEXO_MUJER',\n",
        "       'ESTADO_BC', 'ESTADO_BS', 'ESTADO_CC', 'ESTADO_CH', 'ESTADO_CL',\n",
        "       'ESTADO_CM', 'ESTADO_CS', 'ESTADO_DF', 'ESTADO_DG', 'ESTADO_GR',\n",
        "       'ESTADO_GT', 'ESTADO_HG', 'ESTADO_JC', 'ESTADO_MC', 'ESTADO_MN',\n",
        "       'ESTADO_MS', 'ESTADO_NL', 'ESTADO_NT', 'ESTADO_OC', 'ESTADO_PL',\n",
        "       'ESTADO_QR', 'ESTADO_QT', 'ESTADO_SL', 'ESTADO_SP', 'ESTADO_SR',\n",
        "       'ESTADO_TC', 'ESTADO_TL', 'ESTADO_TS', 'ESTADO_VZ', 'ESTADO_YN',\n",
        "       'ESTADO_ZS']\n",
        "\n",
        "# Columnas de las condiciones del paciente después de ser atendido por una institución de salud\n",
        "after_columns = ['EDAD', 'EMBARAZO','DIABETES', 'EPOC', 'ASMA', 'INMUSUPR', 'HIPERTENSION', 'OTRA_COM',\n",
        "       'CARDIOVASCULAR', 'OBESIDAD', 'RENAL_CRONICA', 'TABAQUISMO',\n",
        "       'TIEMPO_ESPERA', 'HOSPITALIZADO','SEXO_HOMBRE', 'SEXO_MUJER', 'SECTOR_ATENDIDO_CRUZ ROJA',\n",
        "       'SECTOR_ATENDIDO_DIF', 'SECTOR_ATENDIDO_ESTATAL', 'SECTOR_ATENDIDO_IMSS', 'SECTOR_ATENDIDO_IMSS-BIENESTAR',\n",
        "       'SECTOR_ATENDIDO_ISSSTE', 'SECTOR_ATENDIDO_MUNICIPAL', 'SECTOR_ATENDIDO_PEMEX', 'SECTOR_ATENDIDO_PRIVADA',\n",
        "       'SECTOR_ATENDIDO_SEDENA', 'SECTOR_ATENDIDO_SEMAR', 'SECTOR_ATENDIDO_SSA', 'SECTOR_ATENDIDO_UNIVERSITARIO', 'ESTADO_AS',\n",
        "       'ESTADO_BC', 'ESTADO_BS', 'ESTADO_CC', 'ESTADO_CH', 'ESTADO_CL',\n",
        "       'ESTADO_CM', 'ESTADO_CS', 'ESTADO_DF', 'ESTADO_DG', 'ESTADO_GR',\n",
        "       'ESTADO_GT', 'ESTADO_HG', 'ESTADO_JC', 'ESTADO_MC', 'ESTADO_MN',\n",
        "       'ESTADO_MS', 'ESTADO_NL', 'ESTADO_NT', 'ESTADO_OC', 'ESTADO_PL',\n",
        "       'ESTADO_QR', 'ESTADO_QT', 'ESTADO_SL', 'ESTADO_SP', 'ESTADO_SR',\n",
        "       'ESTADO_TC', 'ESTADO_TL', 'ESTADO_TS', 'ESTADO_VZ', 'ESTADO_YN',\n",
        "       'ESTADO_ZS']\n",
        "\n"
      ],
      "execution_count": 8,
      "outputs": []
    },
    {
      "cell_type": "markdown",
      "metadata": {
        "id": "UvzFyZlpF_ps"
      },
      "source": [
        "### Eliminación de outlier\n",
        "Se identificó que una columna posiblemente tenga datos atípicos. La columna `TIEMPO_ESPERA`"
      ]
    },
    {
      "cell_type": "code",
      "metadata": {
        "id": "wzziVoLjGR42"
      },
      "source": [
        "def summary(data):\n",
        "  minimo = data.min()\n",
        "  Q1 = data.quantile(0.25)\n",
        "  median = data.median()\n",
        "  mean = data.mean()\n",
        "  Q2 = data.quantile(0.5)\n",
        "  Q3 = data.quantile(0.75)\n",
        "  maximo = data.max()\n",
        "  IQR = Q3 - Q1\n",
        "  resumen = {'minimo': minimo, 'Q1': Q1, 'mediana':median,'Q2':Q2,'Q3':Q3,'max':maximo,'IQR':IQR, 'media':mean}\n",
        "  return resumen"
      ],
      "execution_count": 9,
      "outputs": []
    },
    {
      "cell_type": "code",
      "metadata": {
        "id": "ElbTIyiOGbhy",
        "colab": {
          "base_uri": "https://localhost:8080/"
        },
        "outputId": "c3de33fe-e7f1-4ad5-922e-3b13d3d174ff"
      },
      "source": [
        "print (\"Resumen TIEMPO_ESPERA\")\n",
        "time_summary = summary(data[\"TIEMPO_ESPERA\"])\n",
        "time_summary"
      ],
      "execution_count": 10,
      "outputs": [
        {
          "output_type": "stream",
          "text": [
            "Resumen TIEMPO_ESPERA\n"
          ],
          "name": "stdout"
        },
        {
          "output_type": "execute_result",
          "data": {
            "text/plain": [
              "{'IQR': 4.0,\n",
              " 'Q1': 2.0,\n",
              " 'Q2': 3.0,\n",
              " 'Q3': 6.0,\n",
              " 'max': 174,\n",
              " 'media': 4.076062198742845,\n",
              " 'mediana': 3.0,\n",
              " 'minimo': 0}"
            ]
          },
          "metadata": {
            "tags": []
          },
          "execution_count": 10
        }
      ]
    },
    {
      "cell_type": "code",
      "metadata": {
        "id": "wx1ebHGbGw-k",
        "colab": {
          "base_uri": "https://localhost:8080/",
          "height": 407
        },
        "outputId": "19c95520-280b-417b-f64a-c95d72bbe11f"
      },
      "source": [
        "plt.boxplot(data[\"TIEMPO_ESPERA\"])"
      ],
      "execution_count": 11,
      "outputs": [
        {
          "output_type": "execute_result",
          "data": {
            "text/plain": [
              "{'boxes': [<matplotlib.lines.Line2D at 0x7f2c297eaed0>],\n",
              " 'caps': [<matplotlib.lines.Line2D at 0x7f2c29e27850>,\n",
              "  <matplotlib.lines.Line2D at 0x7f2c29e24d10>],\n",
              " 'fliers': [<matplotlib.lines.Line2D at 0x7f2c28e49e50>],\n",
              " 'means': [],\n",
              " 'medians': [<matplotlib.lines.Line2D at 0x7f2c29e24fd0>],\n",
              " 'whiskers': [<matplotlib.lines.Line2D at 0x7f2c297ea8d0>,\n",
              "  <matplotlib.lines.Line2D at 0x7f2c29e27390>]}"
            ]
          },
          "metadata": {
            "tags": []
          },
          "execution_count": 11
        },
        {
          "output_type": "display_data",
          "data": {
            "image/png": "[encoded data removed]",
            "text/plain": [
              "<Figure size 432x288 with 1 Axes>"
            ]
          },
          "metadata": {
            "tags": [],
            "needs_background": "light"
          }
        }
      ]
    },
    {
      "cell_type": "code",
      "metadata": {
        "id": "TReM01lWHmkF"
      },
      "source": [
        "data = data[data[\"TIEMPO_ESPERA\"] <= time_summary[\"Q3\"] + 1.5*time_summary[\"IQR\"]]"
      ],
      "execution_count": 12,
      "outputs": []
    },
    {
      "cell_type": "markdown",
      "metadata": {
        "id": "NiILeV3VDmDj"
      },
      "source": [
        "### Normalización de datos numéroicos\n",
        "Se normalizarán las variables de `EDAD` y `TIEMPO_ESPERA`"
      ]
    },
    {
      "cell_type": "code",
      "metadata": {
        "id": "1p5_d-4fEeN9",
        "colab": {
          "base_uri": "https://localhost:8080/"
        },
        "outputId": "510a9fab-8e09-4a6f-c87e-b33aeaed4089"
      },
      "source": [
        "data[\"EDAD\"].describe()"
      ],
      "execution_count": 13,
      "outputs": [
        {
          "output_type": "execute_result",
          "data": {
            "text/plain": [
              "count    2.163626e+06\n",
              "mean     4.355414e+01\n",
              "std      1.700503e+01\n",
              "min      0.000000e+00\n",
              "25%      3.000000e+01\n",
              "50%      4.200000e+01\n",
              "75%      5.500000e+01\n",
              "max      1.210000e+02\n",
              "Name: EDAD, dtype: float64"
            ]
          },
          "metadata": {
            "tags": []
          },
          "execution_count": 13
        }
      ]
    },
    {
      "cell_type": "code",
      "metadata": {
        "id": "kbwHGfLeDpG5"
      },
      "source": [
        "scaled = preprocessing.MinMaxScaler()\n",
        "scaled_edad = scaled.fit_transform(data[\"EDAD\"].values.reshape(-1,1))\n",
        "data[\"EDAD\"] = scaled_edad"
      ],
      "execution_count": 14,
      "outputs": []
    },
    {
      "cell_type": "code",
      "metadata": {
        "id": "IUyjGPUMFFQY",
        "colab": {
          "base_uri": "https://localhost:8080/"
        },
        "outputId": "3842567e-ad6a-46ce-a964-7d25f1cc3453"
      },
      "source": [
        "data[\"EDAD\"].describe()"
      ],
      "execution_count": 15,
      "outputs": [
        {
          "output_type": "execute_result",
          "data": {
            "text/plain": [
              "count    2.163626e+06\n",
              "mean     3.599515e-01\n",
              "std      1.405374e-01\n",
              "min      0.000000e+00\n",
              "25%      2.479339e-01\n",
              "50%      3.471074e-01\n",
              "75%      4.545455e-01\n",
              "max      1.000000e+00\n",
              "Name: EDAD, dtype: float64"
            ]
          },
          "metadata": {
            "tags": []
          },
          "execution_count": 15
        }
      ]
    },
    {
      "cell_type": "code",
      "metadata": {
        "id": "6yDI-JJRFV2V",
        "colab": {
          "base_uri": "https://localhost:8080/"
        },
        "outputId": "b3e9bead-fb96-4abc-996b-599cdd572103"
      },
      "source": [
        "data[\"TIEMPO_ESPERA\"].describe()"
      ],
      "execution_count": 16,
      "outputs": [
        {
          "output_type": "execute_result",
          "data": {
            "text/plain": [
              "count    2.163626e+06\n",
              "mean     3.780447e+00\n",
              "std      2.834329e+00\n",
              "min      0.000000e+00\n",
              "25%      2.000000e+00\n",
              "50%      3.000000e+00\n",
              "75%      6.000000e+00\n",
              "max      1.200000e+01\n",
              "Name: TIEMPO_ESPERA, dtype: float64"
            ]
          },
          "metadata": {
            "tags": []
          },
          "execution_count": 16
        }
      ]
    },
    {
      "cell_type": "code",
      "metadata": {
        "id": "0pTyFNgmFSyi"
      },
      "source": [
        "scaled = preprocessing.MinMaxScaler()\n",
        "scaled_time = scaled.fit_transform(data[\"TIEMPO_ESPERA\"].values.reshape(-1,1))\n",
        "data[\"TIEMPO_ESPERA\"] = scaled_time"
      ],
      "execution_count": 17,
      "outputs": []
    },
    {
      "cell_type": "code",
      "metadata": {
        "id": "GDXFQorQFrc_",
        "colab": {
          "base_uri": "https://localhost:8080/"
        },
        "outputId": "1ba235b5-88ba-4147-a57c-63406fe19eab"
      },
      "source": [
        "data[\"TIEMPO_ESPERA\"].describe()"
      ],
      "execution_count": 18,
      "outputs": [
        {
          "output_type": "execute_result",
          "data": {
            "text/plain": [
              "count    2.163626e+06\n",
              "mean     3.150373e-01\n",
              "std      2.361941e-01\n",
              "min      0.000000e+00\n",
              "25%      1.666667e-01\n",
              "50%      2.500000e-01\n",
              "75%      5.000000e-01\n",
              "max      1.000000e+00\n",
              "Name: TIEMPO_ESPERA, dtype: float64"
            ]
          },
          "metadata": {
            "tags": []
          },
          "execution_count": 18
        }
      ]
    },
    {
      "cell_type": "markdown",
      "metadata": {
        "id": "Ownhr2fUj7NU"
      },
      "source": [
        "**Formula Edad Normalizada:**\n",
        "\n",
        "$\\large{E_N=\\frac{E}{121}}$\n",
        "******\n",
        "**Formula Tiempo de espera Normalizado:**\n",
        "\n",
        "$\\large{T_N=\\frac{T}{12}}$"
      ]
    },
    {
      "cell_type": "markdown",
      "metadata": {
        "id": "8iIf_wKDQi2-"
      },
      "source": [
        "## Modelo para condiciones iniciales del paciente\n"
      ]
    },
    {
      "cell_type": "markdown",
      "metadata": {
        "id": "1rnD9p4PQtBO"
      },
      "source": [
        "### Selección de las varianbles"
      ]
    },
    {
      "cell_type": "code",
      "metadata": {
        "id": "_WVDFOKtQwT8",
        "colab": {
          "base_uri": "https://localhost:8080/"
        },
        "outputId": "feb0b942-423b-4997-d462-4c97cdfc075b"
      },
      "source": [
        "X_before = data[before_columns].copy()\n",
        "Y_deceased = data[\"FALLECIDO\"].copy()\n",
        "len(before_columns)"
      ],
      "execution_count": 19,
      "outputs": [
        {
          "output_type": "execute_result",
          "data": {
            "text/plain": [
              "46"
            ]
          },
          "metadata": {
            "tags": []
          },
          "execution_count": 19
        }
      ]
    },
    {
      "cell_type": "code",
      "metadata": {
        "id": "EyKGPJaBtuwU",
        "colab": {
          "base_uri": "https://localhost:8080/"
        },
        "outputId": "00f45fa1-4133-4101-9fc1-f5eb52b1fb73"
      },
      "source": [
        "data.columns"
      ],
      "execution_count": 20,
      "outputs": [
        {
          "output_type": "execute_result",
          "data": {
            "text/plain": [
              "Index(['EDAD', 'EMBARAZO', 'DIABETES', 'EPOC', 'ASMA', 'INMUSUPR',\n",
              "       'HIPERTENSION', 'OTRA_COM', 'CARDIOVASCULAR', 'OBESIDAD',\n",
              "       'RENAL_CRONICA', 'TABAQUISMO', 'TIEMPO_ESPERA', 'HOSPITALIZADO', 'SEXO',\n",
              "       'SECTOR_ATENDIDO', 'ESTADO', 'ENFERMEDAD_GRAVE', 'FALLECIDO',\n",
              "       'SEXO_HOMBRE', 'SEXO_MUJER', 'SECTOR_ATENDIDO_CRUZ ROJA',\n",
              "       'SECTOR_ATENDIDO_DIF', 'SECTOR_ATENDIDO_ESTATAL',\n",
              "       'SECTOR_ATENDIDO_IMSS', 'SECTOR_ATENDIDO_IMSS-BIENESTAR',\n",
              "       'SECTOR_ATENDIDO_ISSSTE', 'SECTOR_ATENDIDO_MUNICIPAL',\n",
              "       'SECTOR_ATENDIDO_PEMEX', 'SECTOR_ATENDIDO_PRIVADA',\n",
              "       'SECTOR_ATENDIDO_SEDENA', 'SECTOR_ATENDIDO_SEMAR',\n",
              "       'SECTOR_ATENDIDO_SSA', 'SECTOR_ATENDIDO_UNIVERSITARIO', 'ESTADO_AS',\n",
              "       'ESTADO_BC', 'ESTADO_BS', 'ESTADO_CC', 'ESTADO_CH', 'ESTADO_CL',\n",
              "       'ESTADO_CM', 'ESTADO_CS', 'ESTADO_DF', 'ESTADO_DG', 'ESTADO_GR',\n",
              "       'ESTADO_GT', 'ESTADO_HG', 'ESTADO_JC', 'ESTADO_MC', 'ESTADO_MN',\n",
              "       'ESTADO_MS', 'ESTADO_NL', 'ESTADO_NT', 'ESTADO_OC', 'ESTADO_PL',\n",
              "       'ESTADO_QR', 'ESTADO_QT', 'ESTADO_SL', 'ESTADO_SP', 'ESTADO_SR',\n",
              "       'ESTADO_TC', 'ESTADO_TL', 'ESTADO_TS', 'ESTADO_VZ', 'ESTADO_YN',\n",
              "       'ESTADO_ZS'],\n",
              "      dtype='object')"
            ]
          },
          "metadata": {
            "tags": []
          },
          "execution_count": 20
        }
      ]
    },
    {
      "cell_type": "markdown",
      "metadata": {
        "id": "H8hzzn69biqF"
      },
      "source": [
        "Nos quedaremos con la mitad de las variables "
      ]
    },
    {
      "cell_type": "markdown",
      "metadata": {
        "id": "GmauXjYKx8nt"
      },
      "source": [
        "Se utiliza el solver sag porque es más rápido para datasets grandes (en variables y tamaño de la muestra)\n",
        "\n",
        "* [Referencia 1](https://stackoverflow.com/questions/38640109/logistic-regression-python-solvers-defintions)\n",
        "* [Referencia 2](https://rubialesalberto.medium.com/regresi%C3%B3n-log%C3%ADstica-con-sklearn-4384c707075d)"
      ]
    },
    {
      "cell_type": "code",
      "metadata": {
        "id": "M6pE7WAudumb"
      },
      "source": [
        "n = 15\n",
        "lr = linear_model.LogisticRegression(solver=\"saga\")\n",
        "rfe = RFE(lr,n, step= 7)\n",
        "rfe = rfe.fit(X_before,Y_deceased)"
      ],
      "execution_count": 21,
      "outputs": []
    },
    {
      "cell_type": "code",
      "metadata": {
        "id": "T1mEuuYSeBys",
        "colab": {
          "base_uri": "https://localhost:8080/"
        },
        "outputId": "7dcabf15-8691-439b-eb10-8d4d4e504633"
      },
      "source": [
        "var_included = list(zip(before_columns, rfe.support_, rfe.ranking_))\n",
        "var_included.sort(key = lambda x: x[2])\n",
        "print (tabulate(var_included))"
      ],
      "execution_count": 22,
      "outputs": [
        {
          "output_type": "stream",
          "text": [
            "--------------  -  -\n",
            "EDAD            1  1\n",
            "DIABETES        1  1\n",
            "INMUSUPR        1  1\n",
            "OTRA_COM        1  1\n",
            "OBESIDAD        1  1\n",
            "RENAL_CRONICA   1  1\n",
            "ESTADO_BC       1  1\n",
            "ESTADO_BS       1  1\n",
            "ESTADO_DF       1  1\n",
            "ESTADO_HG       1  1\n",
            "ESTADO_MC       1  1\n",
            "ESTADO_QR       1  1\n",
            "ESTADO_SL       1  1\n",
            "ESTADO_TL       1  1\n",
            "ESTADO_VZ       1  1\n",
            "ESTADO_CH       0  2\n",
            "ESTADO_PL       0  2\n",
            "ESTADO_TC       0  2\n",
            "HIPERTENSION    0  3\n",
            "SEXO_HOMBRE     0  3\n",
            "SEXO_MUJER      0  3\n",
            "ESTADO_DG       0  3\n",
            "ESTADO_NL       0  3\n",
            "ESTADO_OC       0  3\n",
            "ESTADO_QT       0  3\n",
            "EPOC            0  4\n",
            "ESTADO_CS       0  4\n",
            "ESTADO_GT       0  4\n",
            "ESTADO_MS       0  4\n",
            "ESTADO_NT       0  4\n",
            "ESTADO_SP       0  4\n",
            "ESTADO_SR       0  4\n",
            "ASMA            0  5\n",
            "TABAQUISMO      0  5\n",
            "ESTADO_AS       0  5\n",
            "ESTADO_CC       0  5\n",
            "ESTADO_GR       0  5\n",
            "ESTADO_TS       0  5\n",
            "ESTADO_ZS       0  5\n",
            "EMBARAZO        0  6\n",
            "CARDIOVASCULAR  0  6\n",
            "ESTADO_CL       0  6\n",
            "ESTADO_CM       0  6\n",
            "ESTADO_JC       0  6\n",
            "ESTADO_MN       0  6\n",
            "ESTADO_YN       0  6\n",
            "--------------  -  -\n"
          ],
          "name": "stdout"
        }
      ]
    },
    {
      "cell_type": "markdown",
      "metadata": {
        "id": "7NFuCeqs2twL"
      },
      "source": [
        "#### Variables escogidas"
      ]
    },
    {
      "cell_type": "code",
      "metadata": {
        "id": "q7c5MRECwwiT"
      },
      "source": [
        "before_columns = ['EDAD', 'DIABETES', 'OTRA_COM', 'OBESIDAD', 'RENAL_CRONICA', 'ESTADO_BC', 'ESTADO_HG', 'ESTADO_MC', 'ESTADO_QR', 'ESTADO_VZ']"
      ],
      "execution_count": 23,
      "outputs": []
    },
    {
      "cell_type": "code",
      "metadata": {
        "id": "88xogyN01ueO",
        "colab": {
          "base_uri": "https://localhost:8080/"
        },
        "outputId": "313bb2ee-09b2-4241-df42-eee1dd549755"
      },
      "source": [
        "before_columns = [v[0] for v in var_included if v[1] == True]\n",
        "before_columns"
      ],
      "execution_count": 24,
      "outputs": [
        {
          "output_type": "execute_result",
          "data": {
            "text/plain": [
              "['EDAD',\n",
              " 'DIABETES',\n",
              " 'INMUSUPR',\n",
              " 'OTRA_COM',\n",
              " 'OBESIDAD',\n",
              " 'RENAL_CRONICA',\n",
              " 'ESTADO_BC',\n",
              " 'ESTADO_BS',\n",
              " 'ESTADO_DF',\n",
              " 'ESTADO_HG',\n",
              " 'ESTADO_MC',\n",
              " 'ESTADO_QR',\n",
              " 'ESTADO_SL',\n",
              " 'ESTADO_TL',\n",
              " 'ESTADO_VZ']"
            ]
          },
          "metadata": {
            "tags": []
          },
          "execution_count": 24
        }
      ]
    },
    {
      "cell_type": "markdown",
      "metadata": {
        "id": "ToDvQYCX2mJl"
      },
      "source": [
        "### Separación de datasets para entrenamiento y prueba\n",
        "\n"
      ]
    },
    {
      "cell_type": "code",
      "metadata": {
        "id": "1L6nsuNr3AbC"
      },
      "source": [
        "X_before = data[before_columns].copy()"
      ],
      "execution_count": 25,
      "outputs": []
    },
    {
      "cell_type": "code",
      "metadata": {
        "id": "SZxrtRRE3Hig"
      },
      "source": [
        "X_train, X_test, Y_train, Y_test = train_test_split(X_before, Y_deceased, test_size = 0.3, random_state = 442021)"
      ],
      "execution_count": 26,
      "outputs": []
    },
    {
      "cell_type": "markdown",
      "metadata": {
        "id": "9PYwDn83334a"
      },
      "source": [
        "### Creación de modelo de regresión logística"
      ]
    },
    {
      "cell_type": "code",
      "metadata": {
        "id": "AII5AAOM4EnG",
        "colab": {
          "base_uri": "https://localhost:8080/"
        },
        "outputId": "b29a6cd0-0883-4cc1-ce66-c3994a3549f4"
      },
      "source": [
        "lm_before = linear_model.LogisticRegression(solver=\"saga\")\n",
        "lm_before.fit(X_train,Y_train)"
      ],
      "execution_count": 27,
      "outputs": [
        {
          "output_type": "execute_result",
          "data": {
            "text/plain": [
              "LogisticRegression(C=1.0, class_weight=None, dual=False, fit_intercept=True,\n",
              "                   intercept_scaling=1, l1_ratio=None, max_iter=100,\n",
              "                   multi_class='auto', n_jobs=None, penalty='l2',\n",
              "                   random_state=None, solver='saga', tol=0.0001, verbose=0,\n",
              "                   warm_start=False)"
            ]
          },
          "metadata": {
            "tags": []
          },
          "execution_count": 27
        }
      ]
    },
    {
      "cell_type": "code",
      "metadata": {
        "id": "uGYOVkRG75rt",
        "colab": {
          "base_uri": "https://localhost:8080/"
        },
        "outputId": "26568db6-cc71-4d30-826e-da7b84ebd784"
      },
      "source": [
        "lm_before.score(X_test, Y_test)"
      ],
      "execution_count": 28,
      "outputs": [
        {
          "output_type": "execute_result",
          "data": {
            "text/plain": [
              "0.9132783228160126"
            ]
          },
          "metadata": {
            "tags": []
          },
          "execution_count": 28
        }
      ]
    },
    {
      "cell_type": "code",
      "metadata": {
        "id": "mRs547Gb82tv",
        "colab": {
          "base_uri": "https://localhost:8080/"
        },
        "outputId": "3e302743-6836-4a7b-cb6f-bf36e705cc7a"
      },
      "source": [
        "lm_before.score(X_before,Y_deceased)"
      ],
      "execution_count": 29,
      "outputs": [
        {
          "output_type": "execute_result",
          "data": {
            "text/plain": [
              "0.9133560975880305"
            ]
          },
          "metadata": {
            "tags": []
          },
          "execution_count": 29
        }
      ]
    },
    {
      "cell_type": "code",
      "metadata": {
        "id": "M7l92hdD_XOA",
        "colab": {
          "base_uri": "https://localhost:8080/"
        },
        "outputId": "7d257811-481d-4615-ab21-eda4a08021c3"
      },
      "source": [
        "lm_before.intercept_"
      ],
      "execution_count": 30,
      "outputs": [
        {
          "output_type": "execute_result",
          "data": {
            "text/plain": [
              "array([-6.78892276])"
            ]
          },
          "metadata": {
            "tags": []
          },
          "execution_count": 30
        }
      ]
    },
    {
      "cell_type": "code",
      "metadata": {
        "id": "-7V7rOrC7-ql",
        "colab": {
          "base_uri": "https://localhost:8080/"
        },
        "outputId": "9a80f209-d8fd-4f1e-b406-e6864dd7d0c4"
      },
      "source": [
        "params = list(zip(X_before.columns, np.transpose(lm_before.coef_)))\n",
        "params.append((\"INTERCEPCION\", lm_before.intercept_))\n",
        "print(tabulate(params))"
      ],
      "execution_count": 31,
      "outputs": [
        {
          "output_type": "stream",
          "text": [
            "-------------  ---------\n",
            "EDAD            9.46681\n",
            "DIABETES        0.611828\n",
            "INMUSUPR        0.429651\n",
            "OTRA_COM        0.687625\n",
            "OBESIDAD        0.484065\n",
            "RENAL_CRONICA   1.25042\n",
            "ESTADO_BC       0.610663\n",
            "ESTADO_BS      -0.521227\n",
            "ESTADO_DF      -0.465076\n",
            "ESTADO_HG       0.673103\n",
            "ESTADO_MC       0.828036\n",
            "ESTADO_QR       0.489735\n",
            "ESTADO_SL       0.424332\n",
            "ESTADO_TL       0.48135\n",
            "ESTADO_VZ       0.490169\n",
            "INTERCEPCION   -6.78892\n",
            "-------------  ---------\n"
          ],
          "name": "stdout"
        }
      ]
    },
    {
      "cell_type": "code",
      "metadata": {
        "id": "E9RycG4RAEZe"
      },
      "source": [
        "probs = lm_before.predict_proba(X_test)"
      ],
      "execution_count": 32,
      "outputs": []
    },
    {
      "cell_type": "code",
      "metadata": {
        "id": "ySjSflIrAPoF",
        "colab": {
          "base_uri": "https://localhost:8080/"
        },
        "outputId": "0ab0f1a1-c891-44ab-d4b6-1c128cbafd76"
      },
      "source": [
        "ps = []\n",
        "for p in probs:\n",
        "  ps.append(p[1]) # La columna 0 del array contiene la prob de que el evento 0 ocurra, lo mismo para la 1\n",
        "ps[0:5]"
      ],
      "execution_count": 33,
      "outputs": [
        {
          "output_type": "execute_result",
          "data": {
            "text/plain": [
              "[0.015369707490688247,\n",
              " 0.0026674757591545746,\n",
              " 0.049488634094820017,\n",
              " 0.005789383934630472,\n",
              " 0.007309754685674008]"
            ]
          },
          "metadata": {
            "tags": []
          },
          "execution_count": 33
        }
      ]
    },
    {
      "cell_type": "markdown",
      "metadata": {
        "id": "Ff5r1Q5WCX4n"
      },
      "source": [
        "### Validación del modelo\n",
        "No se usarán Matrices de Confusión ni curvas ROC por que el objetivo no es clasificar, si no obtener un modelo para predecir la probabilidad de muerte."
      ]
    },
    {
      "cell_type": "code",
      "metadata": {
        "id": "FidwUWpTCCoB"
      },
      "source": [
        "prediction = lm_before.predict(X_test)"
      ],
      "execution_count": 34,
      "outputs": []
    },
    {
      "cell_type": "code",
      "metadata": {
        "id": "QAfeHqlKCgWK",
        "colab": {
          "base_uri": "https://localhost:8080/"
        },
        "outputId": "90a45d6a-85d7-466c-91e3-877c1007192e"
      },
      "source": [
        "metrics.accuracy_score(Y_test,prediction)"
      ],
      "execution_count": 35,
      "outputs": [
        {
          "output_type": "execute_result",
          "data": {
            "text/plain": [
              "0.9132783228160126"
            ]
          },
          "metadata": {
            "tags": []
          },
          "execution_count": 35
        }
      ]
    },
    {
      "cell_type": "markdown",
      "metadata": {
        "id": "VjBBwLmUCnYR"
      },
      "source": [
        "#### Validación Cruzada"
      ]
    },
    {
      "cell_type": "code",
      "metadata": {
        "id": "ToT-BEppC_99"
      },
      "source": [
        "scores = cross_val_score(linear_model.LogisticRegression(solver=\"saga\"), X_before, Y_deceased, scoring = \"accuracy\", cv = 10)\n",
        "# Toma 11 minutos"
      ],
      "execution_count": 36,
      "outputs": []
    },
    {
      "cell_type": "code",
      "metadata": {
        "id": "DNf-LBj8DRah",
        "colab": {
          "base_uri": "https://localhost:8080/"
        },
        "outputId": "4387ea0c-14ba-4a26-fb25-6a24c733d209"
      },
      "source": [
        "scores "
      ],
      "execution_count": 37,
      "outputs": [
        {
          "output_type": "execute_result",
          "data": {
            "text/plain": [
              "array([0.91387622, 0.91457412, 0.91007705, 0.85032561, 0.90783544,\n",
              "       0.77803506, 0.73868794, 0.90736359, 0.79061942, 0.91316405])"
            ]
          },
          "metadata": {
            "tags": []
          },
          "execution_count": 37
        }
      ]
    },
    {
      "cell_type": "code",
      "metadata": {
        "id": "kyVTFkntDS74",
        "colab": {
          "base_uri": "https://localhost:8080/"
        },
        "outputId": "534726b1-22d8-4448-cf74-2e3f59cf699a"
      },
      "source": [
        "scores.mean()"
      ],
      "execution_count": 38,
      "outputs": [
        {
          "output_type": "execute_result",
          "data": {
            "text/plain": [
              "0.8624558495838007"
            ]
          },
          "metadata": {
            "tags": []
          },
          "execution_count": 38
        }
      ]
    },
    {
      "cell_type": "markdown",
      "metadata": {
        "id": "Y1jUTrRb23J2"
      },
      "source": [
        "### Exportación de modelo\n"
      ]
    },
    {
      "cell_type": "code",
      "metadata": {
        "id": "oQPFrTWq3Tkf"
      },
      "source": [
        "import pickle"
      ],
      "execution_count": 39,
      "outputs": []
    },
    {
      "cell_type": "code",
      "metadata": {
        "id": "bpc3pSZW3MQi"
      },
      "source": [
        "mainpath = \"/content/drive/MyDrive/Modelos\"\n",
        "filename = \"LR_before.sav\""
      ],
      "execution_count": 40,
      "outputs": []
    },
    {
      "cell_type": "code",
      "metadata": {
        "id": "T57YeqOj3SXC"
      },
      "source": [
        "pickle.dump(lm_before, open(os.path.join(mainpath,filename),'wb'))"
      ],
      "execution_count": 41,
      "outputs": []
    },
    {
      "cell_type": "code",
      "metadata": {
        "id": "HI9ZNaz73mg2"
      },
      "source": [
        "# Prueba de modelo guardad\n",
        "loaded_model = pickle.load( open(os.path.join(mainpath,filename),'rb'))"
      ],
      "execution_count": 42,
      "outputs": []
    },
    {
      "cell_type": "code",
      "metadata": {
        "id": "MTHfw5yD39IC",
        "colab": {
          "base_uri": "https://localhost:8080/"
        },
        "outputId": "208037dd-71cc-4344-8b67-a3d9d2a21db6"
      },
      "source": [
        "loaded_model"
      ],
      "execution_count": 43,
      "outputs": [
        {
          "output_type": "execute_result",
          "data": {
            "text/plain": [
              "LogisticRegression(C=1.0, class_weight=None, dual=False, fit_intercept=True,\n",
              "                   intercept_scaling=1, l1_ratio=None, max_iter=100,\n",
              "                   multi_class='auto', n_jobs=None, penalty='l2',\n",
              "                   random_state=None, solver='saga', tol=0.0001, verbose=0,\n",
              "                   warm_start=False)"
            ]
          },
          "metadata": {
            "tags": []
          },
          "execution_count": 43
        }
      ]
    },
    {
      "cell_type": "code",
      "metadata": {
        "id": "AydmEcFL4L7E",
        "colab": {
          "base_uri": "https://localhost:8080/"
        },
        "outputId": "2f292c50-26b1-449c-93b4-53da6a327455"
      },
      "source": [
        "params = list(zip(X_before.columns, np.transpose(loaded_model.coef_)))\n",
        "params.append((\"INTERCEPCION\", loaded_model.intercept_))\n",
        "print(tabulate(params))"
      ],
      "execution_count": 44,
      "outputs": [
        {
          "output_type": "stream",
          "text": [
            "-------------  ---------\n",
            "EDAD            9.46681\n",
            "DIABETES        0.611828\n",
            "INMUSUPR        0.429651\n",
            "OTRA_COM        0.687625\n",
            "OBESIDAD        0.484065\n",
            "RENAL_CRONICA   1.25042\n",
            "ESTADO_BC       0.610663\n",
            "ESTADO_BS      -0.521227\n",
            "ESTADO_DF      -0.465076\n",
            "ESTADO_HG       0.673103\n",
            "ESTADO_MC       0.828036\n",
            "ESTADO_QR       0.489735\n",
            "ESTADO_SL       0.424332\n",
            "ESTADO_TL       0.48135\n",
            "ESTADO_VZ       0.490169\n",
            "INTERCEPCION   -6.78892\n",
            "-------------  ---------\n"
          ],
          "name": "stdout"
        }
      ]
    },
    {
      "cell_type": "markdown",
      "metadata": {
        "id": "mKXirf9A4V2e"
      },
      "source": [
        "## Modelo para condiciones post valoración médica.\n",
        "Se agregan tres variables.\n",
        "* `TIEMPO_ESPERA`: Mide el tiempo que pasó entre el inicio de los sintomas y el ingreso al sector médico\n",
        "* `HOSPITALIZADO`: Indica si el paciente fue hospitalizado o su atención fue ambulatoria.\n",
        "* `SEXTOR`: Variable categórica que indica el sector de salud que atendió al paciente."
      ]
    },
    {
      "cell_type": "markdown",
      "metadata": {
        "id": "b81mYuur5Ujc"
      },
      "source": [
        "### Selección de las variables"
      ]
    },
    {
      "cell_type": "code",
      "metadata": {
        "id": "ftJQNxVY5ZsS",
        "colab": {
          "base_uri": "https://localhost:8080/"
        },
        "outputId": "d2fe6971-dbc9-4c26-b37d-09ead8a6b35a"
      },
      "source": [
        "X_after = data[after_columns].copy()\n",
        "Y_deceased = data[\"FALLECIDO\"].copy()\n",
        "len(after_columns)"
      ],
      "execution_count": 45,
      "outputs": [
        {
          "output_type": "execute_result",
          "data": {
            "text/plain": [
              "61"
            ]
          },
          "metadata": {
            "tags": []
          },
          "execution_count": 45
        }
      ]
    },
    {
      "cell_type": "code",
      "metadata": {
        "id": "YxTxBsUO50ZP",
        "colab": {
          "base_uri": "https://localhost:8080/"
        },
        "outputId": "ad7015ee-f139-466d-a32b-14c20a04dcce"
      },
      "source": [
        "X_after.columns"
      ],
      "execution_count": 46,
      "outputs": [
        {
          "output_type": "execute_result",
          "data": {
            "text/plain": [
              "Index(['EDAD', 'EMBARAZO', 'DIABETES', 'EPOC', 'ASMA', 'INMUSUPR',\n",
              "       'HIPERTENSION', 'OTRA_COM', 'CARDIOVASCULAR', 'OBESIDAD',\n",
              "       'RENAL_CRONICA', 'TABAQUISMO', 'TIEMPO_ESPERA', 'HOSPITALIZADO',\n",
              "       'SEXO_HOMBRE', 'SEXO_MUJER', 'SECTOR_ATENDIDO_CRUZ ROJA',\n",
              "       'SECTOR_ATENDIDO_DIF', 'SECTOR_ATENDIDO_ESTATAL',\n",
              "       'SECTOR_ATENDIDO_IMSS', 'SECTOR_ATENDIDO_IMSS-BIENESTAR',\n",
              "       'SECTOR_ATENDIDO_ISSSTE', 'SECTOR_ATENDIDO_MUNICIPAL',\n",
              "       'SECTOR_ATENDIDO_PEMEX', 'SECTOR_ATENDIDO_PRIVADA',\n",
              "       'SECTOR_ATENDIDO_SEDENA', 'SECTOR_ATENDIDO_SEMAR',\n",
              "       'SECTOR_ATENDIDO_SSA', 'SECTOR_ATENDIDO_UNIVERSITARIO', 'ESTADO_AS',\n",
              "       'ESTADO_BC', 'ESTADO_BS', 'ESTADO_CC', 'ESTADO_CH', 'ESTADO_CL',\n",
              "       'ESTADO_CM', 'ESTADO_CS', 'ESTADO_DF', 'ESTADO_DG', 'ESTADO_GR',\n",
              "       'ESTADO_GT', 'ESTADO_HG', 'ESTADO_JC', 'ESTADO_MC', 'ESTADO_MN',\n",
              "       'ESTADO_MS', 'ESTADO_NL', 'ESTADO_NT', 'ESTADO_OC', 'ESTADO_PL',\n",
              "       'ESTADO_QR', 'ESTADO_QT', 'ESTADO_SL', 'ESTADO_SP', 'ESTADO_SR',\n",
              "       'ESTADO_TC', 'ESTADO_TL', 'ESTADO_TS', 'ESTADO_VZ', 'ESTADO_YN',\n",
              "       'ESTADO_ZS'],\n",
              "      dtype='object')"
            ]
          },
          "metadata": {
            "tags": []
          },
          "execution_count": 46
        }
      ]
    },
    {
      "cell_type": "code",
      "metadata": {
        "id": "8hzriancSEK6"
      },
      "source": [
        "n = 20\n",
        "lr = linear_model.LogisticRegression(solver = \"saga\")\n",
        "rfe = RFE(lr,n, step = 7)\n",
        "rfe = rfe.fit(X_after, Y_deceased)"
      ],
      "execution_count": 47,
      "outputs": []
    },
    {
      "cell_type": "code",
      "metadata": {
        "id": "0C-DqBqI453U",
        "outputId": "d0eee6e2-1861-40cd-d737-2bccd36bb8ed",
        "colab": {
          "base_uri": "https://localhost:8080/"
        }
      },
      "source": [
        "var_included = list(zip(after_columns, rfe.support_, rfe.ranking_))\n",
        "var_included.sort(key = lambda x: x[2])\n",
        "print (tabulate(var_included))"
      ],
      "execution_count": 48,
      "outputs": [
        {
          "output_type": "stream",
          "text": [
            "------------------------------  -  -\n",
            "EDAD                            1  1\n",
            "EMBARAZO                        1  1\n",
            "OBESIDAD                        1  1\n",
            "RENAL_CRONICA                   1  1\n",
            "HOSPITALIZADO                   1  1\n",
            "SECTOR_ATENDIDO_CRUZ ROJA       1  1\n",
            "SECTOR_ATENDIDO_DIF             1  1\n",
            "SECTOR_ATENDIDO_ESTATAL         1  1\n",
            "SECTOR_ATENDIDO_IMSS            1  1\n",
            "SECTOR_ATENDIDO_IMSS-BIENESTAR  1  1\n",
            "SECTOR_ATENDIDO_ISSSTE          1  1\n",
            "SECTOR_ATENDIDO_MUNICIPAL       1  1\n",
            "SECTOR_ATENDIDO_SSA             1  1\n",
            "ESTADO_AS                       1  1\n",
            "ESTADO_MS                       1  1\n",
            "ESTADO_PL                       1  1\n",
            "ESTADO_SP                       1  1\n",
            "ESTADO_TC                       1  1\n",
            "ESTADO_TL                       1  1\n",
            "ESTADO_TS                       1  1\n",
            "DIABETES                        0  2\n",
            "INMUSUPR                        0  2\n",
            "SECTOR_ATENDIDO_PRIVADA         0  2\n",
            "ESTADO_BC                       0  2\n",
            "ESTADO_HG                       0  2\n",
            "ESTADO_NL                       0  2\n",
            "SEXO_HOMBRE                     0  3\n",
            "SEXO_MUJER                      0  3\n",
            "SECTOR_ATENDIDO_SEDENA          0  3\n",
            "SECTOR_ATENDIDO_UNIVERSITARIO   0  3\n",
            "ESTADO_CM                       0  3\n",
            "ESTADO_QR                       0  3\n",
            "ESTADO_QT                       0  3\n",
            "OTRA_COM                        0  4\n",
            "TABAQUISMO                      0  4\n",
            "SECTOR_ATENDIDO_SEMAR           0  4\n",
            "ESTADO_BS                       0  4\n",
            "ESTADO_CH                       0  4\n",
            "ESTADO_JC                       0  4\n",
            "ESTADO_NT                       0  4\n",
            "ASMA                            0  5\n",
            "HIPERTENSION                    0  5\n",
            "TIEMPO_ESPERA                   0  5\n",
            "ESTADO_CS                       0  5\n",
            "ESTADO_DF                       0  5\n",
            "ESTADO_DG                       0  5\n",
            "ESTADO_GR                       0  5\n",
            "CARDIOVASCULAR                  0  6\n",
            "ESTADO_CC                       0  6\n",
            "ESTADO_MN                       0  6\n",
            "ESTADO_SR                       0  6\n",
            "ESTADO_VZ                       0  6\n",
            "ESTADO_YN                       0  6\n",
            "ESTADO_ZS                       0  6\n",
            "EPOC                            0  7\n",
            "SECTOR_ATENDIDO_PEMEX           0  7\n",
            "ESTADO_CL                       0  7\n",
            "ESTADO_GT                       0  7\n",
            "ESTADO_MC                       0  7\n",
            "ESTADO_OC                       0  7\n",
            "ESTADO_SL                       0  7\n",
            "------------------------------  -  -\n"
          ],
          "name": "stdout"
        }
      ]
    },
    {
      "cell_type": "code",
      "metadata": {
        "id": "ckthQArbEpx8",
        "outputId": "b172159b-edcf-4658-eaf6-d3418168a1e2",
        "colab": {
          "base_uri": "https://localhost:8080/"
        }
      },
      "source": [
        "after_columns = [v[0] for v in var_included if v[1] == True]\n",
        "after_columns"
      ],
      "execution_count": 49,
      "outputs": [
        {
          "output_type": "execute_result",
          "data": {
            "text/plain": [
              "['EDAD',\n",
              " 'EMBARAZO',\n",
              " 'OBESIDAD',\n",
              " 'RENAL_CRONICA',\n",
              " 'HOSPITALIZADO',\n",
              " 'SECTOR_ATENDIDO_CRUZ ROJA',\n",
              " 'SECTOR_ATENDIDO_DIF',\n",
              " 'SECTOR_ATENDIDO_ESTATAL',\n",
              " 'SECTOR_ATENDIDO_IMSS',\n",
              " 'SECTOR_ATENDIDO_IMSS-BIENESTAR',\n",
              " 'SECTOR_ATENDIDO_ISSSTE',\n",
              " 'SECTOR_ATENDIDO_MUNICIPAL',\n",
              " 'SECTOR_ATENDIDO_SSA',\n",
              " 'ESTADO_AS',\n",
              " 'ESTADO_MS',\n",
              " 'ESTADO_PL',\n",
              " 'ESTADO_SP',\n",
              " 'ESTADO_TC',\n",
              " 'ESTADO_TL',\n",
              " 'ESTADO_TS']"
            ]
          },
          "metadata": {
            "tags": []
          },
          "execution_count": 49
        }
      ]
    },
    {
      "cell_type": "markdown",
      "metadata": {
        "id": "PfHFZB9qMf8o"
      },
      "source": [
        "### Separación de datasets para entrenamiento y prueba"
      ]
    },
    {
      "cell_type": "code",
      "metadata": {
        "id": "B2Mr5pmEMgdz"
      },
      "source": [
        "X_after = data[after_columns].copy()"
      ],
      "execution_count": 50,
      "outputs": []
    },
    {
      "cell_type": "code",
      "metadata": {
        "id": "YAkPaiqHM8nE"
      },
      "source": [
        "X_train, X_test, Y_train, Y_test = train_test_split(X_after, Y_deceased, test_size = 0.3, random_state = 442021)"
      ],
      "execution_count": 51,
      "outputs": []
    },
    {
      "cell_type": "markdown",
      "metadata": {
        "id": "ytmkXliJNClR"
      },
      "source": [
        "### Creación de modelo de regresión logística"
      ]
    },
    {
      "cell_type": "code",
      "metadata": {
        "id": "DeNgH0XdNH2E",
        "outputId": "5d77b42b-361f-4398-c95c-5d03ac9fb67c",
        "colab": {
          "base_uri": "https://localhost:8080/"
        }
      },
      "source": [
        "lm_after = linear_model.LogisticRegression(solver = \"saga\")\n",
        "lm_after.fit(X_train, Y_train)"
      ],
      "execution_count": 52,
      "outputs": [
        {
          "output_type": "execute_result",
          "data": {
            "text/plain": [
              "LogisticRegression(C=1.0, class_weight=None, dual=False, fit_intercept=True,\n",
              "                   intercept_scaling=1, l1_ratio=None, max_iter=100,\n",
              "                   multi_class='auto', n_jobs=None, penalty='l2',\n",
              "                   random_state=None, solver='saga', tol=0.0001, verbose=0,\n",
              "                   warm_start=False)"
            ]
          },
          "metadata": {
            "tags": []
          },
          "execution_count": 52
        }
      ]
    },
    {
      "cell_type": "code",
      "metadata": {
        "id": "MGvvr2_9NZPU",
        "outputId": "887199d3-39a5-4c86-ccfb-54fce1ea7fa9",
        "colab": {
          "base_uri": "https://localhost:8080/"
        }
      },
      "source": [
        "lm_after.score(X_test, Y_test)"
      ],
      "execution_count": 53,
      "outputs": [
        {
          "output_type": "execute_result",
          "data": {
            "text/plain": [
              "0.9284149452770657"
            ]
          },
          "metadata": {
            "tags": []
          },
          "execution_count": 53
        }
      ]
    },
    {
      "cell_type": "code",
      "metadata": {
        "id": "Q8aZUWv2NjNo",
        "outputId": "afae9f14-b136-4d61-ceb2-6c45372ccc13",
        "colab": {
          "base_uri": "https://localhost:8080/"
        }
      },
      "source": [
        "lm_after.score(X_after,Y_deceased)"
      ],
      "execution_count": 56,
      "outputs": [
        {
          "output_type": "execute_result",
          "data": {
            "text/plain": [
              "0.928243605872734"
            ]
          },
          "metadata": {
            "tags": []
          },
          "execution_count": 56
        }
      ]
    },
    {
      "cell_type": "code",
      "metadata": {
        "id": "fPvbZmBVNjk8",
        "outputId": "ad6acc82-d595-4aa2-f59f-56c861d7cc83",
        "colab": {
          "base_uri": "https://localhost:8080/"
        }
      },
      "source": [
        "params = list(zip(X_after.columns, np.transpose(lm_after.coef_)))\n",
        "params.append((\"INTERCEPCION\", lm_after.intercept_))\n",
        "print(tabulate(params))"
      ],
      "execution_count": 57,
      "outputs": [
        {
          "output_type": "stream",
          "text": [
            "------------------------------  ---------\n",
            "EDAD                             6.23781\n",
            "EMBARAZO                        -1.15391\n",
            "OBESIDAD                         0.319817\n",
            "RENAL_CRONICA                    0.734213\n",
            "HOSPITALIZADO                    3.60272\n",
            "SECTOR_ATENDIDO_CRUZ ROJA        0.738303\n",
            "SECTOR_ATENDIDO_DIF             -0.583726\n",
            "SECTOR_ATENDIDO_ESTATAL          0.720548\n",
            "SECTOR_ATENDIDO_IMSS             1.1013\n",
            "SECTOR_ATENDIDO_IMSS-BIENESTAR   0.540379\n",
            "SECTOR_ATENDIDO_ISSSTE           0.6204\n",
            "SECTOR_ATENDIDO_MUNICIPAL       -1.33521\n",
            "SECTOR_ATENDIDO_SSA              0.56524\n",
            "ESTADO_AS                       -0.292282\n",
            "ESTADO_MS                       -0.284152\n",
            "ESTADO_PL                        0.330048\n",
            "ESTADO_SP                        0.314383\n",
            "ESTADO_TC                        0.304655\n",
            "ESTADO_TL                        0.355657\n",
            "ESTADO_TS                        0.316458\n",
            "INTERCEPCION                    -7.83511\n",
            "------------------------------  ---------\n"
          ],
          "name": "stdout"
        }
      ]
    },
    {
      "cell_type": "markdown",
      "metadata": {
        "id": "81Z6Y7O7OOXf"
      },
      "source": [
        "### Validación del modelo\n",
        "No se usarán Matrices de Confusión ni curvas ROC por que el objetivo no es clasificar, si no obtener un modelo para predecir la probabilidad de muerte."
      ]
    },
    {
      "cell_type": "code",
      "metadata": {
        "id": "2vWT26zIOt_2"
      },
      "source": [
        "prediction = lm_after.predict(X_test)"
      ],
      "execution_count": 58,
      "outputs": []
    },
    {
      "cell_type": "code",
      "metadata": {
        "id": "-sjHFX5bOxah",
        "outputId": "2133954e-b1db-4e78-d7a5-1f5766b7b221",
        "colab": {
          "base_uri": "https://localhost:8080/"
        }
      },
      "source": [
        "metrics.accuracy_score(Y_test,prediction)"
      ],
      "execution_count": 59,
      "outputs": [
        {
          "output_type": "execute_result",
          "data": {
            "text/plain": [
              "0.9284149452770657"
            ]
          },
          "metadata": {
            "tags": []
          },
          "execution_count": 59
        }
      ]
    },
    {
      "cell_type": "markdown",
      "metadata": {
        "id": "740MAn2gOzN3"
      },
      "source": [
        "#### Validación Cruzada"
      ]
    },
    {
      "cell_type": "code",
      "metadata": {
        "id": "WcTH7Ex0O4x8"
      },
      "source": [
        "scores = cross_val_score(lm_after, X_after, Y_deceased, scoring = \"accuracy\", cv = 10)\n",
        "# Toma 11 minutos"
      ],
      "execution_count": 60,
      "outputs": []
    },
    {
      "cell_type": "code",
      "metadata": {
        "id": "bgqKnb1GPExz",
        "outputId": "a2ff0729-33ab-47d7-a76d-30a43c79d96d",
        "colab": {
          "base_uri": "https://localhost:8080/"
        }
      },
      "source": [
        "scores"
      ],
      "execution_count": 61,
      "outputs": [
        {
          "output_type": "execute_result",
          "data": {
            "text/plain": [
              "array([0.93946747, 0.94848934, 0.92358675, 0.85337142, 0.66421708,\n",
              "       0.70208862, 0.9146523 , 0.91401448, 0.82086965, 0.92380825])"
            ]
          },
          "metadata": {
            "tags": []
          },
          "execution_count": 61
        }
      ]
    },
    {
      "cell_type": "code",
      "metadata": {
        "id": "tmrrDFpiQT2X",
        "outputId": "ba8d235d-e984-42d0-f994-656a986c2c71",
        "colab": {
          "base_uri": "https://localhost:8080/"
        }
      },
      "source": [
        "scores.mean()"
      ],
      "execution_count": 62,
      "outputs": [
        {
          "output_type": "execute_result",
          "data": {
            "text/plain": [
              "0.860456535241549"
            ]
          },
          "metadata": {
            "tags": []
          },
          "execution_count": 62
        }
      ]
    },
    {
      "cell_type": "markdown",
      "metadata": {
        "id": "Q4OOo6atQVxX"
      },
      "source": [
        "### Exportación de modelo"
      ]
    },
    {
      "cell_type": "code",
      "metadata": {
        "id": "3VqWRhhOQZqJ"
      },
      "source": [
        "mainpath = \"/content/drive/MyDrive/Modelos\"\n",
        "filename = \"LR_after.sav\""
      ],
      "execution_count": 63,
      "outputs": []
    },
    {
      "cell_type": "code",
      "metadata": {
        "id": "jMD8CscWQcOP"
      },
      "source": [
        "pickle.dump(lm_after, open(os.path.join(mainpath,filename),'wb'))"
      ],
      "execution_count": 64,
      "outputs": []
    },
    {
      "cell_type": "code",
      "metadata": {
        "id": "bwpDZYomQg4G"
      },
      "source": [
        "# Prueba de modelo guardad\n",
        "loaded_model = pickle.load( open(os.path.join(mainpath,filename),'rb'))"
      ],
      "execution_count": 65,
      "outputs": []
    },
    {
      "cell_type": "code",
      "metadata": {
        "id": "rQ1kDTg9Qj5d",
        "outputId": "86fe0ee0-d5c8-483e-d48c-28d95d903f48",
        "colab": {
          "base_uri": "https://localhost:8080/"
        }
      },
      "source": [
        "loaded_model"
      ],
      "execution_count": 66,
      "outputs": [
        {
          "output_type": "execute_result",
          "data": {
            "text/plain": [
              "LogisticRegression(C=1.0, class_weight=None, dual=False, fit_intercept=True,\n",
              "                   intercept_scaling=1, l1_ratio=None, max_iter=100,\n",
              "                   multi_class='auto', n_jobs=None, penalty='l2',\n",
              "                   random_state=None, solver='saga', tol=0.0001, verbose=0,\n",
              "                   warm_start=False)"
            ]
          },
          "metadata": {
            "tags": []
          },
          "execution_count": 66
        }
      ]
    },
    {
      "cell_type": "code",
      "metadata": {
        "id": "Lnq22yrEQlDa",
        "outputId": "5d71a17b-6f7e-4214-b9f8-ade2a93417ff",
        "colab": {
          "base_uri": "https://localhost:8080/"
        }
      },
      "source": [
        "params = list(zip(X_after.columns, np.transpose(loaded_model.coef_)))\n",
        "params.append((\"INTERCEPCION\", loaded_model.intercept_))\n",
        "print(tabulate(params))"
      ],
      "execution_count": 67,
      "outputs": [
        {
          "output_type": "stream",
          "text": [
            "------------------------------  ---------\n",
            "EDAD                             6.23781\n",
            "EMBARAZO                        -1.15391\n",
            "OBESIDAD                         0.319817\n",
            "RENAL_CRONICA                    0.734213\n",
            "HOSPITALIZADO                    3.60272\n",
            "SECTOR_ATENDIDO_CRUZ ROJA        0.738303\n",
            "SECTOR_ATENDIDO_DIF             -0.583726\n",
            "SECTOR_ATENDIDO_ESTATAL          0.720548\n",
            "SECTOR_ATENDIDO_IMSS             1.1013\n",
            "SECTOR_ATENDIDO_IMSS-BIENESTAR   0.540379\n",
            "SECTOR_ATENDIDO_ISSSTE           0.6204\n",
            "SECTOR_ATENDIDO_MUNICIPAL       -1.33521\n",
            "SECTOR_ATENDIDO_SSA              0.56524\n",
            "ESTADO_AS                       -0.292282\n",
            "ESTADO_MS                       -0.284152\n",
            "ESTADO_PL                        0.330048\n",
            "ESTADO_SP                        0.314383\n",
            "ESTADO_TC                        0.304655\n",
            "ESTADO_TL                        0.355657\n",
            "ESTADO_TS                        0.316458\n",
            "INTERCEPCION                    -7.83511\n",
            "------------------------------  ---------\n"
          ],
          "name": "stdout"
        }
      ]
    },
    {
      "cell_type": "code",
      "metadata": {
        "id": "MEPaUnMIQsLd"
      },
      "source": [
        ""
      ],
      "execution_count": null,
      "outputs": []
    }
  ]
}