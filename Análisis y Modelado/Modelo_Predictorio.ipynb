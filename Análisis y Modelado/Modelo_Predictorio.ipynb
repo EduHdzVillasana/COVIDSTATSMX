{
  "nbformat": 4,
  "nbformat_minor": 0,
  "metadata": {
    "colab": {
      "name": "Untitled3.ipynb",
      "provenance": [],
      "mount_file_id": "https://github.com/EduHdzVillasana/COVIDSTATSMX/blob/master/An%C3%A1lisis%20y%20Modelado/Modelo_Predictorio.ipynb",
      "authorship_tag": "ABX9TyMvTWR6Heq9HWdt5np4Xclb",
      "include_colab_link": true
    },
    "kernelspec": {
      "name": "python3",
      "display_name": "Python 3"
    },
    "language_info": {
      "name": "python"
    },
    "accelerator": "GPU"
  },
  "cells": [
    {
      "cell_type": "markdown",
      "metadata": {
        "id": "view-in-github",
        "colab_type": "text"
      },
      "source": [
        "<a href=\"https://colab.research.google.com/github/EduHdzVillasana/COVIDSTATSMX/blob/master/An%C3%A1lisis%20y%20Modelado/Modelo_Predictorio.ipynb\" target=\"_parent\"><img src=\"https://colab.research.google.com/assets/colab-badge.svg\" alt=\"Open In Colab\"/></a>"
      ]
    },
    {
      "cell_type": "markdown",
      "metadata": {
        "id": "DtqgREQCIXMy"
      },
      "source": [
        "# Creación de modelo para predecir probabilidad de muerte por COVID-19\n",
        "En este notebook se creará un modelo de regresión logística para predecir la probabilidad de muerte de un paciente positivo a sars-cov-2 dadas sus condiciones.\n",
        "\n",
        "También se creará un modelo para predecir la probabilidad de contraer enfermedad grave dadas sus condiciones y así identificar personas vulnerables."
      ]
    },
    {
      "cell_type": "markdown",
      "metadata": {
        "id": "fTahWfDvImrf"
      },
      "source": [
        "## Librerías a utilizar\n"
      ]
    },
    {
      "cell_type": "code",
      "metadata": {
        "id": "r-mxaaOgIsQ-",
        "colab": {
          "base_uri": "https://localhost:8080/"
        },
        "outputId": "191dd980-6d44-43de-9e65-341a0580d97c"
      },
      "source": [
        "import pandas as pd\n",
        "import numpy as np\n",
        "import matplotlib.pyplot as plt\n",
        "import datetime\n",
        "import os\n",
        "\n",
        "# Librerias para la regresión logística\n",
        "import statsmodels.api as sm\n",
        "from sklearn import datasets\n",
        "from sklearn.feature_selection import RFE\n",
        "from tabulate import tabulate\n",
        "from sklearn import linear_model\n",
        "from sklearn import preprocessing\n",
        "\n",
        "# Librerias para la validación del modelo\n",
        "from sklearn.model_selection import train_test_split\n",
        "from sklearn import metrics\n",
        "from sklearn.model_selection import cross_val_score"
      ],
      "execution_count": 1,
      "outputs": [
        {
          "output_type": "stream",
          "text": [
            "/usr/local/lib/python3.7/dist-packages/statsmodels/tools/_testing.py:19: FutureWarning: pandas.util.testing is deprecated. Use the functions in the public API at pandas.testing instead.\n",
            "  import pandas.util.testing as tm\n"
          ],
          "name": "stderr"
        }
      ]
    },
    {
      "cell_type": "code",
      "metadata": {
        "id": "dO-nJZ8_ItA7",
        "colab": {
          "base_uri": "https://localhost:8080/",
          "height": 277
        },
        "outputId": "de524ce7-2299-4017-fe8c-5c549ed0c3d5"
      },
      "source": [
        "mainpath = \"/content/drive/MyDrive/Datos Abiertos\"\n",
        "filepath = \"210401COVID19MEXICO_filtered.csv\"\n",
        "\n",
        "data = pd.read_csv(os.path.join(mainpath, filepath), index_col=0)\n",
        "data.sample(3)"
      ],
      "execution_count": 2,
      "outputs": [
        {
          "output_type": "stream",
          "text": [
            "/usr/local/lib/python3.7/dist-packages/IPython/core/interactiveshell.py:2718: DtypeWarning: Columns (39) have mixed types.Specify dtype option on import or set low_memory=False.\n",
            "  interactivity=interactivity, compiler=compiler, result=result)\n",
            "/usr/local/lib/python3.7/dist-packages/numpy/lib/arraysetops.py:580: FutureWarning: elementwise comparison failed; returning scalar instead, but in the future will perform elementwise comparison\n",
            "  mask |= (ar1 == a)\n"
          ],
          "name": "stderr"
        },
        {
          "output_type": "execute_result",
          "data": {
            "text/html": [
              "<div>\n",
              "<style scoped>\n",
              "    .dataframe tbody tr th:only-of-type {\n",
              "        vertical-align: middle;\n",
              "    }\n",
              "\n",
              "    .dataframe tbody tr th {\n",
              "        vertical-align: top;\n",
              "    }\n",
              "\n",
              "    .dataframe thead th {\n",
              "        text-align: right;\n",
              "    }\n",
              "</style>\n",
              "<table border=\"1\" class=\"dataframe\">\n",
              "  <thead>\n",
              "    <tr style=\"text-align: right;\">\n",
              "      <th></th>\n",
              "      <th>FECHA_ACTUALIZACION</th>\n",
              "      <th>ID_REGISTRO</th>\n",
              "      <th>ORIGEN</th>\n",
              "      <th>SECTOR</th>\n",
              "      <th>ENTIDAD_UM</th>\n",
              "      <th>SEXO</th>\n",
              "      <th>ENTIDAD_NAC</th>\n",
              "      <th>ENTIDAD_RES</th>\n",
              "      <th>MUNICIPIO_RES</th>\n",
              "      <th>TIPO_PACIENTE</th>\n",
              "      <th>FECHA_INGRESO</th>\n",
              "      <th>FECHA_SINTOMAS</th>\n",
              "      <th>FECHA_DEF</th>\n",
              "      <th>INTUBADO</th>\n",
              "      <th>NEUMONIA</th>\n",
              "      <th>EDAD</th>\n",
              "      <th>NACIONALIDAD</th>\n",
              "      <th>EMBARAZO</th>\n",
              "      <th>HABLA_LENGUA_INDIG</th>\n",
              "      <th>INDIGENA</th>\n",
              "      <th>DIABETES</th>\n",
              "      <th>EPOC</th>\n",
              "      <th>ASMA</th>\n",
              "      <th>INMUSUPR</th>\n",
              "      <th>HIPERTENSION</th>\n",
              "      <th>OTRA_COM</th>\n",
              "      <th>CARDIOVASCULAR</th>\n",
              "      <th>OBESIDAD</th>\n",
              "      <th>RENAL_CRONICA</th>\n",
              "      <th>TABAQUISMO</th>\n",
              "      <th>OTRO_CASO</th>\n",
              "      <th>TOMA_MUESTRA_LAB</th>\n",
              "      <th>RESULTADO_LAB</th>\n",
              "      <th>TOMA_MUESTRA_ANTIGENO</th>\n",
              "      <th>RESULTADO_ANTIGENO</th>\n",
              "      <th>CLASIFICACION_FINAL</th>\n",
              "      <th>MIGRANTE</th>\n",
              "      <th>PAIS_NACIONALIDAD</th>\n",
              "      <th>PAIS_ORIGEN</th>\n",
              "      <th>UCI</th>\n",
              "      <th>RESULTADO</th>\n",
              "      <th>TIEMPO_ESPERA</th>\n",
              "      <th>FALLECIDO</th>\n",
              "      <th>ENFERMEDAD_GRAVE</th>\n",
              "      <th>HOSPITALIZADO</th>\n",
              "      <th>SEXO_</th>\n",
              "      <th>SECTOR_ATENDIDO</th>\n",
              "      <th>ESTADO</th>\n",
              "    </tr>\n",
              "  </thead>\n",
              "  <tbody>\n",
              "    <tr>\n",
              "      <th>496584</th>\n",
              "      <td>2021-04-01</td>\n",
              "      <td>7bf2f2</td>\n",
              "      <td>2</td>\n",
              "      <td>12</td>\n",
              "      <td>9</td>\n",
              "      <td>1</td>\n",
              "      <td>9</td>\n",
              "      <td>9</td>\n",
              "      <td>12</td>\n",
              "      <td>1</td>\n",
              "      <td>2021-02-02</td>\n",
              "      <td>2021-01-31</td>\n",
              "      <td>9999-99-99</td>\n",
              "      <td>0</td>\n",
              "      <td>0</td>\n",
              "      <td>29</td>\n",
              "      <td>1</td>\n",
              "      <td>0</td>\n",
              "      <td>2</td>\n",
              "      <td>2</td>\n",
              "      <td>0</td>\n",
              "      <td>0</td>\n",
              "      <td>0</td>\n",
              "      <td>0</td>\n",
              "      <td>0</td>\n",
              "      <td>0</td>\n",
              "      <td>0</td>\n",
              "      <td>0</td>\n",
              "      <td>0</td>\n",
              "      <td>0</td>\n",
              "      <td>2</td>\n",
              "      <td>2</td>\n",
              "      <td>97</td>\n",
              "      <td>1</td>\n",
              "      <td>1</td>\n",
              "      <td>3</td>\n",
              "      <td>99</td>\n",
              "      <td>México</td>\n",
              "      <td>97</td>\n",
              "      <td>0</td>\n",
              "      <td>1</td>\n",
              "      <td>2</td>\n",
              "      <td>0</td>\n",
              "      <td>0</td>\n",
              "      <td>0</td>\n",
              "      <td>MUJER</td>\n",
              "      <td>SSA</td>\n",
              "      <td>DF</td>\n",
              "    </tr>\n",
              "    <tr>\n",
              "      <th>1706673</th>\n",
              "      <td>2021-04-01</td>\n",
              "      <td>dc07ae</td>\n",
              "      <td>2</td>\n",
              "      <td>4</td>\n",
              "      <td>21</td>\n",
              "      <td>2</td>\n",
              "      <td>21</td>\n",
              "      <td>21</td>\n",
              "      <td>114</td>\n",
              "      <td>1</td>\n",
              "      <td>2021-03-22</td>\n",
              "      <td>2021-03-16</td>\n",
              "      <td>9999-99-99</td>\n",
              "      <td>0</td>\n",
              "      <td>0</td>\n",
              "      <td>50</td>\n",
              "      <td>1</td>\n",
              "      <td>0</td>\n",
              "      <td>2</td>\n",
              "      <td>2</td>\n",
              "      <td>1</td>\n",
              "      <td>0</td>\n",
              "      <td>0</td>\n",
              "      <td>0</td>\n",
              "      <td>0</td>\n",
              "      <td>0</td>\n",
              "      <td>0</td>\n",
              "      <td>1</td>\n",
              "      <td>0</td>\n",
              "      <td>0</td>\n",
              "      <td>2</td>\n",
              "      <td>2</td>\n",
              "      <td>97</td>\n",
              "      <td>1</td>\n",
              "      <td>1</td>\n",
              "      <td>3</td>\n",
              "      <td>99</td>\n",
              "      <td>México</td>\n",
              "      <td>97</td>\n",
              "      <td>0</td>\n",
              "      <td>1</td>\n",
              "      <td>6</td>\n",
              "      <td>0</td>\n",
              "      <td>0</td>\n",
              "      <td>0</td>\n",
              "      <td>HOMBRE</td>\n",
              "      <td>IMSS</td>\n",
              "      <td>PL</td>\n",
              "    </tr>\n",
              "    <tr>\n",
              "      <th>1054040</th>\n",
              "      <td>2021-04-01</td>\n",
              "      <td>27d236</td>\n",
              "      <td>1</td>\n",
              "      <td>12</td>\n",
              "      <td>19</td>\n",
              "      <td>2</td>\n",
              "      <td>19</td>\n",
              "      <td>19</td>\n",
              "      <td>26</td>\n",
              "      <td>1</td>\n",
              "      <td>2020-10-20</td>\n",
              "      <td>2020-10-19</td>\n",
              "      <td>9999-99-99</td>\n",
              "      <td>0</td>\n",
              "      <td>0</td>\n",
              "      <td>16</td>\n",
              "      <td>1</td>\n",
              "      <td>0</td>\n",
              "      <td>2</td>\n",
              "      <td>2</td>\n",
              "      <td>0</td>\n",
              "      <td>0</td>\n",
              "      <td>0</td>\n",
              "      <td>0</td>\n",
              "      <td>0</td>\n",
              "      <td>0</td>\n",
              "      <td>0</td>\n",
              "      <td>0</td>\n",
              "      <td>0</td>\n",
              "      <td>0</td>\n",
              "      <td>2</td>\n",
              "      <td>1</td>\n",
              "      <td>1</td>\n",
              "      <td>2</td>\n",
              "      <td>97</td>\n",
              "      <td>3</td>\n",
              "      <td>99</td>\n",
              "      <td>México</td>\n",
              "      <td>97</td>\n",
              "      <td>0</td>\n",
              "      <td>1</td>\n",
              "      <td>1</td>\n",
              "      <td>0</td>\n",
              "      <td>0</td>\n",
              "      <td>0</td>\n",
              "      <td>HOMBRE</td>\n",
              "      <td>SSA</td>\n",
              "      <td>NL</td>\n",
              "    </tr>\n",
              "  </tbody>\n",
              "</table>\n",
              "</div>"
            ],
            "text/plain": [
              "        FECHA_ACTUALIZACION ID_REGISTRO  ORIGEN  ...   SEXO_  SECTOR_ATENDIDO  ESTADO\n",
              "496584           2021-04-01      7bf2f2       2  ...   MUJER              SSA      DF\n",
              "1706673          2021-04-01      dc07ae       2  ...  HOMBRE             IMSS      PL\n",
              "1054040          2021-04-01      27d236       1  ...  HOMBRE              SSA      NL\n",
              "\n",
              "[3 rows x 48 columns]"
            ]
          },
          "metadata": {
            "tags": []
          },
          "execution_count": 2
        }
      ]
    },
    {
      "cell_type": "code",
      "metadata": {
        "id": "uMeapIettEae"
      },
      "source": [
        "columns = ['EDAD', 'EMBARAZO','DIABETES', 'EPOC', 'ASMA', 'INMUSUPR', 'HIPERTENSION', 'OTRA_COM',\n",
        "       'CARDIOVASCULAR', 'OBESIDAD', 'RENAL_CRONICA', 'TABAQUISMO',\n",
        "       'TIEMPO_ESPERA', 'HOSPITALIZADO','SEXO_','SECTOR_ATENDIDO','ESTADO','ENFERMEDAD_GRAVE','FALLECIDO']\n",
        "data = data[columns]"
      ],
      "execution_count": 3,
      "outputs": []
    },
    {
      "cell_type": "markdown",
      "metadata": {
        "id": "1ciHyE3XOyR1"
      },
      "source": [
        "## Preparación de datos"
      ]
    },
    {
      "cell_type": "code",
      "metadata": {
        "id": "u84QYkUaPvYB"
      },
      "source": [
        "data = data.rename({\"SEXO_\":\"SEXO\"}, axis = 1)"
      ],
      "execution_count": 4,
      "outputs": []
    },
    {
      "cell_type": "code",
      "metadata": {
        "id": "045quDLyLF88",
        "colab": {
          "base_uri": "https://localhost:8080/"
        },
        "outputId": "0d5ab52d-687c-4940-d15c-478d475d46a8"
      },
      "source": [
        "data.columns"
      ],
      "execution_count": 5,
      "outputs": [
        {
          "output_type": "execute_result",
          "data": {
            "text/plain": [
              "Index(['EDAD', 'EMBARAZO', 'DIABETES', 'EPOC', 'ASMA', 'INMUSUPR',\n",
              "       'HIPERTENSION', 'OTRA_COM', 'CARDIOVASCULAR', 'OBESIDAD',\n",
              "       'RENAL_CRONICA', 'TABAQUISMO', 'TIEMPO_ESPERA', 'HOSPITALIZADO', 'SEXO',\n",
              "       'SECTOR_ATENDIDO', 'ESTADO', 'ENFERMEDAD_GRAVE', 'FALLECIDO'],\n",
              "      dtype='object')"
            ]
          },
          "metadata": {
            "tags": []
          },
          "execution_count": 5
        }
      ]
    },
    {
      "cell_type": "markdown",
      "metadata": {
        "id": "hQX0oK9vOvId"
      },
      "source": [
        "### Creación de variables dummies (catagóricas)"
      ]
    },
    {
      "cell_type": "code",
      "metadata": {
        "id": "yHZIrXvbO4kw"
      },
      "source": [
        "categories = [\"SEXO\",\"SECTOR_ATENDIDO\",\"ESTADO\"]\n",
        "for cat in categories:\n",
        "  cat_dummies = pd.get_dummies(data[cat], prefix = cat)\n",
        "  data = data.join(cat_dummies)"
      ],
      "execution_count": 6,
      "outputs": []
    },
    {
      "cell_type": "code",
      "metadata": {
        "id": "cfArVpDeQcZB",
        "colab": {
          "base_uri": "https://localhost:8080/"
        },
        "outputId": "ca234864-5476-4f7b-cf2f-d517b66c287d"
      },
      "source": [
        "data.columns"
      ],
      "execution_count": 7,
      "outputs": [
        {
          "output_type": "execute_result",
          "data": {
            "text/plain": [
              "Index(['EDAD', 'EMBARAZO', 'DIABETES', 'EPOC', 'ASMA', 'INMUSUPR',\n",
              "       'HIPERTENSION', 'OTRA_COM', 'CARDIOVASCULAR', 'OBESIDAD',\n",
              "       'RENAL_CRONICA', 'TABAQUISMO', 'TIEMPO_ESPERA', 'HOSPITALIZADO', 'SEXO',\n",
              "       'SECTOR_ATENDIDO', 'ESTADO', 'ENFERMEDAD_GRAVE', 'FALLECIDO',\n",
              "       'SEXO_HOMBRE', 'SEXO_MUJER', 'SECTOR_ATENDIDO_CRUZ ROJA',\n",
              "       'SECTOR_ATENDIDO_DIF', 'SECTOR_ATENDIDO_ESTATAL',\n",
              "       'SECTOR_ATENDIDO_IMSS', 'SECTOR_ATENDIDO_IMSS-BIENESTAR',\n",
              "       'SECTOR_ATENDIDO_ISSSTE', 'SECTOR_ATENDIDO_MUNICIPAL',\n",
              "       'SECTOR_ATENDIDO_PEMEX', 'SECTOR_ATENDIDO_PRIVADA',\n",
              "       'SECTOR_ATENDIDO_SEDENA', 'SECTOR_ATENDIDO_SEMAR',\n",
              "       'SECTOR_ATENDIDO_SSA', 'SECTOR_ATENDIDO_UNIVERSITARIO', 'ESTADO_AS',\n",
              "       'ESTADO_BC', 'ESTADO_BS', 'ESTADO_CC', 'ESTADO_CH', 'ESTADO_CL',\n",
              "       'ESTADO_CM', 'ESTADO_CS', 'ESTADO_DF', 'ESTADO_DG', 'ESTADO_GR',\n",
              "       'ESTADO_GT', 'ESTADO_HG', 'ESTADO_JC', 'ESTADO_MC', 'ESTADO_MN',\n",
              "       'ESTADO_MS', 'ESTADO_NL', 'ESTADO_NT', 'ESTADO_OC', 'ESTADO_PL',\n",
              "       'ESTADO_QR', 'ESTADO_QT', 'ESTADO_SL', 'ESTADO_SP', 'ESTADO_SR',\n",
              "       'ESTADO_TC', 'ESTADO_TL', 'ESTADO_TS', 'ESTADO_VZ', 'ESTADO_YN',\n",
              "       'ESTADO_ZS'],\n",
              "      dtype='object')"
            ]
          },
          "metadata": {
            "tags": []
          },
          "execution_count": 7
        }
      ]
    },
    {
      "cell_type": "code",
      "metadata": {
        "id": "c4JTG3lCLxyF"
      },
      "source": [
        "# Columnas de las condiciones del paciente ántes de ser atendido por una institución de salud\n",
        "before_columns = ['EDAD', 'EMBARAZO','DIABETES', 'EPOC', 'ASMA', 'INMUSUPR', 'HIPERTENSION', 'OTRA_COM',\n",
        "       'CARDIOVASCULAR', 'OBESIDAD', 'RENAL_CRONICA', 'TABAQUISMO', 'ESTADO_AS','SEXO_HOMBRE', 'SEXO_MUJER',\n",
        "       'ESTADO_BC', 'ESTADO_BS', 'ESTADO_CC', 'ESTADO_CH', 'ESTADO_CL',\n",
        "       'ESTADO_CM', 'ESTADO_CS', 'ESTADO_DF', 'ESTADO_DG', 'ESTADO_GR',\n",
        "       'ESTADO_GT', 'ESTADO_HG', 'ESTADO_JC', 'ESTADO_MC', 'ESTADO_MN',\n",
        "       'ESTADO_MS', 'ESTADO_NL', 'ESTADO_NT', 'ESTADO_OC', 'ESTADO_PL',\n",
        "       'ESTADO_QR', 'ESTADO_QT', 'ESTADO_SL', 'ESTADO_SP', 'ESTADO_SR',\n",
        "       'ESTADO_TC', 'ESTADO_TL', 'ESTADO_TS', 'ESTADO_VZ', 'ESTADO_YN',\n",
        "       'ESTADO_ZS']\n",
        "\n",
        "# Columnas de las condiciones del paciente después de ser atendido por una institución de salud\n",
        "after_columns = ['EDAD', 'EMBARAZO','DIABETES', 'EPOC', 'ASMA', 'INMUSUPR', 'HIPERTENSION', 'OTRA_COM',\n",
        "       'CARDIOVASCULAR', 'OBESIDAD', 'RENAL_CRONICA', 'TABAQUISMO',\n",
        "       'TIEMPO_ESPERA', 'HOSPITALIZADO','SEXO_HOMBRE', 'SEXO_MUJER', 'SECTOR_ATENDIDO_CRUZ ROJA',\n",
        "       'SECTOR_ATENDIDO_DIF', 'SECTOR_ATENDIDO_ESTATAL', 'SECTOR_ATENDIDO_IMSS', 'SECTOR_ATENDIDO_IMSS-BIENESTAR',\n",
        "       'SECTOR_ATENDIDO_ISSSTE', 'SECTOR_ATENDIDO_MUNICIPAL', 'SECTOR_ATENDIDO_PEMEX', 'SECTOR_ATENDIDO_PRIVADA',\n",
        "       'SECTOR_ATENDIDO_SEDENA', 'SECTOR_ATENDIDO_SEMAR', 'SECTOR_ATENDIDO_SSA', 'SECTOR_ATENDIDO_UNIVERSITARIO', 'ESTADO_AS',\n",
        "       'ESTADO_BC', 'ESTADO_BS', 'ESTADO_CC', 'ESTADO_CH', 'ESTADO_CL',\n",
        "       'ESTADO_CM', 'ESTADO_CS', 'ESTADO_DF', 'ESTADO_DG', 'ESTADO_GR',\n",
        "       'ESTADO_GT', 'ESTADO_HG', 'ESTADO_JC', 'ESTADO_MC', 'ESTADO_MN',\n",
        "       'ESTADO_MS', 'ESTADO_NL', 'ESTADO_NT', 'ESTADO_OC', 'ESTADO_PL',\n",
        "       'ESTADO_QR', 'ESTADO_QT', 'ESTADO_SL', 'ESTADO_SP', 'ESTADO_SR',\n",
        "       'ESTADO_TC', 'ESTADO_TL', 'ESTADO_TS', 'ESTADO_VZ', 'ESTADO_YN',\n",
        "       'ESTADO_ZS']\n",
        "\n"
      ],
      "execution_count": 8,
      "outputs": []
    },
    {
      "cell_type": "markdown",
      "metadata": {
        "id": "UvzFyZlpF_ps"
      },
      "source": [
        "### Eliminación de outlier\n",
        "Se identificó que una columna posiblemente tenga datos atípicos. La columna `TIEMPO_ESPERA`"
      ]
    },
    {
      "cell_type": "code",
      "metadata": {
        "id": "wzziVoLjGR42"
      },
      "source": [
        "def summary(data):\n",
        "  minimo = data.min()\n",
        "  Q1 = data.quantile(0.25)\n",
        "  median = data.median()\n",
        "  mean = data.mean()\n",
        "  Q2 = data.quantile(0.5)\n",
        "  Q3 = data.quantile(0.75)\n",
        "  maximo = data.max()\n",
        "  IQR = Q3 - Q1\n",
        "  resumen = {'minimo': minimo, 'Q1': Q1, 'mediana':median,'Q2':Q2,'Q3':Q3,'max':maximo,'IQR':IQR, 'media':mean}\n",
        "  return resumen"
      ],
      "execution_count": 9,
      "outputs": []
    },
    {
      "cell_type": "code",
      "metadata": {
        "id": "ElbTIyiOGbhy",
        "outputId": "72a4e93a-b3d0-4634-d912-e473bd5a39ba",
        "colab": {
          "base_uri": "https://localhost:8080/"
        }
      },
      "source": [
        "print (\"Resumen TIEMPO_ESPERA\")\n",
        "time_summary = summary(data[\"TIEMPO_ESPERA\"])\n",
        "time_summary"
      ],
      "execution_count": 10,
      "outputs": [
        {
          "output_type": "stream",
          "text": [
            "Resumen TIEMPO_ESPERA\n"
          ],
          "name": "stdout"
        },
        {
          "output_type": "execute_result",
          "data": {
            "text/plain": [
              "{'IQR': 4.0,\n",
              " 'Q1': 2.0,\n",
              " 'Q2': 3.0,\n",
              " 'Q3': 6.0,\n",
              " 'max': 174,\n",
              " 'media': 4.076062198742845,\n",
              " 'mediana': 3.0,\n",
              " 'minimo': 0}"
            ]
          },
          "metadata": {
            "tags": []
          },
          "execution_count": 10
        }
      ]
    },
    {
      "cell_type": "code",
      "metadata": {
        "id": "wx1ebHGbGw-k",
        "outputId": "0c36e071-b3d4-4056-c8de-eea8e5921e8b",
        "colab": {
          "base_uri": "https://localhost:8080/",
          "height": 407
        }
      },
      "source": [
        "plt.boxplot(data[\"TIEMPO_ESPERA\"])"
      ],
      "execution_count": 11,
      "outputs": [
        {
          "output_type": "execute_result",
          "data": {
            "text/plain": [
              "{'boxes': [<matplotlib.lines.Line2D at 0x7ff8a1fd3650>],\n",
              " 'caps': [<matplotlib.lines.Line2D at 0x7ff8a20c6490>,\n",
              "  <matplotlib.lines.Line2D at 0x7ff89c492bd0>],\n",
              " 'fliers': [<matplotlib.lines.Line2D at 0x7ff8a1fd3ed0>],\n",
              " 'means': [],\n",
              " 'medians': [<matplotlib.lines.Line2D at 0x7ff89c492710>],\n",
              " 'whiskers': [<matplotlib.lines.Line2D at 0x7ff8a20c6b90>,\n",
              "  <matplotlib.lines.Line2D at 0x7ff8a20c6950>]}"
            ]
          },
          "metadata": {
            "tags": []
          },
          "execution_count": 11
        },
        {
          "output_type": "display_data",
          "data": {
            "image/png": "[encoded data removed]",
            "text/plain": [
              "<Figure size 432x288 with 1 Axes>"
            ]
          },
          "metadata": {
            "tags": [],
            "needs_background": "light"
          }
        }
      ]
    },
    {
      "cell_type": "code",
      "metadata": {
        "id": "TReM01lWHmkF"
      },
      "source": [
        "data = data[data[\"TIEMPO_ESPERA\"] <= time_summary[\"Q3\"] + 1.5*time_summary[\"IQR\"]]"
      ],
      "execution_count": 12,
      "outputs": []
    },
    {
      "cell_type": "markdown",
      "metadata": {
        "id": "NiILeV3VDmDj"
      },
      "source": [
        "### Normalización de datos numéroicos\n",
        "Se normalizarán las variables de `EDAD` y `TIEMPO_ESPERA`"
      ]
    },
    {
      "cell_type": "code",
      "metadata": {
        "id": "1p5_d-4fEeN9",
        "outputId": "16b9a963-acb6-4337-f5ec-0138302d39ed",
        "colab": {
          "base_uri": "https://localhost:8080/"
        }
      },
      "source": [
        "data[\"EDAD\"].describe()"
      ],
      "execution_count": 14,
      "outputs": [
        {
          "output_type": "execute_result",
          "data": {
            "text/plain": [
              "count    2.163626e+06\n",
              "mean     4.355414e+01\n",
              "std      1.700503e+01\n",
              "min      0.000000e+00\n",
              "25%      3.000000e+01\n",
              "50%      4.200000e+01\n",
              "75%      5.500000e+01\n",
              "max      1.210000e+02\n",
              "Name: EDAD, dtype: float64"
            ]
          },
          "metadata": {
            "tags": []
          },
          "execution_count": 14
        }
      ]
    },
    {
      "cell_type": "code",
      "metadata": {
        "id": "kbwHGfLeDpG5"
      },
      "source": [
        "scaled = preprocessing.MinMaxScaler()\n",
        "scaled_edad = scaled.fit_transform(data[\"EDAD\"].values.reshape(-1,1))\n",
        "data[\"EDAD\"] = scaled_edad"
      ],
      "execution_count": 15,
      "outputs": []
    },
    {
      "cell_type": "code",
      "metadata": {
        "id": "IUyjGPUMFFQY",
        "outputId": "e850d1df-5367-418c-bff1-d9e430d2f8b9",
        "colab": {
          "base_uri": "https://localhost:8080/"
        }
      },
      "source": [
        "data[\"EDAD\"].describe()"
      ],
      "execution_count": 16,
      "outputs": [
        {
          "output_type": "execute_result",
          "data": {
            "text/plain": [
              "count    2.163626e+06\n",
              "mean     3.599515e-01\n",
              "std      1.405374e-01\n",
              "min      0.000000e+00\n",
              "25%      2.479339e-01\n",
              "50%      3.471074e-01\n",
              "75%      4.545455e-01\n",
              "max      1.000000e+00\n",
              "Name: EDAD, dtype: float64"
            ]
          },
          "metadata": {
            "tags": []
          },
          "execution_count": 16
        }
      ]
    },
    {
      "cell_type": "code",
      "metadata": {
        "id": "6yDI-JJRFV2V",
        "outputId": "a57d849c-3d54-47bc-a3c2-aa018397550e",
        "colab": {
          "base_uri": "https://localhost:8080/"
        }
      },
      "source": [
        "data[\"TIEMPO_ESPERA\"].describe()"
      ],
      "execution_count": 17,
      "outputs": [
        {
          "output_type": "execute_result",
          "data": {
            "text/plain": [
              "count    2.163626e+06\n",
              "mean     3.780447e+00\n",
              "std      2.834329e+00\n",
              "min      0.000000e+00\n",
              "25%      2.000000e+00\n",
              "50%      3.000000e+00\n",
              "75%      6.000000e+00\n",
              "max      1.200000e+01\n",
              "Name: TIEMPO_ESPERA, dtype: float64"
            ]
          },
          "metadata": {
            "tags": []
          },
          "execution_count": 17
        }
      ]
    },
    {
      "cell_type": "code",
      "metadata": {
        "id": "0pTyFNgmFSyi"
      },
      "source": [
        "scaled = preprocessing.MinMaxScaler()\n",
        "scaled_time = scaled.fit_transform(data[\"TIEMPO_ESPERA\"].values.reshape(-1,1))\n",
        "data[\"TIEMPO_ESPERA\"] = scaled_time"
      ],
      "execution_count": 18,
      "outputs": []
    },
    {
      "cell_type": "code",
      "metadata": {
        "id": "GDXFQorQFrc_",
        "outputId": "84c4cdad-c751-4bc7-b137-a3e19f08cd65",
        "colab": {
          "base_uri": "https://localhost:8080/"
        }
      },
      "source": [
        "data[\"TIEMPO_ESPERA\"].describe()"
      ],
      "execution_count": 19,
      "outputs": [
        {
          "output_type": "execute_result",
          "data": {
            "text/plain": [
              "count    2.163626e+06\n",
              "mean     3.150373e-01\n",
              "std      2.361941e-01\n",
              "min      0.000000e+00\n",
              "25%      1.666667e-01\n",
              "50%      2.500000e-01\n",
              "75%      5.000000e-01\n",
              "max      1.000000e+00\n",
              "Name: TIEMPO_ESPERA, dtype: float64"
            ]
          },
          "metadata": {
            "tags": []
          },
          "execution_count": 19
        }
      ]
    },
    {
      "cell_type": "markdown",
      "metadata": {
        "id": "8iIf_wKDQi2-"
      },
      "source": [
        "## Modelo para condiciones iniciales del paciente\n"
      ]
    },
    {
      "cell_type": "markdown",
      "metadata": {
        "id": "1rnD9p4PQtBO"
      },
      "source": [
        "### Selección de las varianbles"
      ]
    },
    {
      "cell_type": "code",
      "metadata": {
        "id": "_WVDFOKtQwT8",
        "colab": {
          "base_uri": "https://localhost:8080/"
        },
        "outputId": "3b0f83be-22d9-4b1d-d774-9287daed5912"
      },
      "source": [
        "X_before = data[before_columns].copy()\n",
        "Y_deceased = data[\"FALLECIDO\"].copy()\n",
        "len(before_columns)"
      ],
      "execution_count": 20,
      "outputs": [
        {
          "output_type": "execute_result",
          "data": {
            "text/plain": [
              "46"
            ]
          },
          "metadata": {
            "tags": []
          },
          "execution_count": 20
        }
      ]
    },
    {
      "cell_type": "code",
      "metadata": {
        "id": "EyKGPJaBtuwU",
        "colab": {
          "base_uri": "https://localhost:8080/"
        },
        "outputId": "29e935ed-4d22-4d8f-8f64-43fd808c2334"
      },
      "source": [
        "data.columns"
      ],
      "execution_count": 21,
      "outputs": [
        {
          "output_type": "execute_result",
          "data": {
            "text/plain": [
              "Index(['EDAD', 'EMBARAZO', 'DIABETES', 'EPOC', 'ASMA', 'INMUSUPR',\n",
              "       'HIPERTENSION', 'OTRA_COM', 'CARDIOVASCULAR', 'OBESIDAD',\n",
              "       'RENAL_CRONICA', 'TABAQUISMO', 'TIEMPO_ESPERA', 'HOSPITALIZADO', 'SEXO',\n",
              "       'SECTOR_ATENDIDO', 'ESTADO', 'ENFERMEDAD_GRAVE', 'FALLECIDO',\n",
              "       'SEXO_HOMBRE', 'SEXO_MUJER', 'SECTOR_ATENDIDO_CRUZ ROJA',\n",
              "       'SECTOR_ATENDIDO_DIF', 'SECTOR_ATENDIDO_ESTATAL',\n",
              "       'SECTOR_ATENDIDO_IMSS', 'SECTOR_ATENDIDO_IMSS-BIENESTAR',\n",
              "       'SECTOR_ATENDIDO_ISSSTE', 'SECTOR_ATENDIDO_MUNICIPAL',\n",
              "       'SECTOR_ATENDIDO_PEMEX', 'SECTOR_ATENDIDO_PRIVADA',\n",
              "       'SECTOR_ATENDIDO_SEDENA', 'SECTOR_ATENDIDO_SEMAR',\n",
              "       'SECTOR_ATENDIDO_SSA', 'SECTOR_ATENDIDO_UNIVERSITARIO', 'ESTADO_AS',\n",
              "       'ESTADO_BC', 'ESTADO_BS', 'ESTADO_CC', 'ESTADO_CH', 'ESTADO_CL',\n",
              "       'ESTADO_CM', 'ESTADO_CS', 'ESTADO_DF', 'ESTADO_DG', 'ESTADO_GR',\n",
              "       'ESTADO_GT', 'ESTADO_HG', 'ESTADO_JC', 'ESTADO_MC', 'ESTADO_MN',\n",
              "       'ESTADO_MS', 'ESTADO_NL', 'ESTADO_NT', 'ESTADO_OC', 'ESTADO_PL',\n",
              "       'ESTADO_QR', 'ESTADO_QT', 'ESTADO_SL', 'ESTADO_SP', 'ESTADO_SR',\n",
              "       'ESTADO_TC', 'ESTADO_TL', 'ESTADO_TS', 'ESTADO_VZ', 'ESTADO_YN',\n",
              "       'ESTADO_ZS'],\n",
              "      dtype='object')"
            ]
          },
          "metadata": {
            "tags": []
          },
          "execution_count": 21
        }
      ]
    },
    {
      "cell_type": "markdown",
      "metadata": {
        "id": "H8hzzn69biqF"
      },
      "source": [
        "Nos quedaremos con la mitad de las variables "
      ]
    },
    {
      "cell_type": "markdown",
      "metadata": {
        "id": "GmauXjYKx8nt"
      },
      "source": [
        "Se utiliza el solver sag porque es más rápido para datasets grandes (en variables y tamaño de la muestra)\n",
        "\n",
        "* [Referencia 1](https://stackoverflow.com/questions/38640109/logistic-regression-python-solvers-defintions)\n",
        "* [Referencia 2](https://rubialesalberto.medium.com/regresi%C3%B3n-log%C3%ADstica-con-sklearn-4384c707075d)"
      ]
    },
    {
      "cell_type": "code",
      "metadata": {
        "id": "M6pE7WAudumb"
      },
      "source": [
        "n = 23\n",
        "lr = linear_model.LogisticRegression(solver=\"sag\")\n",
        "rfe = RFE(lr,n)\n",
        "rfe = rfe.fit(X_before,Y_deceased)"
      ],
      "execution_count": 22,
      "outputs": []
    },
    {
      "cell_type": "code",
      "metadata": {
        "id": "T1mEuuYSeBys",
        "outputId": "a016a44b-6ad8-439c-fe66-e7afaedbd3e0",
        "colab": {
          "base_uri": "https://localhost:8080/"
        }
      },
      "source": [
        "var_included = list(zip(before_columns, rfe.support_, rfe.ranking_))\n",
        "var_included.sort(key = lambda x: x[2])\n",
        "print (tabulate(var_included))"
      ],
      "execution_count": 23,
      "outputs": [
        {
          "output_type": "stream",
          "text": [
            "--------------  -  --\n",
            "EDAD            1   1\n",
            "DIABETES        1   1\n",
            "INMUSUPR        1   1\n",
            "HIPERTENSION    1   1\n",
            "OTRA_COM        1   1\n",
            "OBESIDAD        1   1\n",
            "RENAL_CRONICA   1   1\n",
            "SEXO_HOMBRE     1   1\n",
            "SEXO_MUJER      1   1\n",
            "ESTADO_BC       1   1\n",
            "ESTADO_BS       1   1\n",
            "ESTADO_CH       1   1\n",
            "ESTADO_CS       1   1\n",
            "ESTADO_DF       1   1\n",
            "ESTADO_HG       1   1\n",
            "ESTADO_MC       1   1\n",
            "ESTADO_NT       1   1\n",
            "ESTADO_PL       1   1\n",
            "ESTADO_QR       1   1\n",
            "ESTADO_SL       1   1\n",
            "ESTADO_TC       1   1\n",
            "ESTADO_TL       1   1\n",
            "ESTADO_VZ       1   1\n",
            "ESTADO_OC       0   2\n",
            "ESTADO_QT       0   3\n",
            "ESTADO_NL       0   4\n",
            "ESTADO_DG       0   5\n",
            "ESTADO_SP       0   6\n",
            "ESTADO_GT       0   7\n",
            "ESTADO_SR       0   8\n",
            "ESTADO_MS       0   9\n",
            "EPOC            0  10\n",
            "ESTADO_CC       0  11\n",
            "ASMA            0  12\n",
            "ESTADO_TS       0  13\n",
            "ESTADO_ZS       0  14\n",
            "ESTADO_AS       0  15\n",
            "ESTADO_GR       0  16\n",
            "TABAQUISMO      0  17\n",
            "ESTADO_JC       0  18\n",
            "EMBARAZO        0  19\n",
            "ESTADO_CL       0  20\n",
            "ESTADO_MN       0  21\n",
            "ESTADO_CM       0  22\n",
            "ESTADO_YN       0  23\n",
            "CARDIOVASCULAR  0  24\n",
            "--------------  -  --\n"
          ],
          "name": "stdout"
        }
      ]
    }
  ]
}