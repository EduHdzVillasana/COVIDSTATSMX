{
  "nbformat": 4,
  "nbformat_minor": 0,
  "metadata": {
    "language_info": {
      "codemirror_mode": {
        "name": "ipython",
        "version": 3
      },
      "file_extension": ".py",
      "mimetype": "text/x-python",
      "name": "python",
      "nbconvert_exporter": "python",
      "pygments_lexer": "ipython3",
      "version": "3.9.0-final"
    },
    "orig_nbformat": 2,
    "kernelspec": {
      "name": "python390jvsc74a57bd01f65e174391277f634e70871feaa21300658cb740b5dabfc689c4c43dbc10e3e",
      "display_name": "Python 3.9.0 64-bit"
    },
    "metadata": {
      "interpreter": {
        "hash": "1f65e174391277f634e70871feaa21300658cb740b5dabfc689c4c43dbc10e3e"
      }
    },
    "colab": {
      "name": "COVID_MX.ipynb",
      "provenance": [],
      "toc_visible": true,
      "include_colab_link": true
    },
    "accelerator": "GPU"
  },
  "cells": [
    {
      "cell_type": "markdown",
      "metadata": {
        "id": "view-in-github",
        "colab_type": "text"
      },
      "source": [
        "<a href=\"https://colab.research.google.com/github/EduHdzVillasana/COVIDSTATSMX/blob/master/An%C3%A1lisis%20y%20Modelado/COVID_MX.ipynb\" target=\"_parent\"><img src=\"https://colab.research.google.com/assets/colab-badge.svg\" alt=\"Open In Colab\"/></a>"
      ]
    },
    {
      "cell_type": "markdown",
      "metadata": {
        "id": "e6BlGzWXAIOF"
      },
      "source": [
        "# Análisis estadístico y aplicación de un modelo para el dataset de COVID-19 proporcionado por la secretaría de salud.\n",
        "\n",
        "### Objetivos\n",
        "* Identidicar los factores de los pacientes que aumentan su probabilidad de fallecer o presentar enfermedad grave.\n",
        "* Identificar si la mortalidad varía dependiendo de la recidencia del paciente o en qué institución de salud se atendió.\n",
        "* Identificar si la probabilidad de padecer la enfermedad grave varía dependiendo de la recidencia del paciente o en qué institución de salud se atendió.\n",
        "* Conocer si la mortalidad cambió en el transcurso de la pandemia.\n",
        "* Conocer si la probabilidad de padecer la enfermedad grave cambió en el transcurso de la pandemia.\n",
        "* Crear un modelo que prediga la probabilidad de muerte de un paciente dada sus características. Antes y después de ser atendido por una institución de salud. \n",
        "* Crear un modelo que prediga la probabilidad de presentar enfermedad grave de un paciente dada sus características. Antes y después de ser  atendido por una institución de salud.\n"
      ]
    },
    {
      "cell_type": "code",
      "metadata": {
        "id": "TJOVfrPlALTI"
      },
      "source": [
        "import pandas as pd\n",
        "import numpy as np\n",
        "import matplotlib.pyplot as plt\n",
        "from datetime import datetime\n",
        "import os\n",
        "import sys\n",
        "\n",
        "# Librerias para la regresión logística\n",
        "import statsmodels.api as sm\n",
        "from sklearn import datasets\n",
        "from sklearn.feature_selection import RFE\n",
        "from sklearn.linear_model import LogisticRegression\n",
        "from tabulate import tabulate\n",
        "from sklearn import linear_model\n",
        "\n",
        "# Librerias para la validación del modelo\n",
        "from sklearn.model_selection import train_test_split\n",
        "from sklearn import metrics\n",
        "from sklearn.model_selection import cross_val_score"
      ],
      "execution_count": 32,
      "outputs": []
    },
    {
      "cell_type": "code",
      "metadata": {
        "id": "yeihjMuMEtz2"
      },
      "source": [
        "# Librería hecha para manejar el dataset de covid\n",
        "sys.path.insert(1,'/content/drive/MyDrive/Python Scripts/')\n",
        "import COVID19_MX as covid"
      ],
      "execution_count": 7,
      "outputs": []
    },
    {
      "cell_type": "markdown",
      "metadata": {
        "id": "pHtKnC-LOjp2"
      },
      "source": [
        "## Carga de Dataset principal y auxiliares\n",
        "Los dataset auxiliares `sexo_df`, `sector_df` y `entidad_df` servirán para usar variables categóricas en el modelo."
      ]
    },
    {
      "cell_type": "code",
      "metadata": {
        "id": "jTY9wUIgFHFi"
      },
      "source": [
        "aux_dataset_path = \"https://raw.githubusercontent.com/EduHdzVillasana/COVIDSTATSMX/master/Diccionario%20de%20Datos\"\n",
        "main_dataset_path = \"/content/drive/MyDrive/Datos Abiertos\"\n",
        "covid_file = \"210401COVID19MEXICO.csv\"\n",
        "sexo_file = \"Sexo.csv\"\n",
        "sector_file = \"Sector.csv\"\n",
        "entidad_file = \"Entidad.csv\""
      ],
      "execution_count": 9,
      "outputs": []
    },
    {
      "cell_type": "code",
      "metadata": {
        "id": "NxfGHroePkML"
      },
      "source": [
        "covid_df = pd.read_csv(os.path.join(main_dataset_path,covid_file))\n",
        "sexo_df = pd.read_csv(os.path.join(aux_dataset_path,sexo_file))\n",
        "sector_df = pd.read_csv(os.path.join(aux_dataset_path,sector_file))\n",
        "entidad_df = pd.read_csv(os.path.join(aux_dataset_path,entidad_file))"
      ],
      "execution_count": 10,
      "outputs": []
    },
    {
      "cell_type": "markdown",
      "metadata": {
        "id": "P3YcU5pTQaWU"
      },
      "source": [
        "## Limpieza y Tratamiento de Datos"
      ]
    },
    {
      "cell_type": "code",
      "metadata": {
        "id": "rQWD6rUBQl7a",
        "outputId": "c5c3aa30-9f33-4cf2-d683-3fa44e6627a6",
        "colab": {
          "base_uri": "https://localhost:8080/",
          "height": 160
        }
      },
      "source": [
        "covid_df.sample(2)"
      ],
      "execution_count": 11,
      "outputs": [
        {
          "output_type": "execute_result",
          "data": {
            "text/html": [
              "<div>\n",
              "<style scoped>\n",
              "    .dataframe tbody tr th:only-of-type {\n",
              "        vertical-align: middle;\n",
              "    }\n",
              "\n",
              "    .dataframe tbody tr th {\n",
              "        vertical-align: top;\n",
              "    }\n",
              "\n",
              "    .dataframe thead th {\n",
              "        text-align: right;\n",
              "    }\n",
              "</style>\n",
              "<table border=\"1\" class=\"dataframe\">\n",
              "  <thead>\n",
              "    <tr style=\"text-align: right;\">\n",
              "      <th></th>\n",
              "      <th>FECHA_ACTUALIZACION</th>\n",
              "      <th>ID_REGISTRO</th>\n",
              "      <th>ORIGEN</th>\n",
              "      <th>SECTOR</th>\n",
              "      <th>ENTIDAD_UM</th>\n",
              "      <th>SEXO</th>\n",
              "      <th>ENTIDAD_NAC</th>\n",
              "      <th>ENTIDAD_RES</th>\n",
              "      <th>MUNICIPIO_RES</th>\n",
              "      <th>TIPO_PACIENTE</th>\n",
              "      <th>FECHA_INGRESO</th>\n",
              "      <th>FECHA_SINTOMAS</th>\n",
              "      <th>FECHA_DEF</th>\n",
              "      <th>INTUBADO</th>\n",
              "      <th>NEUMONIA</th>\n",
              "      <th>EDAD</th>\n",
              "      <th>NACIONALIDAD</th>\n",
              "      <th>EMBARAZO</th>\n",
              "      <th>HABLA_LENGUA_INDIG</th>\n",
              "      <th>INDIGENA</th>\n",
              "      <th>DIABETES</th>\n",
              "      <th>EPOC</th>\n",
              "      <th>ASMA</th>\n",
              "      <th>INMUSUPR</th>\n",
              "      <th>HIPERTENSION</th>\n",
              "      <th>OTRA_COM</th>\n",
              "      <th>CARDIOVASCULAR</th>\n",
              "      <th>OBESIDAD</th>\n",
              "      <th>RENAL_CRONICA</th>\n",
              "      <th>TABAQUISMO</th>\n",
              "      <th>OTRO_CASO</th>\n",
              "      <th>TOMA_MUESTRA_LAB</th>\n",
              "      <th>RESULTADO_LAB</th>\n",
              "      <th>TOMA_MUESTRA_ANTIGENO</th>\n",
              "      <th>RESULTADO_ANTIGENO</th>\n",
              "      <th>CLASIFICACION_FINAL</th>\n",
              "      <th>MIGRANTE</th>\n",
              "      <th>PAIS_NACIONALIDAD</th>\n",
              "      <th>PAIS_ORIGEN</th>\n",
              "      <th>UCI</th>\n",
              "    </tr>\n",
              "  </thead>\n",
              "  <tbody>\n",
              "    <tr>\n",
              "      <th>170354</th>\n",
              "      <td>2021-04-01</td>\n",
              "      <td>0952f4</td>\n",
              "      <td>2</td>\n",
              "      <td>12</td>\n",
              "      <td>15</td>\n",
              "      <td>1</td>\n",
              "      <td>15</td>\n",
              "      <td>15</td>\n",
              "      <td>75</td>\n",
              "      <td>1</td>\n",
              "      <td>2020-05-04</td>\n",
              "      <td>2020-04-30</td>\n",
              "      <td>9999-99-99</td>\n",
              "      <td>97</td>\n",
              "      <td>2</td>\n",
              "      <td>54</td>\n",
              "      <td>1</td>\n",
              "      <td>2</td>\n",
              "      <td>2</td>\n",
              "      <td>2</td>\n",
              "      <td>2</td>\n",
              "      <td>2</td>\n",
              "      <td>2</td>\n",
              "      <td>2</td>\n",
              "      <td>2</td>\n",
              "      <td>2</td>\n",
              "      <td>2</td>\n",
              "      <td>2</td>\n",
              "      <td>2</td>\n",
              "      <td>2</td>\n",
              "      <td>1</td>\n",
              "      <td>1</td>\n",
              "      <td>1</td>\n",
              "      <td>2</td>\n",
              "      <td>97</td>\n",
              "      <td>3</td>\n",
              "      <td>99</td>\n",
              "      <td>México</td>\n",
              "      <td>97</td>\n",
              "      <td>97</td>\n",
              "    </tr>\n",
              "    <tr>\n",
              "      <th>477225</th>\n",
              "      <td>2021-04-01</td>\n",
              "      <td>04947a</td>\n",
              "      <td>2</td>\n",
              "      <td>4</td>\n",
              "      <td>9</td>\n",
              "      <td>1</td>\n",
              "      <td>9</td>\n",
              "      <td>9</td>\n",
              "      <td>10</td>\n",
              "      <td>2</td>\n",
              "      <td>2020-06-02</td>\n",
              "      <td>2020-06-01</td>\n",
              "      <td>9999-99-99</td>\n",
              "      <td>2</td>\n",
              "      <td>2</td>\n",
              "      <td>26</td>\n",
              "      <td>1</td>\n",
              "      <td>2</td>\n",
              "      <td>2</td>\n",
              "      <td>2</td>\n",
              "      <td>2</td>\n",
              "      <td>2</td>\n",
              "      <td>2</td>\n",
              "      <td>2</td>\n",
              "      <td>2</td>\n",
              "      <td>2</td>\n",
              "      <td>2</td>\n",
              "      <td>2</td>\n",
              "      <td>2</td>\n",
              "      <td>2</td>\n",
              "      <td>99</td>\n",
              "      <td>1</td>\n",
              "      <td>2</td>\n",
              "      <td>2</td>\n",
              "      <td>97</td>\n",
              "      <td>7</td>\n",
              "      <td>99</td>\n",
              "      <td>México</td>\n",
              "      <td>97</td>\n",
              "      <td>2</td>\n",
              "    </tr>\n",
              "  </tbody>\n",
              "</table>\n",
              "</div>"
            ],
            "text/plain": [
              "       FECHA_ACTUALIZACION ID_REGISTRO  ...  PAIS_ORIGEN  UCI\n",
              "170354          2021-04-01      0952f4  ...           97   97\n",
              "477225          2021-04-01      04947a  ...           97    2\n",
              "\n",
              "[2 rows x 40 columns]"
            ]
          },
          "metadata": {
            "tags": []
          },
          "execution_count": 11
        }
      ]
    },
    {
      "cell_type": "code",
      "metadata": {
        "id": "oxV0QnwyRH1a",
        "outputId": "ffe233f1-8ad3-4b55-a4e1-600dba8c96f1",
        "colab": {
          "base_uri": "https://localhost:8080/"
        }
      },
      "source": [
        "covid_df.dtypes"
      ],
      "execution_count": 15,
      "outputs": [
        {
          "output_type": "execute_result",
          "data": {
            "text/plain": [
              "FECHA_ACTUALIZACION      object\n",
              "ID_REGISTRO              object\n",
              "ORIGEN                    int64\n",
              "SECTOR                    int64\n",
              "ENTIDAD_UM                int64\n",
              "SEXO                      int64\n",
              "ENTIDAD_NAC               int64\n",
              "ENTIDAD_RES               int64\n",
              "MUNICIPIO_RES             int64\n",
              "TIPO_PACIENTE             int64\n",
              "FECHA_INGRESO            object\n",
              "FECHA_SINTOMAS           object\n",
              "FECHA_DEF                object\n",
              "INTUBADO                  int64\n",
              "NEUMONIA                  int64\n",
              "EDAD                      int64\n",
              "NACIONALIDAD              int64\n",
              "EMBARAZO                  int64\n",
              "HABLA_LENGUA_INDIG        int64\n",
              "INDIGENA                  int64\n",
              "DIABETES                  int64\n",
              "EPOC                      int64\n",
              "ASMA                      int64\n",
              "INMUSUPR                  int64\n",
              "HIPERTENSION              int64\n",
              "OTRA_COM                  int64\n",
              "CARDIOVASCULAR            int64\n",
              "OBESIDAD                  int64\n",
              "RENAL_CRONICA             int64\n",
              "TABAQUISMO                int64\n",
              "OTRO_CASO                 int64\n",
              "TOMA_MUESTRA_LAB          int64\n",
              "RESULTADO_LAB             int64\n",
              "TOMA_MUESTRA_ANTIGENO     int64\n",
              "RESULTADO_ANTIGENO        int64\n",
              "CLASIFICACION_FINAL       int64\n",
              "MIGRANTE                  int64\n",
              "PAIS_NACIONALIDAD        object\n",
              "PAIS_ORIGEN              object\n",
              "UCI                       int64\n",
              "dtype: object"
            ]
          },
          "metadata": {
            "tags": []
          },
          "execution_count": 15
        }
      ]
    },
    {
      "cell_type": "code",
      "metadata": {
        "id": "WkIIIRc5ROF_",
        "outputId": "dd6cb15b-df3f-4c3d-f4cb-176bdefb3647",
        "colab": {
          "base_uri": "https://localhost:8080/"
        }
      },
      "source": [
        "covid_df.shape"
      ],
      "execution_count": 16,
      "outputs": [
        {
          "output_type": "execute_result",
          "data": {
            "text/plain": [
              "(6110815, 40)"
            ]
          },
          "metadata": {
            "tags": []
          },
          "execution_count": 16
        }
      ]
    },
    {
      "cell_type": "markdown",
      "metadata": {
        "id": "gGT3AY5qW5xU"
      },
      "source": [
        "### Se agrega columna Resultado\n",
        "**Se agrega la columna de `RESULTADO` para facilitar el análisis** \n",
        "* Positivo: 1\n",
        "* Negativo: 2\n",
        "* Sospechoso: 3"
      ]
    },
    {
      "cell_type": "code",
      "metadata": {
        "id": "c_cPnVr6XezS"
      },
      "source": [
        "covid_df[\"RESULTADO\"] = covid_df[\"CLASIFICACION_FINAL\"].apply(covid.getResult)"
      ],
      "execution_count": 25,
      "outputs": []
    },
    {
      "cell_type": "code",
      "metadata": {
        "id": "9mHsfIp_Xp0W",
        "outputId": "707ac98d-4634-4915-a946-7af1e12c1e0e",
        "colab": {
          "base_uri": "https://localhost:8080/",
          "height": 136
        }
      },
      "source": [
        "covid_df[[\"CLASIFICACION_FINAL\",\"RESULTADO\"]].sample(3)"
      ],
      "execution_count": 26,
      "outputs": [
        {
          "output_type": "execute_result",
          "data": {
            "text/html": [
              "<div>\n",
              "<style scoped>\n",
              "    .dataframe tbody tr th:only-of-type {\n",
              "        vertical-align: middle;\n",
              "    }\n",
              "\n",
              "    .dataframe tbody tr th {\n",
              "        vertical-align: top;\n",
              "    }\n",
              "\n",
              "    .dataframe thead th {\n",
              "        text-align: right;\n",
              "    }\n",
              "</style>\n",
              "<table border=\"1\" class=\"dataframe\">\n",
              "  <thead>\n",
              "    <tr style=\"text-align: right;\">\n",
              "      <th></th>\n",
              "      <th>CLASIFICACION_FINAL</th>\n",
              "      <th>RESULTADO</th>\n",
              "    </tr>\n",
              "  </thead>\n",
              "  <tbody>\n",
              "    <tr>\n",
              "      <th>794842</th>\n",
              "      <td>7</td>\n",
              "      <td>2</td>\n",
              "    </tr>\n",
              "    <tr>\n",
              "      <th>5539723</th>\n",
              "      <td>7</td>\n",
              "      <td>2</td>\n",
              "    </tr>\n",
              "    <tr>\n",
              "      <th>3679216</th>\n",
              "      <td>3</td>\n",
              "      <td>1</td>\n",
              "    </tr>\n",
              "  </tbody>\n",
              "</table>\n",
              "</div>"
            ],
            "text/plain": [
              "         CLASIFICACION_FINAL  RESULTADO\n",
              "794842                     7          2\n",
              "5539723                    7          2\n",
              "3679216                    3          1"
            ]
          },
          "metadata": {
            "tags": []
          },
          "execution_count": 26
        }
      ]
    },
    {
      "cell_type": "code",
      "metadata": {
        "id": "ClQ6VKc-Wggs",
        "outputId": "373c2965-4084-463a-9812-a9779d24a450",
        "colab": {
          "base_uri": "https://localhost:8080/"
        }
      },
      "source": [
        "date = \"2021-04-01\"\n",
        "comulative_cases = covid.getComulativeCases(covid_df)\n",
        "covid.printCumulativeCases(comulative_cases, date)"
      ],
      "execution_count": 27,
      "outputs": [
        {
          "output_type": "stream",
          "text": [
            "Fecha de actualización: 2021-04-01\n",
            "\n",
            "  Total de casos estudiados: 6110815\n",
            "\n",
            "  Casos Positivos a SARS-CoV-2: 2244268\n",
            "\n",
            "  Casos No Positivos a SARS-CoV-2: 3426205\n",
            "\n",
            "  Casos Con Resultado Pendiente: 440342\n",
            "\n",
            "  Defunciones Positivas a SARS-CoV-2: 203664\n",
            "\n",
            "  Tasa de Letalidad: 9.075%\n",
            "\n",
            "  Tasa de Positividad : 39.578%\n",
            "\n"
          ],
          "name": "stdout"
        }
      ]
    },
    {
      "cell_type": "markdown",
      "metadata": {
        "id": "EfWwq-HqSCaO"
      },
      "source": [
        "### Filtrado de casos con datos incompletos\n",
        "\n",
        "En el diccionario de datos se identifico que hay valores *no aplica* o *no especificado*, para realizar el análisis hay que eliminar esos valores, ya sea eliminando el caso que los contenga o cambiandolo. El problema es que esos valores están en varias columnas, por lo tanto se tendrá que usar un `for loop`."
      ]
    },
    {
      "cell_type": "code",
      "metadata": {
        "id": "FNkh-wbTSiaS"
      },
      "source": [
        "# Se filtra el dataset para eliminar casos con información No especificada y se toman solamente los casos positivos.\n",
        "data_filtered = covid_df[(covid_df[\"SEXO\"] != 99)\n",
        "& (covid_df[\"SECTOR\"] != 99)\n",
        "& (covid_df[\"ENTIDAD_UM\"] < 97)\n",
        "& (covid_df[\"RESULTADO\"] == 1)]"
      ],
      "execution_count": 28,
      "outputs": []
    },
    {
      "cell_type": "code",
      "metadata": {
        "id": "wP-7_tWsT230",
        "outputId": "75fb912d-63b3-45d9-8e16-ceb0f1971242",
        "colab": {
          "base_uri": "https://localhost:8080/"
        }
      },
      "source": [
        "# Se filtran los datos No especificados de las categorias SI-NO (leer el diccionario de datos)\n",
        "data_filtered[\"EMBARAZO\"] = np.where(data_filtered[\"SEXO\"] == 2, 2, data_filtered[\"EMBARAZO\"])\n",
        "\n",
        "categorias_si_no = ['NEUMONIA','DIABETES', 'EPOC', 'ASMA', 'INMUSUPR', 'HIPERTENSION', 'OTRA_COM',\n",
        "                    'CARDIOVASCULAR', 'OBESIDAD', 'RENAL_CRONICA', 'TABAQUISMO','EMBARAZO']\n",
        "\n",
        "for cat in categorias_si_no:\n",
        "  data_filtered = data_filtered[data_filtered[cat] <= 3]\n",
        "  data_filtered[cat] = data_filtered[cat].apply(lambda x: 1 if x == 1 else 0)"
      ],
      "execution_count": 29,
      "outputs": [
        {
          "output_type": "stream",
          "text": [
            "/usr/local/lib/python3.7/dist-packages/ipykernel_launcher.py:2: SettingWithCopyWarning: \n",
            "A value is trying to be set on a copy of a slice from a DataFrame.\n",
            "Try using .loc[row_indexer,col_indexer] = value instead\n",
            "\n",
            "See the caveats in the documentation: https://pandas.pydata.org/pandas-docs/stable/user_guide/indexing.html#returning-a-view-versus-a-copy\n",
            "  \n"
          ],
          "name": "stderr"
        }
      ]
    },
    {
      "cell_type": "code",
      "metadata": {
        "id": "42IVHrzgVxqm",
        "outputId": "40ca6b39-a6ad-4baa-8beb-c5e9fd0ee76a",
        "colab": {
          "base_uri": "https://localhost:8080/"
        }
      },
      "source": [
        "data_filtered.shape"
      ],
      "execution_count": 30,
      "outputs": [
        {
          "output_type": "execute_result",
          "data": {
            "text/plain": [
              "(2223535, 41)"
            ]
          },
          "metadata": {
            "tags": []
          },
          "execution_count": 30
        }
      ]
    },
    {
      "cell_type": "markdown",
      "metadata": {
        "id": "MJufqvTtWaql"
      },
      "source": [
        "Oficialmente hay 2,244,268 casos positivos a SARS-COV-2, pero después del filtrado obtuvimos 2,223,535, hay una diferencia de 20,733 casos, esto se debe a que se eliminaron casos con información incompleta. Por la cantidad de datos esta diferencia es estadísticamente insignificante y no supondrá un problema en el análisis o en la creación del modelo."
      ]
    },
    {
      "cell_type": "code",
      "metadata": {
        "id": "HE8LHAv5ZUFV",
        "outputId": "8ef842ad-8a09-4c6f-c1cc-5a5368d994ac",
        "colab": {
          "base_uri": "https://localhost:8080/",
          "height": 299
        }
      },
      "source": [
        "data_filtered.sample(5)"
      ],
      "execution_count": 31,
      "outputs": [
        {
          "output_type": "execute_result",
          "data": {
            "text/html": [
              "<div>\n",
              "<style scoped>\n",
              "    .dataframe tbody tr th:only-of-type {\n",
              "        vertical-align: middle;\n",
              "    }\n",
              "\n",
              "    .dataframe tbody tr th {\n",
              "        vertical-align: top;\n",
              "    }\n",
              "\n",
              "    .dataframe thead th {\n",
              "        text-align: right;\n",
              "    }\n",
              "</style>\n",
              "<table border=\"1\" class=\"dataframe\">\n",
              "  <thead>\n",
              "    <tr style=\"text-align: right;\">\n",
              "      <th></th>\n",
              "      <th>FECHA_ACTUALIZACION</th>\n",
              "      <th>ID_REGISTRO</th>\n",
              "      <th>ORIGEN</th>\n",
              "      <th>SECTOR</th>\n",
              "      <th>ENTIDAD_UM</th>\n",
              "      <th>SEXO</th>\n",
              "      <th>ENTIDAD_NAC</th>\n",
              "      <th>ENTIDAD_RES</th>\n",
              "      <th>MUNICIPIO_RES</th>\n",
              "      <th>TIPO_PACIENTE</th>\n",
              "      <th>FECHA_INGRESO</th>\n",
              "      <th>FECHA_SINTOMAS</th>\n",
              "      <th>FECHA_DEF</th>\n",
              "      <th>INTUBADO</th>\n",
              "      <th>NEUMONIA</th>\n",
              "      <th>EDAD</th>\n",
              "      <th>NACIONALIDAD</th>\n",
              "      <th>EMBARAZO</th>\n",
              "      <th>HABLA_LENGUA_INDIG</th>\n",
              "      <th>INDIGENA</th>\n",
              "      <th>DIABETES</th>\n",
              "      <th>EPOC</th>\n",
              "      <th>ASMA</th>\n",
              "      <th>INMUSUPR</th>\n",
              "      <th>HIPERTENSION</th>\n",
              "      <th>OTRA_COM</th>\n",
              "      <th>CARDIOVASCULAR</th>\n",
              "      <th>OBESIDAD</th>\n",
              "      <th>RENAL_CRONICA</th>\n",
              "      <th>TABAQUISMO</th>\n",
              "      <th>OTRO_CASO</th>\n",
              "      <th>TOMA_MUESTRA_LAB</th>\n",
              "      <th>RESULTADO_LAB</th>\n",
              "      <th>TOMA_MUESTRA_ANTIGENO</th>\n",
              "      <th>RESULTADO_ANTIGENO</th>\n",
              "      <th>CLASIFICACION_FINAL</th>\n",
              "      <th>MIGRANTE</th>\n",
              "      <th>PAIS_NACIONALIDAD</th>\n",
              "      <th>PAIS_ORIGEN</th>\n",
              "      <th>UCI</th>\n",
              "      <th>RESULTADO</th>\n",
              "    </tr>\n",
              "  </thead>\n",
              "  <tbody>\n",
              "    <tr>\n",
              "      <th>2681647</th>\n",
              "      <td>2021-04-01</td>\n",
              "      <td>435665</td>\n",
              "      <td>1</td>\n",
              "      <td>4</td>\n",
              "      <td>8</td>\n",
              "      <td>2</td>\n",
              "      <td>8</td>\n",
              "      <td>8</td>\n",
              "      <td>19</td>\n",
              "      <td>2</td>\n",
              "      <td>2020-11-19</td>\n",
              "      <td>2020-11-10</td>\n",
              "      <td>2020-11-20</td>\n",
              "      <td>2</td>\n",
              "      <td>1</td>\n",
              "      <td>81</td>\n",
              "      <td>1</td>\n",
              "      <td>0</td>\n",
              "      <td>2</td>\n",
              "      <td>2</td>\n",
              "      <td>1</td>\n",
              "      <td>0</td>\n",
              "      <td>0</td>\n",
              "      <td>0</td>\n",
              "      <td>1</td>\n",
              "      <td>0</td>\n",
              "      <td>0</td>\n",
              "      <td>1</td>\n",
              "      <td>0</td>\n",
              "      <td>0</td>\n",
              "      <td>2</td>\n",
              "      <td>1</td>\n",
              "      <td>1</td>\n",
              "      <td>2</td>\n",
              "      <td>97</td>\n",
              "      <td>3</td>\n",
              "      <td>99</td>\n",
              "      <td>México</td>\n",
              "      <td>97</td>\n",
              "      <td>2</td>\n",
              "      <td>1</td>\n",
              "    </tr>\n",
              "    <tr>\n",
              "      <th>395161</th>\n",
              "      <td>2021-04-01</td>\n",
              "      <td>0d5735</td>\n",
              "      <td>1</td>\n",
              "      <td>4</td>\n",
              "      <td>18</td>\n",
              "      <td>2</td>\n",
              "      <td>18</td>\n",
              "      <td>18</td>\n",
              "      <td>17</td>\n",
              "      <td>1</td>\n",
              "      <td>2020-06-02</td>\n",
              "      <td>2020-05-25</td>\n",
              "      <td>9999-99-99</td>\n",
              "      <td>97</td>\n",
              "      <td>0</td>\n",
              "      <td>48</td>\n",
              "      <td>1</td>\n",
              "      <td>0</td>\n",
              "      <td>2</td>\n",
              "      <td>2</td>\n",
              "      <td>0</td>\n",
              "      <td>0</td>\n",
              "      <td>0</td>\n",
              "      <td>0</td>\n",
              "      <td>0</td>\n",
              "      <td>0</td>\n",
              "      <td>0</td>\n",
              "      <td>0</td>\n",
              "      <td>0</td>\n",
              "      <td>0</td>\n",
              "      <td>99</td>\n",
              "      <td>1</td>\n",
              "      <td>1</td>\n",
              "      <td>2</td>\n",
              "      <td>97</td>\n",
              "      <td>3</td>\n",
              "      <td>99</td>\n",
              "      <td>México</td>\n",
              "      <td>97</td>\n",
              "      <td>97</td>\n",
              "      <td>1</td>\n",
              "    </tr>\n",
              "    <tr>\n",
              "      <th>1442351</th>\n",
              "      <td>2021-04-01</td>\n",
              "      <td>1dc85a</td>\n",
              "      <td>2</td>\n",
              "      <td>4</td>\n",
              "      <td>15</td>\n",
              "      <td>2</td>\n",
              "      <td>15</td>\n",
              "      <td>15</td>\n",
              "      <td>113</td>\n",
              "      <td>2</td>\n",
              "      <td>2020-08-19</td>\n",
              "      <td>2020-08-05</td>\n",
              "      <td>2020-09-07</td>\n",
              "      <td>2</td>\n",
              "      <td>1</td>\n",
              "      <td>67</td>\n",
              "      <td>1</td>\n",
              "      <td>0</td>\n",
              "      <td>2</td>\n",
              "      <td>2</td>\n",
              "      <td>1</td>\n",
              "      <td>0</td>\n",
              "      <td>0</td>\n",
              "      <td>0</td>\n",
              "      <td>0</td>\n",
              "      <td>0</td>\n",
              "      <td>0</td>\n",
              "      <td>0</td>\n",
              "      <td>0</td>\n",
              "      <td>1</td>\n",
              "      <td>2</td>\n",
              "      <td>1</td>\n",
              "      <td>1</td>\n",
              "      <td>2</td>\n",
              "      <td>97</td>\n",
              "      <td>3</td>\n",
              "      <td>99</td>\n",
              "      <td>México</td>\n",
              "      <td>97</td>\n",
              "      <td>2</td>\n",
              "      <td>1</td>\n",
              "    </tr>\n",
              "    <tr>\n",
              "      <th>4089371</th>\n",
              "      <td>2021-04-01</td>\n",
              "      <td>2cc6a9</td>\n",
              "      <td>2</td>\n",
              "      <td>12</td>\n",
              "      <td>12</td>\n",
              "      <td>2</td>\n",
              "      <td>12</td>\n",
              "      <td>12</td>\n",
              "      <td>29</td>\n",
              "      <td>1</td>\n",
              "      <td>2021-01-15</td>\n",
              "      <td>2021-01-09</td>\n",
              "      <td>9999-99-99</td>\n",
              "      <td>97</td>\n",
              "      <td>0</td>\n",
              "      <td>20</td>\n",
              "      <td>1</td>\n",
              "      <td>0</td>\n",
              "      <td>2</td>\n",
              "      <td>2</td>\n",
              "      <td>0</td>\n",
              "      <td>0</td>\n",
              "      <td>0</td>\n",
              "      <td>0</td>\n",
              "      <td>0</td>\n",
              "      <td>0</td>\n",
              "      <td>0</td>\n",
              "      <td>0</td>\n",
              "      <td>0</td>\n",
              "      <td>1</td>\n",
              "      <td>2</td>\n",
              "      <td>1</td>\n",
              "      <td>1</td>\n",
              "      <td>2</td>\n",
              "      <td>97</td>\n",
              "      <td>3</td>\n",
              "      <td>99</td>\n",
              "      <td>México</td>\n",
              "      <td>97</td>\n",
              "      <td>97</td>\n",
              "      <td>1</td>\n",
              "    </tr>\n",
              "    <tr>\n",
              "      <th>5896472</th>\n",
              "      <td>2021-04-01</td>\n",
              "      <td>6d79c8</td>\n",
              "      <td>1</td>\n",
              "      <td>4</td>\n",
              "      <td>21</td>\n",
              "      <td>1</td>\n",
              "      <td>21</td>\n",
              "      <td>21</td>\n",
              "      <td>174</td>\n",
              "      <td>1</td>\n",
              "      <td>2021-03-21</td>\n",
              "      <td>2021-03-20</td>\n",
              "      <td>9999-99-99</td>\n",
              "      <td>97</td>\n",
              "      <td>0</td>\n",
              "      <td>34</td>\n",
              "      <td>1</td>\n",
              "      <td>0</td>\n",
              "      <td>2</td>\n",
              "      <td>2</td>\n",
              "      <td>0</td>\n",
              "      <td>0</td>\n",
              "      <td>0</td>\n",
              "      <td>0</td>\n",
              "      <td>0</td>\n",
              "      <td>0</td>\n",
              "      <td>0</td>\n",
              "      <td>0</td>\n",
              "      <td>0</td>\n",
              "      <td>0</td>\n",
              "      <td>2</td>\n",
              "      <td>2</td>\n",
              "      <td>97</td>\n",
              "      <td>1</td>\n",
              "      <td>1</td>\n",
              "      <td>3</td>\n",
              "      <td>99</td>\n",
              "      <td>México</td>\n",
              "      <td>97</td>\n",
              "      <td>97</td>\n",
              "      <td>1</td>\n",
              "    </tr>\n",
              "  </tbody>\n",
              "</table>\n",
              "</div>"
            ],
            "text/plain": [
              "        FECHA_ACTUALIZACION ID_REGISTRO  ORIGEN  ...  PAIS_ORIGEN  UCI  RESULTADO\n",
              "2681647          2021-04-01      435665       1  ...           97    2          1\n",
              "395161           2021-04-01      0d5735       1  ...           97   97          1\n",
              "1442351          2021-04-01      1dc85a       2  ...           97    2          1\n",
              "4089371          2021-04-01      2cc6a9       2  ...           97   97          1\n",
              "5896472          2021-04-01      6d79c8       1  ...           97   97          1\n",
              "\n",
              "[5 rows x 41 columns]"
            ]
          },
          "metadata": {
            "tags": []
          },
          "execution_count": 31
        }
      ]
    },
    {
      "cell_type": "markdown",
      "metadata": {
        "id": "Kl29mR8xZccM"
      },
      "source": [
        "### Cambio de tipo de dato de fechas\n",
        "**Las columnas de `FECHA_SINTOMAS` y `FECHA_INGRESO` correspondientes a la fecha de inicio de sintomas y a la fecha de ingreso a la unidad de atención estan en string, se les cambiará a tipo de dato `datetima` para el manejo de fechas**"
      ]
    },
    {
      "cell_type": "code",
      "metadata": {
        "id": "QuDL5oyLcT7y"
      },
      "source": [
        "data_filtered[\"FECHA_INGRESO\"] = pd.to_datetime(data_filtered[\"FECHA_INGRESO\"], format = \"%Y-%m-%d\")"
      ],
      "execution_count": 33,
      "outputs": []
    },
    {
      "cell_type": "code",
      "metadata": {
        "id": "fZxugA2heWD5"
      },
      "source": [
        "data_filtered[\"FECHA_SINTOMAS\"] = pd.to_datetime(data_filtered[\"FECHA_SINTOMAS\"], format = \"%Y-%m-%d\")"
      ],
      "execution_count": 35,
      "outputs": []
    },
    {
      "cell_type": "code",
      "metadata": {
        "id": "gAEqdpNSeJNM",
        "outputId": "3f53cc13-e46c-4dd6-df02-b0ba990972c9",
        "colab": {
          "base_uri": "https://localhost:8080/"
        }
      },
      "source": [
        "data_filtered[[\"FECHA_INGRESO\",\"FECHA_SINTOMAS\"]].dtypes"
      ],
      "execution_count": 37,
      "outputs": [
        {
          "output_type": "execute_result",
          "data": {
            "text/plain": [
              "FECHA_INGRESO     datetime64[ns]\n",
              "FECHA_SINTOMAS    datetime64[ns]\n",
              "dtype: object"
            ]
          },
          "metadata": {
            "tags": []
          },
          "execution_count": 37
        }
      ]
    },
    {
      "cell_type": "code",
      "metadata": {
        "id": "RYW_zeJSdQZx",
        "outputId": "f4984330-f14f-4782-fc4d-6042ebf6e03d",
        "colab": {
          "base_uri": "https://localhost:8080/",
          "height": 195
        }
      },
      "source": [
        "data_filtered[[\"FECHA_INGRESO\",\"FECHA_SINTOMAS\"]].sample(5)"
      ],
      "execution_count": 39,
      "outputs": [
        {
          "output_type": "execute_result",
          "data": {
            "text/html": [
              "<div>\n",
              "<style scoped>\n",
              "    .dataframe tbody tr th:only-of-type {\n",
              "        vertical-align: middle;\n",
              "    }\n",
              "\n",
              "    .dataframe tbody tr th {\n",
              "        vertical-align: top;\n",
              "    }\n",
              "\n",
              "    .dataframe thead th {\n",
              "        text-align: right;\n",
              "    }\n",
              "</style>\n",
              "<table border=\"1\" class=\"dataframe\">\n",
              "  <thead>\n",
              "    <tr style=\"text-align: right;\">\n",
              "      <th></th>\n",
              "      <th>FECHA_INGRESO</th>\n",
              "      <th>FECHA_SINTOMAS</th>\n",
              "    </tr>\n",
              "  </thead>\n",
              "  <tbody>\n",
              "    <tr>\n",
              "      <th>5168633</th>\n",
              "      <td>2021-02-15</td>\n",
              "      <td>2021-02-15</td>\n",
              "    </tr>\n",
              "    <tr>\n",
              "      <th>1487349</th>\n",
              "      <td>2020-08-25</td>\n",
              "      <td>2020-08-21</td>\n",
              "    </tr>\n",
              "    <tr>\n",
              "      <th>3277727</th>\n",
              "      <td>2020-12-16</td>\n",
              "      <td>2020-12-12</td>\n",
              "    </tr>\n",
              "    <tr>\n",
              "      <th>3480080</th>\n",
              "      <td>2020-12-23</td>\n",
              "      <td>2020-12-19</td>\n",
              "    </tr>\n",
              "    <tr>\n",
              "      <th>3780860</th>\n",
              "      <td>2021-01-07</td>\n",
              "      <td>2021-01-07</td>\n",
              "    </tr>\n",
              "  </tbody>\n",
              "</table>\n",
              "</div>"
            ],
            "text/plain": [
              "        FECHA_INGRESO FECHA_SINTOMAS\n",
              "5168633    2021-02-15     2021-02-15\n",
              "1487349    2020-08-25     2020-08-21\n",
              "3277727    2020-12-16     2020-12-12\n",
              "3480080    2020-12-23     2020-12-19\n",
              "3780860    2021-01-07     2021-01-07"
            ]
          },
          "metadata": {
            "tags": []
          },
          "execution_count": 39
        }
      ]
    },
    {
      "cell_type": "markdown",
      "metadata": {
        "id": "PQUOglXDfxm2"
      },
      "source": [
        "### Agregado de columna `TIEMPO_ESPERA`\n",
        "Se agrega la columna `TIEMPO_ESPERA` que indica el tiempo en días que paso desde el inicio de los sintomas `FECHA_SINTOMAS` y el ingreso a la unidad de salud `FECHA_INGRESO`."
      ]
    },
    {
      "cell_type": "code",
      "metadata": {
        "id": "D29MFi17gaN8"
      },
      "source": [
        "data_filtered[\"TIEMPO_ESPERA\"] = data_filtered[\"FECHA_INGRESO\"] - data_filtered[\"FECHA_SINTOMAS\"]\n",
        "data_filtered[\"TIEMPO_ESPERA\"] = data_filtered[\"TIEMPO_ESPERA\"].apply(lambda x: x.days)"
      ],
      "execution_count": 42,
      "outputs": []
    },
    {
      "cell_type": "code",
      "metadata": {
        "id": "cXsklztRhjvK",
        "outputId": "4741d9b3-01b4-4e74-9a50-8f9afd751b31",
        "colab": {
          "base_uri": "https://localhost:8080/"
        }
      },
      "source": [
        "data_filtered[\"TIEMPO_ESPERA\"].dtypes"
      ],
      "execution_count": 44,
      "outputs": [
        {
          "output_type": "execute_result",
          "data": {
            "text/plain": [
              "dtype('int64')"
            ]
          },
          "metadata": {
            "tags": []
          },
          "execution_count": 44
        }
      ]
    },
    {
      "cell_type": "markdown",
      "metadata": {
        "id": "JtlWwfTCkCh1"
      },
      "source": [
        "### Combinación del dataframe principal con los dataframes auxiliares."
      ]
    },
    {
      "cell_type": "code",
      "metadata": {
        "id": "p4PDj0l4l2u2"
      },
      "source": [
        "# Se le cambian los nombres de las columnas a los dataframes auxiliares\n",
        "sexo_df.columns = [\"SEXO\", \"SEXO_\"]"
      ],
      "execution_count": null,
      "outputs": []
    },
    {
      "cell_type": "code",
      "metadata": {
        "id": "dnGwZ696kYT6"
      },
      "source": [
        "data_filtered = pd.merge(data_filtered, sexo_df, how = \"inner\", on = \"SEXO\")\n",
        "data_filtered = pd.merge(data_filtered, sector_df, how = \"inner\", on = \"SECTOR\")\n",
        "data_filtered = pd.merge(data_filtered, entidad_df, how = \"inner\", on = \"ENTIDAD_UM\")"
      ],
      "execution_count": 48,
      "outputs": []
    },
    {
      "cell_type": "code",
      "metadata": {
        "id": "FxFfDu_tkzf3",
        "outputId": "97a724e9-1b06-44f1-dd7d-78dcedad9fe0",
        "colab": {
          "base_uri": "https://localhost:8080/",
          "height": 195
        }
      },
      "source": [
        "data_filtered[[\"DESCRIPCIÓN\",\"SECTOR\",\"ENTIDAD_UM\"]].sample(5)"
      ],
      "execution_count": 49,
      "outputs": [
        {
          "output_type": "execute_result",
          "data": {
            "text/html": [
              "<div>\n",
              "<style scoped>\n",
              "    .dataframe tbody tr th:only-of-type {\n",
              "        vertical-align: middle;\n",
              "    }\n",
              "\n",
              "    .dataframe tbody tr th {\n",
              "        vertical-align: top;\n",
              "    }\n",
              "\n",
              "    .dataframe thead th {\n",
              "        text-align: right;\n",
              "    }\n",
              "</style>\n",
              "<table border=\"1\" class=\"dataframe\">\n",
              "  <thead>\n",
              "    <tr style=\"text-align: right;\">\n",
              "      <th></th>\n",
              "      <th>SEXO</th>\n",
              "      <th>SECTOR</th>\n",
              "      <th>ENTIDAD_UM</th>\n",
              "    </tr>\n",
              "  </thead>\n",
              "  <tbody>\n",
              "    <tr>\n",
              "      <th>1694314</th>\n",
              "      <td>2</td>\n",
              "      <td>4</td>\n",
              "      <td>21</td>\n",
              "    </tr>\n",
              "    <tr>\n",
              "      <th>2078640</th>\n",
              "      <td>1</td>\n",
              "      <td>12</td>\n",
              "      <td>11</td>\n",
              "    </tr>\n",
              "    <tr>\n",
              "      <th>337469</th>\n",
              "      <td>1</td>\n",
              "      <td>12</td>\n",
              "      <td>9</td>\n",
              "    </tr>\n",
              "    <tr>\n",
              "      <th>797914</th>\n",
              "      <td>1</td>\n",
              "      <td>12</td>\n",
              "      <td>26</td>\n",
              "    </tr>\n",
              "    <tr>\n",
              "      <th>440459</th>\n",
              "      <td>1</td>\n",
              "      <td>12</td>\n",
              "      <td>9</td>\n",
              "    </tr>\n",
              "  </tbody>\n",
              "</table>\n",
              "</div>"
            ],
            "text/plain": [
              "         SEXO  SECTOR  ENTIDAD_UM\n",
              "1694314     2       4          21\n",
              "2078640     1      12          11\n",
              "337469      1      12           9\n",
              "797914      1      12          26\n",
              "440459      1      12           9"
            ]
          },
          "metadata": {
            "tags": []
          },
          "execution_count": 49
        }
      ]
    },
    {
      "cell_type": "markdown",
      "metadata": {
        "id": "fTEjOxYujsed"
      },
      "source": [
        "## Análisis Exploratorio\n"
      ]
    },
    {
      "cell_type": "code",
      "metadata": {
        "id": "zYYuVeGpj9t9"
      },
      "source": [
        "# Distribución de edad"
      ],
      "execution_count": null,
      "outputs": []
    }
  ]
}