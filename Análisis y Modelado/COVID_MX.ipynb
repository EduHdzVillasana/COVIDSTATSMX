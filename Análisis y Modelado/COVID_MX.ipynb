{
  "nbformat": 4,
  "nbformat_minor": 0,
  "metadata": {
    "language_info": {
      "codemirror_mode": {
        "name": "ipython",
        "version": 3
      },
      "file_extension": ".py",
      "mimetype": "text/x-python",
      "name": "python",
      "nbconvert_exporter": "python",
      "pygments_lexer": "ipython3",
      "version": "3.9.0-final"
    },
    "orig_nbformat": 2,
    "kernelspec": {
      "name": "python390jvsc74a57bd01f65e174391277f634e70871feaa21300658cb740b5dabfc689c4c43dbc10e3e",
      "display_name": "Python 3.9.0 64-bit"
    },
    "metadata": {
      "interpreter": {
        "hash": "1f65e174391277f634e70871feaa21300658cb740b5dabfc689c4c43dbc10e3e"
      }
    },
    "colab": {
      "name": "COVID_MX.ipynb",
      "provenance": [],
      "toc_visible": true,
      "include_colab_link": true
    },
    "accelerator": "GPU"
  },
  "cells": [
    {
      "cell_type": "markdown",
      "metadata": {
        "id": "view-in-github",
        "colab_type": "text"
      },
      "source": [
        "<a href=\"https://colab.research.google.com/github/EduHdzVillasana/COVIDSTATSMX/blob/master/An%C3%A1lisis%20y%20Modelado/COVID_MX.ipynb\" target=\"_parent\"><img src=\"https://colab.research.google.com/assets/colab-badge.svg\" alt=\"Open In Colab\"/></a>"
      ]
    },
    {
      "cell_type": "markdown",
      "metadata": {
        "id": "e6BlGzWXAIOF"
      },
      "source": [
        "# Análisis estadístico del dataset de COVID-19 proporcionado por la secretaría de salud.\n",
        "\n",
        "### Objetivos\n",
        "* Identidicar los factores de los pacientes que aumentan su probabilidad de fallecer o presentar enfermedad grave.\n",
        "* Identificar si la mortalidad varía dependiendo de la recidencia del paciente o en qué institución de salud se atendió.\n",
        "* Identificar si la probabilidad de padecer la enfermedad grave varía dependiendo de la recidencia del paciente o en qué institución de salud se atendió.\n",
        "* Identificar si los dias entre el inicio de los sintomas y la atención médica afecta en la mortalidad.\n",
        "* Conocer si la mortalidad y la positividad cambió en el transcurso de la pandemia.\n",
        "* Realizar una limpieza y tratamiento de datos para obtener un dataset listo para crear un modelo predictorio de la probabilidad de muerte de un paciente dadas sus características.\n"
      ]
    },
    {
      "cell_type": "code",
      "metadata": {
        "id": "TJOVfrPlALTI"
      },
      "source": [
        "import pandas as pd\n",
        "import numpy as np\n",
        "import matplotlib.pyplot as plt\n",
        "from datetime import datetime\n",
        "from datetime import timedelta\n",
        "import os\n",
        "import sys\n",
        "\n",
        "# Librerias para la regresión logística\n",
        "import statsmodels.api as sm\n",
        "from sklearn import datasets\n",
        "from sklearn.feature_selection import RFE\n",
        "from sklearn.linear_model import LogisticRegression\n",
        "from tabulate import tabulate\n",
        "from sklearn import linear_model\n",
        "\n",
        "# Librerias para la validación del modelo\n",
        "from sklearn.model_selection import train_test_split\n",
        "from sklearn import metrics\n",
        "from sklearn.model_selection import cross_val_score"
      ],
      "execution_count": 98,
      "outputs": []
    },
    {
      "cell_type": "code",
      "metadata": {
        "id": "3iyTKxS3GLvv",
        "colab": {
          "base_uri": "https://localhost:8080/"
        },
        "outputId": "7a206ddf-28cc-4ae4-eb94-e39e36ca75d7"
      },
      "source": [
        "from google.colab import drive\n",
        "drive.mount('/content/drive')"
      ],
      "execution_count": 2,
      "outputs": [
        {
          "output_type": "stream",
          "text": [
            "Mounted at /content/drive\n"
          ],
          "name": "stdout"
        }
      ]
    },
    {
      "cell_type": "code",
      "metadata": {
        "id": "yeihjMuMEtz2"
      },
      "source": [
        "# Librería hecha para manejar el dataset de covid\n",
        "sys.path.insert(1,'/content/drive/MyDrive/Python Scripts/')\n",
        "import COVID19_MX as covid"
      ],
      "execution_count": 3,
      "outputs": []
    },
    {
      "cell_type": "markdown",
      "metadata": {
        "id": "pHtKnC-LOjp2"
      },
      "source": [
        "## Carga de Dataset principal y auxiliares\n",
        "Los dataset auxiliares `sexo_df`, `sector_df` y `entidad_df` servirán para usar variables categóricas en el modelo."
      ]
    },
    {
      "cell_type": "code",
      "metadata": {
        "id": "jTY9wUIgFHFi"
      },
      "source": [
        "aux_dataset_path = \"https://raw.githubusercontent.com/EduHdzVillasana/COVIDSTATSMX/master/Diccionario%20de%20Datos\"\n",
        "main_dataset_path = \"/content/drive/MyDrive/Datos Abiertos\"\n",
        "covid_file = \"210401COVID19MEXICO.csv\"\n",
        "sexo_file = \"Sexo.csv\"\n",
        "sector_file = \"Sector.csv\"\n",
        "entidad_file = \"Entidad.csv\""
      ],
      "execution_count": 4,
      "outputs": []
    },
    {
      "cell_type": "code",
      "metadata": {
        "id": "NxfGHroePkML"
      },
      "source": [
        "covid_df = pd.read_csv(os.path.join(main_dataset_path,covid_file))\n",
        "sexo_df = pd.read_csv(os.path.join(aux_dataset_path,sexo_file))\n",
        "sector_df = pd.read_csv(os.path.join(aux_dataset_path,sector_file))\n",
        "entidad_df = pd.read_csv(os.path.join(aux_dataset_path,entidad_file))"
      ],
      "execution_count": 5,
      "outputs": []
    },
    {
      "cell_type": "markdown",
      "metadata": {
        "id": "P3YcU5pTQaWU"
      },
      "source": [
        "## Limpieza y Tratamiento de Datos"
      ]
    },
    {
      "cell_type": "code",
      "metadata": {
        "id": "rQWD6rUBQl7a",
        "colab": {
          "base_uri": "https://localhost:8080/",
          "height": 160
        },
        "outputId": "fab5bf66-5fc2-4c3a-d663-47c8b1f55cd4"
      },
      "source": [
        "covid_df.sample(2)"
      ],
      "execution_count": 6,
      "outputs": [
        {
          "output_type": "execute_result",
          "data": {
            "text/html": [
              "<div>\n",
              "<style scoped>\n",
              "    .dataframe tbody tr th:only-of-type {\n",
              "        vertical-align: middle;\n",
              "    }\n",
              "\n",
              "    .dataframe tbody tr th {\n",
              "        vertical-align: top;\n",
              "    }\n",
              "\n",
              "    .dataframe thead th {\n",
              "        text-align: right;\n",
              "    }\n",
              "</style>\n",
              "<table border=\"1\" class=\"dataframe\">\n",
              "  <thead>\n",
              "    <tr style=\"text-align: right;\">\n",
              "      <th></th>\n",
              "      <th>FECHA_ACTUALIZACION</th>\n",
              "      <th>ID_REGISTRO</th>\n",
              "      <th>ORIGEN</th>\n",
              "      <th>SECTOR</th>\n",
              "      <th>ENTIDAD_UM</th>\n",
              "      <th>SEXO</th>\n",
              "      <th>ENTIDAD_NAC</th>\n",
              "      <th>ENTIDAD_RES</th>\n",
              "      <th>MUNICIPIO_RES</th>\n",
              "      <th>TIPO_PACIENTE</th>\n",
              "      <th>FECHA_INGRESO</th>\n",
              "      <th>FECHA_SINTOMAS</th>\n",
              "      <th>FECHA_DEF</th>\n",
              "      <th>INTUBADO</th>\n",
              "      <th>NEUMONIA</th>\n",
              "      <th>EDAD</th>\n",
              "      <th>NACIONALIDAD</th>\n",
              "      <th>EMBARAZO</th>\n",
              "      <th>HABLA_LENGUA_INDIG</th>\n",
              "      <th>INDIGENA</th>\n",
              "      <th>DIABETES</th>\n",
              "      <th>EPOC</th>\n",
              "      <th>ASMA</th>\n",
              "      <th>INMUSUPR</th>\n",
              "      <th>HIPERTENSION</th>\n",
              "      <th>OTRA_COM</th>\n",
              "      <th>CARDIOVASCULAR</th>\n",
              "      <th>OBESIDAD</th>\n",
              "      <th>RENAL_CRONICA</th>\n",
              "      <th>TABAQUISMO</th>\n",
              "      <th>OTRO_CASO</th>\n",
              "      <th>TOMA_MUESTRA_LAB</th>\n",
              "      <th>RESULTADO_LAB</th>\n",
              "      <th>TOMA_MUESTRA_ANTIGENO</th>\n",
              "      <th>RESULTADO_ANTIGENO</th>\n",
              "      <th>CLASIFICACION_FINAL</th>\n",
              "      <th>MIGRANTE</th>\n",
              "      <th>PAIS_NACIONALIDAD</th>\n",
              "      <th>PAIS_ORIGEN</th>\n",
              "      <th>UCI</th>\n",
              "    </tr>\n",
              "  </thead>\n",
              "  <tbody>\n",
              "    <tr>\n",
              "      <th>5726882</th>\n",
              "      <td>2021-04-01</td>\n",
              "      <td>a5875f</td>\n",
              "      <td>2</td>\n",
              "      <td>12</td>\n",
              "      <td>9</td>\n",
              "      <td>1</td>\n",
              "      <td>9</td>\n",
              "      <td>9</td>\n",
              "      <td>7</td>\n",
              "      <td>1</td>\n",
              "      <td>2021-03-11</td>\n",
              "      <td>2021-03-08</td>\n",
              "      <td>9999-99-99</td>\n",
              "      <td>97</td>\n",
              "      <td>2</td>\n",
              "      <td>37</td>\n",
              "      <td>1</td>\n",
              "      <td>2</td>\n",
              "      <td>2</td>\n",
              "      <td>2</td>\n",
              "      <td>2</td>\n",
              "      <td>2</td>\n",
              "      <td>2</td>\n",
              "      <td>2</td>\n",
              "      <td>2</td>\n",
              "      <td>2</td>\n",
              "      <td>2</td>\n",
              "      <td>2</td>\n",
              "      <td>2</td>\n",
              "      <td>2</td>\n",
              "      <td>1</td>\n",
              "      <td>2</td>\n",
              "      <td>97</td>\n",
              "      <td>1</td>\n",
              "      <td>2</td>\n",
              "      <td>7</td>\n",
              "      <td>99</td>\n",
              "      <td>México</td>\n",
              "      <td>97</td>\n",
              "      <td>97</td>\n",
              "    </tr>\n",
              "    <tr>\n",
              "      <th>1922268</th>\n",
              "      <td>2021-04-01</td>\n",
              "      <td>2ddcf0</td>\n",
              "      <td>2</td>\n",
              "      <td>9</td>\n",
              "      <td>21</td>\n",
              "      <td>2</td>\n",
              "      <td>20</td>\n",
              "      <td>20</td>\n",
              "      <td>68</td>\n",
              "      <td>1</td>\n",
              "      <td>2020-09-24</td>\n",
              "      <td>2020-09-24</td>\n",
              "      <td>9999-99-99</td>\n",
              "      <td>97</td>\n",
              "      <td>2</td>\n",
              "      <td>24</td>\n",
              "      <td>1</td>\n",
              "      <td>97</td>\n",
              "      <td>2</td>\n",
              "      <td>1</td>\n",
              "      <td>2</td>\n",
              "      <td>2</td>\n",
              "      <td>2</td>\n",
              "      <td>2</td>\n",
              "      <td>2</td>\n",
              "      <td>2</td>\n",
              "      <td>2</td>\n",
              "      <td>2</td>\n",
              "      <td>2</td>\n",
              "      <td>2</td>\n",
              "      <td>2</td>\n",
              "      <td>1</td>\n",
              "      <td>2</td>\n",
              "      <td>2</td>\n",
              "      <td>97</td>\n",
              "      <td>7</td>\n",
              "      <td>99</td>\n",
              "      <td>México</td>\n",
              "      <td>97</td>\n",
              "      <td>97</td>\n",
              "    </tr>\n",
              "  </tbody>\n",
              "</table>\n",
              "</div>"
            ],
            "text/plain": [
              "        FECHA_ACTUALIZACION ID_REGISTRO  ...  PAIS_ORIGEN  UCI\n",
              "5726882          2021-04-01      a5875f  ...           97   97\n",
              "1922268          2021-04-01      2ddcf0  ...           97   97\n",
              "\n",
              "[2 rows x 40 columns]"
            ]
          },
          "metadata": {
            "tags": []
          },
          "execution_count": 6
        }
      ]
    },
    {
      "cell_type": "code",
      "metadata": {
        "id": "oxV0QnwyRH1a",
        "colab": {
          "base_uri": "https://localhost:8080/"
        },
        "outputId": "ca99fd75-ac4b-4ab9-8bd3-e70495cbf40a"
      },
      "source": [
        "covid_df.dtypes"
      ],
      "execution_count": 7,
      "outputs": [
        {
          "output_type": "execute_result",
          "data": {
            "text/plain": [
              "FECHA_ACTUALIZACION      object\n",
              "ID_REGISTRO              object\n",
              "ORIGEN                    int64\n",
              "SECTOR                    int64\n",
              "ENTIDAD_UM                int64\n",
              "SEXO                      int64\n",
              "ENTIDAD_NAC               int64\n",
              "ENTIDAD_RES               int64\n",
              "MUNICIPIO_RES             int64\n",
              "TIPO_PACIENTE             int64\n",
              "FECHA_INGRESO            object\n",
              "FECHA_SINTOMAS           object\n",
              "FECHA_DEF                object\n",
              "INTUBADO                  int64\n",
              "NEUMONIA                  int64\n",
              "EDAD                      int64\n",
              "NACIONALIDAD              int64\n",
              "EMBARAZO                  int64\n",
              "HABLA_LENGUA_INDIG        int64\n",
              "INDIGENA                  int64\n",
              "DIABETES                  int64\n",
              "EPOC                      int64\n",
              "ASMA                      int64\n",
              "INMUSUPR                  int64\n",
              "HIPERTENSION              int64\n",
              "OTRA_COM                  int64\n",
              "CARDIOVASCULAR            int64\n",
              "OBESIDAD                  int64\n",
              "RENAL_CRONICA             int64\n",
              "TABAQUISMO                int64\n",
              "OTRO_CASO                 int64\n",
              "TOMA_MUESTRA_LAB          int64\n",
              "RESULTADO_LAB             int64\n",
              "TOMA_MUESTRA_ANTIGENO     int64\n",
              "RESULTADO_ANTIGENO        int64\n",
              "CLASIFICACION_FINAL       int64\n",
              "MIGRANTE                  int64\n",
              "PAIS_NACIONALIDAD        object\n",
              "PAIS_ORIGEN              object\n",
              "UCI                       int64\n",
              "dtype: object"
            ]
          },
          "metadata": {
            "tags": []
          },
          "execution_count": 7
        }
      ]
    },
    {
      "cell_type": "code",
      "metadata": {
        "id": "WkIIIRc5ROF_",
        "colab": {
          "base_uri": "https://localhost:8080/"
        },
        "outputId": "e835d6c5-20ad-4013-f2df-2a5573e7781c"
      },
      "source": [
        "covid_df.shape"
      ],
      "execution_count": 8,
      "outputs": [
        {
          "output_type": "execute_result",
          "data": {
            "text/plain": [
              "(6110815, 40)"
            ]
          },
          "metadata": {
            "tags": []
          },
          "execution_count": 8
        }
      ]
    },
    {
      "cell_type": "markdown",
      "metadata": {
        "id": "gGT3AY5qW5xU"
      },
      "source": [
        "### Se agrega columna Resultado\n",
        "**Se agrega la columna de `RESULTADO` para facilitar el análisis** \n",
        "* Positivo: 1\n",
        "* Negativo: 2\n",
        "* Sospechoso: 3"
      ]
    },
    {
      "cell_type": "code",
      "metadata": {
        "id": "c_cPnVr6XezS"
      },
      "source": [
        "covid_df[\"RESULTADO\"] = covid_df[\"CLASIFICACION_FINAL\"].apply(covid.getResult)"
      ],
      "execution_count": 9,
      "outputs": []
    },
    {
      "cell_type": "code",
      "metadata": {
        "id": "9mHsfIp_Xp0W",
        "colab": {
          "base_uri": "https://localhost:8080/",
          "height": 343
        },
        "outputId": "6cc04c84-d6ca-4fcf-98e6-514f773fd0b1"
      },
      "source": [
        "covid_df[[\"CLASIFICACION_FINAL\",\"RESULTADO\"]].sample(10)"
      ],
      "execution_count": 10,
      "outputs": [
        {
          "output_type": "execute_result",
          "data": {
            "text/html": [
              "<div>\n",
              "<style scoped>\n",
              "    .dataframe tbody tr th:only-of-type {\n",
              "        vertical-align: middle;\n",
              "    }\n",
              "\n",
              "    .dataframe tbody tr th {\n",
              "        vertical-align: top;\n",
              "    }\n",
              "\n",
              "    .dataframe thead th {\n",
              "        text-align: right;\n",
              "    }\n",
              "</style>\n",
              "<table border=\"1\" class=\"dataframe\">\n",
              "  <thead>\n",
              "    <tr style=\"text-align: right;\">\n",
              "      <th></th>\n",
              "      <th>CLASIFICACION_FINAL</th>\n",
              "      <th>RESULTADO</th>\n",
              "    </tr>\n",
              "  </thead>\n",
              "  <tbody>\n",
              "    <tr>\n",
              "      <th>2618329</th>\n",
              "      <td>7</td>\n",
              "      <td>2</td>\n",
              "    </tr>\n",
              "    <tr>\n",
              "      <th>538770</th>\n",
              "      <td>6</td>\n",
              "      <td>3</td>\n",
              "    </tr>\n",
              "    <tr>\n",
              "      <th>457256</th>\n",
              "      <td>6</td>\n",
              "      <td>3</td>\n",
              "    </tr>\n",
              "    <tr>\n",
              "      <th>5212809</th>\n",
              "      <td>7</td>\n",
              "      <td>2</td>\n",
              "    </tr>\n",
              "    <tr>\n",
              "      <th>5810845</th>\n",
              "      <td>3</td>\n",
              "      <td>1</td>\n",
              "    </tr>\n",
              "    <tr>\n",
              "      <th>5468173</th>\n",
              "      <td>7</td>\n",
              "      <td>2</td>\n",
              "    </tr>\n",
              "    <tr>\n",
              "      <th>3472608</th>\n",
              "      <td>1</td>\n",
              "      <td>1</td>\n",
              "    </tr>\n",
              "    <tr>\n",
              "      <th>3846613</th>\n",
              "      <td>6</td>\n",
              "      <td>3</td>\n",
              "    </tr>\n",
              "    <tr>\n",
              "      <th>5590349</th>\n",
              "      <td>7</td>\n",
              "      <td>2</td>\n",
              "    </tr>\n",
              "    <tr>\n",
              "      <th>5951881</th>\n",
              "      <td>7</td>\n",
              "      <td>2</td>\n",
              "    </tr>\n",
              "  </tbody>\n",
              "</table>\n",
              "</div>"
            ],
            "text/plain": [
              "         CLASIFICACION_FINAL  RESULTADO\n",
              "2618329                    7          2\n",
              "538770                     6          3\n",
              "457256                     6          3\n",
              "5212809                    7          2\n",
              "5810845                    3          1\n",
              "5468173                    7          2\n",
              "3472608                    1          1\n",
              "3846613                    6          3\n",
              "5590349                    7          2\n",
              "5951881                    7          2"
            ]
          },
          "metadata": {
            "tags": []
          },
          "execution_count": 10
        }
      ]
    },
    {
      "cell_type": "code",
      "metadata": {
        "id": "ClQ6VKc-Wggs",
        "colab": {
          "base_uri": "https://localhost:8080/"
        },
        "outputId": "f37741a2-4b9d-4474-e0f8-88891454bb33"
      },
      "source": [
        "date = \"2021-04-01\"\n",
        "comulative_cases = covid.getComulativeCases(covid_df)\n",
        "covid.printCumulativeCases(comulative_cases, date)"
      ],
      "execution_count": 11,
      "outputs": [
        {
          "output_type": "stream",
          "text": [
            "Fecha de actualización: 2021-04-01\n",
            "\n",
            "  Total de casos estudiados: 6110815\n",
            "\n",
            "  Casos Positivos a SARS-CoV-2: 2244268\n",
            "\n",
            "  Casos No Positivos a SARS-CoV-2: 3426205\n",
            "\n",
            "  Casos Con Resultado Pendiente: 440342\n",
            "\n",
            "  Defunciones Positivas a SARS-CoV-2: 203664\n",
            "\n",
            "  Tasa de Letalidad: 9.075%\n",
            "\n",
            "  Tasa de Positividad : 39.578%\n",
            "\n"
          ],
          "name": "stdout"
        }
      ]
    },
    {
      "cell_type": "markdown",
      "metadata": {
        "id": "EfWwq-HqSCaO"
      },
      "source": [
        "### Filtrado de casos con datos incompletos\n",
        "\n",
        "En el diccionario de datos se identifico que hay valores *no aplica* o *no especificado*, para realizar el análisis hay que eliminar esos valores, ya sea eliminando el caso que los contenga o cambiandolo. El problema es que esos valores están en varias columnas, por lo tanto se tendrá que usar un `for loop`."
      ]
    },
    {
      "cell_type": "code",
      "metadata": {
        "id": "FNkh-wbTSiaS"
      },
      "source": [
        "# Se filtra el dataset para eliminar casos con información No especificada y se toman solamente los casos positivos.\n",
        "data_filtered = covid_df[(covid_df[\"SEXO\"] != 99)\n",
        "& (covid_df[\"SECTOR\"] != 99)\n",
        "& (covid_df[\"ENTIDAD_UM\"] < 97)\n",
        "& (covid_df[\"RESULTADO\"] == 1)]"
      ],
      "execution_count": 12,
      "outputs": []
    },
    {
      "cell_type": "code",
      "metadata": {
        "id": "wP-7_tWsT230",
        "colab": {
          "base_uri": "https://localhost:8080/"
        },
        "outputId": "baa6b6c3-38bc-4d74-de37-48ba151b9619"
      },
      "source": [
        "# Se filtran los datos No especificados de las categorias SI-NO (leer el diccionario de datos)\n",
        "data_filtered[\"EMBARAZO\"] = np.where(data_filtered[\"SEXO\"] == 2, 2, data_filtered[\"EMBARAZO\"])\n",
        "\n",
        "categorias_si_no = ['INTUBADO','UCI','NEUMONIA','DIABETES', 'EPOC', 'ASMA', 'INMUSUPR', 'HIPERTENSION', 'OTRA_COM',\n",
        "                    'CARDIOVASCULAR', 'OBESIDAD', 'RENAL_CRONICA', 'TABAQUISMO','EMBARAZO']\n",
        "\n",
        "for cat in categorias_si_no:\n",
        "  data_filtered = data_filtered[data_filtered[cat] <= 97]\n",
        "  data_filtered[cat] = data_filtered[cat].apply(lambda x: 1 if x == 1 else 0)"
      ],
      "execution_count": 13,
      "outputs": [
        {
          "output_type": "stream",
          "text": [
            "/usr/local/lib/python3.7/dist-packages/ipykernel_launcher.py:2: SettingWithCopyWarning: \n",
            "A value is trying to be set on a copy of a slice from a DataFrame.\n",
            "Try using .loc[row_indexer,col_indexer] = value instead\n",
            "\n",
            "See the caveats in the documentation: https://pandas.pydata.org/pandas-docs/stable/user_guide/indexing.html#returning-a-view-versus-a-copy\n",
            "  \n"
          ],
          "name": "stderr"
        }
      ]
    },
    {
      "cell_type": "code",
      "metadata": {
        "id": "eaQfFW_Qdqdl"
      },
      "source": [
        "# Se eliminan los datos no especificados de la columna TIPO_PACIENTE\n",
        "data_filtered = data_filtered[data_filtered[\"TIPO_PACIENTE\"] != 99]"
      ],
      "execution_count": 14,
      "outputs": []
    },
    {
      "cell_type": "code",
      "metadata": {
        "id": "42IVHrzgVxqm",
        "colab": {
          "base_uri": "https://localhost:8080/"
        },
        "outputId": "68efab76-96bc-406f-e855-f8b75ad17e03"
      },
      "source": [
        "data_filtered.shape"
      ],
      "execution_count": 15,
      "outputs": [
        {
          "output_type": "execute_result",
          "data": {
            "text/plain": [
              "(2221525, 41)"
            ]
          },
          "metadata": {
            "tags": []
          },
          "execution_count": 15
        }
      ]
    },
    {
      "cell_type": "markdown",
      "metadata": {
        "id": "MJufqvTtWaql"
      },
      "source": [
        "Oficialmente hay 2,244,268 casos positivos a SARS-COV-2, pero después del filtrado obtuvimos 2,221,525, hay una diferencia de 22,743 casos, esto se debe a que se eliminaron casos con información incompleta. Por la cantidad de datos esta diferencia es estadísticamente insignificante y no supondrá un problema en el análisis o en la creación del modelo."
      ]
    },
    {
      "cell_type": "code",
      "metadata": {
        "id": "HE8LHAv5ZUFV",
        "colab": {
          "base_uri": "https://localhost:8080/",
          "height": 299
        },
        "outputId": "80640c03-9c8a-430c-b1b6-f1906670e559"
      },
      "source": [
        "data_filtered.sample(5)"
      ],
      "execution_count": 16,
      "outputs": [
        {
          "output_type": "execute_result",
          "data": {
            "text/html": [
              "<div>\n",
              "<style scoped>\n",
              "    .dataframe tbody tr th:only-of-type {\n",
              "        vertical-align: middle;\n",
              "    }\n",
              "\n",
              "    .dataframe tbody tr th {\n",
              "        vertical-align: top;\n",
              "    }\n",
              "\n",
              "    .dataframe thead th {\n",
              "        text-align: right;\n",
              "    }\n",
              "</style>\n",
              "<table border=\"1\" class=\"dataframe\">\n",
              "  <thead>\n",
              "    <tr style=\"text-align: right;\">\n",
              "      <th></th>\n",
              "      <th>FECHA_ACTUALIZACION</th>\n",
              "      <th>ID_REGISTRO</th>\n",
              "      <th>ORIGEN</th>\n",
              "      <th>SECTOR</th>\n",
              "      <th>ENTIDAD_UM</th>\n",
              "      <th>SEXO</th>\n",
              "      <th>ENTIDAD_NAC</th>\n",
              "      <th>ENTIDAD_RES</th>\n",
              "      <th>MUNICIPIO_RES</th>\n",
              "      <th>TIPO_PACIENTE</th>\n",
              "      <th>FECHA_INGRESO</th>\n",
              "      <th>FECHA_SINTOMAS</th>\n",
              "      <th>FECHA_DEF</th>\n",
              "      <th>INTUBADO</th>\n",
              "      <th>NEUMONIA</th>\n",
              "      <th>EDAD</th>\n",
              "      <th>NACIONALIDAD</th>\n",
              "      <th>EMBARAZO</th>\n",
              "      <th>HABLA_LENGUA_INDIG</th>\n",
              "      <th>INDIGENA</th>\n",
              "      <th>DIABETES</th>\n",
              "      <th>EPOC</th>\n",
              "      <th>ASMA</th>\n",
              "      <th>INMUSUPR</th>\n",
              "      <th>HIPERTENSION</th>\n",
              "      <th>OTRA_COM</th>\n",
              "      <th>CARDIOVASCULAR</th>\n",
              "      <th>OBESIDAD</th>\n",
              "      <th>RENAL_CRONICA</th>\n",
              "      <th>TABAQUISMO</th>\n",
              "      <th>OTRO_CASO</th>\n",
              "      <th>TOMA_MUESTRA_LAB</th>\n",
              "      <th>RESULTADO_LAB</th>\n",
              "      <th>TOMA_MUESTRA_ANTIGENO</th>\n",
              "      <th>RESULTADO_ANTIGENO</th>\n",
              "      <th>CLASIFICACION_FINAL</th>\n",
              "      <th>MIGRANTE</th>\n",
              "      <th>PAIS_NACIONALIDAD</th>\n",
              "      <th>PAIS_ORIGEN</th>\n",
              "      <th>UCI</th>\n",
              "      <th>RESULTADO</th>\n",
              "    </tr>\n",
              "  </thead>\n",
              "  <tbody>\n",
              "    <tr>\n",
              "      <th>4246605</th>\n",
              "      <td>2021-04-01</td>\n",
              "      <td>d6f29d</td>\n",
              "      <td>2</td>\n",
              "      <td>12</td>\n",
              "      <td>9</td>\n",
              "      <td>2</td>\n",
              "      <td>9</td>\n",
              "      <td>9</td>\n",
              "      <td>12</td>\n",
              "      <td>1</td>\n",
              "      <td>2021-01-04</td>\n",
              "      <td>2020-12-31</td>\n",
              "      <td>9999-99-99</td>\n",
              "      <td>0</td>\n",
              "      <td>0</td>\n",
              "      <td>47</td>\n",
              "      <td>1</td>\n",
              "      <td>0</td>\n",
              "      <td>2</td>\n",
              "      <td>2</td>\n",
              "      <td>0</td>\n",
              "      <td>0</td>\n",
              "      <td>0</td>\n",
              "      <td>0</td>\n",
              "      <td>0</td>\n",
              "      <td>0</td>\n",
              "      <td>0</td>\n",
              "      <td>0</td>\n",
              "      <td>0</td>\n",
              "      <td>0</td>\n",
              "      <td>2</td>\n",
              "      <td>2</td>\n",
              "      <td>97</td>\n",
              "      <td>1</td>\n",
              "      <td>1</td>\n",
              "      <td>3</td>\n",
              "      <td>99</td>\n",
              "      <td>México</td>\n",
              "      <td>97</td>\n",
              "      <td>0</td>\n",
              "      <td>1</td>\n",
              "    </tr>\n",
              "    <tr>\n",
              "      <th>5866780</th>\n",
              "      <td>2021-04-01</td>\n",
              "      <td>ccb907</td>\n",
              "      <td>2</td>\n",
              "      <td>4</td>\n",
              "      <td>9</td>\n",
              "      <td>2</td>\n",
              "      <td>9</td>\n",
              "      <td>9</td>\n",
              "      <td>7</td>\n",
              "      <td>1</td>\n",
              "      <td>2021-03-18</td>\n",
              "      <td>2021-03-16</td>\n",
              "      <td>9999-99-99</td>\n",
              "      <td>0</td>\n",
              "      <td>0</td>\n",
              "      <td>36</td>\n",
              "      <td>1</td>\n",
              "      <td>0</td>\n",
              "      <td>2</td>\n",
              "      <td>2</td>\n",
              "      <td>0</td>\n",
              "      <td>0</td>\n",
              "      <td>0</td>\n",
              "      <td>0</td>\n",
              "      <td>0</td>\n",
              "      <td>0</td>\n",
              "      <td>0</td>\n",
              "      <td>0</td>\n",
              "      <td>0</td>\n",
              "      <td>0</td>\n",
              "      <td>2</td>\n",
              "      <td>2</td>\n",
              "      <td>97</td>\n",
              "      <td>1</td>\n",
              "      <td>1</td>\n",
              "      <td>3</td>\n",
              "      <td>99</td>\n",
              "      <td>México</td>\n",
              "      <td>97</td>\n",
              "      <td>0</td>\n",
              "      <td>1</td>\n",
              "    </tr>\n",
              "    <tr>\n",
              "      <th>722539</th>\n",
              "      <td>2021-04-01</td>\n",
              "      <td>1b438b</td>\n",
              "      <td>1</td>\n",
              "      <td>12</td>\n",
              "      <td>26</td>\n",
              "      <td>1</td>\n",
              "      <td>16</td>\n",
              "      <td>26</td>\n",
              "      <td>70</td>\n",
              "      <td>1</td>\n",
              "      <td>2020-06-30</td>\n",
              "      <td>2020-06-28</td>\n",
              "      <td>9999-99-99</td>\n",
              "      <td>0</td>\n",
              "      <td>0</td>\n",
              "      <td>67</td>\n",
              "      <td>1</td>\n",
              "      <td>0</td>\n",
              "      <td>2</td>\n",
              "      <td>2</td>\n",
              "      <td>0</td>\n",
              "      <td>0</td>\n",
              "      <td>0</td>\n",
              "      <td>0</td>\n",
              "      <td>0</td>\n",
              "      <td>0</td>\n",
              "      <td>0</td>\n",
              "      <td>1</td>\n",
              "      <td>0</td>\n",
              "      <td>0</td>\n",
              "      <td>1</td>\n",
              "      <td>1</td>\n",
              "      <td>1</td>\n",
              "      <td>2</td>\n",
              "      <td>97</td>\n",
              "      <td>3</td>\n",
              "      <td>99</td>\n",
              "      <td>México</td>\n",
              "      <td>97</td>\n",
              "      <td>0</td>\n",
              "      <td>1</td>\n",
              "    </tr>\n",
              "    <tr>\n",
              "      <th>3521637</th>\n",
              "      <td>2021-04-01</td>\n",
              "      <td>3947bb</td>\n",
              "      <td>2</td>\n",
              "      <td>6</td>\n",
              "      <td>13</td>\n",
              "      <td>1</td>\n",
              "      <td>13</td>\n",
              "      <td>13</td>\n",
              "      <td>3</td>\n",
              "      <td>1</td>\n",
              "      <td>2020-12-26</td>\n",
              "      <td>2020-12-23</td>\n",
              "      <td>9999-99-99</td>\n",
              "      <td>0</td>\n",
              "      <td>0</td>\n",
              "      <td>35</td>\n",
              "      <td>1</td>\n",
              "      <td>0</td>\n",
              "      <td>2</td>\n",
              "      <td>1</td>\n",
              "      <td>0</td>\n",
              "      <td>0</td>\n",
              "      <td>0</td>\n",
              "      <td>0</td>\n",
              "      <td>0</td>\n",
              "      <td>0</td>\n",
              "      <td>0</td>\n",
              "      <td>0</td>\n",
              "      <td>0</td>\n",
              "      <td>0</td>\n",
              "      <td>1</td>\n",
              "      <td>2</td>\n",
              "      <td>97</td>\n",
              "      <td>1</td>\n",
              "      <td>1</td>\n",
              "      <td>3</td>\n",
              "      <td>99</td>\n",
              "      <td>México</td>\n",
              "      <td>97</td>\n",
              "      <td>0</td>\n",
              "      <td>1</td>\n",
              "    </tr>\n",
              "    <tr>\n",
              "      <th>4375323</th>\n",
              "      <td>2021-04-01</td>\n",
              "      <td>538210</td>\n",
              "      <td>2</td>\n",
              "      <td>12</td>\n",
              "      <td>9</td>\n",
              "      <td>2</td>\n",
              "      <td>9</td>\n",
              "      <td>9</td>\n",
              "      <td>11</td>\n",
              "      <td>1</td>\n",
              "      <td>2021-01-22</td>\n",
              "      <td>2021-01-22</td>\n",
              "      <td>9999-99-99</td>\n",
              "      <td>0</td>\n",
              "      <td>0</td>\n",
              "      <td>27</td>\n",
              "      <td>1</td>\n",
              "      <td>0</td>\n",
              "      <td>2</td>\n",
              "      <td>2</td>\n",
              "      <td>0</td>\n",
              "      <td>0</td>\n",
              "      <td>0</td>\n",
              "      <td>0</td>\n",
              "      <td>0</td>\n",
              "      <td>0</td>\n",
              "      <td>0</td>\n",
              "      <td>0</td>\n",
              "      <td>0</td>\n",
              "      <td>0</td>\n",
              "      <td>2</td>\n",
              "      <td>2</td>\n",
              "      <td>97</td>\n",
              "      <td>1</td>\n",
              "      <td>1</td>\n",
              "      <td>3</td>\n",
              "      <td>99</td>\n",
              "      <td>México</td>\n",
              "      <td>97</td>\n",
              "      <td>0</td>\n",
              "      <td>1</td>\n",
              "    </tr>\n",
              "  </tbody>\n",
              "</table>\n",
              "</div>"
            ],
            "text/plain": [
              "        FECHA_ACTUALIZACION ID_REGISTRO  ORIGEN  ...  PAIS_ORIGEN  UCI  RESULTADO\n",
              "4246605          2021-04-01      d6f29d       2  ...           97    0          1\n",
              "5866780          2021-04-01      ccb907       2  ...           97    0          1\n",
              "722539           2021-04-01      1b438b       1  ...           97    0          1\n",
              "3521637          2021-04-01      3947bb       2  ...           97    0          1\n",
              "4375323          2021-04-01      538210       2  ...           97    0          1\n",
              "\n",
              "[5 rows x 41 columns]"
            ]
          },
          "metadata": {
            "tags": []
          },
          "execution_count": 16
        }
      ]
    },
    {
      "cell_type": "markdown",
      "metadata": {
        "id": "Kl29mR8xZccM"
      },
      "source": [
        "### Cambio de tipo de dato de fechas\n",
        "**Las columnas de `FECHA_SINTOMAS` y `FECHA_INGRESO` correspondientes a la fecha de inicio de sintomas y a la fecha de ingreso a la unidad de atención estan en string, se les cambiará a tipo de dato `datetima` para el manejo de fechas**"
      ]
    },
    {
      "cell_type": "code",
      "metadata": {
        "id": "QuDL5oyLcT7y"
      },
      "source": [
        "data_filtered[\"FECHA_INGRESO\"] = pd.to_datetime(data_filtered[\"FECHA_INGRESO\"], format = \"%Y-%m-%d\")"
      ],
      "execution_count": 17,
      "outputs": []
    },
    {
      "cell_type": "code",
      "metadata": {
        "id": "fZxugA2heWD5"
      },
      "source": [
        "data_filtered[\"FECHA_SINTOMAS\"] = pd.to_datetime(data_filtered[\"FECHA_SINTOMAS\"], format = \"%Y-%m-%d\")"
      ],
      "execution_count": 18,
      "outputs": []
    },
    {
      "cell_type": "code",
      "metadata": {
        "id": "gAEqdpNSeJNM",
        "colab": {
          "base_uri": "https://localhost:8080/"
        },
        "outputId": "78fa704b-dafb-44f8-d963-1b2d4feca353"
      },
      "source": [
        "data_filtered[[\"FECHA_INGRESO\",\"FECHA_SINTOMAS\"]].dtypes"
      ],
      "execution_count": 19,
      "outputs": [
        {
          "output_type": "execute_result",
          "data": {
            "text/plain": [
              "FECHA_INGRESO     datetime64[ns]\n",
              "FECHA_SINTOMAS    datetime64[ns]\n",
              "dtype: object"
            ]
          },
          "metadata": {
            "tags": []
          },
          "execution_count": 19
        }
      ]
    },
    {
      "cell_type": "code",
      "metadata": {
        "id": "RYW_zeJSdQZx",
        "colab": {
          "base_uri": "https://localhost:8080/",
          "height": 195
        },
        "outputId": "a0a959b2-da09-4a89-827c-a11184416b8f"
      },
      "source": [
        "data_filtered[[\"FECHA_INGRESO\",\"FECHA_SINTOMAS\"]].sample(5)"
      ],
      "execution_count": 20,
      "outputs": [
        {
          "output_type": "execute_result",
          "data": {
            "text/html": [
              "<div>\n",
              "<style scoped>\n",
              "    .dataframe tbody tr th:only-of-type {\n",
              "        vertical-align: middle;\n",
              "    }\n",
              "\n",
              "    .dataframe tbody tr th {\n",
              "        vertical-align: top;\n",
              "    }\n",
              "\n",
              "    .dataframe thead th {\n",
              "        text-align: right;\n",
              "    }\n",
              "</style>\n",
              "<table border=\"1\" class=\"dataframe\">\n",
              "  <thead>\n",
              "    <tr style=\"text-align: right;\">\n",
              "      <th></th>\n",
              "      <th>FECHA_INGRESO</th>\n",
              "      <th>FECHA_SINTOMAS</th>\n",
              "    </tr>\n",
              "  </thead>\n",
              "  <tbody>\n",
              "    <tr>\n",
              "      <th>4255863</th>\n",
              "      <td>2021-01-15</td>\n",
              "      <td>2021-01-15</td>\n",
              "    </tr>\n",
              "    <tr>\n",
              "      <th>5985678</th>\n",
              "      <td>2021-01-29</td>\n",
              "      <td>2021-01-22</td>\n",
              "    </tr>\n",
              "    <tr>\n",
              "      <th>265342</th>\n",
              "      <td>2020-05-09</td>\n",
              "      <td>2020-05-04</td>\n",
              "    </tr>\n",
              "    <tr>\n",
              "      <th>2211540</th>\n",
              "      <td>2020-10-20</td>\n",
              "      <td>2020-10-16</td>\n",
              "    </tr>\n",
              "    <tr>\n",
              "      <th>856022</th>\n",
              "      <td>2020-07-10</td>\n",
              "      <td>2020-06-30</td>\n",
              "    </tr>\n",
              "  </tbody>\n",
              "</table>\n",
              "</div>"
            ],
            "text/plain": [
              "        FECHA_INGRESO FECHA_SINTOMAS\n",
              "4255863    2021-01-15     2021-01-15\n",
              "5985678    2021-01-29     2021-01-22\n",
              "265342     2020-05-09     2020-05-04\n",
              "2211540    2020-10-20     2020-10-16\n",
              "856022     2020-07-10     2020-06-30"
            ]
          },
          "metadata": {
            "tags": []
          },
          "execution_count": 20
        }
      ]
    },
    {
      "cell_type": "markdown",
      "metadata": {
        "id": "PQUOglXDfxm2"
      },
      "source": [
        "### Agregado de columna `TIEMPO_ESPERA`\n",
        "Se agrega la columna `TIEMPO_ESPERA` que indica el tiempo en días que paso desde el inicio de los sintomas `FECHA_SINTOMAS` y el ingreso a la unidad de salud `FECHA_INGRESO`."
      ]
    },
    {
      "cell_type": "code",
      "metadata": {
        "id": "D29MFi17gaN8"
      },
      "source": [
        "data_filtered[\"TIEMPO_ESPERA\"] = data_filtered[\"FECHA_INGRESO\"] - data_filtered[\"FECHA_SINTOMAS\"]\n",
        "data_filtered[\"TIEMPO_ESPERA\"] = data_filtered[\"TIEMPO_ESPERA\"].apply(lambda x: x.days)"
      ],
      "execution_count": 21,
      "outputs": []
    },
    {
      "cell_type": "code",
      "metadata": {
        "id": "cXsklztRhjvK",
        "colab": {
          "base_uri": "https://localhost:8080/"
        },
        "outputId": "5c47f4f9-df83-437d-f1ca-2875d831a7dc"
      },
      "source": [
        "data_filtered[\"TIEMPO_ESPERA\"].dtypes"
      ],
      "execution_count": 22,
      "outputs": [
        {
          "output_type": "execute_result",
          "data": {
            "text/plain": [
              "dtype('int64')"
            ]
          },
          "metadata": {
            "tags": []
          },
          "execution_count": 22
        }
      ]
    },
    {
      "cell_type": "markdown",
      "metadata": {
        "id": "n3sREbDsY5xn"
      },
      "source": [
        "### Agregado de columna `FALLECIDO`\n",
        "Esta columna será catagórica, indica si el paciente falleció por covid, los valores posibles son los siguientes:\n",
        "* Si: *1*\n",
        "* No: *0*"
      ]
    },
    {
      "cell_type": "code",
      "metadata": {
        "id": "ULbOS2LPZTLK"
      },
      "source": [
        "data_filtered[\"FALLECIDO\"] = data_filtered[\"FECHA_DEF\"].apply(lambda x: 1 if x != \"9999-99-99\" else 0)"
      ],
      "execution_count": 23,
      "outputs": []
    },
    {
      "cell_type": "code",
      "metadata": {
        "id": "xR_g1mDZZl90",
        "colab": {
          "base_uri": "https://localhost:8080/",
          "height": 0
        },
        "outputId": "2a3250f1-9704-4b8e-f4ac-f0dcd1d4dc1a"
      },
      "source": [
        "data_filtered[[\"FECHA_DEF\",\"FALLECIDO\"]].sample(10)"
      ],
      "execution_count": 24,
      "outputs": [
        {
          "output_type": "execute_result",
          "data": {
            "text/html": [
              "<div>\n",
              "<style scoped>\n",
              "    .dataframe tbody tr th:only-of-type {\n",
              "        vertical-align: middle;\n",
              "    }\n",
              "\n",
              "    .dataframe tbody tr th {\n",
              "        vertical-align: top;\n",
              "    }\n",
              "\n",
              "    .dataframe thead th {\n",
              "        text-align: right;\n",
              "    }\n",
              "</style>\n",
              "<table border=\"1\" class=\"dataframe\">\n",
              "  <thead>\n",
              "    <tr style=\"text-align: right;\">\n",
              "      <th></th>\n",
              "      <th>FECHA_DEF</th>\n",
              "      <th>FALLECIDO</th>\n",
              "    </tr>\n",
              "  </thead>\n",
              "  <tbody>\n",
              "    <tr>\n",
              "      <th>5730377</th>\n",
              "      <td>9999-99-99</td>\n",
              "      <td>0</td>\n",
              "    </tr>\n",
              "    <tr>\n",
              "      <th>4195531</th>\n",
              "      <td>9999-99-99</td>\n",
              "      <td>0</td>\n",
              "    </tr>\n",
              "    <tr>\n",
              "      <th>1548213</th>\n",
              "      <td>9999-99-99</td>\n",
              "      <td>0</td>\n",
              "    </tr>\n",
              "    <tr>\n",
              "      <th>2829406</th>\n",
              "      <td>9999-99-99</td>\n",
              "      <td>0</td>\n",
              "    </tr>\n",
              "    <tr>\n",
              "      <th>3265905</th>\n",
              "      <td>9999-99-99</td>\n",
              "      <td>0</td>\n",
              "    </tr>\n",
              "    <tr>\n",
              "      <th>1559271</th>\n",
              "      <td>9999-99-99</td>\n",
              "      <td>0</td>\n",
              "    </tr>\n",
              "    <tr>\n",
              "      <th>2725967</th>\n",
              "      <td>9999-99-99</td>\n",
              "      <td>0</td>\n",
              "    </tr>\n",
              "    <tr>\n",
              "      <th>2904212</th>\n",
              "      <td>9999-99-99</td>\n",
              "      <td>0</td>\n",
              "    </tr>\n",
              "    <tr>\n",
              "      <th>1455635</th>\n",
              "      <td>9999-99-99</td>\n",
              "      <td>0</td>\n",
              "    </tr>\n",
              "    <tr>\n",
              "      <th>519354</th>\n",
              "      <td>9999-99-99</td>\n",
              "      <td>0</td>\n",
              "    </tr>\n",
              "  </tbody>\n",
              "</table>\n",
              "</div>"
            ],
            "text/plain": [
              "          FECHA_DEF  FALLECIDO\n",
              "5730377  9999-99-99          0\n",
              "4195531  9999-99-99          0\n",
              "1548213  9999-99-99          0\n",
              "2829406  9999-99-99          0\n",
              "3265905  9999-99-99          0\n",
              "1559271  9999-99-99          0\n",
              "2725967  9999-99-99          0\n",
              "2904212  9999-99-99          0\n",
              "1455635  9999-99-99          0\n",
              "519354   9999-99-99          0"
            ]
          },
          "metadata": {
            "tags": []
          },
          "execution_count": 24
        }
      ]
    },
    {
      "cell_type": "markdown",
      "metadata": {
        "id": "G7nRU01ZaaOa"
      },
      "source": [
        "### Agregado de la columna `ENFERMEDAD_GRAVE`\n",
        "Esta columna será catagórica, indica si el paciente presentó enfermedad grave.\n",
        "\n",
        "Se considera que un paciente presentó la enfermedad grave si presenta al menos una de las siguientes situaciones:\n",
        "* El paciente requirió de intubación.\n",
        "* El paciente fue diagnosticado con neumonía.\n",
        "* El paciente requirió ingresar a una Unidad de Cuidados Intensivos.\n",
        "\n",
        "Los valores posibles en esta columna son los siguientes:\n",
        "* Si: *1*\n",
        "* No: *0*"
      ]
    },
    {
      "cell_type": "code",
      "metadata": {
        "id": "XaukySFYfh41"
      },
      "source": [
        "data_filtered[\"ENFERMEDAD_GRAVE\"] = np.where((data_filtered[\"INTUBADO\"] == 1) \n",
        "| (data_filtered[\"NEUMONIA\"] == 1)\n",
        "| (data_filtered[\"UCI\"] == 1) , 1, 0)"
      ],
      "execution_count": 25,
      "outputs": []
    },
    {
      "cell_type": "code",
      "metadata": {
        "id": "cKUzAQReiduy",
        "colab": {
          "base_uri": "https://localhost:8080/",
          "height": 0
        },
        "outputId": "65477573-8fbc-48a1-e5a8-e67772aba2ca"
      },
      "source": [
        "data_filtered[[\"NEUMONIA\", \"INTUBADO\", \"UCI\", \"ENFERMEDAD_GRAVE\"]].sample(10)"
      ],
      "execution_count": 26,
      "outputs": [
        {
          "output_type": "execute_result",
          "data": {
            "text/html": [
              "<div>\n",
              "<style scoped>\n",
              "    .dataframe tbody tr th:only-of-type {\n",
              "        vertical-align: middle;\n",
              "    }\n",
              "\n",
              "    .dataframe tbody tr th {\n",
              "        vertical-align: top;\n",
              "    }\n",
              "\n",
              "    .dataframe thead th {\n",
              "        text-align: right;\n",
              "    }\n",
              "</style>\n",
              "<table border=\"1\" class=\"dataframe\">\n",
              "  <thead>\n",
              "    <tr style=\"text-align: right;\">\n",
              "      <th></th>\n",
              "      <th>NEUMONIA</th>\n",
              "      <th>INTUBADO</th>\n",
              "      <th>UCI</th>\n",
              "      <th>ENFERMEDAD_GRAVE</th>\n",
              "    </tr>\n",
              "  </thead>\n",
              "  <tbody>\n",
              "    <tr>\n",
              "      <th>5930426</th>\n",
              "      <td>0</td>\n",
              "      <td>0</td>\n",
              "      <td>0</td>\n",
              "      <td>0</td>\n",
              "    </tr>\n",
              "    <tr>\n",
              "      <th>3563853</th>\n",
              "      <td>0</td>\n",
              "      <td>0</td>\n",
              "      <td>0</td>\n",
              "      <td>0</td>\n",
              "    </tr>\n",
              "    <tr>\n",
              "      <th>3970382</th>\n",
              "      <td>1</td>\n",
              "      <td>0</td>\n",
              "      <td>0</td>\n",
              "      <td>1</td>\n",
              "    </tr>\n",
              "    <tr>\n",
              "      <th>4835527</th>\n",
              "      <td>0</td>\n",
              "      <td>0</td>\n",
              "      <td>0</td>\n",
              "      <td>0</td>\n",
              "    </tr>\n",
              "    <tr>\n",
              "      <th>3777286</th>\n",
              "      <td>0</td>\n",
              "      <td>0</td>\n",
              "      <td>0</td>\n",
              "      <td>0</td>\n",
              "    </tr>\n",
              "    <tr>\n",
              "      <th>4121972</th>\n",
              "      <td>1</td>\n",
              "      <td>0</td>\n",
              "      <td>0</td>\n",
              "      <td>1</td>\n",
              "    </tr>\n",
              "    <tr>\n",
              "      <th>4743854</th>\n",
              "      <td>1</td>\n",
              "      <td>0</td>\n",
              "      <td>0</td>\n",
              "      <td>1</td>\n",
              "    </tr>\n",
              "    <tr>\n",
              "      <th>472812</th>\n",
              "      <td>0</td>\n",
              "      <td>0</td>\n",
              "      <td>0</td>\n",
              "      <td>0</td>\n",
              "    </tr>\n",
              "    <tr>\n",
              "      <th>713210</th>\n",
              "      <td>0</td>\n",
              "      <td>0</td>\n",
              "      <td>0</td>\n",
              "      <td>0</td>\n",
              "    </tr>\n",
              "    <tr>\n",
              "      <th>2551261</th>\n",
              "      <td>0</td>\n",
              "      <td>0</td>\n",
              "      <td>0</td>\n",
              "      <td>0</td>\n",
              "    </tr>\n",
              "  </tbody>\n",
              "</table>\n",
              "</div>"
            ],
            "text/plain": [
              "         NEUMONIA  INTUBADO  UCI  ENFERMEDAD_GRAVE\n",
              "5930426         0         0    0                 0\n",
              "3563853         0         0    0                 0\n",
              "3970382         1         0    0                 1\n",
              "4835527         0         0    0                 0\n",
              "3777286         0         0    0                 0\n",
              "4121972         1         0    0                 1\n",
              "4743854         1         0    0                 1\n",
              "472812          0         0    0                 0\n",
              "713210          0         0    0                 0\n",
              "2551261         0         0    0                 0"
            ]
          },
          "metadata": {
            "tags": []
          },
          "execution_count": 26
        }
      ]
    },
    {
      "cell_type": "markdown",
      "metadata": {
        "id": "7XkruM6FjQB4"
      },
      "source": [
        "### Agregado de columna `HOSPITALIZADO`\n",
        "Esta columna será catagórica, indica si el paciente fue hospitalizado, si esto no es así se asume que el tratamiento del paciente fue embulatorio, los valores posibles son los siguientes:\n",
        "* Si: *1*\n",
        "* No: *0*"
      ]
    },
    {
      "cell_type": "code",
      "metadata": {
        "id": "J4w5xvUfjaKX"
      },
      "source": [
        "data_filtered[\"HOSPITALIZADO\"] = data_filtered[\"TIPO_PACIENTE\"].apply(lambda x: 1 if x == 2 else 0)"
      ],
      "execution_count": 27,
      "outputs": []
    },
    {
      "cell_type": "code",
      "metadata": {
        "id": "2VPq1pUnjk89",
        "colab": {
          "base_uri": "https://localhost:8080/",
          "height": 0
        },
        "outputId": "4be8d622-c141-41c7-befd-a06dfe5ba3af"
      },
      "source": [
        "data_filtered[[\"TIPO_PACIENTE\", \"HOSPITALIZADO\"]].sample(10)"
      ],
      "execution_count": 28,
      "outputs": [
        {
          "output_type": "execute_result",
          "data": {
            "text/html": [
              "<div>\n",
              "<style scoped>\n",
              "    .dataframe tbody tr th:only-of-type {\n",
              "        vertical-align: middle;\n",
              "    }\n",
              "\n",
              "    .dataframe tbody tr th {\n",
              "        vertical-align: top;\n",
              "    }\n",
              "\n",
              "    .dataframe thead th {\n",
              "        text-align: right;\n",
              "    }\n",
              "</style>\n",
              "<table border=\"1\" class=\"dataframe\">\n",
              "  <thead>\n",
              "    <tr style=\"text-align: right;\">\n",
              "      <th></th>\n",
              "      <th>TIPO_PACIENTE</th>\n",
              "      <th>HOSPITALIZADO</th>\n",
              "    </tr>\n",
              "  </thead>\n",
              "  <tbody>\n",
              "    <tr>\n",
              "      <th>2543224</th>\n",
              "      <td>1</td>\n",
              "      <td>0</td>\n",
              "    </tr>\n",
              "    <tr>\n",
              "      <th>5084956</th>\n",
              "      <td>1</td>\n",
              "      <td>0</td>\n",
              "    </tr>\n",
              "    <tr>\n",
              "      <th>5544325</th>\n",
              "      <td>1</td>\n",
              "      <td>0</td>\n",
              "    </tr>\n",
              "    <tr>\n",
              "      <th>2904369</th>\n",
              "      <td>1</td>\n",
              "      <td>0</td>\n",
              "    </tr>\n",
              "    <tr>\n",
              "      <th>5053453</th>\n",
              "      <td>1</td>\n",
              "      <td>0</td>\n",
              "    </tr>\n",
              "    <tr>\n",
              "      <th>2553504</th>\n",
              "      <td>1</td>\n",
              "      <td>0</td>\n",
              "    </tr>\n",
              "    <tr>\n",
              "      <th>3079181</th>\n",
              "      <td>1</td>\n",
              "      <td>0</td>\n",
              "    </tr>\n",
              "    <tr>\n",
              "      <th>2214524</th>\n",
              "      <td>1</td>\n",
              "      <td>0</td>\n",
              "    </tr>\n",
              "    <tr>\n",
              "      <th>3972661</th>\n",
              "      <td>1</td>\n",
              "      <td>0</td>\n",
              "    </tr>\n",
              "    <tr>\n",
              "      <th>3984709</th>\n",
              "      <td>1</td>\n",
              "      <td>0</td>\n",
              "    </tr>\n",
              "  </tbody>\n",
              "</table>\n",
              "</div>"
            ],
            "text/plain": [
              "         TIPO_PACIENTE  HOSPITALIZADO\n",
              "2543224              1              0\n",
              "5084956              1              0\n",
              "5544325              1              0\n",
              "2904369              1              0\n",
              "5053453              1              0\n",
              "2553504              1              0\n",
              "3079181              1              0\n",
              "2214524              1              0\n",
              "3972661              1              0\n",
              "3984709              1              0"
            ]
          },
          "metadata": {
            "tags": []
          },
          "execution_count": 28
        }
      ]
    },
    {
      "cell_type": "markdown",
      "metadata": {
        "id": "JtlWwfTCkCh1"
      },
      "source": [
        "\n",
        "### Combinación del dataframe principal con los dataframes auxiliares."
      ]
    },
    {
      "cell_type": "code",
      "metadata": {
        "id": "p4PDj0l4l2u2"
      },
      "source": [
        "# Se le cambian los nombres de las columnas a los dataframes auxiliares\n",
        "sexo_df.columns = [\"SEXO\", \"SEXO_\"]\n",
        "sector_df.columns = [\"SECTOR\", \"SECTOR_ATENDIDO\"]\n",
        "entidad_df.columns = [\"ENTIDAD_UM\",\"ESTADO\"]"
      ],
      "execution_count": 29,
      "outputs": []
    },
    {
      "cell_type": "code",
      "metadata": {
        "id": "dnGwZ696kYT6"
      },
      "source": [
        "data_filtered = pd.merge(data_filtered, sexo_df, how = \"inner\", on = \"SEXO\")\n",
        "data_filtered = pd.merge(data_filtered, sector_df, how = \"inner\", on = \"SECTOR\")\n",
        "data_filtered = pd.merge(data_filtered, entidad_df, how = \"inner\", on = \"ENTIDAD_UM\")"
      ],
      "execution_count": 30,
      "outputs": []
    },
    {
      "cell_type": "code",
      "metadata": {
        "id": "FxFfDu_tkzf3",
        "colab": {
          "base_uri": "https://localhost:8080/",
          "height": 0
        },
        "outputId": "ebdd2b50-1ece-460c-f232-033eef4e27fe"
      },
      "source": [
        "data_filtered[[\"SEXO_\",\"SECTOR_ATENDIDO\",\"ESTADO\"]].sample(5)"
      ],
      "execution_count": 31,
      "outputs": [
        {
          "output_type": "execute_result",
          "data": {
            "text/html": [
              "<div>\n",
              "<style scoped>\n",
              "    .dataframe tbody tr th:only-of-type {\n",
              "        vertical-align: middle;\n",
              "    }\n",
              "\n",
              "    .dataframe tbody tr th {\n",
              "        vertical-align: top;\n",
              "    }\n",
              "\n",
              "    .dataframe thead th {\n",
              "        text-align: right;\n",
              "    }\n",
              "</style>\n",
              "<table border=\"1\" class=\"dataframe\">\n",
              "  <thead>\n",
              "    <tr style=\"text-align: right;\">\n",
              "      <th></th>\n",
              "      <th>SEXO_</th>\n",
              "      <th>SECTOR_ATENDIDO</th>\n",
              "      <th>ESTADO</th>\n",
              "    </tr>\n",
              "  </thead>\n",
              "  <tbody>\n",
              "    <tr>\n",
              "      <th>1499115</th>\n",
              "      <td>MUJER</td>\n",
              "      <td>SSA</td>\n",
              "      <td>ZS</td>\n",
              "    </tr>\n",
              "    <tr>\n",
              "      <th>1305796</th>\n",
              "      <td>HOMBRE</td>\n",
              "      <td>IMSS</td>\n",
              "      <td>MC</td>\n",
              "    </tr>\n",
              "    <tr>\n",
              "      <th>1138919</th>\n",
              "      <td>MUJER</td>\n",
              "      <td>IMSS</td>\n",
              "      <td>NL</td>\n",
              "    </tr>\n",
              "    <tr>\n",
              "      <th>861823</th>\n",
              "      <td>MUJER</td>\n",
              "      <td>SSA</td>\n",
              "      <td>QT</td>\n",
              "    </tr>\n",
              "    <tr>\n",
              "      <th>227278</th>\n",
              "      <td>HOMBRE</td>\n",
              "      <td>SSA</td>\n",
              "      <td>DF</td>\n",
              "    </tr>\n",
              "  </tbody>\n",
              "</table>\n",
              "</div>"
            ],
            "text/plain": [
              "          SEXO_ SECTOR_ATENDIDO ESTADO\n",
              "1499115   MUJER             SSA     ZS\n",
              "1305796  HOMBRE            IMSS     MC\n",
              "1138919   MUJER            IMSS     NL\n",
              "861823    MUJER             SSA     QT\n",
              "227278   HOMBRE             SSA     DF"
            ]
          },
          "metadata": {
            "tags": []
          },
          "execution_count": 31
        }
      ]
    },
    {
      "cell_type": "markdown",
      "metadata": {
        "id": "fTEjOxYujsed"
      },
      "source": [
        "## Análisis Exploratorio\n",
        "\n",
        "En esta sección se obtendrán algunos datos estadísticos que pueden ayudar a comprender el comportamiento de la enfermedad."
      ]
    },
    {
      "cell_type": "code",
      "metadata": {
        "id": "OX6obyXIOyVG"
      },
      "source": [
        "# Para esta sección se definio una función para obtener los cartiles\n",
        "def summary(data):\n",
        "  minimo = data.min()\n",
        "  Q1 = data.quantile(0.25)\n",
        "  median = data.median()\n",
        "  mean = data.mean()\n",
        "  Q2 = data.quantile(0.5)\n",
        "  Q3 = data.quantile(0.75)\n",
        "  maximo = data.max()\n",
        "  IQR = Q3 - Q1\n",
        "  resumen = {'minimo': minimo, 'Q1': Q1, 'mediana':median,'Q2':Q2,'Q3':Q3,'max':maximo,'IQR':IQR, 'media':mean}\n",
        "  return resumen"
      ],
      "execution_count": 32,
      "outputs": []
    },
    {
      "cell_type": "markdown",
      "metadata": {
        "id": "zYYuVeGpj9t9"
      },
      "source": [
        "### Distribución de edad por sexo de los infectados."
      ]
    },
    {
      "cell_type": "code",
      "metadata": {
        "id": "DieRfUYZH6kN",
        "colab": {
          "base_uri": "https://localhost:8080/",
          "height": 0
        },
        "outputId": "b5c078e4-47cf-4b99-b923-4833ac6f155f"
      },
      "source": [
        "fig, axs = plt.subplots(ncols = 3, nrows = 1)\n",
        "fig.set_size_inches(20,5)\n",
        "\n",
        "axs[0].hist(data_filtered[\"EDAD\"], color=\"g\")\n",
        "axs[0].set_title(\"Distribución de edad de los casos confirmados\")\n",
        "axs[0].set_xlabel(\"Edad\")\n",
        "axs[0].set_ylabel(\"Número de casos confirmados\")\n",
        "\n",
        "axs[1].hist(data_filtered[\"EDAD\"][data_filtered[\"SEXO_\"] == \"MUJER\"], color=\"#F611A9\")\n",
        "axs[1].set_title(\"Distribución de edad de los casos confirmados en mujeres\")\n",
        "axs[1].set_xlabel(\"Edad\")\n",
        "axs[1].set_ylabel(\"Número de casos confirmados\")\n",
        "\n",
        "axs[2].hist(data_filtered[\"EDAD\"][data_filtered[\"SEXO_\"] == \"HOMBRE\"], color=\"#1189F6\")\n",
        "axs[2].set_title(\"Distribución de edad de los casos confirmados en hombres\")\n",
        "axs[2].set_xlabel(\"Edad\")\n",
        "axs[2].set_ylabel(\"Número de casos confirmados\")\n"
      ],
      "execution_count": 33,
      "outputs": [
        {
          "output_type": "execute_result",
          "data": {
            "text/plain": [
              "Text(0, 0.5, 'Número de casos confirmados')"
            ]
          },
          "metadata": {
            "tags": []
          },
          "execution_count": 33
        },
        {
          "output_type": "display_data",
          "data": {
            "image/png": "[encoded data removed]",
            "text/plain": [
              "<Figure size 1440x360 with 3 Axes>"
            ]
          },
          "metadata": {
            "tags": [],
            "needs_background": "light"
          }
        }
      ]
    },
    {
      "cell_type": "code",
      "metadata": {
        "id": "_5HXlo1jO5Hn",
        "colab": {
          "base_uri": "https://localhost:8080/"
        },
        "outputId": "4286b693-9b30-4d21-b155-351c24aa2a14"
      },
      "source": [
        "print(\"Resumen edad de casos positivos\")\n",
        "age_summary = summary(data_filtered[\"EDAD\"])\n",
        "age_summary"
      ],
      "execution_count": 34,
      "outputs": [
        {
          "output_type": "stream",
          "text": [
            "Resumen edad de casos positivos\n"
          ],
          "name": "stdout"
        },
        {
          "output_type": "execute_result",
          "data": {
            "text/plain": [
              "{'IQR': 24.0,\n",
              " 'Q1': 31.0,\n",
              " 'Q2': 42.0,\n",
              " 'Q3': 55.0,\n",
              " 'max': 121,\n",
              " 'media': 43.71238393103113,\n",
              " 'mediana': 42.0,\n",
              " 'minimo': 0}"
            ]
          },
          "metadata": {
            "tags": []
          },
          "execution_count": 34
        }
      ]
    },
    {
      "cell_type": "markdown",
      "metadata": {
        "id": "MsRbivbnJRDK"
      },
      "source": [
        "**Se puede ver que la distribución varía poco entre hombres y mujeres, el 50% de los contagios están entre los 31 y 55 años de edad**"
      ]
    },
    {
      "cell_type": "markdown",
      "metadata": {
        "id": "rSADztqQJ5tF"
      },
      "source": [
        "### Distribución de edad en casos hospitalizados y ambulatorios."
      ]
    },
    {
      "cell_type": "code",
      "metadata": {
        "id": "8AIqTboHKMd4",
        "colab": {
          "base_uri": "https://localhost:8080/",
          "height": 0
        },
        "outputId": "a50c9998-9a5c-4789-8480-8c4065d56690"
      },
      "source": [
        "fig, axs = plt.subplots(ncols=2,nrows=1)\n",
        "fig.set_size_inches(20,5)\n",
        "\n",
        "axs[0].hist(data_filtered[\"EDAD\"][data_filtered[\"HOSPITALIZADO\"] == 0], color=\"#F67C11\")\n",
        "axs[0].set_title(\"Distribución de edad de los casos ambulatorios\")\n",
        "axs[0].set_xlabel(\"Edad\")\n",
        "axs[0].set_ylabel(\"Número de casos confirmados\")\n",
        "\n",
        "axs[1].hist(data_filtered[\"EDAD\"][data_filtered[\"HOSPITALIZADO\"] == 1], color=\"#F62911\")\n",
        "axs[1].set_title(\"Distribución de edad de los casos hospitalizados\")\n",
        "axs[1].set_xlabel(\"Edad\")\n",
        "axs[1].set_ylabel(\"Número de casos confirmados\")"
      ],
      "execution_count": 35,
      "outputs": [
        {
          "output_type": "execute_result",
          "data": {
            "text/plain": [
              "Text(0, 0.5, 'Número de casos confirmados')"
            ]
          },
          "metadata": {
            "tags": []
          },
          "execution_count": 35
        },
        {
          "output_type": "display_data",
          "data": {
            "image/png": "[encoded data removed]",
            "text/plain": [
              "<Figure size 1440x360 with 2 Axes>"
            ]
          },
          "metadata": {
            "tags": [],
            "needs_background": "light"
          }
        }
      ]
    },
    {
      "cell_type": "code",
      "metadata": {
        "id": "uOVqkZ1IOZYs",
        "colab": {
          "base_uri": "https://localhost:8080/"
        },
        "outputId": "94f0195b-6f03-4bed-8e25-5f8d82a11c8b"
      },
      "source": [
        "print(\"Resumen edad de casos ambulatorios\")\n",
        "amb_age = summary(data_filtered[\"EDAD\"][data_filtered[\"HOSPITALIZADO\"] == 0])\n",
        "amb_age"
      ],
      "execution_count": 36,
      "outputs": [
        {
          "output_type": "stream",
          "text": [
            "Resumen edad de casos ambulatorios\n"
          ],
          "name": "stdout"
        },
        {
          "output_type": "execute_result",
          "data": {
            "text/plain": [
              "{'IQR': 22.0,\n",
              " 'Q1': 29.0,\n",
              " 'Q2': 39.0,\n",
              " 'Q3': 51.0,\n",
              " 'max': 121,\n",
              " 'media': 40.44257041034878,\n",
              " 'mediana': 39.0,\n",
              " 'minimo': 0}"
            ]
          },
          "metadata": {
            "tags": []
          },
          "execution_count": 36
        }
      ]
    },
    {
      "cell_type": "code",
      "metadata": {
        "id": "kLpiFiImQRxy",
        "colab": {
          "base_uri": "https://localhost:8080/"
        },
        "outputId": "49489014-dd09-4b8b-9b42-61aad48b3f59"
      },
      "source": [
        "print(\"Resumen edad de casos hospitalizados\")\n",
        "amb_age = summary(data_filtered[\"EDAD\"][data_filtered[\"HOSPITALIZADO\"] == 1])\n",
        "amb_age"
      ],
      "execution_count": 37,
      "outputs": [
        {
          "output_type": "stream",
          "text": [
            "Resumen edad de casos hospitalizados\n"
          ],
          "name": "stdout"
        },
        {
          "output_type": "execute_result",
          "data": {
            "text/plain": [
              "{'IQR': 22.0,\n",
              " 'Q1': 48.0,\n",
              " 'Q2': 59.0,\n",
              " 'Q3': 70.0,\n",
              " 'max': 118,\n",
              " 'media': 58.04067398308985,\n",
              " 'mediana': 59.0,\n",
              " 'minimo': 0}"
            ]
          },
          "metadata": {
            "tags": []
          },
          "execution_count": 37
        }
      ]
    },
    {
      "cell_type": "markdown",
      "metadata": {
        "id": "4CUM61YSOT4C"
      },
      "source": [
        "**Se puede apreciar que el grueso de los casos tratados ambulatoriamente están entre los 29 y 51 años de edad mientras que los hospitalizados estan entre los 48 y 70.**"
      ]
    },
    {
      "cell_type": "markdown",
      "metadata": {
        "id": "sWdjGcOqWnh9"
      },
      "source": [
        "### Distribución por edad de fallecidos"
      ]
    },
    {
      "cell_type": "code",
      "metadata": {
        "id": "3FHlLPIwWqud",
        "colab": {
          "base_uri": "https://localhost:8080/",
          "height": 0
        },
        "outputId": "6eb0ea95-71d0-4e01-9433-6ec13de80da1"
      },
      "source": [
        "fig, axs = plt.subplots(ncols=2,nrows=1)\n",
        "fig.set_size_inches(20,5)\n",
        "\n",
        "axs[0].hist(data_filtered[\"EDAD\"][(data_filtered[\"SEXO_\"] == \"MUJER\")&(data_filtered[\"FALLECIDO\"] == 1)], color=\"#F611A9\")\n",
        "axs[0].set_title(\"Distribución de edad de mujeres fallecidas\")\n",
        "axs[0].set_xlabel(\"Edad\")\n",
        "axs[0].set_ylabel(\"Número de casos confirmados\")\n",
        "\n",
        "axs[1].hist(data_filtered[\"EDAD\"][(data_filtered[\"SEXO_\"] == \"HOMBRE\")&(data_filtered[\"FALLECIDO\"] == 1)], color=\"#1189F6\")\n",
        "axs[1].set_title(\"Distribución de edad de hombres fallecidos\")\n",
        "axs[1].set_xlabel(\"Edad\")\n",
        "axs[1].set_ylabel(\"Número de casos confirmados\")"
      ],
      "execution_count": 38,
      "outputs": [
        {
          "output_type": "execute_result",
          "data": {
            "text/plain": [
              "Text(0, 0.5, 'Número de casos confirmados')"
            ]
          },
          "metadata": {
            "tags": []
          },
          "execution_count": 38
        },
        {
          "output_type": "display_data",
          "data": {
            "image/png": "[encoded data removed]",
            "text/plain": [
              "<Figure size 1440x360 with 2 Axes>"
            ]
          },
          "metadata": {
            "tags": [],
            "needs_background": "light"
          }
        }
      ]
    },
    {
      "cell_type": "code",
      "metadata": {
        "id": "vJ7Rw-nNXh46",
        "colab": {
          "base_uri": "https://localhost:8080/"
        },
        "outputId": "22b55ee6-24e8-42cc-83a4-e39cc4495b13"
      },
      "source": [
        "print(\"Resumen edad en mujeres fallecidas\")\n",
        "female_deceased = summary(data_filtered[\"EDAD\"][(data_filtered[\"SEXO_\"] == \"MUJER\")&(data_filtered[\"FALLECIDO\"] == 1)])\n",
        "female_deceased"
      ],
      "execution_count": 39,
      "outputs": [
        {
          "output_type": "stream",
          "text": [
            "Resumen edad en mujeres fallecidas\n"
          ],
          "name": "stdout"
        },
        {
          "output_type": "execute_result",
          "data": {
            "text/plain": [
              "{'IQR': 18.0,\n",
              " 'Q1': 56.0,\n",
              " 'Q2': 65.0,\n",
              " 'Q3': 74.0,\n",
              " 'max': 110,\n",
              " 'media': 64.48083071384434,\n",
              " 'mediana': 65.0,\n",
              " 'minimo': 0}"
            ]
          },
          "metadata": {
            "tags": []
          },
          "execution_count": 39
        }
      ]
    },
    {
      "cell_type": "code",
      "metadata": {
        "id": "rDpbUqCtX6Yx",
        "colab": {
          "base_uri": "https://localhost:8080/"
        },
        "outputId": "3a2d851a-5e94-4280-853e-c248b827c6d4"
      },
      "source": [
        "print(\"Resumen edad en hombres fallecidos\")\n",
        "male_deceased = summary(data_filtered[\"EDAD\"][(data_filtered[\"SEXO_\"] == \"HOMBRE\")&(data_filtered[\"FALLECIDO\"] == 1)])\n",
        "male_deceased"
      ],
      "execution_count": 40,
      "outputs": [
        {
          "output_type": "stream",
          "text": [
            "Resumen edad en hombres fallecidos\n"
          ],
          "name": "stdout"
        },
        {
          "output_type": "execute_result",
          "data": {
            "text/plain": [
              "{'IQR': 19.0,\n",
              " 'Q1': 54.0,\n",
              " 'Q2': 64.0,\n",
              " 'Q3': 73.0,\n",
              " 'max': 106,\n",
              " 'media': 62.94446359707847,\n",
              " 'mediana': 64.0,\n",
              " 'minimo': 0}"
            ]
          },
          "metadata": {
            "tags": []
          },
          "execution_count": 40
        }
      ]
    },
    {
      "cell_type": "markdown",
      "metadata": {
        "id": "Lip2M7-5YGxU"
      },
      "source": [
        "**El 50% de los fallecidos parece estar entre los 55 y 74 años de edad**"
      ]
    },
    {
      "cell_type": "markdown",
      "metadata": {
        "id": "qeVffAaCYTQM"
      },
      "source": [
        "### Comparación de mortalidad en hombres y mujeres"
      ]
    },
    {
      "cell_type": "code",
      "metadata": {
        "id": "5EIPpX3ccCM0",
        "colab": {
          "base_uri": "https://localhost:8080/",
          "height": 0
        },
        "outputId": "b7138de3-3d14-491c-9733-cf2aada139dc"
      },
      "source": [
        "table = pd.crosstab(data_filtered.SEXO_, data_filtered.FALLECIDO)\n",
        "table[\"MORTALIDAD\"] = table[1]/(table[0]+table[1])\n",
        "table"
      ],
      "execution_count": 41,
      "outputs": [
        {
          "output_type": "execute_result",
          "data": {
            "text/html": [
              "<div>\n",
              "<style scoped>\n",
              "    .dataframe tbody tr th:only-of-type {\n",
              "        vertical-align: middle;\n",
              "    }\n",
              "\n",
              "    .dataframe tbody tr th {\n",
              "        vertical-align: top;\n",
              "    }\n",
              "\n",
              "    .dataframe thead th {\n",
              "        text-align: right;\n",
              "    }\n",
              "</style>\n",
              "<table border=\"1\" class=\"dataframe\">\n",
              "  <thead>\n",
              "    <tr style=\"text-align: right;\">\n",
              "      <th>FALLECIDO</th>\n",
              "      <th>0</th>\n",
              "      <th>1</th>\n",
              "      <th>MORTALIDAD</th>\n",
              "    </tr>\n",
              "    <tr>\n",
              "      <th>SEXO_</th>\n",
              "      <th></th>\n",
              "      <th></th>\n",
              "      <th></th>\n",
              "    </tr>\n",
              "  </thead>\n",
              "  <tbody>\n",
              "    <tr>\n",
              "      <th>HOMBRE</th>\n",
              "      <td>990557</td>\n",
              "      <td>124729</td>\n",
              "      <td>0.111836</td>\n",
              "    </tr>\n",
              "    <tr>\n",
              "      <th>MUJER</th>\n",
              "      <td>1031796</td>\n",
              "      <td>74442</td>\n",
              "      <td>0.067293</td>\n",
              "    </tr>\n",
              "  </tbody>\n",
              "</table>\n",
              "</div>"
            ],
            "text/plain": [
              "FALLECIDO        0       1  MORTALIDAD\n",
              "SEXO_                                 \n",
              "HOMBRE      990557  124729    0.111836\n",
              "MUJER      1031796   74442    0.067293"
            ]
          },
          "metadata": {
            "tags": []
          },
          "execution_count": 41
        }
      ]
    },
    {
      "cell_type": "code",
      "metadata": {
        "id": "Z5weGa27cYMe",
        "colab": {
          "base_uri": "https://localhost:8080/",
          "height": 0
        },
        "outputId": "17ef4720-026c-4cc1-9383-ea6b2ac5bf00"
      },
      "source": [
        "plt.figure(figsize = (10,7))\n",
        "plt.bar([\"Hombres\"], table[\"MORTALIDAD\"][0]*100, color = \"#1189F6\")\n",
        "plt.bar([\"Mujeres\"], table[\"MORTALIDAD\"][1]*100, color = \"#F611A9\")\n",
        "plt.title(\"Mortalidad de covid en Hombres y Mujeres\")\n",
        "plt.ylabel(\"Porcentaje de fallecidos (%)\")"
      ],
      "execution_count": 42,
      "outputs": [
        {
          "output_type": "execute_result",
          "data": {
            "text/plain": [
              "Text(0, 0.5, 'Porcentaje de fallecidos (%)')"
            ]
          },
          "metadata": {
            "tags": []
          },
          "execution_count": 42
        },
        {
          "output_type": "display_data",
          "data": {
            "image/png": "[encoded data removed]",
            "text/plain": [
              "<Figure size 720x504 with 1 Axes>"
            ]
          },
          "metadata": {
            "tags": [],
            "needs_background": "light"
          }
        }
      ]
    },
    {
      "cell_type": "markdown",
      "metadata": {
        "id": "cf0Cx3zMR3yk"
      },
      "source": [
        "## Mortalidad por estado y por sector"
      ]
    },
    {
      "cell_type": "markdown",
      "metadata": {
        "id": "oEEOzr-s6ikI"
      },
      "source": [
        "### Mortalidad por estado\n"
      ]
    },
    {
      "cell_type": "code",
      "metadata": {
        "id": "wmedqu9i66pf",
        "colab": {
          "base_uri": "https://localhost:8080/",
          "height": 1000
        },
        "outputId": "8e471501-6fbf-40e8-9b7f-46f2c6c5c6fe"
      },
      "source": [
        "table = pd.crosstab(data_filtered.ESTADO, data_filtered.FALLECIDO)\n",
        "table[\"MORTALIDAD\"] = table[1]/(table[0]+table[1])\n",
        "table = table.sort_values(by = [\"MORTALIDAD\"])\n",
        "table"
      ],
      "execution_count": 43,
      "outputs": [
        {
          "output_type": "execute_result",
          "data": {
            "text/html": [
              "<div>\n",
              "<style scoped>\n",
              "    .dataframe tbody tr th:only-of-type {\n",
              "        vertical-align: middle;\n",
              "    }\n",
              "\n",
              "    .dataframe tbody tr th {\n",
              "        vertical-align: top;\n",
              "    }\n",
              "\n",
              "    .dataframe thead th {\n",
              "        text-align: right;\n",
              "    }\n",
              "</style>\n",
              "<table border=\"1\" class=\"dataframe\">\n",
              "  <thead>\n",
              "    <tr style=\"text-align: right;\">\n",
              "      <th>FALLECIDO</th>\n",
              "      <th>0</th>\n",
              "      <th>1</th>\n",
              "      <th>MORTALIDAD</th>\n",
              "    </tr>\n",
              "    <tr>\n",
              "      <th>ESTADO</th>\n",
              "      <th></th>\n",
              "      <th></th>\n",
              "      <th></th>\n",
              "    </tr>\n",
              "  </thead>\n",
              "  <tbody>\n",
              "    <tr>\n",
              "      <th>BS</th>\n",
              "      <td>26919</td>\n",
              "      <td>1244</td>\n",
              "      <td>0.044171</td>\n",
              "    </tr>\n",
              "    <tr>\n",
              "      <th>DF</th>\n",
              "      <td>664443</td>\n",
              "      <td>38955</td>\n",
              "      <td>0.055381</td>\n",
              "    </tr>\n",
              "    <tr>\n",
              "      <th>TC</th>\n",
              "      <td>57052</td>\n",
              "      <td>3557</td>\n",
              "      <td>0.058688</td>\n",
              "    </tr>\n",
              "    <tr>\n",
              "      <th>QT</th>\n",
              "      <td>60960</td>\n",
              "      <td>3989</td>\n",
              "      <td>0.061417</td>\n",
              "    </tr>\n",
              "    <tr>\n",
              "      <th>DG</th>\n",
              "      <td>28735</td>\n",
              "      <td>2042</td>\n",
              "      <td>0.066348</td>\n",
              "    </tr>\n",
              "    <tr>\n",
              "      <th>OC</th>\n",
              "      <td>39930</td>\n",
              "      <td>3103</td>\n",
              "      <td>0.072107</td>\n",
              "    </tr>\n",
              "    <tr>\n",
              "      <th>NL</th>\n",
              "      <td>110864</td>\n",
              "      <td>9067</td>\n",
              "      <td>0.075602</td>\n",
              "    </tr>\n",
              "    <tr>\n",
              "      <th>GT</th>\n",
              "      <td>117514</td>\n",
              "      <td>9860</td>\n",
              "      <td>0.077410</td>\n",
              "    </tr>\n",
              "    <tr>\n",
              "      <th>SP</th>\n",
              "      <td>55028</td>\n",
              "      <td>4942</td>\n",
              "      <td>0.082408</td>\n",
              "    </tr>\n",
              "    <tr>\n",
              "      <th>SR</th>\n",
              "      <td>63998</td>\n",
              "      <td>5906</td>\n",
              "      <td>0.084487</td>\n",
              "    </tr>\n",
              "    <tr>\n",
              "      <th>TS</th>\n",
              "      <td>49382</td>\n",
              "      <td>4718</td>\n",
              "      <td>0.087209</td>\n",
              "    </tr>\n",
              "    <tr>\n",
              "      <th>AS</th>\n",
              "      <td>22304</td>\n",
              "      <td>2170</td>\n",
              "      <td>0.088666</td>\n",
              "    </tr>\n",
              "    <tr>\n",
              "      <th>CL</th>\n",
              "      <td>59458</td>\n",
              "      <td>5884</td>\n",
              "      <td>0.090049</td>\n",
              "    </tr>\n",
              "    <tr>\n",
              "      <th>ZS</th>\n",
              "      <td>26219</td>\n",
              "      <td>2628</td>\n",
              "      <td>0.091101</td>\n",
              "    </tr>\n",
              "    <tr>\n",
              "      <th>MS</th>\n",
              "      <td>26905</td>\n",
              "      <td>2718</td>\n",
              "      <td>0.091753</td>\n",
              "    </tr>\n",
              "    <tr>\n",
              "      <th>YN</th>\n",
              "      <td>31725</td>\n",
              "      <td>3409</td>\n",
              "      <td>0.097029</td>\n",
              "    </tr>\n",
              "    <tr>\n",
              "      <th>GR</th>\n",
              "      <td>32983</td>\n",
              "      <td>3902</td>\n",
              "      <td>0.105788</td>\n",
              "    </tr>\n",
              "    <tr>\n",
              "      <th>MN</th>\n",
              "      <td>39789</td>\n",
              "      <td>4892</td>\n",
              "      <td>0.109487</td>\n",
              "    </tr>\n",
              "    <tr>\n",
              "      <th>CM</th>\n",
              "      <td>9739</td>\n",
              "      <td>1216</td>\n",
              "      <td>0.111000</td>\n",
              "    </tr>\n",
              "    <tr>\n",
              "      <th>QR</th>\n",
              "      <td>18204</td>\n",
              "      <td>2455</td>\n",
              "      <td>0.118834</td>\n",
              "    </tr>\n",
              "    <tr>\n",
              "      <th>CH</th>\n",
              "      <td>40355</td>\n",
              "      <td>5489</td>\n",
              "      <td>0.119732</td>\n",
              "    </tr>\n",
              "    <tr>\n",
              "      <th>CC</th>\n",
              "      <td>8033</td>\n",
              "      <td>1108</td>\n",
              "      <td>0.121212</td>\n",
              "    </tr>\n",
              "    <tr>\n",
              "      <th>PL</th>\n",
              "      <td>69695</td>\n",
              "      <td>10100</td>\n",
              "      <td>0.126574</td>\n",
              "    </tr>\n",
              "    <tr>\n",
              "      <th>TL</th>\n",
              "      <td>14101</td>\n",
              "      <td>2123</td>\n",
              "      <td>0.130856</td>\n",
              "    </tr>\n",
              "    <tr>\n",
              "      <th>JC</th>\n",
              "      <td>68375</td>\n",
              "      <td>10435</td>\n",
              "      <td>0.132407</td>\n",
              "    </tr>\n",
              "    <tr>\n",
              "      <th>CS</th>\n",
              "      <td>8451</td>\n",
              "      <td>1375</td>\n",
              "      <td>0.139935</td>\n",
              "    </tr>\n",
              "    <tr>\n",
              "      <th>SL</th>\n",
              "      <td>30285</td>\n",
              "      <td>5417</td>\n",
              "      <td>0.151728</td>\n",
              "    </tr>\n",
              "    <tr>\n",
              "      <th>VZ</th>\n",
              "      <td>47666</td>\n",
              "      <td>8637</td>\n",
              "      <td>0.153402</td>\n",
              "    </tr>\n",
              "    <tr>\n",
              "      <th>NT</th>\n",
              "      <td>9454</td>\n",
              "      <td>1793</td>\n",
              "      <td>0.159420</td>\n",
              "    </tr>\n",
              "    <tr>\n",
              "      <th>BC</th>\n",
              "      <td>38028</td>\n",
              "      <td>7279</td>\n",
              "      <td>0.160660</td>\n",
              "    </tr>\n",
              "    <tr>\n",
              "      <th>HG</th>\n",
              "      <td>29409</td>\n",
              "      <td>5764</td>\n",
              "      <td>0.163876</td>\n",
              "    </tr>\n",
              "    <tr>\n",
              "      <th>MC</th>\n",
              "      <td>116350</td>\n",
              "      <td>22994</td>\n",
              "      <td>0.165016</td>\n",
              "    </tr>\n",
              "  </tbody>\n",
              "</table>\n",
              "</div>"
            ],
            "text/plain": [
              "FALLECIDO       0      1  MORTALIDAD\n",
              "ESTADO                              \n",
              "BS          26919   1244    0.044171\n",
              "DF         664443  38955    0.055381\n",
              "TC          57052   3557    0.058688\n",
              "QT          60960   3989    0.061417\n",
              "DG          28735   2042    0.066348\n",
              "OC          39930   3103    0.072107\n",
              "NL         110864   9067    0.075602\n",
              "GT         117514   9860    0.077410\n",
              "SP          55028   4942    0.082408\n",
              "SR          63998   5906    0.084487\n",
              "TS          49382   4718    0.087209\n",
              "AS          22304   2170    0.088666\n",
              "CL          59458   5884    0.090049\n",
              "ZS          26219   2628    0.091101\n",
              "MS          26905   2718    0.091753\n",
              "YN          31725   3409    0.097029\n",
              "GR          32983   3902    0.105788\n",
              "MN          39789   4892    0.109487\n",
              "CM           9739   1216    0.111000\n",
              "QR          18204   2455    0.118834\n",
              "CH          40355   5489    0.119732\n",
              "CC           8033   1108    0.121212\n",
              "PL          69695  10100    0.126574\n",
              "TL          14101   2123    0.130856\n",
              "JC          68375  10435    0.132407\n",
              "CS           8451   1375    0.139935\n",
              "SL          30285   5417    0.151728\n",
              "VZ          47666   8637    0.153402\n",
              "NT           9454   1793    0.159420\n",
              "BC          38028   7279    0.160660\n",
              "HG          29409   5764    0.163876\n",
              "MC         116350  22994    0.165016"
            ]
          },
          "metadata": {
            "tags": []
          },
          "execution_count": 43
        }
      ]
    },
    {
      "cell_type": "code",
      "metadata": {
        "id": "4yNGFqMg9rdc",
        "colab": {
          "base_uri": "https://localhost:8080/",
          "height": 624
        },
        "outputId": "239d40b6-9297-4e6e-cbee-5b304330bdc5"
      },
      "source": [
        "plt.figure(figsize = (15,10))\n",
        "plt.bar(table.index,table[\"MORTALIDAD\"]*100)\n",
        "plt.title(\"Mortalidad de covid en los estados\")\n",
        "plt.ylabel(\"Porcentaje de fallecidos (%)\")"
      ],
      "execution_count": 44,
      "outputs": [
        {
          "output_type": "execute_result",
          "data": {
            "text/plain": [
              "Text(0, 0.5, 'Porcentaje de fallecidos (%)')"
            ]
          },
          "metadata": {
            "tags": []
          },
          "execution_count": 44
        },
        {
          "output_type": "display_data",
          "data": {
            "image/png": "[encoded data removed]",
            "text/plain": [
              "<Figure size 1080x720 with 1 Axes>"
            ]
          },
          "metadata": {
            "tags": [],
            "needs_background": "light"
          }
        }
      ]
    },
    {
      "cell_type": "markdown",
      "metadata": {
        "id": "nB5VBCMm-3iK"
      },
      "source": [
        "### Mortalidad por sector de la salud"
      ]
    },
    {
      "cell_type": "code",
      "metadata": {
        "id": "t4rUGkcV-7lk",
        "colab": {
          "base_uri": "https://localhost:8080/",
          "height": 462
        },
        "outputId": "6c9dff4e-b480-4111-ec53-e18d519fe470"
      },
      "source": [
        "table = pd.crosstab(data_filtered.SECTOR_ATENDIDO, data_filtered.FALLECIDO)\n",
        "table[\"MORTALIDAD\"] = table[1]/(table[0]+table[1])\n",
        "table = table.sort_values(by = [\"MORTALIDAD\"])\n",
        "table"
      ],
      "execution_count": 45,
      "outputs": [
        {
          "output_type": "execute_result",
          "data": {
            "text/html": [
              "<div>\n",
              "<style scoped>\n",
              "    .dataframe tbody tr th:only-of-type {\n",
              "        vertical-align: middle;\n",
              "    }\n",
              "\n",
              "    .dataframe tbody tr th {\n",
              "        vertical-align: top;\n",
              "    }\n",
              "\n",
              "    .dataframe thead th {\n",
              "        text-align: right;\n",
              "    }\n",
              "</style>\n",
              "<table border=\"1\" class=\"dataframe\">\n",
              "  <thead>\n",
              "    <tr style=\"text-align: right;\">\n",
              "      <th>FALLECIDO</th>\n",
              "      <th>0</th>\n",
              "      <th>1</th>\n",
              "      <th>MORTALIDAD</th>\n",
              "    </tr>\n",
              "    <tr>\n",
              "      <th>SECTOR_ATENDIDO</th>\n",
              "      <th></th>\n",
              "      <th></th>\n",
              "      <th></th>\n",
              "    </tr>\n",
              "  </thead>\n",
              "  <tbody>\n",
              "    <tr>\n",
              "      <th>DIF</th>\n",
              "      <td>815</td>\n",
              "      <td>1</td>\n",
              "      <td>0.001225</td>\n",
              "    </tr>\n",
              "    <tr>\n",
              "      <th>MUNICIPAL</th>\n",
              "      <td>1617</td>\n",
              "      <td>65</td>\n",
              "      <td>0.038644</td>\n",
              "    </tr>\n",
              "    <tr>\n",
              "      <th>SSA</th>\n",
              "      <td>1230078</td>\n",
              "      <td>54979</td>\n",
              "      <td>0.042783</td>\n",
              "    </tr>\n",
              "    <tr>\n",
              "      <th>CRUZ ROJA</th>\n",
              "      <td>211</td>\n",
              "      <td>13</td>\n",
              "      <td>0.058036</td>\n",
              "    </tr>\n",
              "    <tr>\n",
              "      <th>PRIVADA</th>\n",
              "      <td>54328</td>\n",
              "      <td>3581</td>\n",
              "      <td>0.061838</td>\n",
              "    </tr>\n",
              "    <tr>\n",
              "      <th>SEMAR</th>\n",
              "      <td>6679</td>\n",
              "      <td>584</td>\n",
              "      <td>0.080408</td>\n",
              "    </tr>\n",
              "    <tr>\n",
              "      <th>ESTATAL</th>\n",
              "      <td>24179</td>\n",
              "      <td>3118</td>\n",
              "      <td>0.114225</td>\n",
              "    </tr>\n",
              "    <tr>\n",
              "      <th>IMSS-BIENESTAR</th>\n",
              "      <td>10913</td>\n",
              "      <td>1604</td>\n",
              "      <td>0.128146</td>\n",
              "    </tr>\n",
              "    <tr>\n",
              "      <th>SEDENA</th>\n",
              "      <td>12616</td>\n",
              "      <td>2347</td>\n",
              "      <td>0.156854</td>\n",
              "    </tr>\n",
              "    <tr>\n",
              "      <th>IMSS</th>\n",
              "      <td>601221</td>\n",
              "      <td>114802</td>\n",
              "      <td>0.160333</td>\n",
              "    </tr>\n",
              "    <tr>\n",
              "      <th>ISSSTE</th>\n",
              "      <td>65937</td>\n",
              "      <td>14941</td>\n",
              "      <td>0.184735</td>\n",
              "    </tr>\n",
              "    <tr>\n",
              "      <th>PEMEX</th>\n",
              "      <td>12178</td>\n",
              "      <td>2767</td>\n",
              "      <td>0.185146</td>\n",
              "    </tr>\n",
              "    <tr>\n",
              "      <th>UNIVERSITARIO</th>\n",
              "      <td>1581</td>\n",
              "      <td>369</td>\n",
              "      <td>0.189231</td>\n",
              "    </tr>\n",
              "  </tbody>\n",
              "</table>\n",
              "</div>"
            ],
            "text/plain": [
              "FALLECIDO              0       1  MORTALIDAD\n",
              "SECTOR_ATENDIDO                             \n",
              "DIF                  815       1    0.001225\n",
              "MUNICIPAL           1617      65    0.038644\n",
              "SSA              1230078   54979    0.042783\n",
              "CRUZ ROJA            211      13    0.058036\n",
              "PRIVADA            54328    3581    0.061838\n",
              "SEMAR               6679     584    0.080408\n",
              "ESTATAL            24179    3118    0.114225\n",
              "IMSS-BIENESTAR     10913    1604    0.128146\n",
              "SEDENA             12616    2347    0.156854\n",
              "IMSS              601221  114802    0.160333\n",
              "ISSSTE             65937   14941    0.184735\n",
              "PEMEX              12178    2767    0.185146\n",
              "UNIVERSITARIO       1581     369    0.189231"
            ]
          },
          "metadata": {
            "tags": []
          },
          "execution_count": 45
        }
      ]
    },
    {
      "cell_type": "code",
      "metadata": {
        "id": "gTn0Fdo3_BnL",
        "colab": {
          "base_uri": "https://localhost:8080/",
          "height": 570
        },
        "outputId": "8084c4e3-7c0e-432c-a085-e0288d86d4d2"
      },
      "source": [
        "plt.figure(figsize = (20,10))\n",
        "plt.bar(table.index,table[\"MORTALIDAD\"]*100)\n",
        "plt.title(\"Mortalidad de covid por sector de salud\")\n",
        "plt.ylabel(\"Porcentaje de fallecidos (%)\")"
      ],
      "execution_count": 46,
      "outputs": [
        {
          "output_type": "execute_result",
          "data": {
            "text/plain": [
              "Text(0, 0.5, 'Porcentaje de fallecidos (%)')"
            ]
          },
          "metadata": {
            "tags": []
          },
          "execution_count": 46
        },
        {
          "output_type": "display_data",
          "data": {
            "image/png": "[encoded data removed]",
            "text/plain": [
              "<Figure size 1440x720 with 1 Axes>"
            ]
          },
          "metadata": {
            "tags": [],
            "needs_background": "light"
          }
        }
      ]
    },
    {
      "cell_type": "markdown",
      "metadata": {
        "id": "8Hxfq79Vn_8U"
      },
      "source": [
        "## Proporcion de enfermos grave de covid por estado y por sector"
      ]
    },
    {
      "cell_type": "markdown",
      "metadata": {
        "id": "ezE53LXFoJVR"
      },
      "source": [
        "### Proporción de enfermos graves por estado"
      ]
    },
    {
      "cell_type": "code",
      "metadata": {
        "id": "uS18LdfdoN6o",
        "outputId": "c9d2d7a6-72ad-411d-e2c6-2394d5123564",
        "colab": {
          "base_uri": "https://localhost:8080/",
          "height": 1000
        }
      },
      "source": [
        "table = pd.crosstab(data_filtered.ESTADO, data_filtered.ENFERMEDAD_GRAVE)\n",
        "table[\"PROPORCION\"] = table[1]/(table[0]+table[1])\n",
        "table = table.sort_values(by = [\"PROPORCION\"])\n",
        "table"
      ],
      "execution_count": 47,
      "outputs": [
        {
          "output_type": "execute_result",
          "data": {
            "text/html": [
              "<div>\n",
              "<style scoped>\n",
              "    .dataframe tbody tr th:only-of-type {\n",
              "        vertical-align: middle;\n",
              "    }\n",
              "\n",
              "    .dataframe tbody tr th {\n",
              "        vertical-align: top;\n",
              "    }\n",
              "\n",
              "    .dataframe thead th {\n",
              "        text-align: right;\n",
              "    }\n",
              "</style>\n",
              "<table border=\"1\" class=\"dataframe\">\n",
              "  <thead>\n",
              "    <tr style=\"text-align: right;\">\n",
              "      <th>ENFERMEDAD_GRAVE</th>\n",
              "      <th>0</th>\n",
              "      <th>1</th>\n",
              "      <th>PROPORCION</th>\n",
              "    </tr>\n",
              "    <tr>\n",
              "      <th>ESTADO</th>\n",
              "      <th></th>\n",
              "      <th></th>\n",
              "      <th></th>\n",
              "    </tr>\n",
              "  </thead>\n",
              "  <tbody>\n",
              "    <tr>\n",
              "      <th>DG</th>\n",
              "      <td>28857</td>\n",
              "      <td>1920</td>\n",
              "      <td>0.062384</td>\n",
              "    </tr>\n",
              "    <tr>\n",
              "      <th>BS</th>\n",
              "      <td>25948</td>\n",
              "      <td>2215</td>\n",
              "      <td>0.078649</td>\n",
              "    </tr>\n",
              "    <tr>\n",
              "      <th>DF</th>\n",
              "      <td>633846</td>\n",
              "      <td>69552</td>\n",
              "      <td>0.098880</td>\n",
              "    </tr>\n",
              "    <tr>\n",
              "      <th>CL</th>\n",
              "      <td>58824</td>\n",
              "      <td>6518</td>\n",
              "      <td>0.099752</td>\n",
              "    </tr>\n",
              "    <tr>\n",
              "      <th>TS</th>\n",
              "      <td>48682</td>\n",
              "      <td>5418</td>\n",
              "      <td>0.100148</td>\n",
              "    </tr>\n",
              "    <tr>\n",
              "      <th>TC</th>\n",
              "      <td>54478</td>\n",
              "      <td>6131</td>\n",
              "      <td>0.101157</td>\n",
              "    </tr>\n",
              "    <tr>\n",
              "      <th>ZS</th>\n",
              "      <td>25879</td>\n",
              "      <td>2968</td>\n",
              "      <td>0.102888</td>\n",
              "    </tr>\n",
              "    <tr>\n",
              "      <th>OC</th>\n",
              "      <td>38148</td>\n",
              "      <td>4885</td>\n",
              "      <td>0.113518</td>\n",
              "    </tr>\n",
              "    <tr>\n",
              "      <th>GT</th>\n",
              "      <td>112464</td>\n",
              "      <td>14910</td>\n",
              "      <td>0.117057</td>\n",
              "    </tr>\n",
              "    <tr>\n",
              "      <th>YN</th>\n",
              "      <td>30968</td>\n",
              "      <td>4166</td>\n",
              "      <td>0.118575</td>\n",
              "    </tr>\n",
              "    <tr>\n",
              "      <th>NL</th>\n",
              "      <td>105647</td>\n",
              "      <td>14284</td>\n",
              "      <td>0.119102</td>\n",
              "    </tr>\n",
              "    <tr>\n",
              "      <th>AS</th>\n",
              "      <td>21452</td>\n",
              "      <td>3022</td>\n",
              "      <td>0.123478</td>\n",
              "    </tr>\n",
              "    <tr>\n",
              "      <th>JC</th>\n",
              "      <td>68911</td>\n",
              "      <td>9899</td>\n",
              "      <td>0.125606</td>\n",
              "    </tr>\n",
              "    <tr>\n",
              "      <th>SR</th>\n",
              "      <td>61014</td>\n",
              "      <td>8890</td>\n",
              "      <td>0.127174</td>\n",
              "    </tr>\n",
              "    <tr>\n",
              "      <th>QT</th>\n",
              "      <td>56564</td>\n",
              "      <td>8385</td>\n",
              "      <td>0.129101</td>\n",
              "    </tr>\n",
              "    <tr>\n",
              "      <th>SP</th>\n",
              "      <td>52030</td>\n",
              "      <td>7940</td>\n",
              "      <td>0.132400</td>\n",
              "    </tr>\n",
              "    <tr>\n",
              "      <th>MS</th>\n",
              "      <td>24280</td>\n",
              "      <td>5343</td>\n",
              "      <td>0.180367</td>\n",
              "    </tr>\n",
              "    <tr>\n",
              "      <th>CH</th>\n",
              "      <td>37405</td>\n",
              "      <td>8439</td>\n",
              "      <td>0.184081</td>\n",
              "    </tr>\n",
              "    <tr>\n",
              "      <th>GR</th>\n",
              "      <td>29845</td>\n",
              "      <td>7040</td>\n",
              "      <td>0.190863</td>\n",
              "    </tr>\n",
              "    <tr>\n",
              "      <th>CM</th>\n",
              "      <td>8833</td>\n",
              "      <td>2122</td>\n",
              "      <td>0.193702</td>\n",
              "    </tr>\n",
              "    <tr>\n",
              "      <th>CS</th>\n",
              "      <td>7921</td>\n",
              "      <td>1905</td>\n",
              "      <td>0.193873</td>\n",
              "    </tr>\n",
              "    <tr>\n",
              "      <th>MN</th>\n",
              "      <td>35850</td>\n",
              "      <td>8831</td>\n",
              "      <td>0.197646</td>\n",
              "    </tr>\n",
              "    <tr>\n",
              "      <th>QR</th>\n",
              "      <td>16559</td>\n",
              "      <td>4100</td>\n",
              "      <td>0.198461</td>\n",
              "    </tr>\n",
              "    <tr>\n",
              "      <th>CC</th>\n",
              "      <td>7061</td>\n",
              "      <td>2080</td>\n",
              "      <td>0.227546</td>\n",
              "    </tr>\n",
              "    <tr>\n",
              "      <th>SL</th>\n",
              "      <td>27086</td>\n",
              "      <td>8616</td>\n",
              "      <td>0.241331</td>\n",
              "    </tr>\n",
              "    <tr>\n",
              "      <th>TL</th>\n",
              "      <td>12253</td>\n",
              "      <td>3971</td>\n",
              "      <td>0.244761</td>\n",
              "    </tr>\n",
              "    <tr>\n",
              "      <th>VZ</th>\n",
              "      <td>42397</td>\n",
              "      <td>13906</td>\n",
              "      <td>0.246985</td>\n",
              "    </tr>\n",
              "    <tr>\n",
              "      <th>NT</th>\n",
              "      <td>8454</td>\n",
              "      <td>2793</td>\n",
              "      <td>0.248333</td>\n",
              "    </tr>\n",
              "    <tr>\n",
              "      <th>PL</th>\n",
              "      <td>59073</td>\n",
              "      <td>20722</td>\n",
              "      <td>0.259690</td>\n",
              "    </tr>\n",
              "    <tr>\n",
              "      <th>BC</th>\n",
              "      <td>32948</td>\n",
              "      <td>12359</td>\n",
              "      <td>0.272783</td>\n",
              "    </tr>\n",
              "    <tr>\n",
              "      <th>HG</th>\n",
              "      <td>24716</td>\n",
              "      <td>10457</td>\n",
              "      <td>0.297302</td>\n",
              "    </tr>\n",
              "    <tr>\n",
              "      <th>MC</th>\n",
              "      <td>96811</td>\n",
              "      <td>42533</td>\n",
              "      <td>0.305237</td>\n",
              "    </tr>\n",
              "  </tbody>\n",
              "</table>\n",
              "</div>"
            ],
            "text/plain": [
              "ENFERMEDAD_GRAVE       0      1  PROPORCION\n",
              "ESTADO                                     \n",
              "DG                 28857   1920    0.062384\n",
              "BS                 25948   2215    0.078649\n",
              "DF                633846  69552    0.098880\n",
              "CL                 58824   6518    0.099752\n",
              "TS                 48682   5418    0.100148\n",
              "TC                 54478   6131    0.101157\n",
              "ZS                 25879   2968    0.102888\n",
              "OC                 38148   4885    0.113518\n",
              "GT                112464  14910    0.117057\n",
              "YN                 30968   4166    0.118575\n",
              "NL                105647  14284    0.119102\n",
              "AS                 21452   3022    0.123478\n",
              "JC                 68911   9899    0.125606\n",
              "SR                 61014   8890    0.127174\n",
              "QT                 56564   8385    0.129101\n",
              "SP                 52030   7940    0.132400\n",
              "MS                 24280   5343    0.180367\n",
              "CH                 37405   8439    0.184081\n",
              "GR                 29845   7040    0.190863\n",
              "CM                  8833   2122    0.193702\n",
              "CS                  7921   1905    0.193873\n",
              "MN                 35850   8831    0.197646\n",
              "QR                 16559   4100    0.198461\n",
              "CC                  7061   2080    0.227546\n",
              "SL                 27086   8616    0.241331\n",
              "TL                 12253   3971    0.244761\n",
              "VZ                 42397  13906    0.246985\n",
              "NT                  8454   2793    0.248333\n",
              "PL                 59073  20722    0.259690\n",
              "BC                 32948  12359    0.272783\n",
              "HG                 24716  10457    0.297302\n",
              "MC                 96811  42533    0.305237"
            ]
          },
          "metadata": {
            "tags": []
          },
          "execution_count": 47
        }
      ]
    },
    {
      "cell_type": "code",
      "metadata": {
        "id": "CubB-DoboVaT",
        "outputId": "62767a6d-5122-444d-cf53-a459a90f9b73",
        "colab": {
          "base_uri": "https://localhost:8080/",
          "height": 624
        }
      },
      "source": [
        "plt.figure(figsize = (15,10))\n",
        "plt.bar(table.index,table[\"PROPORCION\"]*100)\n",
        "plt.title(\"Proporción de enfermos graves por covid en los estados\")\n",
        "plt.ylabel(\"Porcentaje de enfermos (%)\")"
      ],
      "execution_count": 48,
      "outputs": [
        {
          "output_type": "execute_result",
          "data": {
            "text/plain": [
              "Text(0, 0.5, 'Porcentaje de enfermos (%)')"
            ]
          },
          "metadata": {
            "tags": []
          },
          "execution_count": 48
        },
        {
          "output_type": "display_data",
          "data": {
            "image/png": "[encoded data removed]",
            "text/plain": [
              "<Figure size 1080x720 with 1 Axes>"
            ]
          },
          "metadata": {
            "tags": [],
            "needs_background": "light"
          }
        }
      ]
    },
    {
      "cell_type": "markdown",
      "metadata": {
        "id": "Si2RePLfonGz"
      },
      "source": [
        "### Proporción de enfermos graves por sector de salud"
      ]
    },
    {
      "cell_type": "code",
      "metadata": {
        "id": "HlBj1ZxDoqAV",
        "outputId": "678832ad-7824-49bb-a799-73097490a264",
        "colab": {
          "base_uri": "https://localhost:8080/",
          "height": 462
        }
      },
      "source": [
        "table = pd.crosstab(data_filtered.SECTOR_ATENDIDO, data_filtered.ENFERMEDAD_GRAVE)\n",
        "table[\"PROPORCION\"] = table[1]/(table[0]+table[1])\n",
        "table = table.sort_values(by = [\"PROPORCION\"])\n",
        "table"
      ],
      "execution_count": 49,
      "outputs": [
        {
          "output_type": "execute_result",
          "data": {
            "text/html": [
              "<div>\n",
              "<style scoped>\n",
              "    .dataframe tbody tr th:only-of-type {\n",
              "        vertical-align: middle;\n",
              "    }\n",
              "\n",
              "    .dataframe tbody tr th {\n",
              "        vertical-align: top;\n",
              "    }\n",
              "\n",
              "    .dataframe thead th {\n",
              "        text-align: right;\n",
              "    }\n",
              "</style>\n",
              "<table border=\"1\" class=\"dataframe\">\n",
              "  <thead>\n",
              "    <tr style=\"text-align: right;\">\n",
              "      <th>ENFERMEDAD_GRAVE</th>\n",
              "      <th>0</th>\n",
              "      <th>1</th>\n",
              "      <th>PROPORCION</th>\n",
              "    </tr>\n",
              "    <tr>\n",
              "      <th>SECTOR_ATENDIDO</th>\n",
              "      <th></th>\n",
              "      <th></th>\n",
              "      <th></th>\n",
              "    </tr>\n",
              "  </thead>\n",
              "  <tbody>\n",
              "    <tr>\n",
              "      <th>DIF</th>\n",
              "      <td>790</td>\n",
              "      <td>26</td>\n",
              "      <td>0.031863</td>\n",
              "    </tr>\n",
              "    <tr>\n",
              "      <th>CRUZ ROJA</th>\n",
              "      <td>204</td>\n",
              "      <td>20</td>\n",
              "      <td>0.089286</td>\n",
              "    </tr>\n",
              "    <tr>\n",
              "      <th>SSA</th>\n",
              "      <td>1166935</td>\n",
              "      <td>118122</td>\n",
              "      <td>0.091920</td>\n",
              "    </tr>\n",
              "    <tr>\n",
              "      <th>MUNICIPAL</th>\n",
              "      <td>1457</td>\n",
              "      <td>225</td>\n",
              "      <td>0.133769</td>\n",
              "    </tr>\n",
              "    <tr>\n",
              "      <th>IMSS</th>\n",
              "      <td>575259</td>\n",
              "      <td>140764</td>\n",
              "      <td>0.196591</td>\n",
              "    </tr>\n",
              "    <tr>\n",
              "      <th>IMSS-BIENESTAR</th>\n",
              "      <td>9693</td>\n",
              "      <td>2824</td>\n",
              "      <td>0.225613</td>\n",
              "    </tr>\n",
              "    <tr>\n",
              "      <th>PRIVADA</th>\n",
              "      <td>44454</td>\n",
              "      <td>13455</td>\n",
              "      <td>0.232347</td>\n",
              "    </tr>\n",
              "    <tr>\n",
              "      <th>SEMAR</th>\n",
              "      <td>5534</td>\n",
              "      <td>1729</td>\n",
              "      <td>0.238056</td>\n",
              "    </tr>\n",
              "    <tr>\n",
              "      <th>SEDENA</th>\n",
              "      <td>11178</td>\n",
              "      <td>3785</td>\n",
              "      <td>0.252957</td>\n",
              "    </tr>\n",
              "    <tr>\n",
              "      <th>ESTATAL</th>\n",
              "      <td>19463</td>\n",
              "      <td>7834</td>\n",
              "      <td>0.286991</td>\n",
              "    </tr>\n",
              "    <tr>\n",
              "      <th>UNIVERSITARIO</th>\n",
              "      <td>1284</td>\n",
              "      <td>666</td>\n",
              "      <td>0.341538</td>\n",
              "    </tr>\n",
              "    <tr>\n",
              "      <th>ISSSTE</th>\n",
              "      <td>51125</td>\n",
              "      <td>29753</td>\n",
              "      <td>0.367875</td>\n",
              "    </tr>\n",
              "    <tr>\n",
              "      <th>PEMEX</th>\n",
              "      <td>7828</td>\n",
              "      <td>7117</td>\n",
              "      <td>0.476213</td>\n",
              "    </tr>\n",
              "  </tbody>\n",
              "</table>\n",
              "</div>"
            ],
            "text/plain": [
              "ENFERMEDAD_GRAVE        0       1  PROPORCION\n",
              "SECTOR_ATENDIDO                              \n",
              "DIF                   790      26    0.031863\n",
              "CRUZ ROJA             204      20    0.089286\n",
              "SSA               1166935  118122    0.091920\n",
              "MUNICIPAL            1457     225    0.133769\n",
              "IMSS               575259  140764    0.196591\n",
              "IMSS-BIENESTAR       9693    2824    0.225613\n",
              "PRIVADA             44454   13455    0.232347\n",
              "SEMAR                5534    1729    0.238056\n",
              "SEDENA              11178    3785    0.252957\n",
              "ESTATAL             19463    7834    0.286991\n",
              "UNIVERSITARIO        1284     666    0.341538\n",
              "ISSSTE              51125   29753    0.367875\n",
              "PEMEX                7828    7117    0.476213"
            ]
          },
          "metadata": {
            "tags": []
          },
          "execution_count": 49
        }
      ]
    },
    {
      "cell_type": "code",
      "metadata": {
        "id": "HSJmZ8GpovEs",
        "outputId": "29942664-71ba-43d5-a187-a5eda8e38365",
        "colab": {
          "base_uri": "https://localhost:8080/",
          "height": 574
        }
      },
      "source": [
        "plt.figure(figsize = (20,10))\n",
        "plt.bar(table.index,table[\"PROPORCION\"]*100)\n",
        "plt.title(\"Proporción de enfermos graves por sector de salud\")\n",
        "plt.ylabel(\"Porcentaje de enfermos graves (%)\")"
      ],
      "execution_count": 115,
      "outputs": [
        {
          "output_type": "execute_result",
          "data": {
            "text/plain": [
              "Text(0, 0.5, 'Porcentaje de enfermos graves (%)')"
            ]
          },
          "metadata": {
            "tags": []
          },
          "execution_count": 115
        },
        {
          "output_type": "display_data",
          "data": {
            "image/png": "[encoded data removed]",
            "text/plain": [
              "<Figure size 1440x720 with 1 Axes>"
            ]
          },
          "metadata": {
            "tags": [],
            "needs_background": "light"
          }
        }
      ]
    },
    {
      "cell_type": "markdown",
      "metadata": {
        "id": "Me-mTjJZ7n99"
      },
      "source": [
        "## Mortalidad por días de espera\n",
        "Se obtendrá la mortalidad según los días entre que el paciente presento síntomas y cuando se atendió en una unidad de salud."
      ]
    },
    {
      "cell_type": "code",
      "metadata": {
        "id": "l4w96qXg8jHP",
        "outputId": "3c103b03-7106-40c0-a775-b8c12aa46a98",
        "colab": {
          "base_uri": "https://localhost:8080/",
          "height": 571
        }
      },
      "source": [
        "table = pd.crosstab(data_filtered.TIEMPO_ESPERA, data_filtered.FALLECIDO)\n",
        "table[\"MORTALIDAD\"] = table[1]/(table[0]+table[1])\n",
        "table = table.sort_values(by = [\"TIEMPO_ESPERA\"])\n",
        "table = table[0:45]\n",
        "\n",
        "plt.figure(figsize = (20,10))\n",
        "plt.bar(table.index,table[\"MORTALIDAD\"]*100)\n",
        "plt.title(\"Mortalidad por días de espera\")\n",
        "plt.ylabel(\"Porcentaje de fallecidos (%)\")"
      ],
      "execution_count": 125,
      "outputs": [
        {
          "output_type": "execute_result",
          "data": {
            "text/plain": [
              "Text(0, 0.5, 'Porcentaje de fallecidos (%)')"
            ]
          },
          "metadata": {
            "tags": []
          },
          "execution_count": 125
        },
        {
          "output_type": "display_data",
          "data": {
            "image/png": "[encoded data removed]",
            "text/plain": [
              "<Figure size 1440x720 with 1 Axes>"
            ]
          },
          "metadata": {
            "tags": [],
            "needs_background": "light"
          }
        }
      ]
    },
    {
      "cell_type": "markdown",
      "metadata": {
        "id": "92xNdobc96eP"
      },
      "source": [
        "Se puede ver que no necesariamente aumenta la mortalidad entre más días de espera."
      ]
    },
    {
      "cell_type": "markdown",
      "metadata": {
        "id": "56hsdHfFpAjc"
      },
      "source": [
        "##  Mortalidad y Positividad a lo largo de la pandemia\n",
        "Se obtendrá la mortalidad y positividad por semana desde la primera semana del 2020 (Se registraban solamente casos sospechosos los primeros meses del 2020)"
      ]
    },
    {
      "cell_type": "code",
      "metadata": {
        "id": "vleFPQFqsKS0"
      },
      "source": [
        "# Para esta sección se usará el dataset original, ya se usará un método externo que solo funciona con este\n",
        "dates = covid.getDateList(date)\n",
        "\n",
        "cases_by_day = covid.getCasesByDay(covid_df, dates)\n",
        "cases_by_day = pd.DataFrame(cases_by_day)"
      ],
      "execution_count": 57,
      "outputs": []
    },
    {
      "cell_type": "markdown",
      "metadata": {
        "id": "H99Jjzm7uXVj"
      },
      "source": [
        "### Gráfica de casos\n"
      ]
    },
    {
      "cell_type": "code",
      "metadata": {
        "id": "h3-rQit6uAHM",
        "outputId": "5a2ea7d2-ac18-4633-f6dd-5efb783e465c",
        "colab": {
          "base_uri": "https://localhost:8080/",
          "height": 596
        }
      },
      "source": [
        "cases_by_day[\"FECHA\"] = pd.to_datetime(cases_by_day[\"FECHA\"], unit='ns')\n",
        "\n",
        "plt.figure(figsize = (20,10))\n",
        "plt.plot(cases_by_day[\"FECHA\"],cases_by_day[\"CASOS_POSITIVOS\"],\"r\")\n",
        "plt.plot(cases_by_day[\"FECHA\"],cases_by_day[\"DEFUNCIONES\"],\"b\")\n",
        "plt.plot(cases_by_day[\"FECHA\"],cases_by_day[\"CASOS_SOSPECHOSOS\"],\"g\")\n",
        "plt.title(\"GRAFICA NACIONAL\"+ date + \"\\nCASOS POSITIVOS (ROJO)\\nDEFUNCIONES (AZUL)\\nCASOS SOSPECHOSOS (VERDE)\")\n",
        "plt.show()"
      ],
      "execution_count": 74,
      "outputs": [
        {
          "output_type": "display_data",
          "data": {
            "image/png": "[encoded data removed]",
            "text/plain": [
              "<Figure size 1440x720 with 1 Axes>"
            ]
          },
          "metadata": {
            "tags": [],
            "needs_background": "light"
          }
        }
      ]
    },
    {
      "cell_type": "markdown",
      "metadata": {
        "id": "SMOijZrlu-M3"
      },
      "source": [
        "### Separación de semanas"
      ]
    },
    {
      "cell_type": "code",
      "metadata": {
        "id": "UsgUmt5nvAt9"
      },
      "source": [
        "cases_by_day[\"SEMANA\"] = cases_by_day[\"FECHA\"].apply(lambda x: int((x - datetime(2020,1,1)).days/7))"
      ],
      "execution_count": 71,
      "outputs": []
    },
    {
      "cell_type": "code",
      "metadata": {
        "id": "4GhiofRVv7nO",
        "outputId": "56f30398-8762-4400-ca63-db190beba387",
        "colab": {
          "base_uri": "https://localhost:8080/",
          "height": 343
        }
      },
      "source": [
        "cases_by_day.sample(10)"
      ],
      "execution_count": 76,
      "outputs": [
        {
          "output_type": "execute_result",
          "data": {
            "text/html": [
              "<div>\n",
              "<style scoped>\n",
              "    .dataframe tbody tr th:only-of-type {\n",
              "        vertical-align: middle;\n",
              "    }\n",
              "\n",
              "    .dataframe tbody tr th {\n",
              "        vertical-align: top;\n",
              "    }\n",
              "\n",
              "    .dataframe thead th {\n",
              "        text-align: right;\n",
              "    }\n",
              "</style>\n",
              "<table border=\"1\" class=\"dataframe\">\n",
              "  <thead>\n",
              "    <tr style=\"text-align: right;\">\n",
              "      <th></th>\n",
              "      <th>FECHA</th>\n",
              "      <th>CASOS_POSITIVOS</th>\n",
              "      <th>CASOS_NEGATIVOS</th>\n",
              "      <th>CASOS_SOSPECHOSOS</th>\n",
              "      <th>DEFUNCIONES</th>\n",
              "      <th>SEMANA</th>\n",
              "    </tr>\n",
              "  </thead>\n",
              "  <tbody>\n",
              "    <tr>\n",
              "      <th>80</th>\n",
              "      <td>2020-03-21</td>\n",
              "      <td>154</td>\n",
              "      <td>790</td>\n",
              "      <td>517</td>\n",
              "      <td>0</td>\n",
              "      <td>11</td>\n",
              "    </tr>\n",
              "    <tr>\n",
              "      <th>415</th>\n",
              "      <td>2021-02-19</td>\n",
              "      <td>5691</td>\n",
              "      <td>16575</td>\n",
              "      <td>636</td>\n",
              "      <td>606</td>\n",
              "      <td>59</td>\n",
              "    </tr>\n",
              "    <tr>\n",
              "      <th>379</th>\n",
              "      <td>2021-01-14</td>\n",
              "      <td>13916</td>\n",
              "      <td>21660</td>\n",
              "      <td>1545</td>\n",
              "      <td>1142</td>\n",
              "      <td>54</td>\n",
              "    </tr>\n",
              "    <tr>\n",
              "      <th>17</th>\n",
              "      <td>2020-01-18</td>\n",
              "      <td>4</td>\n",
              "      <td>210</td>\n",
              "      <td>185</td>\n",
              "      <td>0</td>\n",
              "      <td>2</td>\n",
              "    </tr>\n",
              "    <tr>\n",
              "      <th>238</th>\n",
              "      <td>2020-08-26</td>\n",
              "      <td>4875</td>\n",
              "      <td>6950</td>\n",
              "      <td>1124</td>\n",
              "      <td>508</td>\n",
              "      <td>34</td>\n",
              "    </tr>\n",
              "    <tr>\n",
              "      <th>319</th>\n",
              "      <td>2020-11-15</td>\n",
              "      <td>7200</td>\n",
              "      <td>7558</td>\n",
              "      <td>1061</td>\n",
              "      <td>446</td>\n",
              "      <td>45</td>\n",
              "    </tr>\n",
              "    <tr>\n",
              "      <th>43</th>\n",
              "      <td>2020-02-13</td>\n",
              "      <td>5</td>\n",
              "      <td>144</td>\n",
              "      <td>155</td>\n",
              "      <td>0</td>\n",
              "      <td>6</td>\n",
              "    </tr>\n",
              "    <tr>\n",
              "      <th>206</th>\n",
              "      <td>2020-07-25</td>\n",
              "      <td>7448</td>\n",
              "      <td>6655</td>\n",
              "      <td>1378</td>\n",
              "      <td>746</td>\n",
              "      <td>29</td>\n",
              "    </tr>\n",
              "    <tr>\n",
              "      <th>239</th>\n",
              "      <td>2020-08-27</td>\n",
              "      <td>4927</td>\n",
              "      <td>6457</td>\n",
              "      <td>1073</td>\n",
              "      <td>475</td>\n",
              "      <td>34</td>\n",
              "    </tr>\n",
              "    <tr>\n",
              "      <th>183</th>\n",
              "      <td>2020-07-02</td>\n",
              "      <td>6278</td>\n",
              "      <td>5562</td>\n",
              "      <td>1660</td>\n",
              "      <td>660</td>\n",
              "      <td>26</td>\n",
              "    </tr>\n",
              "  </tbody>\n",
              "</table>\n",
              "</div>"
            ],
            "text/plain": [
              "         FECHA  CASOS_POSITIVOS  ...  DEFUNCIONES  SEMANA\n",
              "80  2020-03-21              154  ...            0      11\n",
              "415 2021-02-19             5691  ...          606      59\n",
              "379 2021-01-14            13916  ...         1142      54\n",
              "17  2020-01-18                4  ...            0       2\n",
              "238 2020-08-26             4875  ...          508      34\n",
              "319 2020-11-15             7200  ...          446      45\n",
              "43  2020-02-13                5  ...            0       6\n",
              "206 2020-07-25             7448  ...          746      29\n",
              "239 2020-08-27             4927  ...          475      34\n",
              "183 2020-07-02             6278  ...          660      26\n",
              "\n",
              "[10 rows x 6 columns]"
            ]
          },
          "metadata": {
            "tags": []
          },
          "execution_count": 76
        }
      ]
    },
    {
      "cell_type": "code",
      "metadata": {
        "id": "S965py90yE5s",
        "outputId": "31d12032-88e9-427c-e0fd-33c5c0d72262",
        "colab": {
          "base_uri": "https://localhost:8080/",
          "height": 225
        }
      },
      "source": [
        "cases_by_week = cases_by_day.groupby([\"SEMANA\"]).sum()\n",
        "cases_by_week.sample(5)"
      ],
      "execution_count": 90,
      "outputs": [
        {
          "output_type": "execute_result",
          "data": {
            "text/html": [
              "<div>\n",
              "<style scoped>\n",
              "    .dataframe tbody tr th:only-of-type {\n",
              "        vertical-align: middle;\n",
              "    }\n",
              "\n",
              "    .dataframe tbody tr th {\n",
              "        vertical-align: top;\n",
              "    }\n",
              "\n",
              "    .dataframe thead th {\n",
              "        text-align: right;\n",
              "    }\n",
              "</style>\n",
              "<table border=\"1\" class=\"dataframe\">\n",
              "  <thead>\n",
              "    <tr style=\"text-align: right;\">\n",
              "      <th></th>\n",
              "      <th>CASOS_POSITIVOS</th>\n",
              "      <th>CASOS_NEGATIVOS</th>\n",
              "      <th>CASOS_SOSPECHOSOS</th>\n",
              "      <th>DEFUNCIONES</th>\n",
              "    </tr>\n",
              "    <tr>\n",
              "      <th>SEMANA</th>\n",
              "      <th></th>\n",
              "      <th></th>\n",
              "      <th></th>\n",
              "      <th></th>\n",
              "    </tr>\n",
              "  </thead>\n",
              "  <tbody>\n",
              "    <tr>\n",
              "      <th>8</th>\n",
              "      <td>73</td>\n",
              "      <td>1489</td>\n",
              "      <td>1855</td>\n",
              "      <td>1</td>\n",
              "    </tr>\n",
              "    <tr>\n",
              "      <th>38</th>\n",
              "      <td>30963</td>\n",
              "      <td>47156</td>\n",
              "      <td>6007</td>\n",
              "      <td>2544</td>\n",
              "    </tr>\n",
              "    <tr>\n",
              "      <th>51</th>\n",
              "      <td>73954</td>\n",
              "      <td>102626</td>\n",
              "      <td>8230</td>\n",
              "      <td>5800</td>\n",
              "    </tr>\n",
              "    <tr>\n",
              "      <th>31</th>\n",
              "      <td>38878</td>\n",
              "      <td>45333</td>\n",
              "      <td>7863</td>\n",
              "      <td>4587</td>\n",
              "    </tr>\n",
              "    <tr>\n",
              "      <th>56</th>\n",
              "      <td>60652</td>\n",
              "      <td>127706</td>\n",
              "      <td>7852</td>\n",
              "      <td>7697</td>\n",
              "    </tr>\n",
              "  </tbody>\n",
              "</table>\n",
              "</div>"
            ],
            "text/plain": [
              "        CASOS_POSITIVOS  CASOS_NEGATIVOS  CASOS_SOSPECHOSOS  DEFUNCIONES\n",
              "SEMANA                                                                  \n",
              "8                    73             1489               1855            1\n",
              "38                30963            47156               6007         2544\n",
              "51                73954           102626               8230         5800\n",
              "31                38878            45333               7863         4587\n",
              "56                60652           127706               7852         7697"
            ]
          },
          "metadata": {
            "tags": []
          },
          "execution_count": 90
        }
      ]
    },
    {
      "cell_type": "markdown",
      "metadata": {
        "id": "y2ny6wnCyCJ6"
      },
      "source": [
        "### Mortalidad"
      ]
    },
    {
      "cell_type": "code",
      "metadata": {
        "id": "SiJX1OExyr25",
        "outputId": "336083a4-2d9c-4cd6-d554-e3e5c6ada24d",
        "colab": {
          "base_uri": "https://localhost:8080/",
          "height": 373
        }
      },
      "source": [
        "cases_by_week[\"MORTALIDAD\"] = cases_by_week[\"DEFUNCIONES\"]/cases_by_week[\"CASOS_POSITIVOS\"]\n",
        "cases_by_week.head(10)"
      ],
      "execution_count": 91,
      "outputs": [
        {
          "output_type": "execute_result",
          "data": {
            "text/html": [
              "<div>\n",
              "<style scoped>\n",
              "    .dataframe tbody tr th:only-of-type {\n",
              "        vertical-align: middle;\n",
              "    }\n",
              "\n",
              "    .dataframe tbody tr th {\n",
              "        vertical-align: top;\n",
              "    }\n",
              "\n",
              "    .dataframe thead th {\n",
              "        text-align: right;\n",
              "    }\n",
              "</style>\n",
              "<table border=\"1\" class=\"dataframe\">\n",
              "  <thead>\n",
              "    <tr style=\"text-align: right;\">\n",
              "      <th></th>\n",
              "      <th>CASOS_POSITIVOS</th>\n",
              "      <th>CASOS_NEGATIVOS</th>\n",
              "      <th>CASOS_SOSPECHOSOS</th>\n",
              "      <th>DEFUNCIONES</th>\n",
              "      <th>MORTALIDAD</th>\n",
              "    </tr>\n",
              "    <tr>\n",
              "      <th>SEMANA</th>\n",
              "      <th></th>\n",
              "      <th></th>\n",
              "      <th></th>\n",
              "      <th></th>\n",
              "      <th></th>\n",
              "    </tr>\n",
              "  </thead>\n",
              "  <tbody>\n",
              "    <tr>\n",
              "      <th>0</th>\n",
              "      <td>18</td>\n",
              "      <td>965</td>\n",
              "      <td>1075</td>\n",
              "      <td>0</td>\n",
              "      <td>0.000000</td>\n",
              "    </tr>\n",
              "    <tr>\n",
              "      <th>1</th>\n",
              "      <td>31</td>\n",
              "      <td>1280</td>\n",
              "      <td>1454</td>\n",
              "      <td>0</td>\n",
              "      <td>0.000000</td>\n",
              "    </tr>\n",
              "    <tr>\n",
              "      <th>2</th>\n",
              "      <td>29</td>\n",
              "      <td>1509</td>\n",
              "      <td>1692</td>\n",
              "      <td>0</td>\n",
              "      <td>0.000000</td>\n",
              "    </tr>\n",
              "    <tr>\n",
              "      <th>3</th>\n",
              "      <td>20</td>\n",
              "      <td>1419</td>\n",
              "      <td>1787</td>\n",
              "      <td>0</td>\n",
              "      <td>0.000000</td>\n",
              "    </tr>\n",
              "    <tr>\n",
              "      <th>4</th>\n",
              "      <td>20</td>\n",
              "      <td>1226</td>\n",
              "      <td>1542</td>\n",
              "      <td>0</td>\n",
              "      <td>0.000000</td>\n",
              "    </tr>\n",
              "    <tr>\n",
              "      <th>5</th>\n",
              "      <td>20</td>\n",
              "      <td>1396</td>\n",
              "      <td>1557</td>\n",
              "      <td>1</td>\n",
              "      <td>0.050000</td>\n",
              "    </tr>\n",
              "    <tr>\n",
              "      <th>6</th>\n",
              "      <td>42</td>\n",
              "      <td>1237</td>\n",
              "      <td>1531</td>\n",
              "      <td>0</td>\n",
              "      <td>0.000000</td>\n",
              "    </tr>\n",
              "    <tr>\n",
              "      <th>7</th>\n",
              "      <td>52</td>\n",
              "      <td>1208</td>\n",
              "      <td>1615</td>\n",
              "      <td>1</td>\n",
              "      <td>0.019231</td>\n",
              "    </tr>\n",
              "    <tr>\n",
              "      <th>8</th>\n",
              "      <td>73</td>\n",
              "      <td>1489</td>\n",
              "      <td>1855</td>\n",
              "      <td>1</td>\n",
              "      <td>0.013699</td>\n",
              "    </tr>\n",
              "    <tr>\n",
              "      <th>9</th>\n",
              "      <td>217</td>\n",
              "      <td>1787</td>\n",
              "      <td>1645</td>\n",
              "      <td>0</td>\n",
              "      <td>0.000000</td>\n",
              "    </tr>\n",
              "  </tbody>\n",
              "</table>\n",
              "</div>"
            ],
            "text/plain": [
              "        CASOS_POSITIVOS  CASOS_NEGATIVOS  ...  DEFUNCIONES  MORTALIDAD\n",
              "SEMANA                                    ...                         \n",
              "0                    18              965  ...            0    0.000000\n",
              "1                    31             1280  ...            0    0.000000\n",
              "2                    29             1509  ...            0    0.000000\n",
              "3                    20             1419  ...            0    0.000000\n",
              "4                    20             1226  ...            0    0.000000\n",
              "5                    20             1396  ...            1    0.050000\n",
              "6                    42             1237  ...            0    0.000000\n",
              "7                    52             1208  ...            1    0.019231\n",
              "8                    73             1489  ...            1    0.013699\n",
              "9                   217             1787  ...            0    0.000000\n",
              "\n",
              "[10 rows x 5 columns]"
            ]
          },
          "metadata": {
            "tags": []
          },
          "execution_count": 91
        }
      ]
    },
    {
      "cell_type": "code",
      "metadata": {
        "id": "PHxYw82yzDxI",
        "outputId": "1dd96991-6cdb-4a29-f3bc-c14b5dc9cdfb",
        "colab": {
          "base_uri": "https://localhost:8080/",
          "height": 225
        }
      },
      "source": [
        "# La columna DIA se usará para gráficar las fechas\n",
        "cases_by_week[\"SEMANA\"] = cases_by_week.index\n",
        "\n",
        "cases_by_week[\"DIA\"] = cases_by_week[\"SEMANA\"].apply(lambda x: datetime(2020,1,1) + timedelta(days = 7*x))\n",
        "cases_by_week = cases_by_week.drop(columns=[\"SEMANA\"])\n",
        "cases_by_week.head()"
      ],
      "execution_count": 101,
      "outputs": [
        {
          "output_type": "execute_result",
          "data": {
            "text/html": [
              "<div>\n",
              "<style scoped>\n",
              "    .dataframe tbody tr th:only-of-type {\n",
              "        vertical-align: middle;\n",
              "    }\n",
              "\n",
              "    .dataframe tbody tr th {\n",
              "        vertical-align: top;\n",
              "    }\n",
              "\n",
              "    .dataframe thead th {\n",
              "        text-align: right;\n",
              "    }\n",
              "</style>\n",
              "<table border=\"1\" class=\"dataframe\">\n",
              "  <thead>\n",
              "    <tr style=\"text-align: right;\">\n",
              "      <th></th>\n",
              "      <th>CASOS_POSITIVOS</th>\n",
              "      <th>CASOS_NEGATIVOS</th>\n",
              "      <th>CASOS_SOSPECHOSOS</th>\n",
              "      <th>DEFUNCIONES</th>\n",
              "      <th>MORTALIDAD</th>\n",
              "      <th>DIA</th>\n",
              "    </tr>\n",
              "    <tr>\n",
              "      <th>SEMANA</th>\n",
              "      <th></th>\n",
              "      <th></th>\n",
              "      <th></th>\n",
              "      <th></th>\n",
              "      <th></th>\n",
              "      <th></th>\n",
              "    </tr>\n",
              "  </thead>\n",
              "  <tbody>\n",
              "    <tr>\n",
              "      <th>0</th>\n",
              "      <td>18</td>\n",
              "      <td>965</td>\n",
              "      <td>1075</td>\n",
              "      <td>0</td>\n",
              "      <td>0.0</td>\n",
              "      <td>2020-01-01</td>\n",
              "    </tr>\n",
              "    <tr>\n",
              "      <th>1</th>\n",
              "      <td>31</td>\n",
              "      <td>1280</td>\n",
              "      <td>1454</td>\n",
              "      <td>0</td>\n",
              "      <td>0.0</td>\n",
              "      <td>2020-01-08</td>\n",
              "    </tr>\n",
              "    <tr>\n",
              "      <th>2</th>\n",
              "      <td>29</td>\n",
              "      <td>1509</td>\n",
              "      <td>1692</td>\n",
              "      <td>0</td>\n",
              "      <td>0.0</td>\n",
              "      <td>2020-01-15</td>\n",
              "    </tr>\n",
              "    <tr>\n",
              "      <th>3</th>\n",
              "      <td>20</td>\n",
              "      <td>1419</td>\n",
              "      <td>1787</td>\n",
              "      <td>0</td>\n",
              "      <td>0.0</td>\n",
              "      <td>2020-01-22</td>\n",
              "    </tr>\n",
              "    <tr>\n",
              "      <th>4</th>\n",
              "      <td>20</td>\n",
              "      <td>1226</td>\n",
              "      <td>1542</td>\n",
              "      <td>0</td>\n",
              "      <td>0.0</td>\n",
              "      <td>2020-01-29</td>\n",
              "    </tr>\n",
              "  </tbody>\n",
              "</table>\n",
              "</div>"
            ],
            "text/plain": [
              "        CASOS_POSITIVOS  CASOS_NEGATIVOS  ...  MORTALIDAD        DIA\n",
              "SEMANA                                    ...                       \n",
              "0                    18              965  ...         0.0 2020-01-01\n",
              "1                    31             1280  ...         0.0 2020-01-08\n",
              "2                    29             1509  ...         0.0 2020-01-15\n",
              "3                    20             1419  ...         0.0 2020-01-22\n",
              "4                    20             1226  ...         0.0 2020-01-29\n",
              "\n",
              "[5 rows x 6 columns]"
            ]
          },
          "metadata": {
            "tags": []
          },
          "execution_count": 101
        }
      ]
    },
    {
      "cell_type": "code",
      "metadata": {
        "id": "vxT0VZ121PeW",
        "outputId": "bef0c218-69eb-4d29-908a-507d7ce81064",
        "colab": {
          "base_uri": "https://localhost:8080/",
          "height": 574
        }
      },
      "source": [
        "plt.figure(figsize = (20,10))\n",
        "plt.plot(cases_by_week[\"DIA\"],cases_by_week[\"MORTALIDAD\"]*100,\"r\")\n",
        "plt.title(\"MORTALIDAD POR SEMANA - MÉXICO - 1 DE ABRIL DEL 2021\")\n",
        "plt.ylabel(\"Mortalidad en porcentaje (%)\")"
      ],
      "execution_count": 111,
      "outputs": [
        {
          "output_type": "execute_result",
          "data": {
            "text/plain": [
              "Text(0, 0.5, 'Mortalidad en porcentaje (%)')"
            ]
          },
          "metadata": {
            "tags": []
          },
          "execution_count": 111
        },
        {
          "output_type": "display_data",
          "data": {
            "image/png": "[encoded data removed]",
            "text/plain": [
              "<Figure size 1440x720 with 1 Axes>"
            ]
          },
          "metadata": {
            "tags": [],
            "needs_background": "light"
          }
        }
      ]
    },
    {
      "cell_type": "markdown",
      "metadata": {
        "id": "yWict94S2ahO"
      },
      "source": [
        "Se puede apreciar que los maximos de la mortalidad coinciden con los picos de las olas que han habido en México.\n"
      ]
    },
    {
      "cell_type": "markdown",
      "metadata": {
        "id": "GTeChdAC4dEY"
      },
      "source": [
        "### Positividad"
      ]
    },
    {
      "cell_type": "code",
      "metadata": {
        "id": "ba0_3nT940BM"
      },
      "source": [
        "cases_by_week[\"POSITIVIDAD\"] = cases_by_week[\"CASOS_POSITIVOS\"]/(cases_by_week[\"CASOS_POSITIVOS\"] + cases_by_week[\"CASOS_NEGATIVOS\"])"
      ],
      "execution_count": 110,
      "outputs": []
    },
    {
      "cell_type": "code",
      "metadata": {
        "id": "QveX1kFv5HPf",
        "outputId": "b4d888d0-d3be-42d3-d571-1a15b5e1b1b3",
        "colab": {
          "base_uri": "https://localhost:8080/",
          "height": 574
        }
      },
      "source": [
        "plt.figure(figsize = (20,10))\n",
        "plt.plot(cases_by_week[\"DIA\"],cases_by_week[\"POSITIVIDAD\"]*100,\"g\")\n",
        "plt.title(\"POSITIVIDAD POR SEMANA - MÉXICO - 1 DE ABRIL DEL 2021\")\n",
        "plt.ylabel(\"Positividad en porcentaje (%)\")"
      ],
      "execution_count": 112,
      "outputs": [
        {
          "output_type": "execute_result",
          "data": {
            "text/plain": [
              "Text(0, 0.5, 'Positividad en porcentaje (%)')"
            ]
          },
          "metadata": {
            "tags": []
          },
          "execution_count": 112
        },
        {
          "output_type": "display_data",
          "data": {
            "image/png": "[encoded data removed]",
            "text/plain": [
              "<Figure size 1440x720 with 1 Axes>"
            ]
          },
          "metadata": {
            "tags": [],
            "needs_background": "light"
          }
        }
      ]
    },
    {
      "cell_type": "markdown",
      "metadata": {
        "id": "VMSEwsEg5e6E"
      },
      "source": [
        "Al igual que con la mortalidad, la positividad cambió durante la pandemia de covid y sus puntos más altos coinciden con los picos de las olas de la epidemia que han habido."
      ]
    },
    {
      "cell_type": "markdown",
      "metadata": {
        "id": "KaEYNLfZDChK"
      },
      "source": [
        "## Guardado Dataset\n",
        "Se guarda el dataset después de ser limpiado y con datos procesados"
      ]
    },
    {
      "cell_type": "code",
      "metadata": {
        "id": "Af84eKj6DVON"
      },
      "source": [
        "dataset_file = \"210401COVID19MEXICO_filtered.csv\"\n",
        "data_filtered.to_csv(os.path.join(main_dataset_path, dataset_file))"
      ],
      "execution_count": 134,
      "outputs": []
    }
  ]
}