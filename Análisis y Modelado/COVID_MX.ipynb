{
  "nbformat": 4,
  "nbformat_minor": 0,
  "metadata": {
    "language_info": {
      "codemirror_mode": {
        "name": "ipython",
        "version": 3
      },
      "file_extension": ".py",
      "mimetype": "text/x-python",
      "name": "python",
      "nbconvert_exporter": "python",
      "pygments_lexer": "ipython3",
      "version": "3.9.0-final"
    },
    "orig_nbformat": 2,
    "kernelspec": {
      "name": "python390jvsc74a57bd01f65e174391277f634e70871feaa21300658cb740b5dabfc689c4c43dbc10e3e",
      "display_name": "Python 3.9.0 64-bit"
    },
    "metadata": {
      "interpreter": {
        "hash": "1f65e174391277f634e70871feaa21300658cb740b5dabfc689c4c43dbc10e3e"
      }
    },
    "colab": {
      "name": "COVID_MX.ipynb",
      "provenance": [],
      "include_colab_link": true
    },
    "accelerator": "GPU"
  },
  "cells": [
    {
      "cell_type": "markdown",
      "metadata": {
        "id": "view-in-github",
        "colab_type": "text"
      },
      "source": [
        "<a href=\"https://colab.research.google.com/github/EduHdzVillasana/COVIDSTATSMX/blob/master/An%C3%A1lisis%20y%20Modelado/COVID_MX.ipynb\" target=\"_parent\"><img src=\"https://colab.research.google.com/assets/colab-badge.svg\" alt=\"Open In Colab\"/></a>"
      ]
    },
    {
      "cell_type": "markdown",
      "metadata": {
        "id": "e6BlGzWXAIOF"
      },
      "source": [
        "# Análisis estadístico y aplicación de un modelo para el dataset de COVID-19 proporcionado por la secretaría de salud.\n",
        "\n",
        "### Objetivos\n",
        "* Identidicar los factores de los pacientes que aumentan su probabilidad de fallecer o presentar enfermedad grave.\n",
        "* Identificar si la mortalidad varía dependiendo de la recidencia del paciente o en qué institución de salud se atendió.\n",
        "* Identificar si la probabilidad de padecer la enfermedad grave varía dependiendo de la recidencia del paciente o en qué institución de salud se atendió.\n",
        "* Conocer si la mortalidad cambió en el transcurso de la pandemia.\n",
        "* Conocer si la probabilidad de padecer la enfermedad grave cambió en el transcurso de la pandemia.\n",
        "* Crear un modelo que prediga la probabilidad de muerte de un paciente dada sus características. Antes y después de ser atendido por una institución de salud. \n",
        "* Crear un modelo que prediga la probabilidad de presentar enfermedad grave de un paciente dada sus características. Antes y después de ser  atendido por una institución de salud.\n"
      ]
    },
    {
      "cell_type": "code",
      "metadata": {
        "id": "TJOVfrPlALTI",
        "colab": {
          "base_uri": "https://localhost:8080/"
        },
        "outputId": "5b2081d3-0fac-46a5-a8a8-b7e1e9bf4cfb"
      },
      "source": [
        "import pandas as pd\n",
        "import numpy as np\n",
        "import matplotlib.pyplot as plt\n",
        "from datetime import datetime\n",
        "import os\n",
        "import sys\n",
        "\n",
        "# Librerias para la regresión logística\n",
        "import statsmodels.api as sm\n",
        "from sklearn import datasets\n",
        "from sklearn.feature_selection import RFE\n",
        "from sklearn.linear_model import LogisticRegression\n",
        "from tabulate import tabulate\n",
        "from sklearn import linear_model\n",
        "\n",
        "# Librerias para la validación del modelo\n",
        "from sklearn.model_selection import train_test_split\n",
        "from sklearn import metrics\n",
        "from sklearn.model_selection import cross_val_score"
      ],
      "execution_count": 1,
      "outputs": [
        {
          "output_type": "stream",
          "text": [
            "/usr/local/lib/python3.7/dist-packages/statsmodels/tools/_testing.py:19: FutureWarning: pandas.util.testing is deprecated. Use the functions in the public API at pandas.testing instead.\n",
            "  import pandas.util.testing as tm\n"
          ],
          "name": "stderr"
        }
      ]
    },
    {
      "cell_type": "code",
      "metadata": {
        "id": "3iyTKxS3GLvv",
        "colab": {
          "base_uri": "https://localhost:8080/"
        },
        "outputId": "632e3e6e-6d18-45da-aea3-45a5ad7f8ac8"
      },
      "source": [
        "from google.colab import drive\n",
        "drive.mount('/content/drive')"
      ],
      "execution_count": 2,
      "outputs": [
        {
          "output_type": "stream",
          "text": [
            "Mounted at /content/drive\n"
          ],
          "name": "stdout"
        }
      ]
    },
    {
      "cell_type": "code",
      "metadata": {
        "id": "yeihjMuMEtz2"
      },
      "source": [
        "# Librería hecha para manejar el dataset de covid\n",
        "sys.path.insert(1,'/content/drive/MyDrive/Python Scripts/')\n",
        "import COVID19_MX as covid"
      ],
      "execution_count": 3,
      "outputs": []
    },
    {
      "cell_type": "markdown",
      "metadata": {
        "id": "pHtKnC-LOjp2"
      },
      "source": [
        "## Carga de Dataset principal y auxiliares\n",
        "Los dataset auxiliares `sexo_df`, `sector_df` y `entidad_df` servirán para usar variables categóricas en el modelo."
      ]
    },
    {
      "cell_type": "code",
      "metadata": {
        "id": "jTY9wUIgFHFi"
      },
      "source": [
        "aux_dataset_path = \"https://raw.githubusercontent.com/EduHdzVillasana/COVIDSTATSMX/master/Diccionario%20de%20Datos\"\n",
        "main_dataset_path = \"/content/drive/MyDrive/Datos Abiertos\"\n",
        "covid_file = \"210401COVID19MEXICO.csv\"\n",
        "sexo_file = \"Sexo.csv\"\n",
        "sector_file = \"Sector.csv\"\n",
        "entidad_file = \"Entidad.csv\""
      ],
      "execution_count": 4,
      "outputs": []
    },
    {
      "cell_type": "code",
      "metadata": {
        "id": "NxfGHroePkML"
      },
      "source": [
        "covid_df = pd.read_csv(os.path.join(main_dataset_path,covid_file))\n",
        "sexo_df = pd.read_csv(os.path.join(aux_dataset_path,sexo_file))\n",
        "sector_df = pd.read_csv(os.path.join(aux_dataset_path,sector_file))\n",
        "entidad_df = pd.read_csv(os.path.join(aux_dataset_path,entidad_file))"
      ],
      "execution_count": 5,
      "outputs": []
    },
    {
      "cell_type": "markdown",
      "metadata": {
        "id": "P3YcU5pTQaWU"
      },
      "source": [
        "## Limpieza y Tratamiento de Datos"
      ]
    },
    {
      "cell_type": "code",
      "metadata": {
        "id": "rQWD6rUBQl7a",
        "colab": {
          "base_uri": "https://localhost:8080/",
          "height": 160
        },
        "outputId": "b7cf052d-9819-46f4-a627-ea2eb54ab89f"
      },
      "source": [
        "covid_df.sample(2)"
      ],
      "execution_count": 6,
      "outputs": [
        {
          "output_type": "execute_result",
          "data": {
            "text/html": [
              "<div>\n",
              "<style scoped>\n",
              "    .dataframe tbody tr th:only-of-type {\n",
              "        vertical-align: middle;\n",
              "    }\n",
              "\n",
              "    .dataframe tbody tr th {\n",
              "        vertical-align: top;\n",
              "    }\n",
              "\n",
              "    .dataframe thead th {\n",
              "        text-align: right;\n",
              "    }\n",
              "</style>\n",
              "<table border=\"1\" class=\"dataframe\">\n",
              "  <thead>\n",
              "    <tr style=\"text-align: right;\">\n",
              "      <th></th>\n",
              "      <th>FECHA_ACTUALIZACION</th>\n",
              "      <th>ID_REGISTRO</th>\n",
              "      <th>ORIGEN</th>\n",
              "      <th>SECTOR</th>\n",
              "      <th>ENTIDAD_UM</th>\n",
              "      <th>SEXO</th>\n",
              "      <th>ENTIDAD_NAC</th>\n",
              "      <th>ENTIDAD_RES</th>\n",
              "      <th>MUNICIPIO_RES</th>\n",
              "      <th>TIPO_PACIENTE</th>\n",
              "      <th>FECHA_INGRESO</th>\n",
              "      <th>FECHA_SINTOMAS</th>\n",
              "      <th>FECHA_DEF</th>\n",
              "      <th>INTUBADO</th>\n",
              "      <th>NEUMONIA</th>\n",
              "      <th>EDAD</th>\n",
              "      <th>NACIONALIDAD</th>\n",
              "      <th>EMBARAZO</th>\n",
              "      <th>HABLA_LENGUA_INDIG</th>\n",
              "      <th>INDIGENA</th>\n",
              "      <th>DIABETES</th>\n",
              "      <th>EPOC</th>\n",
              "      <th>ASMA</th>\n",
              "      <th>INMUSUPR</th>\n",
              "      <th>HIPERTENSION</th>\n",
              "      <th>OTRA_COM</th>\n",
              "      <th>CARDIOVASCULAR</th>\n",
              "      <th>OBESIDAD</th>\n",
              "      <th>RENAL_CRONICA</th>\n",
              "      <th>TABAQUISMO</th>\n",
              "      <th>OTRO_CASO</th>\n",
              "      <th>TOMA_MUESTRA_LAB</th>\n",
              "      <th>RESULTADO_LAB</th>\n",
              "      <th>TOMA_MUESTRA_ANTIGENO</th>\n",
              "      <th>RESULTADO_ANTIGENO</th>\n",
              "      <th>CLASIFICACION_FINAL</th>\n",
              "      <th>MIGRANTE</th>\n",
              "      <th>PAIS_NACIONALIDAD</th>\n",
              "      <th>PAIS_ORIGEN</th>\n",
              "      <th>UCI</th>\n",
              "    </tr>\n",
              "  </thead>\n",
              "  <tbody>\n",
              "    <tr>\n",
              "      <th>1722435</th>\n",
              "      <td>2021-04-01</td>\n",
              "      <td>21bce3</td>\n",
              "      <td>1</td>\n",
              "      <td>6</td>\n",
              "      <td>6</td>\n",
              "      <td>2</td>\n",
              "      <td>6</td>\n",
              "      <td>6</td>\n",
              "      <td>2</td>\n",
              "      <td>2</td>\n",
              "      <td>2020-09-10</td>\n",
              "      <td>2020-09-10</td>\n",
              "      <td>9999-99-99</td>\n",
              "      <td>2</td>\n",
              "      <td>1</td>\n",
              "      <td>49</td>\n",
              "      <td>1</td>\n",
              "      <td>97</td>\n",
              "      <td>2</td>\n",
              "      <td>2</td>\n",
              "      <td>1</td>\n",
              "      <td>2</td>\n",
              "      <td>2</td>\n",
              "      <td>2</td>\n",
              "      <td>1</td>\n",
              "      <td>2</td>\n",
              "      <td>2</td>\n",
              "      <td>1</td>\n",
              "      <td>2</td>\n",
              "      <td>2</td>\n",
              "      <td>99</td>\n",
              "      <td>1</td>\n",
              "      <td>2</td>\n",
              "      <td>2</td>\n",
              "      <td>97</td>\n",
              "      <td>7</td>\n",
              "      <td>99</td>\n",
              "      <td>México</td>\n",
              "      <td>97</td>\n",
              "      <td>2</td>\n",
              "    </tr>\n",
              "    <tr>\n",
              "      <th>5148053</th>\n",
              "      <td>2021-04-01</td>\n",
              "      <td>5406e2</td>\n",
              "      <td>2</td>\n",
              "      <td>12</td>\n",
              "      <td>9</td>\n",
              "      <td>1</td>\n",
              "      <td>9</td>\n",
              "      <td>9</td>\n",
              "      <td>17</td>\n",
              "      <td>1</td>\n",
              "      <td>2021-02-16</td>\n",
              "      <td>2021-02-16</td>\n",
              "      <td>9999-99-99</td>\n",
              "      <td>97</td>\n",
              "      <td>2</td>\n",
              "      <td>55</td>\n",
              "      <td>1</td>\n",
              "      <td>2</td>\n",
              "      <td>2</td>\n",
              "      <td>2</td>\n",
              "      <td>2</td>\n",
              "      <td>2</td>\n",
              "      <td>2</td>\n",
              "      <td>2</td>\n",
              "      <td>2</td>\n",
              "      <td>2</td>\n",
              "      <td>2</td>\n",
              "      <td>2</td>\n",
              "      <td>2</td>\n",
              "      <td>2</td>\n",
              "      <td>1</td>\n",
              "      <td>2</td>\n",
              "      <td>97</td>\n",
              "      <td>1</td>\n",
              "      <td>2</td>\n",
              "      <td>7</td>\n",
              "      <td>99</td>\n",
              "      <td>México</td>\n",
              "      <td>97</td>\n",
              "      <td>97</td>\n",
              "    </tr>\n",
              "  </tbody>\n",
              "</table>\n",
              "</div>"
            ],
            "text/plain": [
              "        FECHA_ACTUALIZACION ID_REGISTRO  ...  PAIS_ORIGEN  UCI\n",
              "1722435          2021-04-01      21bce3  ...           97    2\n",
              "5148053          2021-04-01      5406e2  ...           97   97\n",
              "\n",
              "[2 rows x 40 columns]"
            ]
          },
          "metadata": {
            "tags": []
          },
          "execution_count": 6
        }
      ]
    },
    {
      "cell_type": "code",
      "metadata": {
        "id": "oxV0QnwyRH1a",
        "colab": {
          "base_uri": "https://localhost:8080/"
        },
        "outputId": "a423ad87-8ef0-4e61-c1fb-15ab9d40cd75"
      },
      "source": [
        "covid_df.dtypes"
      ],
      "execution_count": 7,
      "outputs": [
        {
          "output_type": "execute_result",
          "data": {
            "text/plain": [
              "FECHA_ACTUALIZACION      object\n",
              "ID_REGISTRO              object\n",
              "ORIGEN                    int64\n",
              "SECTOR                    int64\n",
              "ENTIDAD_UM                int64\n",
              "SEXO                      int64\n",
              "ENTIDAD_NAC               int64\n",
              "ENTIDAD_RES               int64\n",
              "MUNICIPIO_RES             int64\n",
              "TIPO_PACIENTE             int64\n",
              "FECHA_INGRESO            object\n",
              "FECHA_SINTOMAS           object\n",
              "FECHA_DEF                object\n",
              "INTUBADO                  int64\n",
              "NEUMONIA                  int64\n",
              "EDAD                      int64\n",
              "NACIONALIDAD              int64\n",
              "EMBARAZO                  int64\n",
              "HABLA_LENGUA_INDIG        int64\n",
              "INDIGENA                  int64\n",
              "DIABETES                  int64\n",
              "EPOC                      int64\n",
              "ASMA                      int64\n",
              "INMUSUPR                  int64\n",
              "HIPERTENSION              int64\n",
              "OTRA_COM                  int64\n",
              "CARDIOVASCULAR            int64\n",
              "OBESIDAD                  int64\n",
              "RENAL_CRONICA             int64\n",
              "TABAQUISMO                int64\n",
              "OTRO_CASO                 int64\n",
              "TOMA_MUESTRA_LAB          int64\n",
              "RESULTADO_LAB             int64\n",
              "TOMA_MUESTRA_ANTIGENO     int64\n",
              "RESULTADO_ANTIGENO        int64\n",
              "CLASIFICACION_FINAL       int64\n",
              "MIGRANTE                  int64\n",
              "PAIS_NACIONALIDAD        object\n",
              "PAIS_ORIGEN              object\n",
              "UCI                       int64\n",
              "dtype: object"
            ]
          },
          "metadata": {
            "tags": []
          },
          "execution_count": 7
        }
      ]
    },
    {
      "cell_type": "code",
      "metadata": {
        "id": "WkIIIRc5ROF_",
        "colab": {
          "base_uri": "https://localhost:8080/"
        },
        "outputId": "a42682ec-613b-4218-d5b6-074c1e4577a7"
      },
      "source": [
        "covid_df.shape"
      ],
      "execution_count": 8,
      "outputs": [
        {
          "output_type": "execute_result",
          "data": {
            "text/plain": [
              "(6110815, 40)"
            ]
          },
          "metadata": {
            "tags": []
          },
          "execution_count": 8
        }
      ]
    },
    {
      "cell_type": "markdown",
      "metadata": {
        "id": "gGT3AY5qW5xU"
      },
      "source": [
        "### Se agrega columna Resultado\n",
        "**Se agrega la columna de `RESULTADO` para facilitar el análisis** \n",
        "* Positivo: 1\n",
        "* Negativo: 2\n",
        "* Sospechoso: 3"
      ]
    },
    {
      "cell_type": "code",
      "metadata": {
        "id": "c_cPnVr6XezS"
      },
      "source": [
        "covid_df[\"RESULTADO\"] = covid_df[\"CLASIFICACION_FINAL\"].apply(covid.getResult)"
      ],
      "execution_count": 9,
      "outputs": []
    },
    {
      "cell_type": "code",
      "metadata": {
        "id": "9mHsfIp_Xp0W",
        "colab": {
          "base_uri": "https://localhost:8080/",
          "height": 343
        },
        "outputId": "40bf5c61-12b1-43b0-a678-4f05c43885f0"
      },
      "source": [
        "covid_df[[\"CLASIFICACION_FINAL\",\"RESULTADO\"]].sample(10)"
      ],
      "execution_count": 10,
      "outputs": [
        {
          "output_type": "execute_result",
          "data": {
            "text/html": [
              "<div>\n",
              "<style scoped>\n",
              "    .dataframe tbody tr th:only-of-type {\n",
              "        vertical-align: middle;\n",
              "    }\n",
              "\n",
              "    .dataframe tbody tr th {\n",
              "        vertical-align: top;\n",
              "    }\n",
              "\n",
              "    .dataframe thead th {\n",
              "        text-align: right;\n",
              "    }\n",
              "</style>\n",
              "<table border=\"1\" class=\"dataframe\">\n",
              "  <thead>\n",
              "    <tr style=\"text-align: right;\">\n",
              "      <th></th>\n",
              "      <th>CLASIFICACION_FINAL</th>\n",
              "      <th>RESULTADO</th>\n",
              "    </tr>\n",
              "  </thead>\n",
              "  <tbody>\n",
              "    <tr>\n",
              "      <th>5101019</th>\n",
              "      <td>7</td>\n",
              "      <td>2</td>\n",
              "    </tr>\n",
              "    <tr>\n",
              "      <th>4987518</th>\n",
              "      <td>7</td>\n",
              "      <td>2</td>\n",
              "    </tr>\n",
              "    <tr>\n",
              "      <th>5298282</th>\n",
              "      <td>7</td>\n",
              "      <td>2</td>\n",
              "    </tr>\n",
              "    <tr>\n",
              "      <th>2407066</th>\n",
              "      <td>7</td>\n",
              "      <td>2</td>\n",
              "    </tr>\n",
              "    <tr>\n",
              "      <th>3278962</th>\n",
              "      <td>7</td>\n",
              "      <td>2</td>\n",
              "    </tr>\n",
              "    <tr>\n",
              "      <th>2672563</th>\n",
              "      <td>3</td>\n",
              "      <td>1</td>\n",
              "    </tr>\n",
              "    <tr>\n",
              "      <th>3074242</th>\n",
              "      <td>7</td>\n",
              "      <td>2</td>\n",
              "    </tr>\n",
              "    <tr>\n",
              "      <th>3930864</th>\n",
              "      <td>7</td>\n",
              "      <td>2</td>\n",
              "    </tr>\n",
              "    <tr>\n",
              "      <th>4694628</th>\n",
              "      <td>7</td>\n",
              "      <td>2</td>\n",
              "    </tr>\n",
              "    <tr>\n",
              "      <th>5741648</th>\n",
              "      <td>7</td>\n",
              "      <td>2</td>\n",
              "    </tr>\n",
              "  </tbody>\n",
              "</table>\n",
              "</div>"
            ],
            "text/plain": [
              "         CLASIFICACION_FINAL  RESULTADO\n",
              "5101019                    7          2\n",
              "4987518                    7          2\n",
              "5298282                    7          2\n",
              "2407066                    7          2\n",
              "3278962                    7          2\n",
              "2672563                    3          1\n",
              "3074242                    7          2\n",
              "3930864                    7          2\n",
              "4694628                    7          2\n",
              "5741648                    7          2"
            ]
          },
          "metadata": {
            "tags": []
          },
          "execution_count": 10
        }
      ]
    },
    {
      "cell_type": "code",
      "metadata": {
        "id": "ClQ6VKc-Wggs",
        "colab": {
          "base_uri": "https://localhost:8080/"
        },
        "outputId": "008b55c8-d7e1-4c74-942f-97413247c53e"
      },
      "source": [
        "date = \"2021-04-01\"\n",
        "comulative_cases = covid.getComulativeCases(covid_df)\n",
        "covid.printCumulativeCases(comulative_cases, date)"
      ],
      "execution_count": 11,
      "outputs": [
        {
          "output_type": "stream",
          "text": [
            "Fecha de actualización: 2021-04-01\n",
            "\n",
            "  Total de casos estudiados: 6110815\n",
            "\n",
            "  Casos Positivos a SARS-CoV-2: 2244268\n",
            "\n",
            "  Casos No Positivos a SARS-CoV-2: 3426205\n",
            "\n",
            "  Casos Con Resultado Pendiente: 440342\n",
            "\n",
            "  Defunciones Positivas a SARS-CoV-2: 203664\n",
            "\n",
            "  Tasa de Letalidad: 9.075%\n",
            "\n",
            "  Tasa de Positividad : 39.578%\n",
            "\n"
          ],
          "name": "stdout"
        }
      ]
    },
    {
      "cell_type": "markdown",
      "metadata": {
        "id": "EfWwq-HqSCaO"
      },
      "source": [
        "### Filtrado de casos con datos incompletos\n",
        "\n",
        "En el diccionario de datos se identifico que hay valores *no aplica* o *no especificado*, para realizar el análisis hay que eliminar esos valores, ya sea eliminando el caso que los contenga o cambiandolo. El problema es que esos valores están en varias columnas, por lo tanto se tendrá que usar un `for loop`."
      ]
    },
    {
      "cell_type": "code",
      "metadata": {
        "id": "FNkh-wbTSiaS"
      },
      "source": [
        "# Se filtra el dataset para eliminar casos con información No especificada y se toman solamente los casos positivos.\n",
        "data_filtered = covid_df[(covid_df[\"SEXO\"] != 99)\n",
        "& (covid_df[\"SECTOR\"] != 99)\n",
        "& (covid_df[\"ENTIDAD_UM\"] < 97)\n",
        "& (covid_df[\"RESULTADO\"] == 1)]"
      ],
      "execution_count": 12,
      "outputs": []
    },
    {
      "cell_type": "code",
      "metadata": {
        "id": "wP-7_tWsT230",
        "colab": {
          "base_uri": "https://localhost:8080/"
        },
        "outputId": "fafc0b26-de90-4f8c-e4bf-fd47779a6eaf"
      },
      "source": [
        "# Se filtran los datos No especificados de las categorias SI-NO (leer el diccionario de datos)\n",
        "data_filtered[\"EMBARAZO\"] = np.where(data_filtered[\"SEXO\"] == 2, 2, data_filtered[\"EMBARAZO\"])\n",
        "\n",
        "categorias_si_no = ['INTUBADO','UCI','NEUMONIA','DIABETES', 'EPOC', 'ASMA', 'INMUSUPR', 'HIPERTENSION', 'OTRA_COM',\n",
        "                    'CARDIOVASCULAR', 'OBESIDAD', 'RENAL_CRONICA', 'TABAQUISMO','EMBARAZO']\n",
        "\n",
        "for cat in categorias_si_no:\n",
        "  data_filtered = data_filtered[data_filtered[cat] <= 97]\n",
        "  data_filtered[cat] = data_filtered[cat].apply(lambda x: 1 if x == 1 else 0)"
      ],
      "execution_count": 13,
      "outputs": [
        {
          "output_type": "stream",
          "text": [
            "/usr/local/lib/python3.7/dist-packages/ipykernel_launcher.py:2: SettingWithCopyWarning: \n",
            "A value is trying to be set on a copy of a slice from a DataFrame.\n",
            "Try using .loc[row_indexer,col_indexer] = value instead\n",
            "\n",
            "See the caveats in the documentation: https://pandas.pydata.org/pandas-docs/stable/user_guide/indexing.html#returning-a-view-versus-a-copy\n",
            "  \n"
          ],
          "name": "stderr"
        }
      ]
    },
    {
      "cell_type": "code",
      "metadata": {
        "id": "eaQfFW_Qdqdl"
      },
      "source": [
        "# Se eliminan los datos no especificados de la columna TIPO_PACIENTE\n",
        "data_filtered = data_filtered[data_filtered[\"TIPO_PACIENTE\"] != 99]"
      ],
      "execution_count": 14,
      "outputs": []
    },
    {
      "cell_type": "code",
      "metadata": {
        "id": "42IVHrzgVxqm",
        "colab": {
          "base_uri": "https://localhost:8080/"
        },
        "outputId": "567080cb-1ee4-4b08-f7ea-6f6283eadece"
      },
      "source": [
        "data_filtered.shape"
      ],
      "execution_count": 15,
      "outputs": [
        {
          "output_type": "execute_result",
          "data": {
            "text/plain": [
              "(2221525, 41)"
            ]
          },
          "metadata": {
            "tags": []
          },
          "execution_count": 15
        }
      ]
    },
    {
      "cell_type": "markdown",
      "metadata": {
        "id": "MJufqvTtWaql"
      },
      "source": [
        "Oficialmente hay 2,244,268 casos positivos a SARS-COV-2, pero después del filtrado obtuvimos 2,221,525, hay una diferencia de 22,743 casos, esto se debe a que se eliminaron casos con información incompleta. Por la cantidad de datos esta diferencia es estadísticamente insignificante y no supondrá un problema en el análisis o en la creación del modelo."
      ]
    },
    {
      "cell_type": "code",
      "metadata": {
        "id": "HE8LHAv5ZUFV",
        "colab": {
          "base_uri": "https://localhost:8080/",
          "height": 299
        },
        "outputId": "a4ed88ec-377a-4c27-dc6b-f24197052f88"
      },
      "source": [
        "data_filtered.sample(5)"
      ],
      "execution_count": 16,
      "outputs": [
        {
          "output_type": "execute_result",
          "data": {
            "text/html": [
              "<div>\n",
              "<style scoped>\n",
              "    .dataframe tbody tr th:only-of-type {\n",
              "        vertical-align: middle;\n",
              "    }\n",
              "\n",
              "    .dataframe tbody tr th {\n",
              "        vertical-align: top;\n",
              "    }\n",
              "\n",
              "    .dataframe thead th {\n",
              "        text-align: right;\n",
              "    }\n",
              "</style>\n",
              "<table border=\"1\" class=\"dataframe\">\n",
              "  <thead>\n",
              "    <tr style=\"text-align: right;\">\n",
              "      <th></th>\n",
              "      <th>FECHA_ACTUALIZACION</th>\n",
              "      <th>ID_REGISTRO</th>\n",
              "      <th>ORIGEN</th>\n",
              "      <th>SECTOR</th>\n",
              "      <th>ENTIDAD_UM</th>\n",
              "      <th>SEXO</th>\n",
              "      <th>ENTIDAD_NAC</th>\n",
              "      <th>ENTIDAD_RES</th>\n",
              "      <th>MUNICIPIO_RES</th>\n",
              "      <th>TIPO_PACIENTE</th>\n",
              "      <th>FECHA_INGRESO</th>\n",
              "      <th>FECHA_SINTOMAS</th>\n",
              "      <th>FECHA_DEF</th>\n",
              "      <th>INTUBADO</th>\n",
              "      <th>NEUMONIA</th>\n",
              "      <th>EDAD</th>\n",
              "      <th>NACIONALIDAD</th>\n",
              "      <th>EMBARAZO</th>\n",
              "      <th>HABLA_LENGUA_INDIG</th>\n",
              "      <th>INDIGENA</th>\n",
              "      <th>DIABETES</th>\n",
              "      <th>EPOC</th>\n",
              "      <th>ASMA</th>\n",
              "      <th>INMUSUPR</th>\n",
              "      <th>HIPERTENSION</th>\n",
              "      <th>OTRA_COM</th>\n",
              "      <th>CARDIOVASCULAR</th>\n",
              "      <th>OBESIDAD</th>\n",
              "      <th>RENAL_CRONICA</th>\n",
              "      <th>TABAQUISMO</th>\n",
              "      <th>OTRO_CASO</th>\n",
              "      <th>TOMA_MUESTRA_LAB</th>\n",
              "      <th>RESULTADO_LAB</th>\n",
              "      <th>TOMA_MUESTRA_ANTIGENO</th>\n",
              "      <th>RESULTADO_ANTIGENO</th>\n",
              "      <th>CLASIFICACION_FINAL</th>\n",
              "      <th>MIGRANTE</th>\n",
              "      <th>PAIS_NACIONALIDAD</th>\n",
              "      <th>PAIS_ORIGEN</th>\n",
              "      <th>UCI</th>\n",
              "      <th>RESULTADO</th>\n",
              "    </tr>\n",
              "  </thead>\n",
              "  <tbody>\n",
              "    <tr>\n",
              "      <th>4034848</th>\n",
              "      <td>2021-04-01</td>\n",
              "      <td>3fa90a</td>\n",
              "      <td>1</td>\n",
              "      <td>6</td>\n",
              "      <td>22</td>\n",
              "      <td>2</td>\n",
              "      <td>9</td>\n",
              "      <td>22</td>\n",
              "      <td>14</td>\n",
              "      <td>1</td>\n",
              "      <td>2021-01-14</td>\n",
              "      <td>2021-01-12</td>\n",
              "      <td>9999-99-99</td>\n",
              "      <td>0</td>\n",
              "      <td>0</td>\n",
              "      <td>25</td>\n",
              "      <td>1</td>\n",
              "      <td>0</td>\n",
              "      <td>2</td>\n",
              "      <td>2</td>\n",
              "      <td>0</td>\n",
              "      <td>0</td>\n",
              "      <td>0</td>\n",
              "      <td>0</td>\n",
              "      <td>0</td>\n",
              "      <td>0</td>\n",
              "      <td>0</td>\n",
              "      <td>0</td>\n",
              "      <td>0</td>\n",
              "      <td>0</td>\n",
              "      <td>1</td>\n",
              "      <td>1</td>\n",
              "      <td>1</td>\n",
              "      <td>2</td>\n",
              "      <td>97</td>\n",
              "      <td>3</td>\n",
              "      <td>99</td>\n",
              "      <td>México</td>\n",
              "      <td>97</td>\n",
              "      <td>0</td>\n",
              "      <td>1</td>\n",
              "    </tr>\n",
              "    <tr>\n",
              "      <th>139988</th>\n",
              "      <td>2021-04-01</td>\n",
              "      <td>1c17a2</td>\n",
              "      <td>2</td>\n",
              "      <td>12</td>\n",
              "      <td>2</td>\n",
              "      <td>2</td>\n",
              "      <td>2</td>\n",
              "      <td>2</td>\n",
              "      <td>4</td>\n",
              "      <td>1</td>\n",
              "      <td>2020-04-27</td>\n",
              "      <td>2020-04-24</td>\n",
              "      <td>9999-99-99</td>\n",
              "      <td>0</td>\n",
              "      <td>0</td>\n",
              "      <td>54</td>\n",
              "      <td>1</td>\n",
              "      <td>0</td>\n",
              "      <td>2</td>\n",
              "      <td>2</td>\n",
              "      <td>0</td>\n",
              "      <td>0</td>\n",
              "      <td>0</td>\n",
              "      <td>0</td>\n",
              "      <td>0</td>\n",
              "      <td>0</td>\n",
              "      <td>0</td>\n",
              "      <td>1</td>\n",
              "      <td>0</td>\n",
              "      <td>0</td>\n",
              "      <td>1</td>\n",
              "      <td>1</td>\n",
              "      <td>1</td>\n",
              "      <td>2</td>\n",
              "      <td>97</td>\n",
              "      <td>3</td>\n",
              "      <td>99</td>\n",
              "      <td>México</td>\n",
              "      <td>97</td>\n",
              "      <td>0</td>\n",
              "      <td>1</td>\n",
              "    </tr>\n",
              "    <tr>\n",
              "      <th>2042006</th>\n",
              "      <td>2021-04-01</td>\n",
              "      <td>3edef0</td>\n",
              "      <td>2</td>\n",
              "      <td>6</td>\n",
              "      <td>19</td>\n",
              "      <td>1</td>\n",
              "      <td>19</td>\n",
              "      <td>19</td>\n",
              "      <td>39</td>\n",
              "      <td>2</td>\n",
              "      <td>2020-10-05</td>\n",
              "      <td>2020-09-30</td>\n",
              "      <td>9999-99-99</td>\n",
              "      <td>0</td>\n",
              "      <td>0</td>\n",
              "      <td>72</td>\n",
              "      <td>1</td>\n",
              "      <td>0</td>\n",
              "      <td>2</td>\n",
              "      <td>2</td>\n",
              "      <td>0</td>\n",
              "      <td>0</td>\n",
              "      <td>0</td>\n",
              "      <td>0</td>\n",
              "      <td>1</td>\n",
              "      <td>0</td>\n",
              "      <td>0</td>\n",
              "      <td>1</td>\n",
              "      <td>0</td>\n",
              "      <td>0</td>\n",
              "      <td>1</td>\n",
              "      <td>1</td>\n",
              "      <td>1</td>\n",
              "      <td>2</td>\n",
              "      <td>97</td>\n",
              "      <td>3</td>\n",
              "      <td>99</td>\n",
              "      <td>México</td>\n",
              "      <td>97</td>\n",
              "      <td>0</td>\n",
              "      <td>1</td>\n",
              "    </tr>\n",
              "    <tr>\n",
              "      <th>2531852</th>\n",
              "      <td>2021-04-01</td>\n",
              "      <td>43cf68</td>\n",
              "      <td>2</td>\n",
              "      <td>12</td>\n",
              "      <td>9</td>\n",
              "      <td>2</td>\n",
              "      <td>9</td>\n",
              "      <td>9</td>\n",
              "      <td>16</td>\n",
              "      <td>1</td>\n",
              "      <td>2020-11-10</td>\n",
              "      <td>2020-11-02</td>\n",
              "      <td>9999-99-99</td>\n",
              "      <td>0</td>\n",
              "      <td>0</td>\n",
              "      <td>30</td>\n",
              "      <td>1</td>\n",
              "      <td>0</td>\n",
              "      <td>2</td>\n",
              "      <td>2</td>\n",
              "      <td>0</td>\n",
              "      <td>0</td>\n",
              "      <td>0</td>\n",
              "      <td>0</td>\n",
              "      <td>0</td>\n",
              "      <td>0</td>\n",
              "      <td>0</td>\n",
              "      <td>0</td>\n",
              "      <td>0</td>\n",
              "      <td>0</td>\n",
              "      <td>2</td>\n",
              "      <td>1</td>\n",
              "      <td>1</td>\n",
              "      <td>2</td>\n",
              "      <td>97</td>\n",
              "      <td>3</td>\n",
              "      <td>99</td>\n",
              "      <td>México</td>\n",
              "      <td>97</td>\n",
              "      <td>0</td>\n",
              "      <td>1</td>\n",
              "    </tr>\n",
              "    <tr>\n",
              "      <th>3600737</th>\n",
              "      <td>2021-04-01</td>\n",
              "      <td>2bc4e9</td>\n",
              "      <td>1</td>\n",
              "      <td>12</td>\n",
              "      <td>19</td>\n",
              "      <td>1</td>\n",
              "      <td>19</td>\n",
              "      <td>19</td>\n",
              "      <td>39</td>\n",
              "      <td>1</td>\n",
              "      <td>2020-12-30</td>\n",
              "      <td>2020-12-27</td>\n",
              "      <td>9999-99-99</td>\n",
              "      <td>0</td>\n",
              "      <td>0</td>\n",
              "      <td>40</td>\n",
              "      <td>1</td>\n",
              "      <td>0</td>\n",
              "      <td>2</td>\n",
              "      <td>2</td>\n",
              "      <td>0</td>\n",
              "      <td>0</td>\n",
              "      <td>0</td>\n",
              "      <td>0</td>\n",
              "      <td>1</td>\n",
              "      <td>0</td>\n",
              "      <td>0</td>\n",
              "      <td>1</td>\n",
              "      <td>0</td>\n",
              "      <td>0</td>\n",
              "      <td>2</td>\n",
              "      <td>1</td>\n",
              "      <td>1</td>\n",
              "      <td>2</td>\n",
              "      <td>97</td>\n",
              "      <td>3</td>\n",
              "      <td>99</td>\n",
              "      <td>México</td>\n",
              "      <td>97</td>\n",
              "      <td>0</td>\n",
              "      <td>1</td>\n",
              "    </tr>\n",
              "  </tbody>\n",
              "</table>\n",
              "</div>"
            ],
            "text/plain": [
              "        FECHA_ACTUALIZACION ID_REGISTRO  ORIGEN  ...  PAIS_ORIGEN  UCI  RESULTADO\n",
              "4034848          2021-04-01      3fa90a       1  ...           97    0          1\n",
              "139988           2021-04-01      1c17a2       2  ...           97    0          1\n",
              "2042006          2021-04-01      3edef0       2  ...           97    0          1\n",
              "2531852          2021-04-01      43cf68       2  ...           97    0          1\n",
              "3600737          2021-04-01      2bc4e9       1  ...           97    0          1\n",
              "\n",
              "[5 rows x 41 columns]"
            ]
          },
          "metadata": {
            "tags": []
          },
          "execution_count": 16
        }
      ]
    },
    {
      "cell_type": "markdown",
      "metadata": {
        "id": "Kl29mR8xZccM"
      },
      "source": [
        "### Cambio de tipo de dato de fechas\n",
        "**Las columnas de `FECHA_SINTOMAS` y `FECHA_INGRESO` correspondientes a la fecha de inicio de sintomas y a la fecha de ingreso a la unidad de atención estan en string, se les cambiará a tipo de dato `datetima` para el manejo de fechas**"
      ]
    },
    {
      "cell_type": "code",
      "metadata": {
        "id": "QuDL5oyLcT7y"
      },
      "source": [
        "data_filtered[\"FECHA_INGRESO\"] = pd.to_datetime(data_filtered[\"FECHA_INGRESO\"], format = \"%Y-%m-%d\")"
      ],
      "execution_count": 17,
      "outputs": []
    },
    {
      "cell_type": "code",
      "metadata": {
        "id": "fZxugA2heWD5"
      },
      "source": [
        "data_filtered[\"FECHA_SINTOMAS\"] = pd.to_datetime(data_filtered[\"FECHA_SINTOMAS\"], format = \"%Y-%m-%d\")"
      ],
      "execution_count": 18,
      "outputs": []
    },
    {
      "cell_type": "code",
      "metadata": {
        "id": "gAEqdpNSeJNM",
        "colab": {
          "base_uri": "https://localhost:8080/"
        },
        "outputId": "4ff9402f-6b68-4a1d-c246-e3c724d25b54"
      },
      "source": [
        "data_filtered[[\"FECHA_INGRESO\",\"FECHA_SINTOMAS\"]].dtypes"
      ],
      "execution_count": 19,
      "outputs": [
        {
          "output_type": "execute_result",
          "data": {
            "text/plain": [
              "FECHA_INGRESO     datetime64[ns]\n",
              "FECHA_SINTOMAS    datetime64[ns]\n",
              "dtype: object"
            ]
          },
          "metadata": {
            "tags": []
          },
          "execution_count": 19
        }
      ]
    },
    {
      "cell_type": "code",
      "metadata": {
        "id": "RYW_zeJSdQZx",
        "colab": {
          "base_uri": "https://localhost:8080/",
          "height": 195
        },
        "outputId": "03493653-45aa-47d7-f33d-d1026b3387c2"
      },
      "source": [
        "data_filtered[[\"FECHA_INGRESO\",\"FECHA_SINTOMAS\"]].sample(5)"
      ],
      "execution_count": 20,
      "outputs": [
        {
          "output_type": "execute_result",
          "data": {
            "text/html": [
              "<div>\n",
              "<style scoped>\n",
              "    .dataframe tbody tr th:only-of-type {\n",
              "        vertical-align: middle;\n",
              "    }\n",
              "\n",
              "    .dataframe tbody tr th {\n",
              "        vertical-align: top;\n",
              "    }\n",
              "\n",
              "    .dataframe thead th {\n",
              "        text-align: right;\n",
              "    }\n",
              "</style>\n",
              "<table border=\"1\" class=\"dataframe\">\n",
              "  <thead>\n",
              "    <tr style=\"text-align: right;\">\n",
              "      <th></th>\n",
              "      <th>FECHA_INGRESO</th>\n",
              "      <th>FECHA_SINTOMAS</th>\n",
              "    </tr>\n",
              "  </thead>\n",
              "  <tbody>\n",
              "    <tr>\n",
              "      <th>2842591</th>\n",
              "      <td>2020-11-27</td>\n",
              "      <td>2020-11-24</td>\n",
              "    </tr>\n",
              "    <tr>\n",
              "      <th>2399999</th>\n",
              "      <td>2020-10-31</td>\n",
              "      <td>2020-10-25</td>\n",
              "    </tr>\n",
              "    <tr>\n",
              "      <th>2579065</th>\n",
              "      <td>2020-11-12</td>\n",
              "      <td>2020-11-12</td>\n",
              "    </tr>\n",
              "    <tr>\n",
              "      <th>5042317</th>\n",
              "      <td>2021-02-11</td>\n",
              "      <td>2021-02-08</td>\n",
              "    </tr>\n",
              "    <tr>\n",
              "      <th>3320513</th>\n",
              "      <td>2020-12-17</td>\n",
              "      <td>2020-12-15</td>\n",
              "    </tr>\n",
              "  </tbody>\n",
              "</table>\n",
              "</div>"
            ],
            "text/plain": [
              "        FECHA_INGRESO FECHA_SINTOMAS\n",
              "2842591    2020-11-27     2020-11-24\n",
              "2399999    2020-10-31     2020-10-25\n",
              "2579065    2020-11-12     2020-11-12\n",
              "5042317    2021-02-11     2021-02-08\n",
              "3320513    2020-12-17     2020-12-15"
            ]
          },
          "metadata": {
            "tags": []
          },
          "execution_count": 20
        }
      ]
    },
    {
      "cell_type": "markdown",
      "metadata": {
        "id": "PQUOglXDfxm2"
      },
      "source": [
        "### Agregado de columna `TIEMPO_ESPERA`\n",
        "Se agrega la columna `TIEMPO_ESPERA` que indica el tiempo en días que paso desde el inicio de los sintomas `FECHA_SINTOMAS` y el ingreso a la unidad de salud `FECHA_INGRESO`."
      ]
    },
    {
      "cell_type": "code",
      "metadata": {
        "id": "D29MFi17gaN8"
      },
      "source": [
        "data_filtered[\"TIEMPO_ESPERA\"] = data_filtered[\"FECHA_INGRESO\"] - data_filtered[\"FECHA_SINTOMAS\"]\n",
        "data_filtered[\"TIEMPO_ESPERA\"] = data_filtered[\"TIEMPO_ESPERA\"].apply(lambda x: x.days)"
      ],
      "execution_count": 21,
      "outputs": []
    },
    {
      "cell_type": "code",
      "metadata": {
        "id": "cXsklztRhjvK",
        "colab": {
          "base_uri": "https://localhost:8080/"
        },
        "outputId": "0e481a3f-2c9a-4fcb-9755-9170c2fc549c"
      },
      "source": [
        "data_filtered[\"TIEMPO_ESPERA\"].dtypes"
      ],
      "execution_count": 22,
      "outputs": [
        {
          "output_type": "execute_result",
          "data": {
            "text/plain": [
              "dtype('int64')"
            ]
          },
          "metadata": {
            "tags": []
          },
          "execution_count": 22
        }
      ]
    },
    {
      "cell_type": "markdown",
      "metadata": {
        "id": "n3sREbDsY5xn"
      },
      "source": [
        "### Agregado de columna `FALLECIDO`\n",
        "Esta columna será catagórica, indica si el paciente falleció por covid, los valores posibles son los siguientes:\n",
        "* Si: *1*\n",
        "* No: *0*"
      ]
    },
    {
      "cell_type": "code",
      "metadata": {
        "id": "ULbOS2LPZTLK"
      },
      "source": [
        "data_filtered[\"FALLECIDO\"] = data_filtered[\"FECHA_DEF\"].apply(lambda x: 1 if x != \"9999-99-99\" else 0)"
      ],
      "execution_count": 23,
      "outputs": []
    },
    {
      "cell_type": "code",
      "metadata": {
        "id": "xR_g1mDZZl90",
        "colab": {
          "base_uri": "https://localhost:8080/",
          "height": 343
        },
        "outputId": "4b4f65e3-626f-46b6-f7b3-203b76f0238c"
      },
      "source": [
        "data_filtered[[\"FECHA_DEF\",\"FALLECIDO\"]].sample(10)"
      ],
      "execution_count": 24,
      "outputs": [
        {
          "output_type": "execute_result",
          "data": {
            "text/html": [
              "<div>\n",
              "<style scoped>\n",
              "    .dataframe tbody tr th:only-of-type {\n",
              "        vertical-align: middle;\n",
              "    }\n",
              "\n",
              "    .dataframe tbody tr th {\n",
              "        vertical-align: top;\n",
              "    }\n",
              "\n",
              "    .dataframe thead th {\n",
              "        text-align: right;\n",
              "    }\n",
              "</style>\n",
              "<table border=\"1\" class=\"dataframe\">\n",
              "  <thead>\n",
              "    <tr style=\"text-align: right;\">\n",
              "      <th></th>\n",
              "      <th>FECHA_DEF</th>\n",
              "      <th>FALLECIDO</th>\n",
              "    </tr>\n",
              "  </thead>\n",
              "  <tbody>\n",
              "    <tr>\n",
              "      <th>2061092</th>\n",
              "      <td>9999-99-99</td>\n",
              "      <td>0</td>\n",
              "    </tr>\n",
              "    <tr>\n",
              "      <th>813434</th>\n",
              "      <td>9999-99-99</td>\n",
              "      <td>0</td>\n",
              "    </tr>\n",
              "    <tr>\n",
              "      <th>1494426</th>\n",
              "      <td>9999-99-99</td>\n",
              "      <td>0</td>\n",
              "    </tr>\n",
              "    <tr>\n",
              "      <th>2664052</th>\n",
              "      <td>9999-99-99</td>\n",
              "      <td>0</td>\n",
              "    </tr>\n",
              "    <tr>\n",
              "      <th>2001173</th>\n",
              "      <td>2020-10-05</td>\n",
              "      <td>1</td>\n",
              "    </tr>\n",
              "    <tr>\n",
              "      <th>5955456</th>\n",
              "      <td>9999-99-99</td>\n",
              "      <td>0</td>\n",
              "    </tr>\n",
              "    <tr>\n",
              "      <th>2279821</th>\n",
              "      <td>9999-99-99</td>\n",
              "      <td>0</td>\n",
              "    </tr>\n",
              "    <tr>\n",
              "      <th>2092026</th>\n",
              "      <td>9999-99-99</td>\n",
              "      <td>0</td>\n",
              "    </tr>\n",
              "    <tr>\n",
              "      <th>2646307</th>\n",
              "      <td>9999-99-99</td>\n",
              "      <td>0</td>\n",
              "    </tr>\n",
              "    <tr>\n",
              "      <th>5231054</th>\n",
              "      <td>2021-02-21</td>\n",
              "      <td>1</td>\n",
              "    </tr>\n",
              "  </tbody>\n",
              "</table>\n",
              "</div>"
            ],
            "text/plain": [
              "          FECHA_DEF  FALLECIDO\n",
              "2061092  9999-99-99          0\n",
              "813434   9999-99-99          0\n",
              "1494426  9999-99-99          0\n",
              "2664052  9999-99-99          0\n",
              "2001173  2020-10-05          1\n",
              "5955456  9999-99-99          0\n",
              "2279821  9999-99-99          0\n",
              "2092026  9999-99-99          0\n",
              "2646307  9999-99-99          0\n",
              "5231054  2021-02-21          1"
            ]
          },
          "metadata": {
            "tags": []
          },
          "execution_count": 24
        }
      ]
    },
    {
      "cell_type": "markdown",
      "metadata": {
        "id": "G7nRU01ZaaOa"
      },
      "source": [
        "### Agregado de la columna `ENFERMEDAD_GRAVE`\n",
        "Esta columna será catagórica, indica si el paciente presentó enfermedad grave.\n",
        "\n",
        "Se considera que un paciente presentó la enfermedad grave si presenta al menos una de las siguientes situaciones:\n",
        "* El paciente requirió de intubación.\n",
        "* El paciente fue diagnosticado con neumonía.\n",
        "* El paciente requirió ingresar a una Unidad de Cuidados Intensivos.\n",
        "\n",
        "Los valores posibles en esta columna son los siguientes:\n",
        "* Si: *1*\n",
        "* No: *0*"
      ]
    },
    {
      "cell_type": "code",
      "metadata": {
        "id": "XaukySFYfh41"
      },
      "source": [
        "data_filtered[\"ENFERMEDAD_GRAVE\"] = np.where((data_filtered[\"INTUBADO\"] == 1) \n",
        "| (data_filtered[\"NEUMONIA\"] == 1)\n",
        "| (data_filtered[\"UCI\"] == 1) , 1, 0)"
      ],
      "execution_count": 25,
      "outputs": []
    },
    {
      "cell_type": "code",
      "metadata": {
        "id": "cKUzAQReiduy",
        "colab": {
          "base_uri": "https://localhost:8080/",
          "height": 343
        },
        "outputId": "329733cf-092c-4cf1-ee5a-c51d71c6b8ea"
      },
      "source": [
        "data_filtered[[\"NEUMONIA\", \"INTUBADO\", \"UCI\", \"ENFERMEDAD_GRAVE\"]].sample(10)"
      ],
      "execution_count": 26,
      "outputs": [
        {
          "output_type": "execute_result",
          "data": {
            "text/html": [
              "<div>\n",
              "<style scoped>\n",
              "    .dataframe tbody tr th:only-of-type {\n",
              "        vertical-align: middle;\n",
              "    }\n",
              "\n",
              "    .dataframe tbody tr th {\n",
              "        vertical-align: top;\n",
              "    }\n",
              "\n",
              "    .dataframe thead th {\n",
              "        text-align: right;\n",
              "    }\n",
              "</style>\n",
              "<table border=\"1\" class=\"dataframe\">\n",
              "  <thead>\n",
              "    <tr style=\"text-align: right;\">\n",
              "      <th></th>\n",
              "      <th>NEUMONIA</th>\n",
              "      <th>INTUBADO</th>\n",
              "      <th>UCI</th>\n",
              "      <th>ENFERMEDAD_GRAVE</th>\n",
              "    </tr>\n",
              "  </thead>\n",
              "  <tbody>\n",
              "    <tr>\n",
              "      <th>719129</th>\n",
              "      <td>0</td>\n",
              "      <td>0</td>\n",
              "      <td>0</td>\n",
              "      <td>0</td>\n",
              "    </tr>\n",
              "    <tr>\n",
              "      <th>4621904</th>\n",
              "      <td>0</td>\n",
              "      <td>0</td>\n",
              "      <td>0</td>\n",
              "      <td>0</td>\n",
              "    </tr>\n",
              "    <tr>\n",
              "      <th>3923068</th>\n",
              "      <td>0</td>\n",
              "      <td>0</td>\n",
              "      <td>0</td>\n",
              "      <td>0</td>\n",
              "    </tr>\n",
              "    <tr>\n",
              "      <th>3572868</th>\n",
              "      <td>0</td>\n",
              "      <td>0</td>\n",
              "      <td>0</td>\n",
              "      <td>0</td>\n",
              "    </tr>\n",
              "    <tr>\n",
              "      <th>1873274</th>\n",
              "      <td>0</td>\n",
              "      <td>0</td>\n",
              "      <td>0</td>\n",
              "      <td>0</td>\n",
              "    </tr>\n",
              "    <tr>\n",
              "      <th>1359396</th>\n",
              "      <td>0</td>\n",
              "      <td>0</td>\n",
              "      <td>0</td>\n",
              "      <td>0</td>\n",
              "    </tr>\n",
              "    <tr>\n",
              "      <th>1000487</th>\n",
              "      <td>0</td>\n",
              "      <td>0</td>\n",
              "      <td>0</td>\n",
              "      <td>0</td>\n",
              "    </tr>\n",
              "    <tr>\n",
              "      <th>2132157</th>\n",
              "      <td>0</td>\n",
              "      <td>0</td>\n",
              "      <td>0</td>\n",
              "      <td>0</td>\n",
              "    </tr>\n",
              "    <tr>\n",
              "      <th>114291</th>\n",
              "      <td>1</td>\n",
              "      <td>0</td>\n",
              "      <td>0</td>\n",
              "      <td>1</td>\n",
              "    </tr>\n",
              "    <tr>\n",
              "      <th>2234620</th>\n",
              "      <td>0</td>\n",
              "      <td>0</td>\n",
              "      <td>0</td>\n",
              "      <td>0</td>\n",
              "    </tr>\n",
              "  </tbody>\n",
              "</table>\n",
              "</div>"
            ],
            "text/plain": [
              "         NEUMONIA  INTUBADO  UCI  ENFERMEDAD_GRAVE\n",
              "719129          0         0    0                 0\n",
              "4621904         0         0    0                 0\n",
              "3923068         0         0    0                 0\n",
              "3572868         0         0    0                 0\n",
              "1873274         0         0    0                 0\n",
              "1359396         0         0    0                 0\n",
              "1000487         0         0    0                 0\n",
              "2132157         0         0    0                 0\n",
              "114291          1         0    0                 1\n",
              "2234620         0         0    0                 0"
            ]
          },
          "metadata": {
            "tags": []
          },
          "execution_count": 26
        }
      ]
    },
    {
      "cell_type": "markdown",
      "metadata": {
        "id": "7XkruM6FjQB4"
      },
      "source": [
        "### Agregado de columna `HOSPITALIZADO`\n",
        "Esta columna será catagórica, indica si el paciente fue hospitalizado, si esto no es así se asume que el tratamiento del paciente fue embulatorio, los valores posibles son los siguientes:\n",
        "* Si: *1*\n",
        "* No: *0*"
      ]
    },
    {
      "cell_type": "code",
      "metadata": {
        "id": "J4w5xvUfjaKX"
      },
      "source": [
        "data_filtered[\"HOSPITALIZADO\"] = data_filtered[\"TIPO_PACIENTE\"].apply(lambda x: 1 if x == 2 else 0)"
      ],
      "execution_count": 27,
      "outputs": []
    },
    {
      "cell_type": "code",
      "metadata": {
        "id": "2VPq1pUnjk89",
        "colab": {
          "base_uri": "https://localhost:8080/",
          "height": 343
        },
        "outputId": "e0fb014b-d2f6-48b6-f1f1-d4f51b64a865"
      },
      "source": [
        "data_filtered[[\"TIPO_PACIENTE\", \"HOSPITALIZADO\"]].sample(10)"
      ],
      "execution_count": 28,
      "outputs": [
        {
          "output_type": "execute_result",
          "data": {
            "text/html": [
              "<div>\n",
              "<style scoped>\n",
              "    .dataframe tbody tr th:only-of-type {\n",
              "        vertical-align: middle;\n",
              "    }\n",
              "\n",
              "    .dataframe tbody tr th {\n",
              "        vertical-align: top;\n",
              "    }\n",
              "\n",
              "    .dataframe thead th {\n",
              "        text-align: right;\n",
              "    }\n",
              "</style>\n",
              "<table border=\"1\" class=\"dataframe\">\n",
              "  <thead>\n",
              "    <tr style=\"text-align: right;\">\n",
              "      <th></th>\n",
              "      <th>TIPO_PACIENTE</th>\n",
              "      <th>HOSPITALIZADO</th>\n",
              "    </tr>\n",
              "  </thead>\n",
              "  <tbody>\n",
              "    <tr>\n",
              "      <th>4477606</th>\n",
              "      <td>1</td>\n",
              "      <td>0</td>\n",
              "    </tr>\n",
              "    <tr>\n",
              "      <th>1847164</th>\n",
              "      <td>1</td>\n",
              "      <td>0</td>\n",
              "    </tr>\n",
              "    <tr>\n",
              "      <th>911306</th>\n",
              "      <td>1</td>\n",
              "      <td>0</td>\n",
              "    </tr>\n",
              "    <tr>\n",
              "      <th>1177677</th>\n",
              "      <td>1</td>\n",
              "      <td>0</td>\n",
              "    </tr>\n",
              "    <tr>\n",
              "      <th>346505</th>\n",
              "      <td>1</td>\n",
              "      <td>0</td>\n",
              "    </tr>\n",
              "    <tr>\n",
              "      <th>1079763</th>\n",
              "      <td>1</td>\n",
              "      <td>0</td>\n",
              "    </tr>\n",
              "    <tr>\n",
              "      <th>59068</th>\n",
              "      <td>1</td>\n",
              "      <td>0</td>\n",
              "    </tr>\n",
              "    <tr>\n",
              "      <th>4155998</th>\n",
              "      <td>1</td>\n",
              "      <td>0</td>\n",
              "    </tr>\n",
              "    <tr>\n",
              "      <th>918971</th>\n",
              "      <td>1</td>\n",
              "      <td>0</td>\n",
              "    </tr>\n",
              "    <tr>\n",
              "      <th>3736174</th>\n",
              "      <td>1</td>\n",
              "      <td>0</td>\n",
              "    </tr>\n",
              "  </tbody>\n",
              "</table>\n",
              "</div>"
            ],
            "text/plain": [
              "         TIPO_PACIENTE  HOSPITALIZADO\n",
              "4477606              1              0\n",
              "1847164              1              0\n",
              "911306               1              0\n",
              "1177677              1              0\n",
              "346505               1              0\n",
              "1079763              1              0\n",
              "59068                1              0\n",
              "4155998              1              0\n",
              "918971               1              0\n",
              "3736174              1              0"
            ]
          },
          "metadata": {
            "tags": []
          },
          "execution_count": 28
        }
      ]
    },
    {
      "cell_type": "markdown",
      "metadata": {
        "id": "JtlWwfTCkCh1"
      },
      "source": [
        "\n",
        "### Combinación del dataframe principal con los dataframes auxiliares."
      ]
    },
    {
      "cell_type": "code",
      "metadata": {
        "id": "p4PDj0l4l2u2"
      },
      "source": [
        "# Se le cambian los nombres de las columnas a los dataframes auxiliares\n",
        "sexo_df.columns = [\"SEXO\", \"SEXO_\"]\n",
        "sector_df.columns = [\"SECTOR\", \"SECTOR_ATENDIDO\"]\n",
        "entidad_df.columns = [\"ENTIDAD_UM\",\"ESTADO\"]"
      ],
      "execution_count": 29,
      "outputs": []
    },
    {
      "cell_type": "code",
      "metadata": {
        "id": "dnGwZ696kYT6"
      },
      "source": [
        "data_filtered = pd.merge(data_filtered, sexo_df, how = \"inner\", on = \"SEXO\")\n",
        "data_filtered = pd.merge(data_filtered, sector_df, how = \"inner\", on = \"SECTOR\")\n",
        "data_filtered = pd.merge(data_filtered, entidad_df, how = \"inner\", on = \"ENTIDAD_UM\")"
      ],
      "execution_count": 30,
      "outputs": []
    },
    {
      "cell_type": "code",
      "metadata": {
        "id": "FxFfDu_tkzf3",
        "colab": {
          "base_uri": "https://localhost:8080/",
          "height": 195
        },
        "outputId": "d20bb5a8-e1ae-4243-9576-fe2aabdd1d73"
      },
      "source": [
        "data_filtered[[\"SEXO_\",\"SECTOR_ATENDIDO\",\"ESTADO\"]].sample(5)"
      ],
      "execution_count": 31,
      "outputs": [
        {
          "output_type": "execute_result",
          "data": {
            "text/html": [
              "<div>\n",
              "<style scoped>\n",
              "    .dataframe tbody tr th:only-of-type {\n",
              "        vertical-align: middle;\n",
              "    }\n",
              "\n",
              "    .dataframe tbody tr th {\n",
              "        vertical-align: top;\n",
              "    }\n",
              "\n",
              "    .dataframe thead th {\n",
              "        text-align: right;\n",
              "    }\n",
              "</style>\n",
              "<table border=\"1\" class=\"dataframe\">\n",
              "  <thead>\n",
              "    <tr style=\"text-align: right;\">\n",
              "      <th></th>\n",
              "      <th>SEXO_</th>\n",
              "      <th>SECTOR_ATENDIDO</th>\n",
              "      <th>ESTADO</th>\n",
              "    </tr>\n",
              "  </thead>\n",
              "  <tbody>\n",
              "    <tr>\n",
              "      <th>1580502</th>\n",
              "      <td>HOMBRE</td>\n",
              "      <td>SSA</td>\n",
              "      <td>JC</td>\n",
              "    </tr>\n",
              "    <tr>\n",
              "      <th>928670</th>\n",
              "      <td>HOMBRE</td>\n",
              "      <td>IMSS</td>\n",
              "      <td>YN</td>\n",
              "    </tr>\n",
              "    <tr>\n",
              "      <th>378661</th>\n",
              "      <td>MUJER</td>\n",
              "      <td>SSA</td>\n",
              "      <td>DF</td>\n",
              "    </tr>\n",
              "    <tr>\n",
              "      <th>1726297</th>\n",
              "      <td>MUJER</td>\n",
              "      <td>PRIVADA</td>\n",
              "      <td>PL</td>\n",
              "    </tr>\n",
              "    <tr>\n",
              "      <th>1316871</th>\n",
              "      <td>HOMBRE</td>\n",
              "      <td>IMSS</td>\n",
              "      <td>MC</td>\n",
              "    </tr>\n",
              "  </tbody>\n",
              "</table>\n",
              "</div>"
            ],
            "text/plain": [
              "          SEXO_ SECTOR_ATENDIDO ESTADO\n",
              "1580502  HOMBRE             SSA     JC\n",
              "928670   HOMBRE            IMSS     YN\n",
              "378661    MUJER             SSA     DF\n",
              "1726297   MUJER         PRIVADA     PL\n",
              "1316871  HOMBRE            IMSS     MC"
            ]
          },
          "metadata": {
            "tags": []
          },
          "execution_count": 31
        }
      ]
    },
    {
      "cell_type": "markdown",
      "metadata": {
        "id": "fTEjOxYujsed"
      },
      "source": [
        "## Análisis Exploratorio\n",
        "\n",
        "En esta sección se obtendrán algunos datos estadísticos que pueden ayudar a comprender el comportamiento de la enfermedad."
      ]
    },
    {
      "cell_type": "code",
      "metadata": {
        "id": "OX6obyXIOyVG"
      },
      "source": [
        "# Para esta sección se definio una función para obtener los cartiles\n",
        "def summary(data):\n",
        "  minimo = data.min()\n",
        "  Q1 = data.quantile(0.25)\n",
        "  median = data.median()\n",
        "  mean = data.mean()\n",
        "  Q2 = data.quantile(0.5)\n",
        "  Q3 = data.quantile(0.75)\n",
        "  maximo = data.max()\n",
        "  IQR = Q3 - Q1\n",
        "  resumen = {'minimo': minimo, 'Q1': Q1, 'mediana':median,'Q2':Q2,'Q3':Q3,'max':maximo,'IQR':IQR, 'media':mean}\n",
        "  return resumen"
      ],
      "execution_count": 32,
      "outputs": []
    },
    {
      "cell_type": "markdown",
      "metadata": {
        "id": "zYYuVeGpj9t9"
      },
      "source": [
        "### Distribución de edad por sexo de los infectados."
      ]
    },
    {
      "cell_type": "code",
      "metadata": {
        "id": "DieRfUYZH6kN",
        "colab": {
          "base_uri": "https://localhost:8080/",
          "height": 329
        },
        "outputId": "ac6df47a-dc08-48d2-b1d5-fd8b7c1d2249"
      },
      "source": [
        "fig, axs = plt.subplots(ncols = 3, nrows = 1)\n",
        "fig.set_size_inches(20,5)\n",
        "\n",
        "axs[0].hist(data_filtered[\"EDAD\"], color=\"g\")\n",
        "axs[0].set_title(\"Distribución de edad de los casos confirmados\")\n",
        "axs[0].set_xlabel(\"Edad\")\n",
        "axs[0].set_ylabel(\"Número de casos confirmados\")\n",
        "\n",
        "axs[1].hist(data_filtered[\"EDAD\"][data_filtered[\"SEXO_\"] == \"MUJER\"], color=\"#F611A9\")\n",
        "axs[1].set_title(\"Distribución de edad de los casos confirmados en mujeres\")\n",
        "axs[1].set_xlabel(\"Edad\")\n",
        "axs[1].set_ylabel(\"Número de casos confirmados\")\n",
        "\n",
        "axs[2].hist(data_filtered[\"EDAD\"][data_filtered[\"SEXO_\"] == \"HOMBRE\"], color=\"#1189F6\")\n",
        "axs[2].set_title(\"Distribución de edad de los casos confirmados en hombres\")\n",
        "axs[2].set_xlabel(\"Edad\")\n",
        "axs[2].set_ylabel(\"Número de casos confirmados\")\n"
      ],
      "execution_count": 33,
      "outputs": [
        {
          "output_type": "execute_result",
          "data": {
            "text/plain": [
              "Text(0, 0.5, 'Número de casos confirmados')"
            ]
          },
          "metadata": {
            "tags": []
          },
          "execution_count": 33
        },
        {
          "output_type": "display_data",
          "data": {
            "image/png": "[encoded data removed]",
            "text/plain": [
              "<Figure size 1440x360 with 3 Axes>"
            ]
          },
          "metadata": {
            "tags": [],
            "needs_background": "light"
          }
        }
      ]
    },
    {
      "cell_type": "code",
      "metadata": {
        "id": "_5HXlo1jO5Hn",
        "colab": {
          "base_uri": "https://localhost:8080/"
        },
        "outputId": "4effa778-fdeb-4cc5-a87c-97df8a93a191"
      },
      "source": [
        "print(\"Resumen edad de casos positivos\")\n",
        "age_summary = summary(data_filtered[\"EDAD\"])\n",
        "age_summary"
      ],
      "execution_count": 34,
      "outputs": [
        {
          "output_type": "stream",
          "text": [
            "Resumen edad de casos positivos\n"
          ],
          "name": "stdout"
        },
        {
          "output_type": "execute_result",
          "data": {
            "text/plain": [
              "{'IQR': 24.0,\n",
              " 'Q1': 31.0,\n",
              " 'Q2': 42.0,\n",
              " 'Q3': 55.0,\n",
              " 'max': 121,\n",
              " 'media': 43.71238393103113,\n",
              " 'mediana': 42.0,\n",
              " 'minimo': 0}"
            ]
          },
          "metadata": {
            "tags": []
          },
          "execution_count": 34
        }
      ]
    },
    {
      "cell_type": "markdown",
      "metadata": {
        "id": "MsRbivbnJRDK"
      },
      "source": [
        "**Se puede ver que la distribución varía poco entre hombres y mujeres, el 50% de los contagios están entre los 31 y 55 años de edad**"
      ]
    },
    {
      "cell_type": "markdown",
      "metadata": {
        "id": "rSADztqQJ5tF"
      },
      "source": [
        "### Distribución de edad en casos hospitalizados y ambulatorios."
      ]
    },
    {
      "cell_type": "code",
      "metadata": {
        "id": "8AIqTboHKMd4",
        "colab": {
          "base_uri": "https://localhost:8080/",
          "height": 332
        },
        "outputId": "e6c9f4b9-f044-46c2-fc05-e2da2d40ae3e"
      },
      "source": [
        "fig, axs = plt.subplots(ncols=2,nrows=1)\n",
        "fig.set_size_inches(20,5)\n",
        "\n",
        "axs[0].hist(data_filtered[\"EDAD\"][data_filtered[\"HOSPITALIZADO\"] == 0], color=\"#F67C11\")\n",
        "axs[0].set_title(\"Distribución de edad de los casos ambulatorios\")\n",
        "axs[0].set_xlabel(\"Edad\")\n",
        "axs[0].set_ylabel(\"Número de casos confirmados\")\n",
        "\n",
        "axs[1].hist(data_filtered[\"EDAD\"][data_filtered[\"HOSPITALIZADO\"] == 1], color=\"#F62911\")\n",
        "axs[1].set_title(\"Distribución de edad de los casos hospitalizados\")\n",
        "axs[1].set_xlabel(\"Edad\")\n",
        "axs[1].set_ylabel(\"Número de casos confirmados\")"
      ],
      "execution_count": 35,
      "outputs": [
        {
          "output_type": "execute_result",
          "data": {
            "text/plain": [
              "Text(0, 0.5, 'Número de casos confirmados')"
            ]
          },
          "metadata": {
            "tags": []
          },
          "execution_count": 35
        },
        {
          "output_type": "display_data",
          "data": {
            "image/png": "[encoded data removed]",
            "text/plain": [
              "<Figure size 1440x360 with 2 Axes>"
            ]
          },
          "metadata": {
            "tags": [],
            "needs_background": "light"
          }
        }
      ]
    },
    {
      "cell_type": "code",
      "metadata": {
        "id": "uOVqkZ1IOZYs",
        "colab": {
          "base_uri": "https://localhost:8080/"
        },
        "outputId": "45320438-aa67-4636-ba65-1f6802590acb"
      },
      "source": [
        "print(\"Resumen edad de casos ambulatorios\")\n",
        "amb_age = summary(data_filtered[\"EDAD\"][data_filtered[\"HOSPITALIZADO\"] == 0])\n",
        "amb_age"
      ],
      "execution_count": 36,
      "outputs": [
        {
          "output_type": "stream",
          "text": [
            "Resumen edad de casos ambulatorios\n"
          ],
          "name": "stdout"
        },
        {
          "output_type": "execute_result",
          "data": {
            "text/plain": [
              "{'IQR': 22.0,\n",
              " 'Q1': 29.0,\n",
              " 'Q2': 39.0,\n",
              " 'Q3': 51.0,\n",
              " 'max': 121,\n",
              " 'media': 40.44257041034878,\n",
              " 'mediana': 39.0,\n",
              " 'minimo': 0}"
            ]
          },
          "metadata": {
            "tags": []
          },
          "execution_count": 36
        }
      ]
    },
    {
      "cell_type": "code",
      "metadata": {
        "id": "kLpiFiImQRxy",
        "colab": {
          "base_uri": "https://localhost:8080/"
        },
        "outputId": "c1614358-d21d-45ae-d8be-7e4aba38b1a5"
      },
      "source": [
        "print(\"Resumen edad de casos hospitalizados\")\n",
        "amb_age = summary(data_filtered[\"EDAD\"][data_filtered[\"HOSPITALIZADO\"] == 1])\n",
        "amb_age"
      ],
      "execution_count": 37,
      "outputs": [
        {
          "output_type": "stream",
          "text": [
            "Resumen edad de casos hospitalizados\n"
          ],
          "name": "stdout"
        },
        {
          "output_type": "execute_result",
          "data": {
            "text/plain": [
              "{'IQR': 22.0,\n",
              " 'Q1': 48.0,\n",
              " 'Q2': 59.0,\n",
              " 'Q3': 70.0,\n",
              " 'max': 118,\n",
              " 'media': 58.04067398308985,\n",
              " 'mediana': 59.0,\n",
              " 'minimo': 0}"
            ]
          },
          "metadata": {
            "tags": []
          },
          "execution_count": 37
        }
      ]
    },
    {
      "cell_type": "markdown",
      "metadata": {
        "id": "4CUM61YSOT4C"
      },
      "source": [
        "**Se puede apreciar que el grueso de los casos tratados ambulatoriamente están entre los 29 y 51 años de edad mientras que los hospitalizados estan entre los 48 y 70.**"
      ]
    },
    {
      "cell_type": "markdown",
      "metadata": {
        "id": "sWdjGcOqWnh9"
      },
      "source": [
        "### Distribución por edad de fallecidos"
      ]
    },
    {
      "cell_type": "code",
      "metadata": {
        "id": "3FHlLPIwWqud",
        "colab": {
          "base_uri": "https://localhost:8080/",
          "height": 334
        },
        "outputId": "b512f0c6-7e89-425d-b145-06dbc94dd152"
      },
      "source": [
        "fig, axs = plt.subplots(ncols=2,nrows=1)\n",
        "fig.set_size_inches(20,5)\n",
        "\n",
        "axs[0].hist(data_filtered[\"EDAD\"][(data_filtered[\"SEXO_\"] == \"MUJER\")&(data_filtered[\"FALLECIDO\"] == 1)], color=\"#F611A9\")\n",
        "axs[0].set_title(\"Distribución de edad de mujeres fallecidas\")\n",
        "axs[0].set_xlabel(\"Edad\")\n",
        "axs[0].set_ylabel(\"Número de casos confirmados\")\n",
        "\n",
        "axs[1].hist(data_filtered[\"EDAD\"][(data_filtered[\"SEXO_\"] == \"HOMBRE\")&(data_filtered[\"FALLECIDO\"] == 1)], color=\"#1189F6\")\n",
        "axs[1].set_title(\"Distribución de edad de hombres fallecidos\")\n",
        "axs[1].set_xlabel(\"Edad\")\n",
        "axs[1].set_ylabel(\"Número de casos confirmados\")"
      ],
      "execution_count": 38,
      "outputs": [
        {
          "output_type": "execute_result",
          "data": {
            "text/plain": [
              "Text(0, 0.5, 'Número de casos confirmados')"
            ]
          },
          "metadata": {
            "tags": []
          },
          "execution_count": 38
        },
        {
          "output_type": "display_data",
          "data": {
            "image/png": "[encoded data removed]",
            "text/plain": [
              "<Figure size 1440x360 with 2 Axes>"
            ]
          },
          "metadata": {
            "tags": [],
            "needs_background": "light"
          }
        }
      ]
    },
    {
      "cell_type": "code",
      "metadata": {
        "id": "vJ7Rw-nNXh46",
        "colab": {
          "base_uri": "https://localhost:8080/"
        },
        "outputId": "a29aa431-1dbc-4d3d-914a-f3584799d9cd"
      },
      "source": [
        "print(\"Resumen edad en mujeres fallecidas\")\n",
        "female_deceased = summary(data_filtered[\"EDAD\"][(data_filtered[\"SEXO_\"] == \"MUJER\")&(data_filtered[\"FALLECIDO\"] == 1)])\n",
        "female_deceased"
      ],
      "execution_count": 39,
      "outputs": [
        {
          "output_type": "stream",
          "text": [
            "Resumen edad en mujeres fallecidas\n"
          ],
          "name": "stdout"
        },
        {
          "output_type": "execute_result",
          "data": {
            "text/plain": [
              "{'IQR': 18.0,\n",
              " 'Q1': 56.0,\n",
              " 'Q2': 65.0,\n",
              " 'Q3': 74.0,\n",
              " 'max': 110,\n",
              " 'media': 64.48083071384434,\n",
              " 'mediana': 65.0,\n",
              " 'minimo': 0}"
            ]
          },
          "metadata": {
            "tags": []
          },
          "execution_count": 39
        }
      ]
    },
    {
      "cell_type": "code",
      "metadata": {
        "id": "rDpbUqCtX6Yx",
        "colab": {
          "base_uri": "https://localhost:8080/"
        },
        "outputId": "f2237a3f-ba2f-4eec-cb89-16deabf8781a"
      },
      "source": [
        "print(\"Resumen edad en hombres fallecidos\")\n",
        "male_deceased = summary(data_filtered[\"EDAD\"][(data_filtered[\"SEXO_\"] == \"HOMBRE\")&(data_filtered[\"FALLECIDO\"] == 1)])\n",
        "male_deceased"
      ],
      "execution_count": 40,
      "outputs": [
        {
          "output_type": "stream",
          "text": [
            "Resumen edad en hombres fallecidos\n"
          ],
          "name": "stdout"
        },
        {
          "output_type": "execute_result",
          "data": {
            "text/plain": [
              "{'IQR': 19.0,\n",
              " 'Q1': 54.0,\n",
              " 'Q2': 64.0,\n",
              " 'Q3': 73.0,\n",
              " 'max': 106,\n",
              " 'media': 62.94446359707847,\n",
              " 'mediana': 64.0,\n",
              " 'minimo': 0}"
            ]
          },
          "metadata": {
            "tags": []
          },
          "execution_count": 40
        }
      ]
    },
    {
      "cell_type": "markdown",
      "metadata": {
        "id": "Lip2M7-5YGxU"
      },
      "source": [
        "**El 50% de los fallecidos parece estar entre los 55 y 74 años de edad**"
      ]
    },
    {
      "cell_type": "markdown",
      "metadata": {
        "id": "qeVffAaCYTQM"
      },
      "source": [
        "### Comparación de mortalidad en hombres y mujeres"
      ]
    },
    {
      "cell_type": "code",
      "metadata": {
        "id": "5EIPpX3ccCM0",
        "colab": {
          "base_uri": "https://localhost:8080/",
          "height": 136
        },
        "outputId": "2230cb3c-f904-4b5a-bcec-1edccb433de4"
      },
      "source": [
        "table = pd.crosstab(data_filtered.SEXO_, data_filtered.FALLECIDO)\n",
        "table[\"MORTALIDAD\"] = table[1]/(table[0]+table[1])\n",
        "table"
      ],
      "execution_count": 41,
      "outputs": [
        {
          "output_type": "execute_result",
          "data": {
            "text/html": [
              "<div>\n",
              "<style scoped>\n",
              "    .dataframe tbody tr th:only-of-type {\n",
              "        vertical-align: middle;\n",
              "    }\n",
              "\n",
              "    .dataframe tbody tr th {\n",
              "        vertical-align: top;\n",
              "    }\n",
              "\n",
              "    .dataframe thead th {\n",
              "        text-align: right;\n",
              "    }\n",
              "</style>\n",
              "<table border=\"1\" class=\"dataframe\">\n",
              "  <thead>\n",
              "    <tr style=\"text-align: right;\">\n",
              "      <th>FALLECIDO</th>\n",
              "      <th>0</th>\n",
              "      <th>1</th>\n",
              "      <th>MORTALIDAD</th>\n",
              "    </tr>\n",
              "    <tr>\n",
              "      <th>SEXO_</th>\n",
              "      <th></th>\n",
              "      <th></th>\n",
              "      <th></th>\n",
              "    </tr>\n",
              "  </thead>\n",
              "  <tbody>\n",
              "    <tr>\n",
              "      <th>HOMBRE</th>\n",
              "      <td>990557</td>\n",
              "      <td>124729</td>\n",
              "      <td>0.111836</td>\n",
              "    </tr>\n",
              "    <tr>\n",
              "      <th>MUJER</th>\n",
              "      <td>1031796</td>\n",
              "      <td>74442</td>\n",
              "      <td>0.067293</td>\n",
              "    </tr>\n",
              "  </tbody>\n",
              "</table>\n",
              "</div>"
            ],
            "text/plain": [
              "FALLECIDO        0       1  MORTALIDAD\n",
              "SEXO_                                 \n",
              "HOMBRE      990557  124729    0.111836\n",
              "MUJER      1031796   74442    0.067293"
            ]
          },
          "metadata": {
            "tags": []
          },
          "execution_count": 41
        }
      ]
    },
    {
      "cell_type": "code",
      "metadata": {
        "id": "Z5weGa27cYMe",
        "colab": {
          "base_uri": "https://localhost:8080/",
          "height": 461
        },
        "outputId": "f91d8f2c-9b65-4461-9174-66ccea000887"
      },
      "source": [
        "plt.figure(figsize = (10,7))\n",
        "plt.bar([\"Hombres\"], table[\"MORTALIDAD\"][0]*100, color = \"#1189F6\")\n",
        "plt.bar([\"Mujeres\"], table[\"MORTALIDAD\"][1]*100, color = \"#F611A9\")\n",
        "plt.title(\"Mortalidad de covid en Hombres y Mujeres\")\n",
        "plt.ylabel(\"Porcentaje de fallecidos (%)\")"
      ],
      "execution_count": 61,
      "outputs": [
        {
          "output_type": "execute_result",
          "data": {
            "text/plain": [
              "Text(0, 0.5, 'Porcentaje de fallecidos (%)')"
            ]
          },
          "metadata": {
            "tags": []
          },
          "execution_count": 61
        },
        {
          "output_type": "display_data",
          "data": {
            "image/png": "[encoded data removed]",
            "text/plain": [
              "<Figure size 720x504 with 1 Axes>"
            ]
          },
          "metadata": {
            "tags": [],
            "needs_background": "light"
          }
        }
      ]
    },
    {
      "cell_type": "markdown",
      "metadata": {
        "id": "cf0Cx3zMR3yk"
      },
      "source": [
        "## Mortalidad por estado y por sector"
      ]
    },
    {
      "cell_type": "markdown",
      "metadata": {
        "id": "oEEOzr-s6ikI"
      },
      "source": [
        "### Mortalidad por estado\n"
      ]
    },
    {
      "cell_type": "code",
      "metadata": {
        "id": "wmedqu9i66pf",
        "outputId": "16b68056-c12f-4da5-847b-c88c44f80d95",
        "colab": {
          "base_uri": "https://localhost:8080/",
          "height": 1000
        }
      },
      "source": [
        "table = pd.crosstab(data_filtered.ESTADO, data_filtered.FALLECIDO)\n",
        "table[\"MORTALIDAD\"] = table[1]/(table[0]+table[1])\n",
        "table = table.sort_values(by = [\"MORTALIDAD\"])\n",
        "table"
      ],
      "execution_count": 62,
      "outputs": [
        {
          "output_type": "execute_result",
          "data": {
            "text/html": [
              "<div>\n",
              "<style scoped>\n",
              "    .dataframe tbody tr th:only-of-type {\n",
              "        vertical-align: middle;\n",
              "    }\n",
              "\n",
              "    .dataframe tbody tr th {\n",
              "        vertical-align: top;\n",
              "    }\n",
              "\n",
              "    .dataframe thead th {\n",
              "        text-align: right;\n",
              "    }\n",
              "</style>\n",
              "<table border=\"1\" class=\"dataframe\">\n",
              "  <thead>\n",
              "    <tr style=\"text-align: right;\">\n",
              "      <th>FALLECIDO</th>\n",
              "      <th>0</th>\n",
              "      <th>1</th>\n",
              "      <th>MORTALIDAD</th>\n",
              "    </tr>\n",
              "    <tr>\n",
              "      <th>ESTADO</th>\n",
              "      <th></th>\n",
              "      <th></th>\n",
              "      <th></th>\n",
              "    </tr>\n",
              "  </thead>\n",
              "  <tbody>\n",
              "    <tr>\n",
              "      <th>BS</th>\n",
              "      <td>26919</td>\n",
              "      <td>1244</td>\n",
              "      <td>0.044171</td>\n",
              "    </tr>\n",
              "    <tr>\n",
              "      <th>DF</th>\n",
              "      <td>664443</td>\n",
              "      <td>38955</td>\n",
              "      <td>0.055381</td>\n",
              "    </tr>\n",
              "    <tr>\n",
              "      <th>TC</th>\n",
              "      <td>57052</td>\n",
              "      <td>3557</td>\n",
              "      <td>0.058688</td>\n",
              "    </tr>\n",
              "    <tr>\n",
              "      <th>QT</th>\n",
              "      <td>60960</td>\n",
              "      <td>3989</td>\n",
              "      <td>0.061417</td>\n",
              "    </tr>\n",
              "    <tr>\n",
              "      <th>DG</th>\n",
              "      <td>28735</td>\n",
              "      <td>2042</td>\n",
              "      <td>0.066348</td>\n",
              "    </tr>\n",
              "    <tr>\n",
              "      <th>OC</th>\n",
              "      <td>39930</td>\n",
              "      <td>3103</td>\n",
              "      <td>0.072107</td>\n",
              "    </tr>\n",
              "    <tr>\n",
              "      <th>NL</th>\n",
              "      <td>110864</td>\n",
              "      <td>9067</td>\n",
              "      <td>0.075602</td>\n",
              "    </tr>\n",
              "    <tr>\n",
              "      <th>GT</th>\n",
              "      <td>117514</td>\n",
              "      <td>9860</td>\n",
              "      <td>0.077410</td>\n",
              "    </tr>\n",
              "    <tr>\n",
              "      <th>SP</th>\n",
              "      <td>55028</td>\n",
              "      <td>4942</td>\n",
              "      <td>0.082408</td>\n",
              "    </tr>\n",
              "    <tr>\n",
              "      <th>SR</th>\n",
              "      <td>63998</td>\n",
              "      <td>5906</td>\n",
              "      <td>0.084487</td>\n",
              "    </tr>\n",
              "    <tr>\n",
              "      <th>TS</th>\n",
              "      <td>49382</td>\n",
              "      <td>4718</td>\n",
              "      <td>0.087209</td>\n",
              "    </tr>\n",
              "    <tr>\n",
              "      <th>AS</th>\n",
              "      <td>22304</td>\n",
              "      <td>2170</td>\n",
              "      <td>0.088666</td>\n",
              "    </tr>\n",
              "    <tr>\n",
              "      <th>CL</th>\n",
              "      <td>59458</td>\n",
              "      <td>5884</td>\n",
              "      <td>0.090049</td>\n",
              "    </tr>\n",
              "    <tr>\n",
              "      <th>ZS</th>\n",
              "      <td>26219</td>\n",
              "      <td>2628</td>\n",
              "      <td>0.091101</td>\n",
              "    </tr>\n",
              "    <tr>\n",
              "      <th>MS</th>\n",
              "      <td>26905</td>\n",
              "      <td>2718</td>\n",
              "      <td>0.091753</td>\n",
              "    </tr>\n",
              "    <tr>\n",
              "      <th>YN</th>\n",
              "      <td>31725</td>\n",
              "      <td>3409</td>\n",
              "      <td>0.097029</td>\n",
              "    </tr>\n",
              "    <tr>\n",
              "      <th>GR</th>\n",
              "      <td>32983</td>\n",
              "      <td>3902</td>\n",
              "      <td>0.105788</td>\n",
              "    </tr>\n",
              "    <tr>\n",
              "      <th>MN</th>\n",
              "      <td>39789</td>\n",
              "      <td>4892</td>\n",
              "      <td>0.109487</td>\n",
              "    </tr>\n",
              "    <tr>\n",
              "      <th>CM</th>\n",
              "      <td>9739</td>\n",
              "      <td>1216</td>\n",
              "      <td>0.111000</td>\n",
              "    </tr>\n",
              "    <tr>\n",
              "      <th>QR</th>\n",
              "      <td>18204</td>\n",
              "      <td>2455</td>\n",
              "      <td>0.118834</td>\n",
              "    </tr>\n",
              "    <tr>\n",
              "      <th>CH</th>\n",
              "      <td>40355</td>\n",
              "      <td>5489</td>\n",
              "      <td>0.119732</td>\n",
              "    </tr>\n",
              "    <tr>\n",
              "      <th>CC</th>\n",
              "      <td>8033</td>\n",
              "      <td>1108</td>\n",
              "      <td>0.121212</td>\n",
              "    </tr>\n",
              "    <tr>\n",
              "      <th>PL</th>\n",
              "      <td>69695</td>\n",
              "      <td>10100</td>\n",
              "      <td>0.126574</td>\n",
              "    </tr>\n",
              "    <tr>\n",
              "      <th>TL</th>\n",
              "      <td>14101</td>\n",
              "      <td>2123</td>\n",
              "      <td>0.130856</td>\n",
              "    </tr>\n",
              "    <tr>\n",
              "      <th>JC</th>\n",
              "      <td>68375</td>\n",
              "      <td>10435</td>\n",
              "      <td>0.132407</td>\n",
              "    </tr>\n",
              "    <tr>\n",
              "      <th>CS</th>\n",
              "      <td>8451</td>\n",
              "      <td>1375</td>\n",
              "      <td>0.139935</td>\n",
              "    </tr>\n",
              "    <tr>\n",
              "      <th>SL</th>\n",
              "      <td>30285</td>\n",
              "      <td>5417</td>\n",
              "      <td>0.151728</td>\n",
              "    </tr>\n",
              "    <tr>\n",
              "      <th>VZ</th>\n",
              "      <td>47666</td>\n",
              "      <td>8637</td>\n",
              "      <td>0.153402</td>\n",
              "    </tr>\n",
              "    <tr>\n",
              "      <th>NT</th>\n",
              "      <td>9454</td>\n",
              "      <td>1793</td>\n",
              "      <td>0.159420</td>\n",
              "    </tr>\n",
              "    <tr>\n",
              "      <th>BC</th>\n",
              "      <td>38028</td>\n",
              "      <td>7279</td>\n",
              "      <td>0.160660</td>\n",
              "    </tr>\n",
              "    <tr>\n",
              "      <th>HG</th>\n",
              "      <td>29409</td>\n",
              "      <td>5764</td>\n",
              "      <td>0.163876</td>\n",
              "    </tr>\n",
              "    <tr>\n",
              "      <th>MC</th>\n",
              "      <td>116350</td>\n",
              "      <td>22994</td>\n",
              "      <td>0.165016</td>\n",
              "    </tr>\n",
              "  </tbody>\n",
              "</table>\n",
              "</div>"
            ],
            "text/plain": [
              "FALLECIDO       0      1  MORTALIDAD\n",
              "ESTADO                              \n",
              "BS          26919   1244    0.044171\n",
              "DF         664443  38955    0.055381\n",
              "TC          57052   3557    0.058688\n",
              "QT          60960   3989    0.061417\n",
              "DG          28735   2042    0.066348\n",
              "OC          39930   3103    0.072107\n",
              "NL         110864   9067    0.075602\n",
              "GT         117514   9860    0.077410\n",
              "SP          55028   4942    0.082408\n",
              "SR          63998   5906    0.084487\n",
              "TS          49382   4718    0.087209\n",
              "AS          22304   2170    0.088666\n",
              "CL          59458   5884    0.090049\n",
              "ZS          26219   2628    0.091101\n",
              "MS          26905   2718    0.091753\n",
              "YN          31725   3409    0.097029\n",
              "GR          32983   3902    0.105788\n",
              "MN          39789   4892    0.109487\n",
              "CM           9739   1216    0.111000\n",
              "QR          18204   2455    0.118834\n",
              "CH          40355   5489    0.119732\n",
              "CC           8033   1108    0.121212\n",
              "PL          69695  10100    0.126574\n",
              "TL          14101   2123    0.130856\n",
              "JC          68375  10435    0.132407\n",
              "CS           8451   1375    0.139935\n",
              "SL          30285   5417    0.151728\n",
              "VZ          47666   8637    0.153402\n",
              "NT           9454   1793    0.159420\n",
              "BC          38028   7279    0.160660\n",
              "HG          29409   5764    0.163876\n",
              "MC         116350  22994    0.165016"
            ]
          },
          "metadata": {
            "tags": []
          },
          "execution_count": 62
        }
      ]
    },
    {
      "cell_type": "code",
      "metadata": {
        "id": "4yNGFqMg9rdc",
        "outputId": "ef11507d-bb88-433c-aa6e-9e00707423b7",
        "colab": {
          "base_uri": "https://localhost:8080/",
          "height": 624
        }
      },
      "source": [
        "plt.figure(figsize = (15,10))\n",
        "plt.bar(table.index,table[\"MORTALIDAD\"]*100)\n",
        "plt.title(\"Mortalidad de covid en los estados\")\n",
        "plt.ylabel(\"Porcentaje de fallecidos (%)\")"
      ],
      "execution_count": 69,
      "outputs": [
        {
          "output_type": "execute_result",
          "data": {
            "text/plain": [
              "Text(0, 0.5, 'Porcentaje de fallecidos (%)')"
            ]
          },
          "metadata": {
            "tags": []
          },
          "execution_count": 69
        },
        {
          "output_type": "display_data",
          "data": {
            "image/png": "[encoded data removed]",
            "text/plain": [
              "<Figure size 1080x720 with 1 Axes>"
            ]
          },
          "metadata": {
            "tags": [],
            "needs_background": "light"
          }
        }
      ]
    },
    {
      "cell_type": "markdown",
      "metadata": {
        "id": "nB5VBCMm-3iK"
      },
      "source": [
        "### Mortalidad por sector de la salud"
      ]
    },
    {
      "cell_type": "code",
      "metadata": {
        "id": "t4rUGkcV-7lk",
        "outputId": "2108bc70-d826-4554-937d-f22d0e185f3f",
        "colab": {
          "base_uri": "https://localhost:8080/",
          "height": 462
        }
      },
      "source": [
        "table = pd.crosstab(data_filtered.SECTOR_ATENDIDO, data_filtered.FALLECIDO)\n",
        "table[\"MORTALIDAD\"] = table[1]/(table[0]+table[1])\n",
        "table = table.sort_values(by = [\"MORTALIDAD\"])\n",
        "table"
      ],
      "execution_count": 70,
      "outputs": [
        {
          "output_type": "execute_result",
          "data": {
            "text/html": [
              "<div>\n",
              "<style scoped>\n",
              "    .dataframe tbody tr th:only-of-type {\n",
              "        vertical-align: middle;\n",
              "    }\n",
              "\n",
              "    .dataframe tbody tr th {\n",
              "        vertical-align: top;\n",
              "    }\n",
              "\n",
              "    .dataframe thead th {\n",
              "        text-align: right;\n",
              "    }\n",
              "</style>\n",
              "<table border=\"1\" class=\"dataframe\">\n",
              "  <thead>\n",
              "    <tr style=\"text-align: right;\">\n",
              "      <th>FALLECIDO</th>\n",
              "      <th>0</th>\n",
              "      <th>1</th>\n",
              "      <th>MORTALIDAD</th>\n",
              "    </tr>\n",
              "    <tr>\n",
              "      <th>SECTOR_ATENDIDO</th>\n",
              "      <th></th>\n",
              "      <th></th>\n",
              "      <th></th>\n",
              "    </tr>\n",
              "  </thead>\n",
              "  <tbody>\n",
              "    <tr>\n",
              "      <th>DIF</th>\n",
              "      <td>815</td>\n",
              "      <td>1</td>\n",
              "      <td>0.001225</td>\n",
              "    </tr>\n",
              "    <tr>\n",
              "      <th>MUNICIPAL</th>\n",
              "      <td>1617</td>\n",
              "      <td>65</td>\n",
              "      <td>0.038644</td>\n",
              "    </tr>\n",
              "    <tr>\n",
              "      <th>SSA</th>\n",
              "      <td>1230078</td>\n",
              "      <td>54979</td>\n",
              "      <td>0.042783</td>\n",
              "    </tr>\n",
              "    <tr>\n",
              "      <th>CRUZ ROJA</th>\n",
              "      <td>211</td>\n",
              "      <td>13</td>\n",
              "      <td>0.058036</td>\n",
              "    </tr>\n",
              "    <tr>\n",
              "      <th>PRIVADA</th>\n",
              "      <td>54328</td>\n",
              "      <td>3581</td>\n",
              "      <td>0.061838</td>\n",
              "    </tr>\n",
              "    <tr>\n",
              "      <th>SEMAR</th>\n",
              "      <td>6679</td>\n",
              "      <td>584</td>\n",
              "      <td>0.080408</td>\n",
              "    </tr>\n",
              "    <tr>\n",
              "      <th>ESTATAL</th>\n",
              "      <td>24179</td>\n",
              "      <td>3118</td>\n",
              "      <td>0.114225</td>\n",
              "    </tr>\n",
              "    <tr>\n",
              "      <th>IMSS-BIENESTAR</th>\n",
              "      <td>10913</td>\n",
              "      <td>1604</td>\n",
              "      <td>0.128146</td>\n",
              "    </tr>\n",
              "    <tr>\n",
              "      <th>SEDENA</th>\n",
              "      <td>12616</td>\n",
              "      <td>2347</td>\n",
              "      <td>0.156854</td>\n",
              "    </tr>\n",
              "    <tr>\n",
              "      <th>IMSS</th>\n",
              "      <td>601221</td>\n",
              "      <td>114802</td>\n",
              "      <td>0.160333</td>\n",
              "    </tr>\n",
              "    <tr>\n",
              "      <th>ISSSTE</th>\n",
              "      <td>65937</td>\n",
              "      <td>14941</td>\n",
              "      <td>0.184735</td>\n",
              "    </tr>\n",
              "    <tr>\n",
              "      <th>PEMEX</th>\n",
              "      <td>12178</td>\n",
              "      <td>2767</td>\n",
              "      <td>0.185146</td>\n",
              "    </tr>\n",
              "    <tr>\n",
              "      <th>UNIVERSITARIO</th>\n",
              "      <td>1581</td>\n",
              "      <td>369</td>\n",
              "      <td>0.189231</td>\n",
              "    </tr>\n",
              "  </tbody>\n",
              "</table>\n",
              "</div>"
            ],
            "text/plain": [
              "FALLECIDO              0       1  MORTALIDAD\n",
              "SECTOR_ATENDIDO                             \n",
              "DIF                  815       1    0.001225\n",
              "MUNICIPAL           1617      65    0.038644\n",
              "SSA              1230078   54979    0.042783\n",
              "CRUZ ROJA            211      13    0.058036\n",
              "PRIVADA            54328    3581    0.061838\n",
              "SEMAR               6679     584    0.080408\n",
              "ESTATAL            24179    3118    0.114225\n",
              "IMSS-BIENESTAR     10913    1604    0.128146\n",
              "SEDENA             12616    2347    0.156854\n",
              "IMSS              601221  114802    0.160333\n",
              "ISSSTE             65937   14941    0.184735\n",
              "PEMEX              12178    2767    0.185146\n",
              "UNIVERSITARIO       1581     369    0.189231"
            ]
          },
          "metadata": {
            "tags": []
          },
          "execution_count": 70
        }
      ]
    },
    {
      "cell_type": "code",
      "metadata": {
        "id": "gTn0Fdo3_BnL",
        "outputId": "cf3db501-b1f6-4b8d-ec35-e11abaf6eb1c",
        "colab": {
          "base_uri": "https://localhost:8080/",
          "height": 624
        }
      },
      "source": [
        "plt.figure(figsize = (20,10))\n",
        "plt.bar(table.index,table[\"MORTALIDAD\"]*100)\n",
        "plt.title(\"Mortalidad de covid por sector de salud\")\n",
        "plt.ylabel(\"Porcentaje de fallecidos (%)\")"
      ],
      "execution_count": 72,
      "outputs": [
        {
          "output_type": "execute_result",
          "data": {
            "text/plain": [
              "Text(0, 0.5, 'Porcentaje de fallecidos (%)')"
            ]
          },
          "metadata": {
            "tags": []
          },
          "execution_count": 72
        },
        {
          "output_type": "display_data",
          "data": {
            "image/png": "[encoded data removed]",
            "text/plain": [
              "<Figure size 1440x720 with 1 Axes>"
            ]
          },
          "metadata": {
            "tags": [],
            "needs_background": "light"
          }
        }
      ]
    }
  ]
}