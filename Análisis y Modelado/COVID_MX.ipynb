{
  "nbformat": 4,
  "nbformat_minor": 0,
  "metadata": {
    "language_info": {
      "codemirror_mode": {
        "name": "ipython",
        "version": 3
      },
      "file_extension": ".py",
      "mimetype": "text/x-python",
      "name": "python",
      "nbconvert_exporter": "python",
      "pygments_lexer": "ipython3",
      "version": "3.9.0-final"
    },
    "orig_nbformat": 2,
    "kernelspec": {
      "name": "python390jvsc74a57bd01f65e174391277f634e70871feaa21300658cb740b5dabfc689c4c43dbc10e3e",
      "display_name": "Python 3.9.0 64-bit"
    },
    "metadata": {
      "interpreter": {
        "hash": "1f65e174391277f634e70871feaa21300658cb740b5dabfc689c4c43dbc10e3e"
      }
    },
    "colab": {
      "name": "COVID_MX.ipynb",
      "provenance": [],
      "toc_visible": true,
      "include_colab_link": true
    },
    "accelerator": "GPU"
  },
  "cells": [
    {
      "cell_type": "markdown",
      "metadata": {
        "id": "view-in-github",
        "colab_type": "text"
      },
      "source": [
        "<a href=\"https://colab.research.google.com/github/EduHdzVillasana/COVIDSTATSMX/blob/master/An%C3%A1lisis%20y%20Modelado/COVID_MX.ipynb\" target=\"_parent\"><img src=\"https://colab.research.google.com/assets/colab-badge.svg\" alt=\"Open In Colab\"/></a>"
      ]
    },
    {
      "cell_type": "markdown",
      "metadata": {
        "id": "e6BlGzWXAIOF"
      },
      "source": [
        "# Análisis estadístico y aplicación de un modelo para el dataset de COVID-19 proporcionado por la secretaría de salud.\n",
        "\n",
        "### Objetivos\n",
        "* Identidicar los factores de los pacientes que aumentan su probabilidad de fallecer o presentar enfermedad grave.\n",
        "* Identificar si la mortalidad varía dependiendo de la recidencia del paciente o en qué institución de salud se atendió.\n",
        "* Identificar si la probabilidad de padecer la enfermedad grave varía dependiendo de la recidencia del paciente o en qué institución de salud se atendió.\n",
        "* Conocer si la mortalidad cambió en el transcurso de la pandemia.\n",
        "* Conocer si la probabilidad de padecer la enfermedad grave cambió en el transcurso de la pandemia.\n",
        "* Crear un modelo que prediga la probabilidad de muerte de un paciente dada sus características. Antes y después de ser atendido por una institución de salud. \n",
        "* Crear un modelo que prediga la probabilidad de presentar enfermedad grave de un paciente dada sus características. Antes y después de ser  atendido por una institución de salud.\n"
      ]
    },
    {
      "cell_type": "code",
      "metadata": {
        "id": "TJOVfrPlALTI",
        "outputId": "ca7a1d21-c34d-44d4-e491-a76eb25f51ae",
        "colab": {
          "base_uri": "https://localhost:8080/"
        }
      },
      "source": [
        "import pandas as pd\n",
        "import numpy as np\n",
        "import matplotlib.pyplot as plt\n",
        "from datetime import datetime\n",
        "import os\n",
        "import sys\n",
        "\n",
        "# Librerias para la regresión logística\n",
        "import statsmodels.api as sm\n",
        "from sklearn import datasets\n",
        "from sklearn.feature_selection import RFE\n",
        "from sklearn.linear_model import LogisticRegression\n",
        "from tabulate import tabulate\n",
        "from sklearn import linear_model\n",
        "\n",
        "# Librerias para la validación del modelo\n",
        "from sklearn.model_selection import train_test_split\n",
        "from sklearn import metrics\n",
        "from sklearn.model_selection import cross_val_score"
      ],
      "execution_count": 1,
      "outputs": [
        {
          "output_type": "stream",
          "text": [
            "/usr/local/lib/python3.7/dist-packages/statsmodels/tools/_testing.py:19: FutureWarning: pandas.util.testing is deprecated. Use the functions in the public API at pandas.testing instead.\n",
            "  import pandas.util.testing as tm\n"
          ],
          "name": "stderr"
        }
      ]
    },
    {
      "cell_type": "code",
      "metadata": {
        "id": "3iyTKxS3GLvv",
        "outputId": "73bad700-20b5-4175-f178-ea81a06cee1d",
        "colab": {
          "base_uri": "https://localhost:8080/"
        }
      },
      "source": [
        "from google.colab import drive\n",
        "drive.mount('/content/drive')"
      ],
      "execution_count": 2,
      "outputs": [
        {
          "output_type": "stream",
          "text": [
            "Drive already mounted at /content/drive; to attempt to forcibly remount, call drive.mount(\"/content/drive\", force_remount=True).\n"
          ],
          "name": "stdout"
        }
      ]
    },
    {
      "cell_type": "code",
      "metadata": {
        "id": "yeihjMuMEtz2"
      },
      "source": [
        "# Librería hecha para manejar el dataset de covid\n",
        "sys.path.insert(1,'/content/drive/MyDrive/Python Scripts/')\n",
        "import COVID19_MX as covid"
      ],
      "execution_count": 3,
      "outputs": []
    },
    {
      "cell_type": "markdown",
      "metadata": {
        "id": "pHtKnC-LOjp2"
      },
      "source": [
        "## Carga de Dataset principal y auxiliares\n",
        "Los dataset auxiliares `sexo_df`, `sector_df` y `entidad_df` servirán para usar variables categóricas en el modelo."
      ]
    },
    {
      "cell_type": "code",
      "metadata": {
        "id": "jTY9wUIgFHFi"
      },
      "source": [
        "aux_dataset_path = \"https://raw.githubusercontent.com/EduHdzVillasana/COVIDSTATSMX/master/Diccionario%20de%20Datos\"\n",
        "main_dataset_path = \"/content/drive/MyDrive/Datos Abiertos\"\n",
        "covid_file = \"210401COVID19MEXICO.csv\"\n",
        "sexo_file = \"Sexo.csv\"\n",
        "sector_file = \"Sector.csv\"\n",
        "entidad_file = \"Entidad.csv\""
      ],
      "execution_count": 4,
      "outputs": []
    },
    {
      "cell_type": "code",
      "metadata": {
        "id": "NxfGHroePkML"
      },
      "source": [
        "covid_df = pd.read_csv(os.path.join(main_dataset_path,covid_file))\n",
        "sexo_df = pd.read_csv(os.path.join(aux_dataset_path,sexo_file))\n",
        "sector_df = pd.read_csv(os.path.join(aux_dataset_path,sector_file))\n",
        "entidad_df = pd.read_csv(os.path.join(aux_dataset_path,entidad_file))"
      ],
      "execution_count": 5,
      "outputs": []
    },
    {
      "cell_type": "markdown",
      "metadata": {
        "id": "P3YcU5pTQaWU"
      },
      "source": [
        "## Limpieza y Tratamiento de Datos"
      ]
    },
    {
      "cell_type": "code",
      "metadata": {
        "id": "rQWD6rUBQl7a",
        "colab": {
          "base_uri": "https://localhost:8080/",
          "height": 160
        },
        "outputId": "dcb3f202-0bfb-4ac3-ef2c-ce964396b042"
      },
      "source": [
        "covid_df.sample(2)"
      ],
      "execution_count": 6,
      "outputs": [
        {
          "output_type": "execute_result",
          "data": {
            "text/html": [
              "<div>\n",
              "<style scoped>\n",
              "    .dataframe tbody tr th:only-of-type {\n",
              "        vertical-align: middle;\n",
              "    }\n",
              "\n",
              "    .dataframe tbody tr th {\n",
              "        vertical-align: top;\n",
              "    }\n",
              "\n",
              "    .dataframe thead th {\n",
              "        text-align: right;\n",
              "    }\n",
              "</style>\n",
              "<table border=\"1\" class=\"dataframe\">\n",
              "  <thead>\n",
              "    <tr style=\"text-align: right;\">\n",
              "      <th></th>\n",
              "      <th>FECHA_ACTUALIZACION</th>\n",
              "      <th>ID_REGISTRO</th>\n",
              "      <th>ORIGEN</th>\n",
              "      <th>SECTOR</th>\n",
              "      <th>ENTIDAD_UM</th>\n",
              "      <th>SEXO</th>\n",
              "      <th>ENTIDAD_NAC</th>\n",
              "      <th>ENTIDAD_RES</th>\n",
              "      <th>MUNICIPIO_RES</th>\n",
              "      <th>TIPO_PACIENTE</th>\n",
              "      <th>FECHA_INGRESO</th>\n",
              "      <th>FECHA_SINTOMAS</th>\n",
              "      <th>FECHA_DEF</th>\n",
              "      <th>INTUBADO</th>\n",
              "      <th>NEUMONIA</th>\n",
              "      <th>EDAD</th>\n",
              "      <th>NACIONALIDAD</th>\n",
              "      <th>EMBARAZO</th>\n",
              "      <th>HABLA_LENGUA_INDIG</th>\n",
              "      <th>INDIGENA</th>\n",
              "      <th>DIABETES</th>\n",
              "      <th>EPOC</th>\n",
              "      <th>ASMA</th>\n",
              "      <th>INMUSUPR</th>\n",
              "      <th>HIPERTENSION</th>\n",
              "      <th>OTRA_COM</th>\n",
              "      <th>CARDIOVASCULAR</th>\n",
              "      <th>OBESIDAD</th>\n",
              "      <th>RENAL_CRONICA</th>\n",
              "      <th>TABAQUISMO</th>\n",
              "      <th>OTRO_CASO</th>\n",
              "      <th>TOMA_MUESTRA_LAB</th>\n",
              "      <th>RESULTADO_LAB</th>\n",
              "      <th>TOMA_MUESTRA_ANTIGENO</th>\n",
              "      <th>RESULTADO_ANTIGENO</th>\n",
              "      <th>CLASIFICACION_FINAL</th>\n",
              "      <th>MIGRANTE</th>\n",
              "      <th>PAIS_NACIONALIDAD</th>\n",
              "      <th>PAIS_ORIGEN</th>\n",
              "      <th>UCI</th>\n",
              "    </tr>\n",
              "  </thead>\n",
              "  <tbody>\n",
              "    <tr>\n",
              "      <th>4144567</th>\n",
              "      <td>2021-04-01</td>\n",
              "      <td>1ff92c</td>\n",
              "      <td>2</td>\n",
              "      <td>12</td>\n",
              "      <td>9</td>\n",
              "      <td>1</td>\n",
              "      <td>9</td>\n",
              "      <td>9</td>\n",
              "      <td>7</td>\n",
              "      <td>1</td>\n",
              "      <td>2020-12-22</td>\n",
              "      <td>2020-12-22</td>\n",
              "      <td>9999-99-99</td>\n",
              "      <td>97</td>\n",
              "      <td>2</td>\n",
              "      <td>51</td>\n",
              "      <td>1</td>\n",
              "      <td>2</td>\n",
              "      <td>2</td>\n",
              "      <td>2</td>\n",
              "      <td>2</td>\n",
              "      <td>2</td>\n",
              "      <td>2</td>\n",
              "      <td>2</td>\n",
              "      <td>2</td>\n",
              "      <td>2</td>\n",
              "      <td>2</td>\n",
              "      <td>2</td>\n",
              "      <td>2</td>\n",
              "      <td>2</td>\n",
              "      <td>1</td>\n",
              "      <td>2</td>\n",
              "      <td>97</td>\n",
              "      <td>1</td>\n",
              "      <td>2</td>\n",
              "      <td>7</td>\n",
              "      <td>99</td>\n",
              "      <td>México</td>\n",
              "      <td>97</td>\n",
              "      <td>97</td>\n",
              "    </tr>\n",
              "    <tr>\n",
              "      <th>1046258</th>\n",
              "      <td>2021-04-01</td>\n",
              "      <td>03f518</td>\n",
              "      <td>1</td>\n",
              "      <td>12</td>\n",
              "      <td>13</td>\n",
              "      <td>1</td>\n",
              "      <td>13</td>\n",
              "      <td>13</td>\n",
              "      <td>48</td>\n",
              "      <td>1</td>\n",
              "      <td>2020-07-23</td>\n",
              "      <td>2020-07-21</td>\n",
              "      <td>9999-99-99</td>\n",
              "      <td>97</td>\n",
              "      <td>2</td>\n",
              "      <td>27</td>\n",
              "      <td>1</td>\n",
              "      <td>2</td>\n",
              "      <td>2</td>\n",
              "      <td>2</td>\n",
              "      <td>2</td>\n",
              "      <td>2</td>\n",
              "      <td>2</td>\n",
              "      <td>2</td>\n",
              "      <td>2</td>\n",
              "      <td>2</td>\n",
              "      <td>2</td>\n",
              "      <td>2</td>\n",
              "      <td>2</td>\n",
              "      <td>2</td>\n",
              "      <td>1</td>\n",
              "      <td>1</td>\n",
              "      <td>1</td>\n",
              "      <td>2</td>\n",
              "      <td>97</td>\n",
              "      <td>3</td>\n",
              "      <td>99</td>\n",
              "      <td>México</td>\n",
              "      <td>97</td>\n",
              "      <td>97</td>\n",
              "    </tr>\n",
              "  </tbody>\n",
              "</table>\n",
              "</div>"
            ],
            "text/plain": [
              "        FECHA_ACTUALIZACION ID_REGISTRO  ...  PAIS_ORIGEN  UCI\n",
              "4144567          2021-04-01      1ff92c  ...           97   97\n",
              "1046258          2021-04-01      03f518  ...           97   97\n",
              "\n",
              "[2 rows x 40 columns]"
            ]
          },
          "metadata": {
            "tags": []
          },
          "execution_count": 6
        }
      ]
    },
    {
      "cell_type": "code",
      "metadata": {
        "id": "oxV0QnwyRH1a",
        "colab": {
          "base_uri": "https://localhost:8080/"
        },
        "outputId": "e808adab-4681-41ad-8d6f-9f8400580612"
      },
      "source": [
        "covid_df.dtypes"
      ],
      "execution_count": 7,
      "outputs": [
        {
          "output_type": "execute_result",
          "data": {
            "text/plain": [
              "FECHA_ACTUALIZACION      object\n",
              "ID_REGISTRO              object\n",
              "ORIGEN                    int64\n",
              "SECTOR                    int64\n",
              "ENTIDAD_UM                int64\n",
              "SEXO                      int64\n",
              "ENTIDAD_NAC               int64\n",
              "ENTIDAD_RES               int64\n",
              "MUNICIPIO_RES             int64\n",
              "TIPO_PACIENTE             int64\n",
              "FECHA_INGRESO            object\n",
              "FECHA_SINTOMAS           object\n",
              "FECHA_DEF                object\n",
              "INTUBADO                  int64\n",
              "NEUMONIA                  int64\n",
              "EDAD                      int64\n",
              "NACIONALIDAD              int64\n",
              "EMBARAZO                  int64\n",
              "HABLA_LENGUA_INDIG        int64\n",
              "INDIGENA                  int64\n",
              "DIABETES                  int64\n",
              "EPOC                      int64\n",
              "ASMA                      int64\n",
              "INMUSUPR                  int64\n",
              "HIPERTENSION              int64\n",
              "OTRA_COM                  int64\n",
              "CARDIOVASCULAR            int64\n",
              "OBESIDAD                  int64\n",
              "RENAL_CRONICA             int64\n",
              "TABAQUISMO                int64\n",
              "OTRO_CASO                 int64\n",
              "TOMA_MUESTRA_LAB          int64\n",
              "RESULTADO_LAB             int64\n",
              "TOMA_MUESTRA_ANTIGENO     int64\n",
              "RESULTADO_ANTIGENO        int64\n",
              "CLASIFICACION_FINAL       int64\n",
              "MIGRANTE                  int64\n",
              "PAIS_NACIONALIDAD        object\n",
              "PAIS_ORIGEN              object\n",
              "UCI                       int64\n",
              "dtype: object"
            ]
          },
          "metadata": {
            "tags": []
          },
          "execution_count": 7
        }
      ]
    },
    {
      "cell_type": "code",
      "metadata": {
        "id": "WkIIIRc5ROF_",
        "colab": {
          "base_uri": "https://localhost:8080/"
        },
        "outputId": "d3a4c607-5658-4bea-9f96-9720033501dd"
      },
      "source": [
        "covid_df.shape"
      ],
      "execution_count": 8,
      "outputs": [
        {
          "output_type": "execute_result",
          "data": {
            "text/plain": [
              "(6110815, 40)"
            ]
          },
          "metadata": {
            "tags": []
          },
          "execution_count": 8
        }
      ]
    },
    {
      "cell_type": "markdown",
      "metadata": {
        "id": "gGT3AY5qW5xU"
      },
      "source": [
        "### Se agrega columna Resultado\n",
        "**Se agrega la columna de `RESULTADO` para facilitar el análisis** \n",
        "* Positivo: 1\n",
        "* Negativo: 2\n",
        "* Sospechoso: 3"
      ]
    },
    {
      "cell_type": "code",
      "metadata": {
        "id": "c_cPnVr6XezS"
      },
      "source": [
        "covid_df[\"RESULTADO\"] = covid_df[\"CLASIFICACION_FINAL\"].apply(covid.getResult)"
      ],
      "execution_count": 9,
      "outputs": []
    },
    {
      "cell_type": "code",
      "metadata": {
        "id": "9mHsfIp_Xp0W",
        "colab": {
          "base_uri": "https://localhost:8080/",
          "height": 343
        },
        "outputId": "6c82e514-02b3-4ac3-a023-499261429960"
      },
      "source": [
        "covid_df[[\"CLASIFICACION_FINAL\",\"RESULTADO\"]].sample(10)"
      ],
      "execution_count": 10,
      "outputs": [
        {
          "output_type": "execute_result",
          "data": {
            "text/html": [
              "<div>\n",
              "<style scoped>\n",
              "    .dataframe tbody tr th:only-of-type {\n",
              "        vertical-align: middle;\n",
              "    }\n",
              "\n",
              "    .dataframe tbody tr th {\n",
              "        vertical-align: top;\n",
              "    }\n",
              "\n",
              "    .dataframe thead th {\n",
              "        text-align: right;\n",
              "    }\n",
              "</style>\n",
              "<table border=\"1\" class=\"dataframe\">\n",
              "  <thead>\n",
              "    <tr style=\"text-align: right;\">\n",
              "      <th></th>\n",
              "      <th>CLASIFICACION_FINAL</th>\n",
              "      <th>RESULTADO</th>\n",
              "    </tr>\n",
              "  </thead>\n",
              "  <tbody>\n",
              "    <tr>\n",
              "      <th>4245979</th>\n",
              "      <td>3</td>\n",
              "      <td>1</td>\n",
              "    </tr>\n",
              "    <tr>\n",
              "      <th>1323950</th>\n",
              "      <td>3</td>\n",
              "      <td>1</td>\n",
              "    </tr>\n",
              "    <tr>\n",
              "      <th>4336920</th>\n",
              "      <td>7</td>\n",
              "      <td>2</td>\n",
              "    </tr>\n",
              "    <tr>\n",
              "      <th>2611766</th>\n",
              "      <td>3</td>\n",
              "      <td>1</td>\n",
              "    </tr>\n",
              "    <tr>\n",
              "      <th>3621199</th>\n",
              "      <td>1</td>\n",
              "      <td>1</td>\n",
              "    </tr>\n",
              "    <tr>\n",
              "      <th>4050310</th>\n",
              "      <td>3</td>\n",
              "      <td>1</td>\n",
              "    </tr>\n",
              "    <tr>\n",
              "      <th>2330574</th>\n",
              "      <td>3</td>\n",
              "      <td>1</td>\n",
              "    </tr>\n",
              "    <tr>\n",
              "      <th>5031507</th>\n",
              "      <td>6</td>\n",
              "      <td>3</td>\n",
              "    </tr>\n",
              "    <tr>\n",
              "      <th>4763672</th>\n",
              "      <td>3</td>\n",
              "      <td>1</td>\n",
              "    </tr>\n",
              "    <tr>\n",
              "      <th>627084</th>\n",
              "      <td>3</td>\n",
              "      <td>1</td>\n",
              "    </tr>\n",
              "  </tbody>\n",
              "</table>\n",
              "</div>"
            ],
            "text/plain": [
              "         CLASIFICACION_FINAL  RESULTADO\n",
              "4245979                    3          1\n",
              "1323950                    3          1\n",
              "4336920                    7          2\n",
              "2611766                    3          1\n",
              "3621199                    1          1\n",
              "4050310                    3          1\n",
              "2330574                    3          1\n",
              "5031507                    6          3\n",
              "4763672                    3          1\n",
              "627084                     3          1"
            ]
          },
          "metadata": {
            "tags": []
          },
          "execution_count": 10
        }
      ]
    },
    {
      "cell_type": "code",
      "metadata": {
        "id": "ClQ6VKc-Wggs",
        "colab": {
          "base_uri": "https://localhost:8080/"
        },
        "outputId": "cfe4113f-1afb-4a57-81de-48c8fd26ecfa"
      },
      "source": [
        "date = \"2021-04-01\"\n",
        "comulative_cases = covid.getComulativeCases(covid_df)\n",
        "covid.printCumulativeCases(comulative_cases, date)"
      ],
      "execution_count": 11,
      "outputs": [
        {
          "output_type": "stream",
          "text": [
            "Fecha de actualización: 2021-04-01\n",
            "\n",
            "  Total de casos estudiados: 6110815\n",
            "\n",
            "  Casos Positivos a SARS-CoV-2: 2244268\n",
            "\n",
            "  Casos No Positivos a SARS-CoV-2: 3426205\n",
            "\n",
            "  Casos Con Resultado Pendiente: 440342\n",
            "\n",
            "  Defunciones Positivas a SARS-CoV-2: 203664\n",
            "\n",
            "  Tasa de Letalidad: 9.075%\n",
            "\n",
            "  Tasa de Positividad : 39.578%\n",
            "\n"
          ],
          "name": "stdout"
        }
      ]
    },
    {
      "cell_type": "markdown",
      "metadata": {
        "id": "EfWwq-HqSCaO"
      },
      "source": [
        "### Filtrado de casos con datos incompletos\n",
        "\n",
        "En el diccionario de datos se identifico que hay valores *no aplica* o *no especificado*, para realizar el análisis hay que eliminar esos valores, ya sea eliminando el caso que los contenga o cambiandolo. El problema es que esos valores están en varias columnas, por lo tanto se tendrá que usar un `for loop`."
      ]
    },
    {
      "cell_type": "code",
      "metadata": {
        "id": "FNkh-wbTSiaS"
      },
      "source": [
        "# Se filtra el dataset para eliminar casos con información No especificada y se toman solamente los casos positivos.\n",
        "data_filtered = covid_df[(covid_df[\"SEXO\"] != 99)\n",
        "& (covid_df[\"SECTOR\"] != 99)\n",
        "& (covid_df[\"ENTIDAD_UM\"] < 97)\n",
        "& (covid_df[\"RESULTADO\"] == 1)]"
      ],
      "execution_count": 12,
      "outputs": []
    },
    {
      "cell_type": "code",
      "metadata": {
        "id": "wP-7_tWsT230",
        "colab": {
          "base_uri": "https://localhost:8080/"
        },
        "outputId": "126188c5-a76e-485f-bad4-bc700c14c54e"
      },
      "source": [
        "# Se filtran los datos No especificados de las categorias SI-NO (leer el diccionario de datos)\n",
        "data_filtered[\"EMBARAZO\"] = np.where(data_filtered[\"SEXO\"] == 2, 2, data_filtered[\"EMBARAZO\"])\n",
        "\n",
        "categorias_si_no = ['INTUBADO','UCI','NEUMONIA','DIABETES', 'EPOC', 'ASMA', 'INMUSUPR', 'HIPERTENSION', 'OTRA_COM',\n",
        "                    'CARDIOVASCULAR', 'OBESIDAD', 'RENAL_CRONICA', 'TABAQUISMO','EMBARAZO']\n",
        "\n",
        "for cat in categorias_si_no:\n",
        "  data_filtered = data_filtered[data_filtered[cat] <= 97]\n",
        "  data_filtered[cat] = data_filtered[cat].apply(lambda x: 1 if x == 1 else 0)"
      ],
      "execution_count": 13,
      "outputs": [
        {
          "output_type": "stream",
          "text": [
            "/usr/local/lib/python3.7/dist-packages/ipykernel_launcher.py:2: SettingWithCopyWarning: \n",
            "A value is trying to be set on a copy of a slice from a DataFrame.\n",
            "Try using .loc[row_indexer,col_indexer] = value instead\n",
            "\n",
            "See the caveats in the documentation: https://pandas.pydata.org/pandas-docs/stable/user_guide/indexing.html#returning-a-view-versus-a-copy\n",
            "  \n"
          ],
          "name": "stderr"
        }
      ]
    },
    {
      "cell_type": "code",
      "metadata": {
        "id": "eaQfFW_Qdqdl"
      },
      "source": [
        "# Se eliminan los datos no especificados de la columna TIPO_PACIENTE\n",
        "data_filtered = data_filtered[data_filtered[\"TIPO_PACIENTE\"] != 99]"
      ],
      "execution_count": 14,
      "outputs": []
    },
    {
      "cell_type": "code",
      "metadata": {
        "id": "42IVHrzgVxqm",
        "colab": {
          "base_uri": "https://localhost:8080/"
        },
        "outputId": "dd13f5da-7c28-4065-adab-cf55e42fedc0"
      },
      "source": [
        "data_filtered.shape"
      ],
      "execution_count": 15,
      "outputs": [
        {
          "output_type": "execute_result",
          "data": {
            "text/plain": [
              "(2221525, 41)"
            ]
          },
          "metadata": {
            "tags": []
          },
          "execution_count": 15
        }
      ]
    },
    {
      "cell_type": "markdown",
      "metadata": {
        "id": "MJufqvTtWaql"
      },
      "source": [
        "Oficialmente hay 2,244,268 casos positivos a SARS-COV-2, pero después del filtrado obtuvimos 2,221,525, hay una diferencia de 22,743 casos, esto se debe a que se eliminaron casos con información incompleta. Por la cantidad de datos esta diferencia es estadísticamente insignificante y no supondrá un problema en el análisis o en la creación del modelo."
      ]
    },
    {
      "cell_type": "code",
      "metadata": {
        "id": "HE8LHAv5ZUFV",
        "colab": {
          "base_uri": "https://localhost:8080/",
          "height": 299
        },
        "outputId": "6c0ee29e-ae38-417b-9ec1-9aecba9ccecd"
      },
      "source": [
        "data_filtered.sample(5)"
      ],
      "execution_count": 16,
      "outputs": [
        {
          "output_type": "execute_result",
          "data": {
            "text/html": [
              "<div>\n",
              "<style scoped>\n",
              "    .dataframe tbody tr th:only-of-type {\n",
              "        vertical-align: middle;\n",
              "    }\n",
              "\n",
              "    .dataframe tbody tr th {\n",
              "        vertical-align: top;\n",
              "    }\n",
              "\n",
              "    .dataframe thead th {\n",
              "        text-align: right;\n",
              "    }\n",
              "</style>\n",
              "<table border=\"1\" class=\"dataframe\">\n",
              "  <thead>\n",
              "    <tr style=\"text-align: right;\">\n",
              "      <th></th>\n",
              "      <th>FECHA_ACTUALIZACION</th>\n",
              "      <th>ID_REGISTRO</th>\n",
              "      <th>ORIGEN</th>\n",
              "      <th>SECTOR</th>\n",
              "      <th>ENTIDAD_UM</th>\n",
              "      <th>SEXO</th>\n",
              "      <th>ENTIDAD_NAC</th>\n",
              "      <th>ENTIDAD_RES</th>\n",
              "      <th>MUNICIPIO_RES</th>\n",
              "      <th>TIPO_PACIENTE</th>\n",
              "      <th>FECHA_INGRESO</th>\n",
              "      <th>FECHA_SINTOMAS</th>\n",
              "      <th>FECHA_DEF</th>\n",
              "      <th>INTUBADO</th>\n",
              "      <th>NEUMONIA</th>\n",
              "      <th>EDAD</th>\n",
              "      <th>NACIONALIDAD</th>\n",
              "      <th>EMBARAZO</th>\n",
              "      <th>HABLA_LENGUA_INDIG</th>\n",
              "      <th>INDIGENA</th>\n",
              "      <th>DIABETES</th>\n",
              "      <th>EPOC</th>\n",
              "      <th>ASMA</th>\n",
              "      <th>INMUSUPR</th>\n",
              "      <th>HIPERTENSION</th>\n",
              "      <th>OTRA_COM</th>\n",
              "      <th>CARDIOVASCULAR</th>\n",
              "      <th>OBESIDAD</th>\n",
              "      <th>RENAL_CRONICA</th>\n",
              "      <th>TABAQUISMO</th>\n",
              "      <th>OTRO_CASO</th>\n",
              "      <th>TOMA_MUESTRA_LAB</th>\n",
              "      <th>RESULTADO_LAB</th>\n",
              "      <th>TOMA_MUESTRA_ANTIGENO</th>\n",
              "      <th>RESULTADO_ANTIGENO</th>\n",
              "      <th>CLASIFICACION_FINAL</th>\n",
              "      <th>MIGRANTE</th>\n",
              "      <th>PAIS_NACIONALIDAD</th>\n",
              "      <th>PAIS_ORIGEN</th>\n",
              "      <th>UCI</th>\n",
              "      <th>RESULTADO</th>\n",
              "    </tr>\n",
              "  </thead>\n",
              "  <tbody>\n",
              "    <tr>\n",
              "      <th>913267</th>\n",
              "      <td>2021-04-01</td>\n",
              "      <td>0cca23</td>\n",
              "      <td>2</td>\n",
              "      <td>12</td>\n",
              "      <td>27</td>\n",
              "      <td>2</td>\n",
              "      <td>27</td>\n",
              "      <td>27</td>\n",
              "      <td>4</td>\n",
              "      <td>1</td>\n",
              "      <td>2020-07-15</td>\n",
              "      <td>2020-07-08</td>\n",
              "      <td>9999-99-99</td>\n",
              "      <td>0</td>\n",
              "      <td>0</td>\n",
              "      <td>51</td>\n",
              "      <td>1</td>\n",
              "      <td>0</td>\n",
              "      <td>2</td>\n",
              "      <td>2</td>\n",
              "      <td>0</td>\n",
              "      <td>0</td>\n",
              "      <td>0</td>\n",
              "      <td>0</td>\n",
              "      <td>1</td>\n",
              "      <td>0</td>\n",
              "      <td>0</td>\n",
              "      <td>0</td>\n",
              "      <td>0</td>\n",
              "      <td>0</td>\n",
              "      <td>1</td>\n",
              "      <td>1</td>\n",
              "      <td>1</td>\n",
              "      <td>2</td>\n",
              "      <td>97</td>\n",
              "      <td>3</td>\n",
              "      <td>99</td>\n",
              "      <td>México</td>\n",
              "      <td>97</td>\n",
              "      <td>0</td>\n",
              "      <td>1</td>\n",
              "    </tr>\n",
              "    <tr>\n",
              "      <th>1160350</th>\n",
              "      <td>2021-04-01</td>\n",
              "      <td>0a6185</td>\n",
              "      <td>1</td>\n",
              "      <td>12</td>\n",
              "      <td>20</td>\n",
              "      <td>2</td>\n",
              "      <td>20</td>\n",
              "      <td>20</td>\n",
              "      <td>324</td>\n",
              "      <td>2</td>\n",
              "      <td>2020-07-30</td>\n",
              "      <td>2020-07-22</td>\n",
              "      <td>2020-07-30</td>\n",
              "      <td>0</td>\n",
              "      <td>1</td>\n",
              "      <td>69</td>\n",
              "      <td>1</td>\n",
              "      <td>0</td>\n",
              "      <td>2</td>\n",
              "      <td>2</td>\n",
              "      <td>0</td>\n",
              "      <td>0</td>\n",
              "      <td>0</td>\n",
              "      <td>0</td>\n",
              "      <td>0</td>\n",
              "      <td>0</td>\n",
              "      <td>0</td>\n",
              "      <td>0</td>\n",
              "      <td>0</td>\n",
              "      <td>0</td>\n",
              "      <td>2</td>\n",
              "      <td>2</td>\n",
              "      <td>97</td>\n",
              "      <td>2</td>\n",
              "      <td>97</td>\n",
              "      <td>1</td>\n",
              "      <td>99</td>\n",
              "      <td>México</td>\n",
              "      <td>97</td>\n",
              "      <td>0</td>\n",
              "      <td>1</td>\n",
              "    </tr>\n",
              "    <tr>\n",
              "      <th>1557393</th>\n",
              "      <td>2021-04-01</td>\n",
              "      <td>12e2b0</td>\n",
              "      <td>1</td>\n",
              "      <td>4</td>\n",
              "      <td>10</td>\n",
              "      <td>1</td>\n",
              "      <td>10</td>\n",
              "      <td>10</td>\n",
              "      <td>7</td>\n",
              "      <td>2</td>\n",
              "      <td>2020-08-30</td>\n",
              "      <td>2020-08-30</td>\n",
              "      <td>9999-99-99</td>\n",
              "      <td>0</td>\n",
              "      <td>0</td>\n",
              "      <td>34</td>\n",
              "      <td>1</td>\n",
              "      <td>0</td>\n",
              "      <td>2</td>\n",
              "      <td>2</td>\n",
              "      <td>0</td>\n",
              "      <td>0</td>\n",
              "      <td>0</td>\n",
              "      <td>0</td>\n",
              "      <td>0</td>\n",
              "      <td>0</td>\n",
              "      <td>0</td>\n",
              "      <td>0</td>\n",
              "      <td>0</td>\n",
              "      <td>0</td>\n",
              "      <td>2</td>\n",
              "      <td>1</td>\n",
              "      <td>1</td>\n",
              "      <td>2</td>\n",
              "      <td>97</td>\n",
              "      <td>3</td>\n",
              "      <td>99</td>\n",
              "      <td>México</td>\n",
              "      <td>97</td>\n",
              "      <td>0</td>\n",
              "      <td>1</td>\n",
              "    </tr>\n",
              "    <tr>\n",
              "      <th>2701752</th>\n",
              "      <td>2021-04-01</td>\n",
              "      <td>455167</td>\n",
              "      <td>2</td>\n",
              "      <td>4</td>\n",
              "      <td>9</td>\n",
              "      <td>1</td>\n",
              "      <td>9</td>\n",
              "      <td>9</td>\n",
              "      <td>5</td>\n",
              "      <td>1</td>\n",
              "      <td>2020-11-11</td>\n",
              "      <td>2020-11-10</td>\n",
              "      <td>9999-99-99</td>\n",
              "      <td>0</td>\n",
              "      <td>0</td>\n",
              "      <td>29</td>\n",
              "      <td>1</td>\n",
              "      <td>0</td>\n",
              "      <td>2</td>\n",
              "      <td>2</td>\n",
              "      <td>0</td>\n",
              "      <td>0</td>\n",
              "      <td>0</td>\n",
              "      <td>0</td>\n",
              "      <td>0</td>\n",
              "      <td>0</td>\n",
              "      <td>0</td>\n",
              "      <td>0</td>\n",
              "      <td>0</td>\n",
              "      <td>0</td>\n",
              "      <td>1</td>\n",
              "      <td>1</td>\n",
              "      <td>1</td>\n",
              "      <td>2</td>\n",
              "      <td>97</td>\n",
              "      <td>3</td>\n",
              "      <td>99</td>\n",
              "      <td>México</td>\n",
              "      <td>97</td>\n",
              "      <td>0</td>\n",
              "      <td>1</td>\n",
              "    </tr>\n",
              "    <tr>\n",
              "      <th>4495576</th>\n",
              "      <td>2021-04-01</td>\n",
              "      <td>6f07f0</td>\n",
              "      <td>2</td>\n",
              "      <td>12</td>\n",
              "      <td>11</td>\n",
              "      <td>2</td>\n",
              "      <td>11</td>\n",
              "      <td>11</td>\n",
              "      <td>20</td>\n",
              "      <td>2</td>\n",
              "      <td>2021-01-25</td>\n",
              "      <td>2021-01-14</td>\n",
              "      <td>9999-99-99</td>\n",
              "      <td>0</td>\n",
              "      <td>1</td>\n",
              "      <td>58</td>\n",
              "      <td>1</td>\n",
              "      <td>0</td>\n",
              "      <td>2</td>\n",
              "      <td>2</td>\n",
              "      <td>0</td>\n",
              "      <td>0</td>\n",
              "      <td>0</td>\n",
              "      <td>0</td>\n",
              "      <td>0</td>\n",
              "      <td>0</td>\n",
              "      <td>0</td>\n",
              "      <td>0</td>\n",
              "      <td>0</td>\n",
              "      <td>0</td>\n",
              "      <td>1</td>\n",
              "      <td>1</td>\n",
              "      <td>1</td>\n",
              "      <td>2</td>\n",
              "      <td>97</td>\n",
              "      <td>3</td>\n",
              "      <td>99</td>\n",
              "      <td>México</td>\n",
              "      <td>97</td>\n",
              "      <td>0</td>\n",
              "      <td>1</td>\n",
              "    </tr>\n",
              "  </tbody>\n",
              "</table>\n",
              "</div>"
            ],
            "text/plain": [
              "        FECHA_ACTUALIZACION ID_REGISTRO  ORIGEN  ...  PAIS_ORIGEN  UCI  RESULTADO\n",
              "913267           2021-04-01      0cca23       2  ...           97    0          1\n",
              "1160350          2021-04-01      0a6185       1  ...           97    0          1\n",
              "1557393          2021-04-01      12e2b0       1  ...           97    0          1\n",
              "2701752          2021-04-01      455167       2  ...           97    0          1\n",
              "4495576          2021-04-01      6f07f0       2  ...           97    0          1\n",
              "\n",
              "[5 rows x 41 columns]"
            ]
          },
          "metadata": {
            "tags": []
          },
          "execution_count": 16
        }
      ]
    },
    {
      "cell_type": "markdown",
      "metadata": {
        "id": "Kl29mR8xZccM"
      },
      "source": [
        "### Cambio de tipo de dato de fechas\n",
        "**Las columnas de `FECHA_SINTOMAS` y `FECHA_INGRESO` correspondientes a la fecha de inicio de sintomas y a la fecha de ingreso a la unidad de atención estan en string, se les cambiará a tipo de dato `datetima` para el manejo de fechas**"
      ]
    },
    {
      "cell_type": "code",
      "metadata": {
        "id": "QuDL5oyLcT7y"
      },
      "source": [
        "data_filtered[\"FECHA_INGRESO\"] = pd.to_datetime(data_filtered[\"FECHA_INGRESO\"], format = \"%Y-%m-%d\")"
      ],
      "execution_count": 17,
      "outputs": []
    },
    {
      "cell_type": "code",
      "metadata": {
        "id": "fZxugA2heWD5"
      },
      "source": [
        "data_filtered[\"FECHA_SINTOMAS\"] = pd.to_datetime(data_filtered[\"FECHA_SINTOMAS\"], format = \"%Y-%m-%d\")"
      ],
      "execution_count": 18,
      "outputs": []
    },
    {
      "cell_type": "code",
      "metadata": {
        "id": "gAEqdpNSeJNM",
        "colab": {
          "base_uri": "https://localhost:8080/"
        },
        "outputId": "dae1609d-1e37-4647-9436-f6421bd71965"
      },
      "source": [
        "data_filtered[[\"FECHA_INGRESO\",\"FECHA_SINTOMAS\"]].dtypes"
      ],
      "execution_count": 19,
      "outputs": [
        {
          "output_type": "execute_result",
          "data": {
            "text/plain": [
              "FECHA_INGRESO     datetime64[ns]\n",
              "FECHA_SINTOMAS    datetime64[ns]\n",
              "dtype: object"
            ]
          },
          "metadata": {
            "tags": []
          },
          "execution_count": 19
        }
      ]
    },
    {
      "cell_type": "code",
      "metadata": {
        "id": "RYW_zeJSdQZx",
        "colab": {
          "base_uri": "https://localhost:8080/",
          "height": 195
        },
        "outputId": "ba44c715-a658-4b6e-b5c7-565d0f759780"
      },
      "source": [
        "data_filtered[[\"FECHA_INGRESO\",\"FECHA_SINTOMAS\"]].sample(5)"
      ],
      "execution_count": 20,
      "outputs": [
        {
          "output_type": "execute_result",
          "data": {
            "text/html": [
              "<div>\n",
              "<style scoped>\n",
              "    .dataframe tbody tr th:only-of-type {\n",
              "        vertical-align: middle;\n",
              "    }\n",
              "\n",
              "    .dataframe tbody tr th {\n",
              "        vertical-align: top;\n",
              "    }\n",
              "\n",
              "    .dataframe thead th {\n",
              "        text-align: right;\n",
              "    }\n",
              "</style>\n",
              "<table border=\"1\" class=\"dataframe\">\n",
              "  <thead>\n",
              "    <tr style=\"text-align: right;\">\n",
              "      <th></th>\n",
              "      <th>FECHA_INGRESO</th>\n",
              "      <th>FECHA_SINTOMAS</th>\n",
              "    </tr>\n",
              "  </thead>\n",
              "  <tbody>\n",
              "    <tr>\n",
              "      <th>3235770</th>\n",
              "      <td>2020-12-15</td>\n",
              "      <td>2020-12-14</td>\n",
              "    </tr>\n",
              "    <tr>\n",
              "      <th>2322521</th>\n",
              "      <td>2020-10-26</td>\n",
              "      <td>2020-10-20</td>\n",
              "    </tr>\n",
              "    <tr>\n",
              "      <th>3989192</th>\n",
              "      <td>2021-01-13</td>\n",
              "      <td>2021-01-12</td>\n",
              "    </tr>\n",
              "    <tr>\n",
              "      <th>3554229</th>\n",
              "      <td>2020-12-28</td>\n",
              "      <td>2020-12-26</td>\n",
              "    </tr>\n",
              "    <tr>\n",
              "      <th>4131646</th>\n",
              "      <td>2021-01-06</td>\n",
              "      <td>2020-12-29</td>\n",
              "    </tr>\n",
              "  </tbody>\n",
              "</table>\n",
              "</div>"
            ],
            "text/plain": [
              "        FECHA_INGRESO FECHA_SINTOMAS\n",
              "3235770    2020-12-15     2020-12-14\n",
              "2322521    2020-10-26     2020-10-20\n",
              "3989192    2021-01-13     2021-01-12\n",
              "3554229    2020-12-28     2020-12-26\n",
              "4131646    2021-01-06     2020-12-29"
            ]
          },
          "metadata": {
            "tags": []
          },
          "execution_count": 20
        }
      ]
    },
    {
      "cell_type": "markdown",
      "metadata": {
        "id": "PQUOglXDfxm2"
      },
      "source": [
        "### Agregado de columna `TIEMPO_ESPERA`\n",
        "Se agrega la columna `TIEMPO_ESPERA` que indica el tiempo en días que paso desde el inicio de los sintomas `FECHA_SINTOMAS` y el ingreso a la unidad de salud `FECHA_INGRESO`."
      ]
    },
    {
      "cell_type": "code",
      "metadata": {
        "id": "D29MFi17gaN8"
      },
      "source": [
        "data_filtered[\"TIEMPO_ESPERA\"] = data_filtered[\"FECHA_INGRESO\"] - data_filtered[\"FECHA_SINTOMAS\"]\n",
        "data_filtered[\"TIEMPO_ESPERA\"] = data_filtered[\"TIEMPO_ESPERA\"].apply(lambda x: x.days)"
      ],
      "execution_count": 21,
      "outputs": []
    },
    {
      "cell_type": "code",
      "metadata": {
        "id": "cXsklztRhjvK",
        "colab": {
          "base_uri": "https://localhost:8080/"
        },
        "outputId": "9ee143d8-185b-4a8b-a6e1-e420291ddd21"
      },
      "source": [
        "data_filtered[\"TIEMPO_ESPERA\"].dtypes"
      ],
      "execution_count": 22,
      "outputs": [
        {
          "output_type": "execute_result",
          "data": {
            "text/plain": [
              "dtype('int64')"
            ]
          },
          "metadata": {
            "tags": []
          },
          "execution_count": 22
        }
      ]
    },
    {
      "cell_type": "markdown",
      "metadata": {
        "id": "n3sREbDsY5xn"
      },
      "source": [
        "### Agregado de columna `FALLECIDO`\n",
        "Esta columna será catagórica, indica si el paciente falleció por covid, los valores posibles son los siguientes:\n",
        "* Si: *1*\n",
        "* No: *0*"
      ]
    },
    {
      "cell_type": "code",
      "metadata": {
        "id": "ULbOS2LPZTLK"
      },
      "source": [
        "data_filtered[\"FALLECIDO\"] = data_filtered[\"FECHA_DEF\"].apply(lambda x: 1 if x != \"9999-99-99\" else 0)"
      ],
      "execution_count": 23,
      "outputs": []
    },
    {
      "cell_type": "code",
      "metadata": {
        "id": "xR_g1mDZZl90",
        "outputId": "5573db64-a23c-4e4c-e364-4fb71b01a7e4",
        "colab": {
          "base_uri": "https://localhost:8080/",
          "height": 343
        }
      },
      "source": [
        "data_filtered[[\"FECHA_DEF\",\"FALLECIDO\"]].sample(10)"
      ],
      "execution_count": 24,
      "outputs": [
        {
          "output_type": "execute_result",
          "data": {
            "text/html": [
              "<div>\n",
              "<style scoped>\n",
              "    .dataframe tbody tr th:only-of-type {\n",
              "        vertical-align: middle;\n",
              "    }\n",
              "\n",
              "    .dataframe tbody tr th {\n",
              "        vertical-align: top;\n",
              "    }\n",
              "\n",
              "    .dataframe thead th {\n",
              "        text-align: right;\n",
              "    }\n",
              "</style>\n",
              "<table border=\"1\" class=\"dataframe\">\n",
              "  <thead>\n",
              "    <tr style=\"text-align: right;\">\n",
              "      <th></th>\n",
              "      <th>FECHA_DEF</th>\n",
              "      <th>FALLECIDO</th>\n",
              "    </tr>\n",
              "  </thead>\n",
              "  <tbody>\n",
              "    <tr>\n",
              "      <th>5480988</th>\n",
              "      <td>9999-99-99</td>\n",
              "      <td>0</td>\n",
              "    </tr>\n",
              "    <tr>\n",
              "      <th>3224847</th>\n",
              "      <td>9999-99-99</td>\n",
              "      <td>0</td>\n",
              "    </tr>\n",
              "    <tr>\n",
              "      <th>2699459</th>\n",
              "      <td>9999-99-99</td>\n",
              "      <td>0</td>\n",
              "    </tr>\n",
              "    <tr>\n",
              "      <th>2276375</th>\n",
              "      <td>9999-99-99</td>\n",
              "      <td>0</td>\n",
              "    </tr>\n",
              "    <tr>\n",
              "      <th>2838585</th>\n",
              "      <td>9999-99-99</td>\n",
              "      <td>0</td>\n",
              "    </tr>\n",
              "    <tr>\n",
              "      <th>4558690</th>\n",
              "      <td>9999-99-99</td>\n",
              "      <td>0</td>\n",
              "    </tr>\n",
              "    <tr>\n",
              "      <th>1920526</th>\n",
              "      <td>9999-99-99</td>\n",
              "      <td>0</td>\n",
              "    </tr>\n",
              "    <tr>\n",
              "      <th>1208953</th>\n",
              "      <td>9999-99-99</td>\n",
              "      <td>0</td>\n",
              "    </tr>\n",
              "    <tr>\n",
              "      <th>516083</th>\n",
              "      <td>2020-06-22</td>\n",
              "      <td>1</td>\n",
              "    </tr>\n",
              "    <tr>\n",
              "      <th>2427670</th>\n",
              "      <td>9999-99-99</td>\n",
              "      <td>0</td>\n",
              "    </tr>\n",
              "  </tbody>\n",
              "</table>\n",
              "</div>"
            ],
            "text/plain": [
              "          FECHA_DEF  FALLECIDO\n",
              "5480988  9999-99-99          0\n",
              "3224847  9999-99-99          0\n",
              "2699459  9999-99-99          0\n",
              "2276375  9999-99-99          0\n",
              "2838585  9999-99-99          0\n",
              "4558690  9999-99-99          0\n",
              "1920526  9999-99-99          0\n",
              "1208953  9999-99-99          0\n",
              "516083   2020-06-22          1\n",
              "2427670  9999-99-99          0"
            ]
          },
          "metadata": {
            "tags": []
          },
          "execution_count": 24
        }
      ]
    },
    {
      "cell_type": "markdown",
      "metadata": {
        "id": "G7nRU01ZaaOa"
      },
      "source": [
        "### Agregado de la columna `ENFERMEDAD_GRAVE`\n",
        "Esta columna será catagórica, indica si el paciente presentó enfermedad grave.\n",
        "\n",
        "Se considera que un paciente presentó la enfermedad grave si presenta al menos una de las siguientes situaciones:\n",
        "* El paciente requirió de intubación.\n",
        "* El paciente fue diagnosticado con neumonía.\n",
        "* El paciente requirió ingresar a una Unidad de Cuidados Intensivos.\n",
        "\n",
        "Los valores posibles en esta columna son los siguientes:\n",
        "* Si: *1*\n",
        "* No: *0*"
      ]
    },
    {
      "cell_type": "code",
      "metadata": {
        "id": "XaukySFYfh41"
      },
      "source": [
        "data_filtered[\"ENFERMEDAD_GRAVE\"] = np.where((data_filtered[\"INTUBADO\"] == 1) \n",
        "| (data_filtered[\"NEUMONIA\"] == 1)\n",
        "| (data_filtered[\"UCI\"] == 1) , 1, 0)"
      ],
      "execution_count": 25,
      "outputs": []
    },
    {
      "cell_type": "code",
      "metadata": {
        "id": "cKUzAQReiduy",
        "outputId": "e959bff2-7534-40ec-a45a-fe7208d32cc5",
        "colab": {
          "base_uri": "https://localhost:8080/",
          "height": 343
        }
      },
      "source": [
        "data_filtered[[\"NEUMONIA\", \"INTUBADO\", \"UCI\", \"ENFERMEDAD_GRAVE\"]].sample(10)"
      ],
      "execution_count": 26,
      "outputs": [
        {
          "output_type": "execute_result",
          "data": {
            "text/html": [
              "<div>\n",
              "<style scoped>\n",
              "    .dataframe tbody tr th:only-of-type {\n",
              "        vertical-align: middle;\n",
              "    }\n",
              "\n",
              "    .dataframe tbody tr th {\n",
              "        vertical-align: top;\n",
              "    }\n",
              "\n",
              "    .dataframe thead th {\n",
              "        text-align: right;\n",
              "    }\n",
              "</style>\n",
              "<table border=\"1\" class=\"dataframe\">\n",
              "  <thead>\n",
              "    <tr style=\"text-align: right;\">\n",
              "      <th></th>\n",
              "      <th>NEUMONIA</th>\n",
              "      <th>INTUBADO</th>\n",
              "      <th>UCI</th>\n",
              "      <th>ENFERMEDAD_GRAVE</th>\n",
              "    </tr>\n",
              "  </thead>\n",
              "  <tbody>\n",
              "    <tr>\n",
              "      <th>2269748</th>\n",
              "      <td>1</td>\n",
              "      <td>0</td>\n",
              "      <td>1</td>\n",
              "      <td>1</td>\n",
              "    </tr>\n",
              "    <tr>\n",
              "      <th>3993903</th>\n",
              "      <td>1</td>\n",
              "      <td>0</td>\n",
              "      <td>0</td>\n",
              "      <td>1</td>\n",
              "    </tr>\n",
              "    <tr>\n",
              "      <th>2135271</th>\n",
              "      <td>0</td>\n",
              "      <td>0</td>\n",
              "      <td>0</td>\n",
              "      <td>0</td>\n",
              "    </tr>\n",
              "    <tr>\n",
              "      <th>2723672</th>\n",
              "      <td>1</td>\n",
              "      <td>0</td>\n",
              "      <td>0</td>\n",
              "      <td>1</td>\n",
              "    </tr>\n",
              "    <tr>\n",
              "      <th>1730101</th>\n",
              "      <td>0</td>\n",
              "      <td>0</td>\n",
              "      <td>0</td>\n",
              "      <td>0</td>\n",
              "    </tr>\n",
              "    <tr>\n",
              "      <th>2762230</th>\n",
              "      <td>0</td>\n",
              "      <td>0</td>\n",
              "      <td>0</td>\n",
              "      <td>0</td>\n",
              "    </tr>\n",
              "    <tr>\n",
              "      <th>4230851</th>\n",
              "      <td>1</td>\n",
              "      <td>0</td>\n",
              "      <td>0</td>\n",
              "      <td>1</td>\n",
              "    </tr>\n",
              "    <tr>\n",
              "      <th>4456549</th>\n",
              "      <td>0</td>\n",
              "      <td>0</td>\n",
              "      <td>0</td>\n",
              "      <td>0</td>\n",
              "    </tr>\n",
              "    <tr>\n",
              "      <th>4285947</th>\n",
              "      <td>0</td>\n",
              "      <td>0</td>\n",
              "      <td>0</td>\n",
              "      <td>0</td>\n",
              "    </tr>\n",
              "    <tr>\n",
              "      <th>485484</th>\n",
              "      <td>0</td>\n",
              "      <td>0</td>\n",
              "      <td>0</td>\n",
              "      <td>0</td>\n",
              "    </tr>\n",
              "  </tbody>\n",
              "</table>\n",
              "</div>"
            ],
            "text/plain": [
              "         NEUMONIA  INTUBADO  UCI  ENFERMEDAD_GRAVE\n",
              "2269748         1         0    1                 1\n",
              "3993903         1         0    0                 1\n",
              "2135271         0         0    0                 0\n",
              "2723672         1         0    0                 1\n",
              "1730101         0         0    0                 0\n",
              "2762230         0         0    0                 0\n",
              "4230851         1         0    0                 1\n",
              "4456549         0         0    0                 0\n",
              "4285947         0         0    0                 0\n",
              "485484          0         0    0                 0"
            ]
          },
          "metadata": {
            "tags": []
          },
          "execution_count": 26
        }
      ]
    },
    {
      "cell_type": "markdown",
      "metadata": {
        "id": "7XkruM6FjQB4"
      },
      "source": [
        "### Agregado de columna `HOSPITALIZADO`\n",
        "Esta columna será catagórica, indica si el paciente fue hospitalizado, si esto no es así se asume que el tratamiento del paciente fue embulatorio, los valores posibles son los siguientes:\n",
        "* Si: *1*\n",
        "* No: *0*"
      ]
    },
    {
      "cell_type": "code",
      "metadata": {
        "id": "J4w5xvUfjaKX"
      },
      "source": [
        "data_filtered[\"HOSPITALIZADO\"] = data_filtered[\"TIPO_PACIENTE\"].apply(lambda x: 1 if x == 2 else 0)"
      ],
      "execution_count": 27,
      "outputs": []
    },
    {
      "cell_type": "code",
      "metadata": {
        "id": "2VPq1pUnjk89",
        "outputId": "da0a5107-85c9-4643-c202-0d8741e3bd75",
        "colab": {
          "base_uri": "https://localhost:8080/",
          "height": 343
        }
      },
      "source": [
        "data_filtered[[\"TIPO_PACIENTE\", \"HOSPITALIZADO\"]].sample(10)"
      ],
      "execution_count": 28,
      "outputs": [
        {
          "output_type": "execute_result",
          "data": {
            "text/html": [
              "<div>\n",
              "<style scoped>\n",
              "    .dataframe tbody tr th:only-of-type {\n",
              "        vertical-align: middle;\n",
              "    }\n",
              "\n",
              "    .dataframe tbody tr th {\n",
              "        vertical-align: top;\n",
              "    }\n",
              "\n",
              "    .dataframe thead th {\n",
              "        text-align: right;\n",
              "    }\n",
              "</style>\n",
              "<table border=\"1\" class=\"dataframe\">\n",
              "  <thead>\n",
              "    <tr style=\"text-align: right;\">\n",
              "      <th></th>\n",
              "      <th>TIPO_PACIENTE</th>\n",
              "      <th>HOSPITALIZADO</th>\n",
              "    </tr>\n",
              "  </thead>\n",
              "  <tbody>\n",
              "    <tr>\n",
              "      <th>3417371</th>\n",
              "      <td>1</td>\n",
              "      <td>0</td>\n",
              "    </tr>\n",
              "    <tr>\n",
              "      <th>3902585</th>\n",
              "      <td>1</td>\n",
              "      <td>0</td>\n",
              "    </tr>\n",
              "    <tr>\n",
              "      <th>1103768</th>\n",
              "      <td>1</td>\n",
              "      <td>0</td>\n",
              "    </tr>\n",
              "    <tr>\n",
              "      <th>289223</th>\n",
              "      <td>1</td>\n",
              "      <td>0</td>\n",
              "    </tr>\n",
              "    <tr>\n",
              "      <th>3357226</th>\n",
              "      <td>1</td>\n",
              "      <td>0</td>\n",
              "    </tr>\n",
              "    <tr>\n",
              "      <th>895028</th>\n",
              "      <td>1</td>\n",
              "      <td>0</td>\n",
              "    </tr>\n",
              "    <tr>\n",
              "      <th>1697184</th>\n",
              "      <td>1</td>\n",
              "      <td>0</td>\n",
              "    </tr>\n",
              "    <tr>\n",
              "      <th>3669470</th>\n",
              "      <td>2</td>\n",
              "      <td>1</td>\n",
              "    </tr>\n",
              "    <tr>\n",
              "      <th>2535314</th>\n",
              "      <td>1</td>\n",
              "      <td>0</td>\n",
              "    </tr>\n",
              "    <tr>\n",
              "      <th>825509</th>\n",
              "      <td>1</td>\n",
              "      <td>0</td>\n",
              "    </tr>\n",
              "  </tbody>\n",
              "</table>\n",
              "</div>"
            ],
            "text/plain": [
              "         TIPO_PACIENTE  HOSPITALIZADO\n",
              "3417371              1              0\n",
              "3902585              1              0\n",
              "1103768              1              0\n",
              "289223               1              0\n",
              "3357226              1              0\n",
              "895028               1              0\n",
              "1697184              1              0\n",
              "3669470              2              1\n",
              "2535314              1              0\n",
              "825509               1              0"
            ]
          },
          "metadata": {
            "tags": []
          },
          "execution_count": 28
        }
      ]
    },
    {
      "cell_type": "markdown",
      "metadata": {
        "id": "JtlWwfTCkCh1"
      },
      "source": [
        "\n",
        "### Combinación del dataframe principal con los dataframes auxiliares."
      ]
    },
    {
      "cell_type": "code",
      "metadata": {
        "id": "p4PDj0l4l2u2"
      },
      "source": [
        "# Se le cambian los nombres de las columnas a los dataframes auxiliares\n",
        "sexo_df.columns = [\"SEXO\", \"SEXO_\"]\n",
        "sector_df.columns = [\"SECTOR\", \"SECTOR_ATENDIDO\"]\n",
        "entidad_df.columns = [\"ENTIDAD_UM\",\"ESTADO\"]"
      ],
      "execution_count": 29,
      "outputs": []
    },
    {
      "cell_type": "code",
      "metadata": {
        "id": "dnGwZ696kYT6"
      },
      "source": [
        "data_filtered = pd.merge(data_filtered, sexo_df, how = \"inner\", on = \"SEXO\")\n",
        "data_filtered = pd.merge(data_filtered, sector_df, how = \"inner\", on = \"SECTOR\")\n",
        "data_filtered = pd.merge(data_filtered, entidad_df, how = \"inner\", on = \"ENTIDAD_UM\")"
      ],
      "execution_count": 30,
      "outputs": []
    },
    {
      "cell_type": "code",
      "metadata": {
        "id": "FxFfDu_tkzf3",
        "outputId": "575bf63a-42c8-47fb-b00e-a8a1e66c328c",
        "colab": {
          "base_uri": "https://localhost:8080/",
          "height": 195
        }
      },
      "source": [
        "data_filtered[[\"SEXO_\",\"SECTOR_ATENDIDO\",\"ESTADO\"]].sample(5)"
      ],
      "execution_count": 31,
      "outputs": [
        {
          "output_type": "execute_result",
          "data": {
            "text/html": [
              "<div>\n",
              "<style scoped>\n",
              "    .dataframe tbody tr th:only-of-type {\n",
              "        vertical-align: middle;\n",
              "    }\n",
              "\n",
              "    .dataframe tbody tr th {\n",
              "        vertical-align: top;\n",
              "    }\n",
              "\n",
              "    .dataframe thead th {\n",
              "        text-align: right;\n",
              "    }\n",
              "</style>\n",
              "<table border=\"1\" class=\"dataframe\">\n",
              "  <thead>\n",
              "    <tr style=\"text-align: right;\">\n",
              "      <th></th>\n",
              "      <th>SEXO_</th>\n",
              "      <th>SECTOR_ATENDIDO</th>\n",
              "      <th>ESTADO</th>\n",
              "    </tr>\n",
              "  </thead>\n",
              "  <tbody>\n",
              "    <tr>\n",
              "      <th>1230608</th>\n",
              "      <td>MUJER</td>\n",
              "      <td>SSA</td>\n",
              "      <td>TAMAULIPAS</td>\n",
              "    </tr>\n",
              "    <tr>\n",
              "      <th>318081</th>\n",
              "      <td>MUJER</td>\n",
              "      <td>SSA</td>\n",
              "      <td>CIUDAD DE MÉXICO</td>\n",
              "    </tr>\n",
              "    <tr>\n",
              "      <th>1719885</th>\n",
              "      <td>HOMBRE</td>\n",
              "      <td>PRIVADA</td>\n",
              "      <td>PUEBLA</td>\n",
              "    </tr>\n",
              "    <tr>\n",
              "      <th>1434615</th>\n",
              "      <td>MUJER</td>\n",
              "      <td>IMSS-BIENESTAR</td>\n",
              "      <td>MICHOACÁN DE OCAMPO</td>\n",
              "    </tr>\n",
              "    <tr>\n",
              "      <th>1556989</th>\n",
              "      <td>MUJER</td>\n",
              "      <td>SSA</td>\n",
              "      <td>OAXACA</td>\n",
              "    </tr>\n",
              "  </tbody>\n",
              "</table>\n",
              "</div>"
            ],
            "text/plain": [
              "          SEXO_ SECTOR_ATENDIDO               ESTADO\n",
              "1230608   MUJER             SSA           TAMAULIPAS\n",
              "318081    MUJER             SSA     CIUDAD DE MÉXICO\n",
              "1719885  HOMBRE         PRIVADA               PUEBLA\n",
              "1434615   MUJER  IMSS-BIENESTAR  MICHOACÁN DE OCAMPO\n",
              "1556989   MUJER             SSA               OAXACA"
            ]
          },
          "metadata": {
            "tags": []
          },
          "execution_count": 31
        }
      ]
    },
    {
      "cell_type": "markdown",
      "metadata": {
        "id": "fTEjOxYujsed"
      },
      "source": [
        "## Análisis Exploratorio\n",
        "\n",
        "En esta sección se obtendrán algunos datos estadísticos que pueden ayudar a comprender el comportamiento de la enfermedad."
      ]
    },
    {
      "cell_type": "code",
      "metadata": {
        "id": "OX6obyXIOyVG"
      },
      "source": [
        "# Para esta sección se definio una función para obtener los cartiles\n",
        "def summary(data):\n",
        "  minimo = data.min()\n",
        "  Q1 = data.quantile(0.25)\n",
        "  median = data.median()\n",
        "  mean = data.mean()\n",
        "  Q2 = data.quantile(0.5)\n",
        "  Q3 = data.quantile(0.75)\n",
        "  maximo = data.max()\n",
        "  IQR = Q3 - Q1\n",
        "  resumen = {'minimo': minimo, 'Q1': Q1, 'mediana':median,'Q2':Q2,'Q3':Q3,'max':maximo,'IQR':IQR, 'media':mean}\n",
        "  return resumen"
      ],
      "execution_count": 69,
      "outputs": []
    },
    {
      "cell_type": "markdown",
      "metadata": {
        "id": "zYYuVeGpj9t9"
      },
      "source": [
        "### Distribución de edad por sexo de los infectados."
      ]
    },
    {
      "cell_type": "code",
      "metadata": {
        "id": "DieRfUYZH6kN",
        "outputId": "8ad2fe9f-d39e-4930-e393-e913c4ecaf12",
        "colab": {
          "base_uri": "https://localhost:8080/",
          "height": 329
        }
      },
      "source": [
        "fig, axs = plt.subplots(ncols = 3, nrows = 1)\n",
        "fig.set_size_inches(20,5)\n",
        "\n",
        "axs[0].hist(data_filtered[\"EDAD\"], color=\"g\")\n",
        "axs[0].set_title(\"Distribución de edad de los casos confirmados\")\n",
        "axs[0].set_xlabel(\"Edad\")\n",
        "axs[0].set_ylabel(\"Número de casos confirmados\")\n",
        "\n",
        "axs[1].hist(data_filtered[\"EDAD\"][data_filtered[\"SEXO_\"] == \"MUJER\"], color=\"#F611A9\")\n",
        "axs[1].set_title(\"Distribución de edad de los casos confirmados en mujeres\")\n",
        "axs[1].set_xlabel(\"Edad\")\n",
        "axs[1].set_ylabel(\"Número de casos confirmados\")\n",
        "\n",
        "axs[2].hist(data_filtered[\"EDAD\"][data_filtered[\"SEXO_\"] == \"HOMBRE\"], color=\"#1189F6\")\n",
        "axs[2].set_title(\"Distribución de edad de los casos confirmados en hombres\")\n",
        "axs[2].set_xlabel(\"Edad\")\n",
        "axs[2].set_ylabel(\"Número de casos confirmados\")\n"
      ],
      "execution_count": 63,
      "outputs": [
        {
          "output_type": "execute_result",
          "data": {
            "text/plain": [
              "Text(0, 0.5, 'Número de casos confirmados')"
            ]
          },
          "metadata": {
            "tags": []
          },
          "execution_count": 63
        },
        {
          "output_type": "display_data",
          "data": {
            "image/png": "[encoded data removed]",
            "text/plain": [
              "<Figure size 1440x360 with 3 Axes>"
            ]
          },
          "metadata": {
            "tags": [],
            "needs_background": "light"
          }
        }
      ]
    },
    {
      "cell_type": "code",
      "metadata": {
        "id": "_5HXlo1jO5Hn",
        "outputId": "6dc6048a-ffac-42d7-dfbf-00b5726078cb",
        "colab": {
          "base_uri": "https://localhost:8080/"
        }
      },
      "source": [
        "print(\"Resumen edad de casos positivos\")\n",
        "age_summary = summary(data_filtered[\"EDAD\"])\n",
        "age_summary"
      ],
      "execution_count": 70,
      "outputs": [
        {
          "output_type": "stream",
          "text": [
            "Resumen edad de casos positivos\n"
          ],
          "name": "stdout"
        },
        {
          "output_type": "execute_result",
          "data": {
            "text/plain": [
              "{'IQR': 24.0,\n",
              " 'Q1': 31.0,\n",
              " 'Q2': 42.0,\n",
              " 'Q3': 55.0,\n",
              " 'max': 121,\n",
              " 'media': 43.71238393103113,\n",
              " 'mediana': 42.0,\n",
              " 'minimo': 0}"
            ]
          },
          "metadata": {
            "tags": []
          },
          "execution_count": 70
        }
      ]
    },
    {
      "cell_type": "markdown",
      "metadata": {
        "id": "MsRbivbnJRDK"
      },
      "source": [
        "**Se puede ver que la distribución varía poco entre hombres y mujeres, el 50% de los contagios están entre los 31 y 55 años de edad**"
      ]
    },
    {
      "cell_type": "markdown",
      "metadata": {
        "id": "rSADztqQJ5tF"
      },
      "source": [
        "### Distribución de edad en casos hospitalizados y ambulatorios."
      ]
    },
    {
      "cell_type": "code",
      "metadata": {
        "id": "8AIqTboHKMd4",
        "outputId": "11a9933f-405b-49d9-a399-4e6f55e65cd0",
        "colab": {
          "base_uri": "https://localhost:8080/",
          "height": 332
        }
      },
      "source": [
        "fig, axs = plt.subplots(ncols=2,nrows=1)\n",
        "fig.set_size_inches(20,5)\n",
        "\n",
        "axs[0].hist(data_filtered[\"EDAD\"][data_filtered[\"HOSPITALIZADO\"] == 0], color=\"#F67C11\")\n",
        "axs[0].set_title(\"Distribución de edad de los casos ambulatorios\")\n",
        "axs[0].set_xlabel(\"Edad\")\n",
        "axs[0].set_ylabel(\"Número de casos confirmados\")\n",
        "\n",
        "axs[1].hist(data_filtered[\"EDAD\"][data_filtered[\"HOSPITALIZADO\"] == 1], color=\"#F62911\")\n",
        "axs[1].set_title(\"Distribución de edad de los casos hospitalizados\")\n",
        "axs[1].set_xlabel(\"Edad\")\n",
        "axs[1].set_ylabel(\"Número de casos confirmados\")"
      ],
      "execution_count": 65,
      "outputs": [
        {
          "output_type": "execute_result",
          "data": {
            "text/plain": [
              "Text(0, 0.5, 'Número de casos confirmados')"
            ]
          },
          "metadata": {
            "tags": []
          },
          "execution_count": 65
        },
        {
          "output_type": "display_data",
          "data": {
            "image/png": "[encoded data removed]",
            "text/plain": [
              "<Figure size 1440x360 with 2 Axes>"
            ]
          },
          "metadata": {
            "tags": [],
            "needs_background": "light"
          }
        }
      ]
    },
    {
      "cell_type": "code",
      "metadata": {
        "id": "uOVqkZ1IOZYs",
        "outputId": "fd6be267-d9c3-47a6-c004-bade934eaabd",
        "colab": {
          "base_uri": "https://localhost:8080/"
        }
      },
      "source": [
        "print(\"Resumen edad de casos ambulatorios\")\n",
        "amb_age = summary(data_filtered[\"EDAD\"][data_filtered[\"HOSPITALIZADO\"] == 0])\n",
        "amb_age"
      ],
      "execution_count": 71,
      "outputs": [
        {
          "output_type": "stream",
          "text": [
            "Resumen edad de casos ambulatorios\n"
          ],
          "name": "stdout"
        },
        {
          "output_type": "execute_result",
          "data": {
            "text/plain": [
              "{'IQR': 22.0,\n",
              " 'Q1': 29.0,\n",
              " 'Q2': 39.0,\n",
              " 'Q3': 51.0,\n",
              " 'max': 121,\n",
              " 'media': 40.44257041034878,\n",
              " 'mediana': 39.0,\n",
              " 'minimo': 0}"
            ]
          },
          "metadata": {
            "tags": []
          },
          "execution_count": 71
        }
      ]
    },
    {
      "cell_type": "code",
      "metadata": {
        "id": "kLpiFiImQRxy",
        "outputId": "6bc3271d-47be-4744-94c8-5520a67d8aed",
        "colab": {
          "base_uri": "https://localhost:8080/"
        }
      },
      "source": [
        "print(\"Resumen edad de casos hospitalizados\")\n",
        "amb_age = summary(data_filtered[\"EDAD\"][data_filtered[\"HOSPITALIZADO\"] == 1])\n",
        "amb_age"
      ],
      "execution_count": 72,
      "outputs": [
        {
          "output_type": "stream",
          "text": [
            "Resumen edad de casos hospitalizados\n"
          ],
          "name": "stdout"
        },
        {
          "output_type": "execute_result",
          "data": {
            "text/plain": [
              "{'IQR': 22.0,\n",
              " 'Q1': 48.0,\n",
              " 'Q2': 59.0,\n",
              " 'Q3': 70.0,\n",
              " 'max': 118,\n",
              " 'media': 58.04067398308985,\n",
              " 'mediana': 59.0,\n",
              " 'minimo': 0}"
            ]
          },
          "metadata": {
            "tags": []
          },
          "execution_count": 72
        }
      ]
    },
    {
      "cell_type": "markdown",
      "metadata": {
        "id": "4CUM61YSOT4C"
      },
      "source": [
        "**Se puede apreciar que el grueso de los casos tratados ambulatoriamente están entre los 29 y 51 años de edad mientras que los hospitalizados estan entre los 48 y 70.**"
      ]
    },
    {
      "cell_type": "markdown",
      "metadata": {
        "id": "sWdjGcOqWnh9"
      },
      "source": [
        "### Distribución por edad de fallecidos"
      ]
    },
    {
      "cell_type": "code",
      "metadata": {
        "id": "3FHlLPIwWqud",
        "outputId": "6379f43f-a5e4-4a88-97b7-7fb242d5786a",
        "colab": {
          "base_uri": "https://localhost:8080/",
          "height": 334
        }
      },
      "source": [
        "fig, axs = plt.subplots(ncols=2,nrows=1)\n",
        "fig.set_size_inches(20,5)\n",
        "\n",
        "axs[0].hist(data_filtered[\"EDAD\"][(data_filtered[\"SEXO_\"] == \"MUJER\")&(data_filtered[\"FALLECIDO\"] == 1)], color=\"#F611A9\")\n",
        "axs[0].set_title(\"Distribución de edad de mujeres fallecidas\")\n",
        "axs[0].set_xlabel(\"Edad\")\n",
        "axs[0].set_ylabel(\"Número de casos confirmados\")\n",
        "\n",
        "axs[1].hist(data_filtered[\"EDAD\"][(data_filtered[\"SEXO_\"] == \"HOMBRE\")&(data_filtered[\"FALLECIDO\"] == 1)], color=\"#1189F6\")\n",
        "axs[1].set_title(\"Distribución de edad de hombres fallecidos\")\n",
        "axs[1].set_xlabel(\"Edad\")\n",
        "axs[1].set_ylabel(\"Número de casos confirmados\")"
      ],
      "execution_count": 77,
      "outputs": [
        {
          "output_type": "execute_result",
          "data": {
            "text/plain": [
              "Text(0, 0.5, 'Número de casos confirmados')"
            ]
          },
          "metadata": {
            "tags": []
          },
          "execution_count": 77
        },
        {
          "output_type": "display_data",
          "data": {
            "image/png": "[encoded data removed]",
            "text/plain": [
              "<Figure size 1440x360 with 2 Axes>"
            ]
          },
          "metadata": {
            "tags": [],
            "needs_background": "light"
          }
        }
      ]
    },
    {
      "cell_type": "code",
      "metadata": {
        "id": "vJ7Rw-nNXh46",
        "outputId": "c877f2c8-3ae9-468c-e4e7-6de0959af3f1",
        "colab": {
          "base_uri": "https://localhost:8080/"
        }
      },
      "source": [
        "print(\"Resumen edad en mujeres fallecidas\")\n",
        "female_deceased = summary(data_filtered[\"EDAD\"][(data_filtered[\"SEXO_\"] == \"MUJER\")&(data_filtered[\"FALLECIDO\"] == 1)])\n",
        "female_deceased"
      ],
      "execution_count": 78,
      "outputs": [
        {
          "output_type": "stream",
          "text": [
            "Resumen edad en mujeres fallecidas\n"
          ],
          "name": "stdout"
        },
        {
          "output_type": "execute_result",
          "data": {
            "text/plain": [
              "{'IQR': 18.0,\n",
              " 'Q1': 56.0,\n",
              " 'Q2': 65.0,\n",
              " 'Q3': 74.0,\n",
              " 'max': 110,\n",
              " 'media': 64.48083071384434,\n",
              " 'mediana': 65.0,\n",
              " 'minimo': 0}"
            ]
          },
          "metadata": {
            "tags": []
          },
          "execution_count": 78
        }
      ]
    },
    {
      "cell_type": "code",
      "metadata": {
        "id": "rDpbUqCtX6Yx",
        "outputId": "f32a3132-9c8b-46f1-d52e-0ef6997e877a",
        "colab": {
          "base_uri": "https://localhost:8080/"
        }
      },
      "source": [
        "print(\"Resumen edad en hombres fallecidos\")\n",
        "male_deceased = summary(data_filtered[\"EDAD\"][(data_filtered[\"SEXO_\"] == \"HOMBRE\")&(data_filtered[\"FALLECIDO\"] == 1)])\n",
        "male_deceased"
      ],
      "execution_count": 80,
      "outputs": [
        {
          "output_type": "stream",
          "text": [
            "Resumen edad en hombres fallecidos\n"
          ],
          "name": "stdout"
        },
        {
          "output_type": "execute_result",
          "data": {
            "text/plain": [
              "{'IQR': 19.0,\n",
              " 'Q1': 54.0,\n",
              " 'Q2': 64.0,\n",
              " 'Q3': 73.0,\n",
              " 'max': 106,\n",
              " 'media': 62.94446359707847,\n",
              " 'mediana': 64.0,\n",
              " 'minimo': 0}"
            ]
          },
          "metadata": {
            "tags": []
          },
          "execution_count": 80
        }
      ]
    },
    {
      "cell_type": "markdown",
      "metadata": {
        "id": "Lip2M7-5YGxU"
      },
      "source": [
        "**El 50% de los fallecidos parece estar entre los 55 y 74 años de edad**"
      ]
    },
    {
      "cell_type": "markdown",
      "metadata": {
        "id": "qeVffAaCYTQM"
      },
      "source": [
        "### Comparación de mortalidad en hombres y mujeres"
      ]
    },
    {
      "cell_type": "code",
      "metadata": {
        "id": "5EIPpX3ccCM0",
        "outputId": "78a1b91d-e20e-4a6e-97ab-06adafb63ef2",
        "colab": {
          "base_uri": "https://localhost:8080/",
          "height": 136
        }
      },
      "source": [
        "table = pd.crosstab(data_filtered.SEXO_, data_filtered.FALLECIDO)\n",
        "table[\"MORTALIDAD\"] = table[1]/(table[0]+table[1])\n",
        "table"
      ],
      "execution_count": 87,
      "outputs": [
        {
          "output_type": "execute_result",
          "data": {
            "text/html": [
              "<div>\n",
              "<style scoped>\n",
              "    .dataframe tbody tr th:only-of-type {\n",
              "        vertical-align: middle;\n",
              "    }\n",
              "\n",
              "    .dataframe tbody tr th {\n",
              "        vertical-align: top;\n",
              "    }\n",
              "\n",
              "    .dataframe thead th {\n",
              "        text-align: right;\n",
              "    }\n",
              "</style>\n",
              "<table border=\"1\" class=\"dataframe\">\n",
              "  <thead>\n",
              "    <tr style=\"text-align: right;\">\n",
              "      <th>FALLECIDO</th>\n",
              "      <th>0</th>\n",
              "      <th>1</th>\n",
              "      <th>MORTALIDAD</th>\n",
              "    </tr>\n",
              "    <tr>\n",
              "      <th>SEXO_</th>\n",
              "      <th></th>\n",
              "      <th></th>\n",
              "      <th></th>\n",
              "    </tr>\n",
              "  </thead>\n",
              "  <tbody>\n",
              "    <tr>\n",
              "      <th>HOMBRE</th>\n",
              "      <td>990557</td>\n",
              "      <td>124729</td>\n",
              "      <td>0.111836</td>\n",
              "    </tr>\n",
              "    <tr>\n",
              "      <th>MUJER</th>\n",
              "      <td>1031796</td>\n",
              "      <td>74442</td>\n",
              "      <td>0.067293</td>\n",
              "    </tr>\n",
              "  </tbody>\n",
              "</table>\n",
              "</div>"
            ],
            "text/plain": [
              "FALLECIDO        0       1  MORTALIDAD\n",
              "SEXO_                                 \n",
              "HOMBRE      990557  124729    0.111836\n",
              "MUJER      1031796   74442    0.067293"
            ]
          },
          "metadata": {
            "tags": []
          },
          "execution_count": 87
        }
      ]
    },
    {
      "cell_type": "code",
      "metadata": {
        "id": "Z5weGa27cYMe",
        "outputId": "9d3b2882-5ecf-4084-9832-8c106755db07",
        "colab": {
          "base_uri": "https://localhost:8080/",
          "height": 331
        }
      },
      "source": [
        "table[\"MORTALIDAD\"].plot(kind = \"bar\")"
      ],
      "execution_count": 88,
      "outputs": [
        {
          "output_type": "execute_result",
          "data": {
            "text/plain": [
              "<matplotlib.axes._subplots.AxesSubplot at 0x7ff16f464950>"
            ]
          },
          "metadata": {
            "tags": []
          },
          "execution_count": 88
        },
        {
          "output_type": "display_data",
          "data": {
            "image/png": "[encoded data removed]",
            "text/plain": [
              "<Figure size 432x288 with 1 Axes>"
            ]
          },
          "metadata": {
            "tags": [],
            "needs_background": "light"
          }
        }
      ]
    },
    {
      "cell_type": "markdown",
      "metadata": {
        "id": "cf0Cx3zMR3yk"
      },
      "source": [
        "## Mortalidad por estado y por sector"
      ]
    }
  ]
}