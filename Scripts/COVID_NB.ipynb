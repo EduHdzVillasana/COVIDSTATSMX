{
 "cells": [
  {
   "cell_type": "markdown",
   "metadata": {},
   "source": [
    "# Estadisticas De Casos de COVID-19 en México y sus entidades\n",
    "    Autor: Eduardo Alán Hernández Villasana\n",
    "    Estudiante de Licenciatura en Ciencias Computacionales en\n",
    "    la Universidad Autonoma de Nuevo León - Facultad de Ciencias Fisico Matemáticas"
   ]
  },
  {
   "cell_type": "code",
   "execution_count": 1,
   "metadata": {},
   "outputs": [],
   "source": [
    "import pandas as ps\n",
    "import os\n",
    "import datetime as dt\n",
    "import matplotlib.pyplot as plt"
   ]
  },
  {
   "cell_type": "code",
   "execution_count": 2,
   "metadata": {},
   "outputs": [],
   "source": [
    "# Función para invertir el dia y mes en el formato de fecha, esto para poder ordenar las fechas\n",
    "def invertirLista (cadenas):\n",
    "    cadenas_nueva = []\n",
    "    for cadena in cadenas:\n",
    "        elementos = cadena.split('/')\n",
    "        cadenas_nueva.append (elementos[1] +\"/\"+ elementos[0] +\"/\"+ elementos[2])\n",
    "    return cadenas_nueva"
   ]
  },
  {
   "cell_type": "code",
   "execution_count": 3,
   "metadata": {},
   "outputs": [],
   "source": [
    "# Función para obtener el dataframe desde un url, también calcula la fecha y obtiene el dataframe de el dia actual o el de ayer\n",
    "def obtenerDataFrame (fecha = \"hoy\"):\n",
    "    url = \"https://raw.githubusercontent.com/EduHdzVillasana/COVIDSTATSMX/master/Datos%20Abiertos\"\n",
    "    x = dt.date.today()\n",
    "    fecha = str(x)\n",
    "    sufijo = \"COVID19MEXICO.csv\"\n",
    "    # 200617COVID19MEXICO.csv\n",
    "    año = str(x.year - 2000)\n",
    "    if x.month >= 10:\n",
    "        mes = str(x.month)\n",
    "    else:\n",
    "        mes = \"0\" + str(x.month)\n",
    "    \n",
    "    if x.day >= 10:\n",
    "        dia = str(x.day)\n",
    "    else:\n",
    "        dia = \"0\" + str(x.day)\n",
    "\n",
    "    prefijo = año + mes + dia\n",
    "    try:\n",
    "        covid_df = ps.read_csv(url + \"/\" + prefijo + sufijo)\n",
    "        print (\"DataSet obtenido de: \\n\" + url + \"/\" + prefijo + sufijo)\n",
    "    except:\n",
    "        x = x - dt.timedelta(days = 1)\n",
    "        fecha = str(x)\n",
    "        año = str(x.year - 2000)\n",
    "        if x.month >= 10:\n",
    "            mes = str(x.month)\n",
    "        else:\n",
    "            mes = \"0\" + str(x.month)\n",
    "        \n",
    "        if x.day >= 10:\n",
    "            dia = str(x.day)\n",
    "        else:\n",
    "            dia = \"0\" + str(x.day)\n",
    "\n",
    "        prefijo = año + mes + dia\n",
    "        try:\n",
    "            covid_df = ps.read_csv(url + \"/\" + prefijo + sufijo)\n",
    "            print (\"DataSet obtenido de: \\n\" + url + \"/\" + prefijo + sufijo)\n",
    "        except:\n",
    "            covid_df = None\n",
    "            fecha = \"0\"\n",
    "    #print (dt.datetime.now() - x) Para medir el tiempo que se tarda en leer el dataset\n",
    "    return covid_df, fecha"
   ]
  },
  {
   "cell_type": "code",
   "execution_count": 4,
   "metadata": {},
   "outputs": [],
   "source": [
    "# Guarda un dataframe dependiendo de el nombre, el path y especificando que tipo de extencion y formatp\n",
    "def guardarDataFrame (path = \"C:\", nombre = \"DATAFRAME\", tipo = \".xls\", dataFrame = None):\n",
    "    if tipo == \".csv\":\n",
    "        dataFrame.to_csv(os.path.join(path, nombre))\n",
    "    elif tipo == \".xls\":\n",
    "        dataFrame.to_excel(os.path.join(path, nombre))\n",
    "    elif tipo == \".json\":\n",
    "        dataFrame.to_json(os.path.join(path, nombre))"
   ]
  },
  {
   "cell_type": "code",
   "execution_count": 5,
   "metadata": {},
   "outputs": [],
   "source": [
    "# Imprime los datos acumulados\n",
    "def imprimirAcumulados (casosA):\n",
    "    # variable que guarda el indice de letalidad en porcentaje\n",
    "    inice_L = casosA[\"Defunciones\"] / casosA[\"Positivos\"] * 100\n",
    "    # Variable que guarda el indice de positividad nacional\n",
    "    indice_P = casosA[\"Positivos\"] / (casosA[\"Negativos\"] + casosA[\"Positivos\"]) * 100\n",
    "    print (\"  Total de casos estudiados: \" + str(casosA[\"Total\"])+ \"\\n\\n\" +\n",
    "            \"  Casos Positivos a SARS-CoV-2: \" + str(casosA[\"Positivos\"])+ \"\\n\\n\" +\n",
    "            \"  Casos No Positivos a SARS-CoV-2: \" + str(casosA[\"Negativos\"])+ \"\\n\\n\" +\n",
    "            \"  Casos Con Resultado Pendiente: \" + str(casosA[\"Pendientes\"]) + \"\\n\\n\" +\n",
    "            \"  Defunciones Positicas a SARS-CoV-2: \" + str(casosA[\"Defunciones\"]) + \"\\n\\n\" +\n",
    "            \"  Tasa de Letalidad: %.3f%s\\n\\n  Tasa de Positividad : %.3f%s\\n\" % (inice_L,\"%\",indice_P,\"%\"))"
   ]
  },
  {
   "cell_type": "code",
   "execution_count": 6,
   "metadata": {},
   "outputs": [],
   "source": [
    "# Guarda en un diccionario los casos acumulados\n",
    "def obtenerCasosAcumulados (covid_df):\n",
    "    # Data Frame que almacenará la columna RESULTADO donde 1 es positivo, 2 es negativo, 3 es pendiente y FECHA_DEF, donde si la fecha es diferente a 9999-99-99 es una defuncion\n",
    "    #casos = ps.concat([covid_df[\"RESULTADO\"], covid_df[\"FECHA_DEF\"]], axis = 1)\n",
    "    \n",
    "    casos = covid_df[[\"RESULTADO\", \"FECHA_DEF\"]]\n",
    "    # Contador de los casos positivos\n",
    "    positivos = 0 \n",
    "    # Contador de los casos negativos\n",
    "    negativos = 0\n",
    "    # Contador de los casos pendientes\n",
    "    pendientes = 0\n",
    "    # Contador de defunciones por covid-19\n",
    "    defunciones = 0\n",
    "    #print (casos.head())\n",
    "    for i in range (len(casos)):\n",
    "        if casos[\"RESULTADO\"][i] == 1:\n",
    "            positivos += 1\n",
    "            if casos [\"FECHA_DEF\"][i] != \"9999-99-99\":\n",
    "                defunciones +=1\n",
    "        elif casos[\"RESULTADO\"][i] == 2:\n",
    "            negativos += 1\n",
    "        elif casos[\"RESULTADO\"][i] == 3:\n",
    "            pendientes +=1\n",
    "    return {\"Positivos\": positivos, \"Negativos\":negativos, \"Pendientes\":pendientes, \"Defunciones\": defunciones, \"Total\": len(casos)}"
   ]
  },
  {
   "cell_type": "code",
   "execution_count": 7,
   "metadata": {},
   "outputs": [],
   "source": [
    "# Filtra los datos y obtiene un diccionario con los casos registradps por dia\n",
    "# Esta añadida la opcion de especificar el estado y la lista de municipios\n",
    "def obtenerCasosPorDia (covid_df, estado = 0, municipios = []):\n",
    "    # Lista que guarda las fechas de FECHA\n",
    "    fechas = []\n",
    "    # Diccionario que guarda la posicion de las fechas\n",
    "    pos_fechas = {}\n",
    "    # Diccionario que se convertirá en Data Frame\n",
    "    casosPorDia = {}\n",
    "    # Se crean las listas que almacenarán los datos\n",
    "    casosPorDia [\"FECHA\"] = []\n",
    "    casosPorDia [\"CASOS_POSITIVOS\"] = []\n",
    "    casosPorDia [\"CASOS_NEGATIVOS\"] = []\n",
    "    casosPorDia [\"CASOS_SOSPECHOSOS\"] = []\n",
    "    casosPorDia [\"DEFUNCIONES\"] = []\n",
    "    total_Casos = len(covid_df)\n",
    "    # Se crea la lista de las fechas\n",
    "    for i in range(total_Casos):\n",
    "        if covid_df[\"FECHA_SINTOMAS\"][i] not in fechas:\n",
    "            #print (covid_df[\"FECHA_SINTOMAS\"][i])\n",
    "            fechas.append(covid_df[\"FECHA_SINTOMAS\"][i])\n",
    "    \n",
    "    # Se ordenan las fechas, debido al formato (dd/mm/aaaa) se tiene que invertir a (mm/dd/aaaa) para ordenarlo y después se devuelven a \n",
    "    # su posicion original\n",
    "    fechas = invertirLista(fechas)\n",
    "    fechas.sort()\n",
    "    fechas = invertirLista(fechas)\n",
    "    casosPorDia [\"FECHA\"] = fechas\n",
    "    # Se filtran los datos y se cuentan los casos positivos, negativos, sospechosos, y defunciones confirmadas por cada fecha\n",
    "    # Para los casos positivos, negativos y sospechosos la columna \"FECHA\" representa su fecha de inicio de sintomas, \n",
    "    # mientras que para las defunciones, la columna \"FECHA\" representa la fecha de defunción.\n",
    "    # No se debe olvidar que aqui solamente se muestran numeros frios, pero cada una de las defunciones representa una vida perdida.\n",
    "    \n",
    "    for fecha in casosPorDia[\"FECHA\"]:\n",
    "\n",
    "        casos_P = covid_df[(covid_df[\"FECHA_SINTOMAS\"] == fecha) \n",
    "        & (covid_df[\"RESULTADO\"] == 1) \n",
    "        & ((covid_df[\"ENTIDAD_RES\"] == estado) |( estado == 0)) \n",
    "        & ((covid_df[\"MUNICIPIO_RES\"].isin (municipios)) | (len(municipios) == 0))]\n",
    "\n",
    "        casos_N = covid_df[(covid_df[\"FECHA_SINTOMAS\"] == fecha) \n",
    "        & (covid_df[\"RESULTADO\"] == 2) \n",
    "        & ((covid_df[\"ENTIDAD_RES\"] == estado) |( estado == 0)) \n",
    "        & ((covid_df[\"MUNICIPIO_RES\"].isin (municipios)) | (len(municipios) == 0))]\n",
    "\n",
    "        casos_S = covid_df[(covid_df[\"FECHA_SINTOMAS\"] == fecha) \n",
    "        & (covid_df[\"RESULTADO\"] == 3) \n",
    "        & ((covid_df[\"ENTIDAD_RES\"] == estado) |( estado == 0)) \n",
    "        & ((covid_df[\"MUNICIPIO_RES\"].isin (municipios)) | (len(municipios) == 0))]\n",
    "\n",
    "        Def = covid_df[(covid_df[\"FECHA_DEF\"] == fecha) \n",
    "        & (covid_df[\"RESULTADO\"] == 1) \n",
    "        & ((covid_df[\"ENTIDAD_RES\"] == estado) |( estado == 0)) \n",
    "        & ((covid_df[\"MUNICIPIO_RES\"].isin (municipios)) | (len(municipios) == 0))]\n",
    "\n",
    "        casosPorDia [\"CASOS_POSITIVOS\"].append(len(casos_P))\n",
    "        casosPorDia [\"CASOS_NEGATIVOS\"].append(len(casos_N))\n",
    "        casosPorDia [\"CASOS_SOSPECHOSOS\"].append(len(casos_S))\n",
    "        casosPorDia [\"DEFUNCIONES\"].append(len(Def))\n",
    "    return casosPorDia"
   ]
  },
  {
   "cell_type": "code",
   "execution_count": 16,
   "metadata": {
    "tags": []
   },
   "outputs": [],
   "source": [
    "zonaMetroMty = [39,26,6,46,21,48,31,18,19,9,49,43]\n",
    "NuevoLeon = 19\n",
    "covid_df, fecha_actualizacion = obtenerDataFrame()"
   ]
  },
  {
   "cell_type": "code",
   "execution_count": 17,
   "metadata": {},
   "outputs": [
    {
     "output_type": "error",
     "ename": "AttributeError",
     "evalue": "'NoneType' object has no attribute 'head'",
     "traceback": [
      "\u001b[1;31m---------------------------------------------------------------------------\u001b[0m",
      "\u001b[1;31mAttributeError\u001b[0m                            Traceback (most recent call last)",
      "\u001b[1;32m<ipython-input-17-8fbddfc47e9f>\u001b[0m in \u001b[0;36m<module>\u001b[1;34m\u001b[0m\n\u001b[1;32m----> 1\u001b[1;33m \u001b[0mcovid_df\u001b[0m\u001b[1;33m.\u001b[0m\u001b[0mhead\u001b[0m\u001b[1;33m(\u001b[0m\u001b[1;33m)\u001b[0m\u001b[1;33m\u001b[0m\u001b[1;33m\u001b[0m\u001b[0m\n\u001b[0m",
      "\u001b[1;31mAttributeError\u001b[0m: 'NoneType' object has no attribute 'head'"
     ]
    }
   ],
   "source": [
    "covid_df.head()"
   ]
  },
  {
   "cell_type": "code",
   "execution_count": 10,
   "metadata": {
    "tags": []
   },
   "outputs": [
    {
     "output_type": "error",
     "ename": "TypeError",
     "evalue": "'NoneType' object is not subscriptable",
     "traceback": [
      "\u001b[1;31m---------------------------------------------------------------------------\u001b[0m",
      "\u001b[1;31mTypeError\u001b[0m                                 Traceback (most recent call last)",
      "\u001b[1;32m<ipython-input-10-1b2f327da639>\u001b[0m in \u001b[0;36m<module>\u001b[1;34m\u001b[0m\n\u001b[1;32m----> 1\u001b[1;33m \u001b[0mcasosAcumulados\u001b[0m \u001b[1;33m=\u001b[0m \u001b[0mobtenerCasosAcumulados\u001b[0m\u001b[1;33m(\u001b[0m\u001b[0mcovid_df\u001b[0m\u001b[1;33m)\u001b[0m\u001b[1;33m\u001b[0m\u001b[1;33m\u001b[0m\u001b[0m\n\u001b[0m\u001b[0;32m      2\u001b[0m \u001b[0mimprimirAcumulados\u001b[0m \u001b[1;33m(\u001b[0m\u001b[0mcasosAcumulados\u001b[0m\u001b[1;33m)\u001b[0m\u001b[1;33m\u001b[0m\u001b[1;33m\u001b[0m\u001b[0m\n",
      "\u001b[1;32m<ipython-input-6-c3322158fb90>\u001b[0m in \u001b[0;36mobtenerCasosAcumulados\u001b[1;34m(covid_df)\u001b[0m\n\u001b[0;32m      4\u001b[0m     \u001b[1;31m#casos = ps.concat([covid_df[\"RESULTADO\"], covid_df[\"FECHA_DEF\"]], axis = 1)\u001b[0m\u001b[1;33m\u001b[0m\u001b[1;33m\u001b[0m\u001b[1;33m\u001b[0m\u001b[0m\n\u001b[0;32m      5\u001b[0m \u001b[1;33m\u001b[0m\u001b[0m\n\u001b[1;32m----> 6\u001b[1;33m     \u001b[0mcasos\u001b[0m \u001b[1;33m=\u001b[0m \u001b[0mcovid_df\u001b[0m\u001b[1;33m[\u001b[0m\u001b[1;33m[\u001b[0m\u001b[1;34m\"RESULTADO\"\u001b[0m\u001b[1;33m,\u001b[0m \u001b[1;34m\"FECHA_DEF\"\u001b[0m\u001b[1;33m]\u001b[0m\u001b[1;33m]\u001b[0m\u001b[1;33m\u001b[0m\u001b[1;33m\u001b[0m\u001b[0m\n\u001b[0m\u001b[0;32m      7\u001b[0m     \u001b[1;31m# Contador de los casos positivos\u001b[0m\u001b[1;33m\u001b[0m\u001b[1;33m\u001b[0m\u001b[1;33m\u001b[0m\u001b[0m\n\u001b[0;32m      8\u001b[0m     \u001b[0mpositivos\u001b[0m \u001b[1;33m=\u001b[0m \u001b[1;36m0\u001b[0m\u001b[1;33m\u001b[0m\u001b[1;33m\u001b[0m\u001b[0m\n",
      "\u001b[1;31mTypeError\u001b[0m: 'NoneType' object is not subscriptable"
     ]
    }
   ],
   "source": [
    "casosAcumulados = obtenerCasosAcumulados(covid_df)\n",
    "imprimirAcumulados (casosAcumulados)"
   ]
  },
  {
   "cell_type": "code",
   "execution_count": 11,
   "metadata": {
    "tags": []
   },
   "outputs": [
    {
     "output_type": "error",
     "ename": "TypeError",
     "evalue": "object of type 'NoneType' has no len()",
     "traceback": [
      "\u001b[1;31m---------------------------------------------------------------------------\u001b[0m",
      "\u001b[1;31mTypeError\u001b[0m                                 Traceback (most recent call last)",
      "\u001b[1;32m<ipython-input-11-f8add903d400>\u001b[0m in \u001b[0;36m<module>\u001b[1;34m\u001b[0m\n\u001b[1;32m----> 1\u001b[1;33m \u001b[0mcasosPorDia_dict\u001b[0m \u001b[1;33m=\u001b[0m \u001b[0mobtenerCasosPorDia\u001b[0m\u001b[1;33m(\u001b[0m\u001b[0mcovid_df\u001b[0m\u001b[1;33m)\u001b[0m\u001b[1;33m\u001b[0m\u001b[1;33m\u001b[0m\u001b[0m\n\u001b[0m\u001b[0;32m      2\u001b[0m \u001b[0mcasosPorDia_df\u001b[0m \u001b[1;33m=\u001b[0m \u001b[0mps\u001b[0m\u001b[1;33m.\u001b[0m\u001b[0mDataFrame\u001b[0m\u001b[1;33m(\u001b[0m\u001b[0mcasosPorDia_dict\u001b[0m\u001b[1;33m)\u001b[0m\u001b[1;33m\u001b[0m\u001b[1;33m\u001b[0m\u001b[0m\n\u001b[0;32m      3\u001b[0m \u001b[0mprint\u001b[0m\u001b[1;33m(\u001b[0m\u001b[0mcasosPorDia_df\u001b[0m\u001b[1;33m.\u001b[0m\u001b[0mhead\u001b[0m\u001b[1;33m(\u001b[0m\u001b[1;33m)\u001b[0m\u001b[1;33m)\u001b[0m\u001b[1;33m\u001b[0m\u001b[1;33m\u001b[0m\u001b[0m\n",
      "\u001b[1;32m<ipython-input-7-39961d2fbf00>\u001b[0m in \u001b[0;36mobtenerCasosPorDia\u001b[1;34m(covid_df, estado, municipios)\u001b[0m\n\u001b[0;32m     14\u001b[0m     \u001b[0mcasosPorDia\u001b[0m \u001b[1;33m[\u001b[0m\u001b[1;34m\"CASOS_SOSPECHOSOS\"\u001b[0m\u001b[1;33m]\u001b[0m \u001b[1;33m=\u001b[0m \u001b[1;33m[\u001b[0m\u001b[1;33m]\u001b[0m\u001b[1;33m\u001b[0m\u001b[1;33m\u001b[0m\u001b[0m\n\u001b[0;32m     15\u001b[0m     \u001b[0mcasosPorDia\u001b[0m \u001b[1;33m[\u001b[0m\u001b[1;34m\"DEFUNCIONES\"\u001b[0m\u001b[1;33m]\u001b[0m \u001b[1;33m=\u001b[0m \u001b[1;33m[\u001b[0m\u001b[1;33m]\u001b[0m\u001b[1;33m\u001b[0m\u001b[1;33m\u001b[0m\u001b[0m\n\u001b[1;32m---> 16\u001b[1;33m     \u001b[0mtotal_Casos\u001b[0m \u001b[1;33m=\u001b[0m \u001b[0mlen\u001b[0m\u001b[1;33m(\u001b[0m\u001b[0mcovid_df\u001b[0m\u001b[1;33m)\u001b[0m\u001b[1;33m\u001b[0m\u001b[1;33m\u001b[0m\u001b[0m\n\u001b[0m\u001b[0;32m     17\u001b[0m     \u001b[1;31m# Se crea la lista de las fechas\u001b[0m\u001b[1;33m\u001b[0m\u001b[1;33m\u001b[0m\u001b[1;33m\u001b[0m\u001b[0m\n\u001b[0;32m     18\u001b[0m     \u001b[1;32mfor\u001b[0m \u001b[0mi\u001b[0m \u001b[1;32min\u001b[0m \u001b[0mrange\u001b[0m\u001b[1;33m(\u001b[0m\u001b[0mtotal_Casos\u001b[0m\u001b[1;33m)\u001b[0m\u001b[1;33m:\u001b[0m\u001b[1;33m\u001b[0m\u001b[1;33m\u001b[0m\u001b[0m\n",
      "\u001b[1;31mTypeError\u001b[0m: object of type 'NoneType' has no len()"
     ]
    }
   ],
   "source": [
    "casosPorDia_dict = obtenerCasosPorDia(covid_df)\n",
    "casosPorDia_df = ps.DataFrame(casosPorDia_dict)\n",
    "print(casosPorDia_df.head())"
   ]
  },
  {
   "cell_type": "code",
   "execution_count": 12,
   "metadata": {
    "tags": []
   },
   "outputs": [
    {
     "output_type": "error",
     "ename": "TypeError",
     "evalue": "object of type 'NoneType' has no len()",
     "traceback": [
      "\u001b[1;31m---------------------------------------------------------------------------\u001b[0m",
      "\u001b[1;31mTypeError\u001b[0m                                 Traceback (most recent call last)",
      "\u001b[1;32m<ipython-input-12-1158c47b52e0>\u001b[0m in \u001b[0;36m<module>\u001b[1;34m\u001b[0m\n\u001b[1;32m----> 1\u001b[1;33m \u001b[0mcasosPorDia_dict\u001b[0m \u001b[1;33m=\u001b[0m \u001b[0mobtenerCasosPorDia\u001b[0m\u001b[1;33m(\u001b[0m\u001b[0mcovid_df\u001b[0m\u001b[1;33m,\u001b[0m \u001b[0mNuevoLeon\u001b[0m\u001b[1;33m,\u001b[0m \u001b[0mzonaMetroMty\u001b[0m\u001b[1;33m)\u001b[0m\u001b[1;33m\u001b[0m\u001b[1;33m\u001b[0m\u001b[0m\n\u001b[0m\u001b[0;32m      2\u001b[0m \u001b[0mZM_MTY_dfZM_MTY_df\u001b[0m \u001b[1;33m=\u001b[0m \u001b[0mps\u001b[0m\u001b[1;33m.\u001b[0m\u001b[0mDataFrame\u001b[0m\u001b[1;33m(\u001b[0m\u001b[0mcasosPorDia_dict\u001b[0m\u001b[1;33m)\u001b[0m\u001b[1;33m\u001b[0m\u001b[1;33m\u001b[0m\u001b[0m\n\u001b[0;32m      3\u001b[0m \u001b[0mprint\u001b[0m\u001b[1;33m(\u001b[0m\u001b[0mcasosPorDia_df\u001b[0m\u001b[1;33m.\u001b[0m\u001b[0mhead\u001b[0m\u001b[1;33m(\u001b[0m\u001b[1;33m)\u001b[0m\u001b[1;33m)\u001b[0m\u001b[1;33m\u001b[0m\u001b[1;33m\u001b[0m\u001b[0m\n",
      "\u001b[1;32m<ipython-input-7-39961d2fbf00>\u001b[0m in \u001b[0;36mobtenerCasosPorDia\u001b[1;34m(covid_df, estado, municipios)\u001b[0m\n\u001b[0;32m     14\u001b[0m     \u001b[0mcasosPorDia\u001b[0m \u001b[1;33m[\u001b[0m\u001b[1;34m\"CASOS_SOSPECHOSOS\"\u001b[0m\u001b[1;33m]\u001b[0m \u001b[1;33m=\u001b[0m \u001b[1;33m[\u001b[0m\u001b[1;33m]\u001b[0m\u001b[1;33m\u001b[0m\u001b[1;33m\u001b[0m\u001b[0m\n\u001b[0;32m     15\u001b[0m     \u001b[0mcasosPorDia\u001b[0m \u001b[1;33m[\u001b[0m\u001b[1;34m\"DEFUNCIONES\"\u001b[0m\u001b[1;33m]\u001b[0m \u001b[1;33m=\u001b[0m \u001b[1;33m[\u001b[0m\u001b[1;33m]\u001b[0m\u001b[1;33m\u001b[0m\u001b[1;33m\u001b[0m\u001b[0m\n\u001b[1;32m---> 16\u001b[1;33m     \u001b[0mtotal_Casos\u001b[0m \u001b[1;33m=\u001b[0m \u001b[0mlen\u001b[0m\u001b[1;33m(\u001b[0m\u001b[0mcovid_df\u001b[0m\u001b[1;33m)\u001b[0m\u001b[1;33m\u001b[0m\u001b[1;33m\u001b[0m\u001b[0m\n\u001b[0m\u001b[0;32m     17\u001b[0m     \u001b[1;31m# Se crea la lista de las fechas\u001b[0m\u001b[1;33m\u001b[0m\u001b[1;33m\u001b[0m\u001b[1;33m\u001b[0m\u001b[0m\n\u001b[0;32m     18\u001b[0m     \u001b[1;32mfor\u001b[0m \u001b[0mi\u001b[0m \u001b[1;32min\u001b[0m \u001b[0mrange\u001b[0m\u001b[1;33m(\u001b[0m\u001b[0mtotal_Casos\u001b[0m\u001b[1;33m)\u001b[0m\u001b[1;33m:\u001b[0m\u001b[1;33m\u001b[0m\u001b[1;33m\u001b[0m\u001b[0m\n",
      "\u001b[1;31mTypeError\u001b[0m: object of type 'NoneType' has no len()"
     ]
    }
   ],
   "source": [
    "casosPorDia_dict = obtenerCasosPorDia(covid_df, NuevoLeon, zonaMetroMty)\n",
    "ZM_MTY_dfZM_MTY_df = ps.DataFrame(casosPorDia_dict)\n",
    "print(casosPorDia_df.head())"
   ]
  },
  {
   "cell_type": "code",
   "execution_count": 13,
   "metadata": {},
   "outputs": [
    {
     "output_type": "error",
     "ename": "NameError",
     "evalue": "name 'casosPorDia_df' is not defined",
     "traceback": [
      "\u001b[1;31m---------------------------------------------------------------------------\u001b[0m",
      "\u001b[1;31mNameError\u001b[0m                                 Traceback (most recent call last)",
      "\u001b[1;32m<ipython-input-13-9544c32e113f>\u001b[0m in \u001b[0;36m<module>\u001b[1;34m\u001b[0m\n\u001b[1;32m----> 1\u001b[1;33m \u001b[0mZM_MTY_df\u001b[0m \u001b[1;33m=\u001b[0m \u001b[0mcasosPorDia_df\u001b[0m\u001b[1;33m\u001b[0m\u001b[1;33m\u001b[0m\u001b[0m\n\u001b[0m",
      "\u001b[1;31mNameError\u001b[0m: name 'casosPorDia_df' is not defined"
     ]
    }
   ],
   "source": [
    "ZM_MTY_df = casosPorDia_df"
   ]
  },
  {
   "cell_type": "code",
   "execution_count": 14,
   "metadata": {},
   "outputs": [
    {
     "output_type": "error",
     "ename": "AttributeError",
     "evalue": "'NoneType' object has no attribute 'dtypes'",
     "traceback": [
      "\u001b[1;31m---------------------------------------------------------------------------\u001b[0m",
      "\u001b[1;31mAttributeError\u001b[0m                            Traceback (most recent call last)",
      "\u001b[1;32m<ipython-input-14-8a45efe4e2b0>\u001b[0m in \u001b[0;36m<module>\u001b[1;34m\u001b[0m\n\u001b[1;32m----> 1\u001b[1;33m \u001b[0mcovid_df\u001b[0m\u001b[1;33m.\u001b[0m\u001b[0mdtypes\u001b[0m\u001b[1;33m\u001b[0m\u001b[1;33m\u001b[0m\u001b[0m\n\u001b[0m",
      "\u001b[1;31mAttributeError\u001b[0m: 'NoneType' object has no attribute 'dtypes'"
     ]
    }
   ],
   "source": [
    "covid_df.dtypes"
   ]
  },
  {
   "cell_type": "code",
   "execution_count": 15,
   "metadata": {},
   "outputs": [
    {
     "output_type": "error",
     "ename": "NameError",
     "evalue": "name 'ZM_MTY_df' is not defined",
     "traceback": [
      "\u001b[1;31m---------------------------------------------------------------------------\u001b[0m",
      "\u001b[1;31mNameError\u001b[0m                                 Traceback (most recent call last)",
      "\u001b[1;32m<ipython-input-15-894b77a410f7>\u001b[0m in \u001b[0;36m<module>\u001b[1;34m\u001b[0m\n\u001b[0;32m      2\u001b[0m \u001b[0mnombre\u001b[0m \u001b[1;33m=\u001b[0m \u001b[1;34m\"14-07-2020-ZONA-METRO-MTY.xls\"\u001b[0m\u001b[1;33m,\u001b[0m\u001b[1;33m\u001b[0m\u001b[1;33m\u001b[0m\u001b[0m\n\u001b[0;32m      3\u001b[0m \u001b[0mtipo\u001b[0m \u001b[1;33m=\u001b[0m \u001b[1;34m\".xls\"\u001b[0m\u001b[1;33m,\u001b[0m\u001b[1;33m\u001b[0m\u001b[1;33m\u001b[0m\u001b[0m\n\u001b[1;32m----> 4\u001b[1;33m dataFrame = ZM_MTY_df)\n\u001b[0m\u001b[0;32m      5\u001b[0m guardarDataFrame (path = \"C:/Users/alana/Documents/COVIDSTATS/CASOSPORDIA\",\n\u001b[0;32m      6\u001b[0m \u001b[0mnombre\u001b[0m \u001b[1;33m=\u001b[0m \u001b[1;34m\"14-07-2020-NACIONAL.xls\"\u001b[0m\u001b[1;33m,\u001b[0m\u001b[1;33m\u001b[0m\u001b[1;33m\u001b[0m\u001b[0m\n",
      "\u001b[1;31mNameError\u001b[0m: name 'ZM_MTY_df' is not defined"
     ]
    }
   ],
   "source": [
    "guardarDataFrame (path = \"C:/Users/alana/Documents/COVIDSTATS/CASOSPORDIA\",\n",
    "nombre = \"14-07-2020-ZONA-METRO-MTY.xls\",\n",
    "tipo = \".xls\",\n",
    "dataFrame = ZM_MTY_df)\n",
    "guardarDataFrame (path = \"C:/Users/alana/Documents/COVIDSTATS/CASOSPORDIA\",\n",
    "nombre = \"14-07-2020-NACIONAL.xls\",\n",
    "tipo = \".xls\",\n",
    "dataFrame = casosPorDia_df)"
   ]
  },
  {
   "cell_type": "code",
   "execution_count": null,
   "metadata": {},
   "outputs": [],
   "source": []
  }
 ],
 "metadata": {
  "language_info": {
   "codemirror_mode": {
    "name": "ipython",
    "version": 3
   },
   "file_extension": ".py",
   "mimetype": "text/x-python",
   "name": "python",
   "nbconvert_exporter": "python",
   "pygments_lexer": "ipython3",
   "version": 3
  },
  "orig_nbformat": 2,
  "kernelspec": {
   "name": "python_defaultSpec_1594753980957",
   "display_name": "Python 3.8.0 64-bit"
  }
 },
 "nbformat": 4,
 "nbformat_minor": 2
}